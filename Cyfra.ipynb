{
 "cells": [
  {
   "cell_type": "markdown",
   "metadata": {},
   "source": [
    "# Восстановление золота из руды"
   ]
  },
  {
   "cell_type": "markdown",
   "metadata": {},
   "source": [
    "Подготовим прототип модели машинного обучения для «Цифры». Компания разрабатывает решения для эффективной работы промышленных предприятий.\n",
    "\n",
    "Модель должна предсказать коэффициент восстановления золота из золотосодержащей руды. Используйте данные с параметрами добычи и очистки. \n",
    "\n",
    "Модель поможет оптимизировать производство, чтобы не запускать предприятие с убыточными характеристиками.\n"
   ]
  },
  {
   "cell_type": "markdown",
   "metadata": {},
   "source": [
    "## Подготовка данных"
   ]
  },
  {
   "cell_type": "code",
   "execution_count": 1,
   "metadata": {},
   "outputs": [],
   "source": [
    "import pandas as pd\n",
    "import numpy as np\n",
    "from sklearn.metrics import mean_absolute_error \n",
    "import seaborn as sns \n",
    "import matplotlib.pyplot as plt\n",
    "from sklearn.linear_model import LinearRegression\n",
    "from sklearn.model_selection import cross_val_score\n",
    "from sklearn.linear_model import LogisticRegression\n",
    "from sklearn.metrics import make_scorer\n",
    "from sklearn.ensemble import RandomForestRegressor\n",
    "from sklearn.model_selection import GridSearchCV \n",
    "from sklearn.tree import DecisionTreeRegressor"
   ]
  },
  {
   "cell_type": "markdown",
   "metadata": {},
   "source": [
    "Проведем первичный осмотр данных."
   ]
  },
  {
   "cell_type": "code",
   "execution_count": 2,
   "metadata": {},
   "outputs": [
    {
     "data": {
      "text/html": [
       "<div>\n",
       "<style scoped>\n",
       "    .dataframe tbody tr th:only-of-type {\n",
       "        vertical-align: middle;\n",
       "    }\n",
       "\n",
       "    .dataframe tbody tr th {\n",
       "        vertical-align: top;\n",
       "    }\n",
       "\n",
       "    .dataframe thead th {\n",
       "        text-align: right;\n",
       "    }\n",
       "</style>\n",
       "<table border=\"1\" class=\"dataframe\">\n",
       "  <thead>\n",
       "    <tr style=\"text-align: right;\">\n",
       "      <th></th>\n",
       "      <th>date</th>\n",
       "      <th>final.output.concentrate_ag</th>\n",
       "      <th>final.output.concentrate_pb</th>\n",
       "      <th>final.output.concentrate_sol</th>\n",
       "      <th>final.output.concentrate_au</th>\n",
       "      <th>final.output.recovery</th>\n",
       "      <th>final.output.tail_ag</th>\n",
       "      <th>final.output.tail_pb</th>\n",
       "      <th>final.output.tail_sol</th>\n",
       "      <th>final.output.tail_au</th>\n",
       "      <th>...</th>\n",
       "      <th>secondary_cleaner.state.floatbank4_a_air</th>\n",
       "      <th>secondary_cleaner.state.floatbank4_a_level</th>\n",
       "      <th>secondary_cleaner.state.floatbank4_b_air</th>\n",
       "      <th>secondary_cleaner.state.floatbank4_b_level</th>\n",
       "      <th>secondary_cleaner.state.floatbank5_a_air</th>\n",
       "      <th>secondary_cleaner.state.floatbank5_a_level</th>\n",
       "      <th>secondary_cleaner.state.floatbank5_b_air</th>\n",
       "      <th>secondary_cleaner.state.floatbank5_b_level</th>\n",
       "      <th>secondary_cleaner.state.floatbank6_a_air</th>\n",
       "      <th>secondary_cleaner.state.floatbank6_a_level</th>\n",
       "    </tr>\n",
       "  </thead>\n",
       "  <tbody>\n",
       "    <tr>\n",
       "      <th>0</th>\n",
       "      <td>2016-01-15 00:00:00</td>\n",
       "      <td>6.055403</td>\n",
       "      <td>9.889648</td>\n",
       "      <td>5.507324</td>\n",
       "      <td>42.192020</td>\n",
       "      <td>70.541216</td>\n",
       "      <td>10.411962</td>\n",
       "      <td>0.895447</td>\n",
       "      <td>16.904297</td>\n",
       "      <td>2.143149</td>\n",
       "      <td>...</td>\n",
       "      <td>14.016835</td>\n",
       "      <td>-502.488007</td>\n",
       "      <td>12.099931</td>\n",
       "      <td>-504.715942</td>\n",
       "      <td>9.925633</td>\n",
       "      <td>-498.310211</td>\n",
       "      <td>8.079666</td>\n",
       "      <td>-500.470978</td>\n",
       "      <td>14.151341</td>\n",
       "      <td>-605.841980</td>\n",
       "    </tr>\n",
       "    <tr>\n",
       "      <th>1</th>\n",
       "      <td>2016-01-15 01:00:00</td>\n",
       "      <td>6.029369</td>\n",
       "      <td>9.968944</td>\n",
       "      <td>5.257781</td>\n",
       "      <td>42.701629</td>\n",
       "      <td>69.266198</td>\n",
       "      <td>10.462676</td>\n",
       "      <td>0.927452</td>\n",
       "      <td>16.634514</td>\n",
       "      <td>2.224930</td>\n",
       "      <td>...</td>\n",
       "      <td>13.992281</td>\n",
       "      <td>-505.503262</td>\n",
       "      <td>11.950531</td>\n",
       "      <td>-501.331529</td>\n",
       "      <td>10.039245</td>\n",
       "      <td>-500.169983</td>\n",
       "      <td>7.984757</td>\n",
       "      <td>-500.582168</td>\n",
       "      <td>13.998353</td>\n",
       "      <td>-599.787184</td>\n",
       "    </tr>\n",
       "    <tr>\n",
       "      <th>2</th>\n",
       "      <td>2016-01-15 02:00:00</td>\n",
       "      <td>6.055926</td>\n",
       "      <td>10.213995</td>\n",
       "      <td>5.383759</td>\n",
       "      <td>42.657501</td>\n",
       "      <td>68.116445</td>\n",
       "      <td>10.507046</td>\n",
       "      <td>0.953716</td>\n",
       "      <td>16.208849</td>\n",
       "      <td>2.257889</td>\n",
       "      <td>...</td>\n",
       "      <td>14.015015</td>\n",
       "      <td>-502.520901</td>\n",
       "      <td>11.912783</td>\n",
       "      <td>-501.133383</td>\n",
       "      <td>10.070913</td>\n",
       "      <td>-500.129135</td>\n",
       "      <td>8.013877</td>\n",
       "      <td>-500.517572</td>\n",
       "      <td>14.028663</td>\n",
       "      <td>-601.427363</td>\n",
       "    </tr>\n",
       "    <tr>\n",
       "      <th>3</th>\n",
       "      <td>2016-01-15 03:00:00</td>\n",
       "      <td>6.047977</td>\n",
       "      <td>9.977019</td>\n",
       "      <td>4.858634</td>\n",
       "      <td>42.689819</td>\n",
       "      <td>68.347543</td>\n",
       "      <td>10.422762</td>\n",
       "      <td>0.883763</td>\n",
       "      <td>16.532835</td>\n",
       "      <td>2.146849</td>\n",
       "      <td>...</td>\n",
       "      <td>14.036510</td>\n",
       "      <td>-500.857308</td>\n",
       "      <td>11.999550</td>\n",
       "      <td>-501.193686</td>\n",
       "      <td>9.970366</td>\n",
       "      <td>-499.201640</td>\n",
       "      <td>7.977324</td>\n",
       "      <td>-500.255908</td>\n",
       "      <td>14.005551</td>\n",
       "      <td>-599.996129</td>\n",
       "    </tr>\n",
       "    <tr>\n",
       "      <th>4</th>\n",
       "      <td>2016-01-15 04:00:00</td>\n",
       "      <td>6.148599</td>\n",
       "      <td>10.142511</td>\n",
       "      <td>4.939416</td>\n",
       "      <td>42.774141</td>\n",
       "      <td>66.927016</td>\n",
       "      <td>10.360302</td>\n",
       "      <td>0.792826</td>\n",
       "      <td>16.525686</td>\n",
       "      <td>2.055292</td>\n",
       "      <td>...</td>\n",
       "      <td>14.027298</td>\n",
       "      <td>-499.838632</td>\n",
       "      <td>11.953070</td>\n",
       "      <td>-501.053894</td>\n",
       "      <td>9.925709</td>\n",
       "      <td>-501.686727</td>\n",
       "      <td>7.894242</td>\n",
       "      <td>-500.356035</td>\n",
       "      <td>13.996647</td>\n",
       "      <td>-601.496691</td>\n",
       "    </tr>\n",
       "  </tbody>\n",
       "</table>\n",
       "<p>5 rows × 87 columns</p>\n",
       "</div>"
      ],
      "text/plain": [
       "                  date  final.output.concentrate_ag  \\\n",
       "0  2016-01-15 00:00:00                     6.055403   \n",
       "1  2016-01-15 01:00:00                     6.029369   \n",
       "2  2016-01-15 02:00:00                     6.055926   \n",
       "3  2016-01-15 03:00:00                     6.047977   \n",
       "4  2016-01-15 04:00:00                     6.148599   \n",
       "\n",
       "   final.output.concentrate_pb  final.output.concentrate_sol  \\\n",
       "0                     9.889648                      5.507324   \n",
       "1                     9.968944                      5.257781   \n",
       "2                    10.213995                      5.383759   \n",
       "3                     9.977019                      4.858634   \n",
       "4                    10.142511                      4.939416   \n",
       "\n",
       "   final.output.concentrate_au  final.output.recovery  final.output.tail_ag  \\\n",
       "0                    42.192020              70.541216             10.411962   \n",
       "1                    42.701629              69.266198             10.462676   \n",
       "2                    42.657501              68.116445             10.507046   \n",
       "3                    42.689819              68.347543             10.422762   \n",
       "4                    42.774141              66.927016             10.360302   \n",
       "\n",
       "   final.output.tail_pb  final.output.tail_sol  final.output.tail_au  ...  \\\n",
       "0              0.895447              16.904297              2.143149  ...   \n",
       "1              0.927452              16.634514              2.224930  ...   \n",
       "2              0.953716              16.208849              2.257889  ...   \n",
       "3              0.883763              16.532835              2.146849  ...   \n",
       "4              0.792826              16.525686              2.055292  ...   \n",
       "\n",
       "   secondary_cleaner.state.floatbank4_a_air  \\\n",
       "0                                 14.016835   \n",
       "1                                 13.992281   \n",
       "2                                 14.015015   \n",
       "3                                 14.036510   \n",
       "4                                 14.027298   \n",
       "\n",
       "   secondary_cleaner.state.floatbank4_a_level  \\\n",
       "0                                 -502.488007   \n",
       "1                                 -505.503262   \n",
       "2                                 -502.520901   \n",
       "3                                 -500.857308   \n",
       "4                                 -499.838632   \n",
       "\n",
       "   secondary_cleaner.state.floatbank4_b_air  \\\n",
       "0                                 12.099931   \n",
       "1                                 11.950531   \n",
       "2                                 11.912783   \n",
       "3                                 11.999550   \n",
       "4                                 11.953070   \n",
       "\n",
       "   secondary_cleaner.state.floatbank4_b_level  \\\n",
       "0                                 -504.715942   \n",
       "1                                 -501.331529   \n",
       "2                                 -501.133383   \n",
       "3                                 -501.193686   \n",
       "4                                 -501.053894   \n",
       "\n",
       "   secondary_cleaner.state.floatbank5_a_air  \\\n",
       "0                                  9.925633   \n",
       "1                                 10.039245   \n",
       "2                                 10.070913   \n",
       "3                                  9.970366   \n",
       "4                                  9.925709   \n",
       "\n",
       "   secondary_cleaner.state.floatbank5_a_level  \\\n",
       "0                                 -498.310211   \n",
       "1                                 -500.169983   \n",
       "2                                 -500.129135   \n",
       "3                                 -499.201640   \n",
       "4                                 -501.686727   \n",
       "\n",
       "   secondary_cleaner.state.floatbank5_b_air  \\\n",
       "0                                  8.079666   \n",
       "1                                  7.984757   \n",
       "2                                  8.013877   \n",
       "3                                  7.977324   \n",
       "4                                  7.894242   \n",
       "\n",
       "   secondary_cleaner.state.floatbank5_b_level  \\\n",
       "0                                 -500.470978   \n",
       "1                                 -500.582168   \n",
       "2                                 -500.517572   \n",
       "3                                 -500.255908   \n",
       "4                                 -500.356035   \n",
       "\n",
       "   secondary_cleaner.state.floatbank6_a_air  \\\n",
       "0                                 14.151341   \n",
       "1                                 13.998353   \n",
       "2                                 14.028663   \n",
       "3                                 14.005551   \n",
       "4                                 13.996647   \n",
       "\n",
       "   secondary_cleaner.state.floatbank6_a_level  \n",
       "0                                 -605.841980  \n",
       "1                                 -599.787184  \n",
       "2                                 -601.427363  \n",
       "3                                 -599.996129  \n",
       "4                                 -601.496691  \n",
       "\n",
       "[5 rows x 87 columns]"
      ]
     },
     "execution_count": 2,
     "metadata": {},
     "output_type": "execute_result"
    }
   ],
   "source": [
    "gold_recovery_train = pd.read_csv('/datasets/gold_recovery_train_new.csv')\n",
    "gold_recovery_train.head(5)"
   ]
  },
  {
   "cell_type": "code",
   "execution_count": 3,
   "metadata": {},
   "outputs": [
    {
     "data": {
      "text/plain": [
       "Index(['date', 'final.output.concentrate_ag', 'final.output.concentrate_pb',\n",
       "       'final.output.concentrate_sol', 'final.output.concentrate_au',\n",
       "       'final.output.recovery', 'final.output.tail_ag', 'final.output.tail_pb',\n",
       "       'final.output.tail_sol', 'final.output.tail_au',\n",
       "       'primary_cleaner.input.sulfate', 'primary_cleaner.input.depressant',\n",
       "       'primary_cleaner.input.feed_size', 'primary_cleaner.input.xanthate',\n",
       "       'primary_cleaner.output.concentrate_ag',\n",
       "       'primary_cleaner.output.concentrate_pb',\n",
       "       'primary_cleaner.output.concentrate_sol',\n",
       "       'primary_cleaner.output.concentrate_au',\n",
       "       'primary_cleaner.output.tail_ag', 'primary_cleaner.output.tail_pb',\n",
       "       'primary_cleaner.output.tail_sol', 'primary_cleaner.output.tail_au',\n",
       "       'primary_cleaner.state.floatbank8_a_air',\n",
       "       'primary_cleaner.state.floatbank8_a_level',\n",
       "       'primary_cleaner.state.floatbank8_b_air',\n",
       "       'primary_cleaner.state.floatbank8_b_level',\n",
       "       'primary_cleaner.state.floatbank8_c_air',\n",
       "       'primary_cleaner.state.floatbank8_c_level',\n",
       "       'primary_cleaner.state.floatbank8_d_air',\n",
       "       'primary_cleaner.state.floatbank8_d_level',\n",
       "       'rougher.calculation.sulfate_to_au_concentrate',\n",
       "       'rougher.calculation.floatbank10_sulfate_to_au_feed',\n",
       "       'rougher.calculation.floatbank11_sulfate_to_au_feed',\n",
       "       'rougher.calculation.au_pb_ratio', 'rougher.input.feed_ag',\n",
       "       'rougher.input.feed_pb', 'rougher.input.feed_rate',\n",
       "       'rougher.input.feed_size', 'rougher.input.feed_sol',\n",
       "       'rougher.input.feed_au', 'rougher.input.floatbank10_sulfate',\n",
       "       'rougher.input.floatbank10_xanthate',\n",
       "       'rougher.input.floatbank11_sulfate',\n",
       "       'rougher.input.floatbank11_xanthate', 'rougher.output.concentrate_ag',\n",
       "       'rougher.output.concentrate_pb', 'rougher.output.concentrate_sol',\n",
       "       'rougher.output.concentrate_au', 'rougher.output.recovery',\n",
       "       'rougher.output.tail_ag', 'rougher.output.tail_pb',\n",
       "       'rougher.output.tail_sol', 'rougher.output.tail_au',\n",
       "       'rougher.state.floatbank10_a_air', 'rougher.state.floatbank10_a_level',\n",
       "       'rougher.state.floatbank10_b_air', 'rougher.state.floatbank10_b_level',\n",
       "       'rougher.state.floatbank10_c_air', 'rougher.state.floatbank10_c_level',\n",
       "       'rougher.state.floatbank10_d_air', 'rougher.state.floatbank10_d_level',\n",
       "       'rougher.state.floatbank10_e_air', 'rougher.state.floatbank10_e_level',\n",
       "       'rougher.state.floatbank10_f_air', 'rougher.state.floatbank10_f_level',\n",
       "       'secondary_cleaner.output.tail_ag', 'secondary_cleaner.output.tail_pb',\n",
       "       'secondary_cleaner.output.tail_sol', 'secondary_cleaner.output.tail_au',\n",
       "       'secondary_cleaner.state.floatbank2_a_air',\n",
       "       'secondary_cleaner.state.floatbank2_a_level',\n",
       "       'secondary_cleaner.state.floatbank2_b_air',\n",
       "       'secondary_cleaner.state.floatbank2_b_level',\n",
       "       'secondary_cleaner.state.floatbank3_a_air',\n",
       "       'secondary_cleaner.state.floatbank3_a_level',\n",
       "       'secondary_cleaner.state.floatbank3_b_air',\n",
       "       'secondary_cleaner.state.floatbank3_b_level',\n",
       "       'secondary_cleaner.state.floatbank4_a_air',\n",
       "       'secondary_cleaner.state.floatbank4_a_level',\n",
       "       'secondary_cleaner.state.floatbank4_b_air',\n",
       "       'secondary_cleaner.state.floatbank4_b_level',\n",
       "       'secondary_cleaner.state.floatbank5_a_air',\n",
       "       'secondary_cleaner.state.floatbank5_a_level',\n",
       "       'secondary_cleaner.state.floatbank5_b_air',\n",
       "       'secondary_cleaner.state.floatbank5_b_level',\n",
       "       'secondary_cleaner.state.floatbank6_a_air',\n",
       "       'secondary_cleaner.state.floatbank6_a_level'],\n",
       "      dtype='object')"
      ]
     },
     "execution_count": 3,
     "metadata": {},
     "output_type": "execute_result"
    }
   ],
   "source": [
    "gold_recovery_train.columns"
   ]
  },
  {
   "cell_type": "code",
   "execution_count": 4,
   "metadata": {},
   "outputs": [
    {
     "data": {
      "text/html": [
       "<div>\n",
       "<style scoped>\n",
       "    .dataframe tbody tr th:only-of-type {\n",
       "        vertical-align: middle;\n",
       "    }\n",
       "\n",
       "    .dataframe tbody tr th {\n",
       "        vertical-align: top;\n",
       "    }\n",
       "\n",
       "    .dataframe thead th {\n",
       "        text-align: right;\n",
       "    }\n",
       "</style>\n",
       "<table border=\"1\" class=\"dataframe\">\n",
       "  <thead>\n",
       "    <tr style=\"text-align: right;\">\n",
       "      <th></th>\n",
       "      <th>date</th>\n",
       "      <th>primary_cleaner.input.sulfate</th>\n",
       "      <th>primary_cleaner.input.depressant</th>\n",
       "      <th>primary_cleaner.input.feed_size</th>\n",
       "      <th>primary_cleaner.input.xanthate</th>\n",
       "      <th>primary_cleaner.state.floatbank8_a_air</th>\n",
       "      <th>primary_cleaner.state.floatbank8_a_level</th>\n",
       "      <th>primary_cleaner.state.floatbank8_b_air</th>\n",
       "      <th>primary_cleaner.state.floatbank8_b_level</th>\n",
       "      <th>primary_cleaner.state.floatbank8_c_air</th>\n",
       "      <th>...</th>\n",
       "      <th>secondary_cleaner.state.floatbank4_a_air</th>\n",
       "      <th>secondary_cleaner.state.floatbank4_a_level</th>\n",
       "      <th>secondary_cleaner.state.floatbank4_b_air</th>\n",
       "      <th>secondary_cleaner.state.floatbank4_b_level</th>\n",
       "      <th>secondary_cleaner.state.floatbank5_a_air</th>\n",
       "      <th>secondary_cleaner.state.floatbank5_a_level</th>\n",
       "      <th>secondary_cleaner.state.floatbank5_b_air</th>\n",
       "      <th>secondary_cleaner.state.floatbank5_b_level</th>\n",
       "      <th>secondary_cleaner.state.floatbank6_a_air</th>\n",
       "      <th>secondary_cleaner.state.floatbank6_a_level</th>\n",
       "    </tr>\n",
       "  </thead>\n",
       "  <tbody>\n",
       "    <tr>\n",
       "      <th>0</th>\n",
       "      <td>2016-09-01 00:59:59</td>\n",
       "      <td>210.800909</td>\n",
       "      <td>14.993118</td>\n",
       "      <td>8.080000</td>\n",
       "      <td>1.005021</td>\n",
       "      <td>1398.981301</td>\n",
       "      <td>-500.225577</td>\n",
       "      <td>1399.144926</td>\n",
       "      <td>-499.919735</td>\n",
       "      <td>1400.102998</td>\n",
       "      <td>...</td>\n",
       "      <td>12.023554</td>\n",
       "      <td>-497.795834</td>\n",
       "      <td>8.016656</td>\n",
       "      <td>-501.289139</td>\n",
       "      <td>7.946562</td>\n",
       "      <td>-432.317850</td>\n",
       "      <td>4.872511</td>\n",
       "      <td>-500.037437</td>\n",
       "      <td>26.705889</td>\n",
       "      <td>-499.709414</td>\n",
       "    </tr>\n",
       "    <tr>\n",
       "      <th>1</th>\n",
       "      <td>2016-09-01 01:59:59</td>\n",
       "      <td>215.392455</td>\n",
       "      <td>14.987471</td>\n",
       "      <td>8.080000</td>\n",
       "      <td>0.990469</td>\n",
       "      <td>1398.777912</td>\n",
       "      <td>-500.057435</td>\n",
       "      <td>1398.055362</td>\n",
       "      <td>-499.778182</td>\n",
       "      <td>1396.151033</td>\n",
       "      <td>...</td>\n",
       "      <td>12.058140</td>\n",
       "      <td>-498.695773</td>\n",
       "      <td>8.130979</td>\n",
       "      <td>-499.634209</td>\n",
       "      <td>7.958270</td>\n",
       "      <td>-525.839648</td>\n",
       "      <td>4.878850</td>\n",
       "      <td>-500.162375</td>\n",
       "      <td>25.019940</td>\n",
       "      <td>-499.819438</td>\n",
       "    </tr>\n",
       "    <tr>\n",
       "      <th>2</th>\n",
       "      <td>2016-09-01 02:59:59</td>\n",
       "      <td>215.259946</td>\n",
       "      <td>12.884934</td>\n",
       "      <td>7.786667</td>\n",
       "      <td>0.996043</td>\n",
       "      <td>1398.493666</td>\n",
       "      <td>-500.868360</td>\n",
       "      <td>1398.860436</td>\n",
       "      <td>-499.764529</td>\n",
       "      <td>1398.075709</td>\n",
       "      <td>...</td>\n",
       "      <td>11.962366</td>\n",
       "      <td>-498.767484</td>\n",
       "      <td>8.096893</td>\n",
       "      <td>-500.827423</td>\n",
       "      <td>8.071056</td>\n",
       "      <td>-500.801673</td>\n",
       "      <td>4.905125</td>\n",
       "      <td>-499.828510</td>\n",
       "      <td>24.994862</td>\n",
       "      <td>-500.622559</td>\n",
       "    </tr>\n",
       "    <tr>\n",
       "      <th>3</th>\n",
       "      <td>2016-09-01 03:59:59</td>\n",
       "      <td>215.336236</td>\n",
       "      <td>12.006805</td>\n",
       "      <td>7.640000</td>\n",
       "      <td>0.863514</td>\n",
       "      <td>1399.618111</td>\n",
       "      <td>-498.863574</td>\n",
       "      <td>1397.440120</td>\n",
       "      <td>-499.211024</td>\n",
       "      <td>1400.129303</td>\n",
       "      <td>...</td>\n",
       "      <td>12.033091</td>\n",
       "      <td>-498.350935</td>\n",
       "      <td>8.074946</td>\n",
       "      <td>-499.474407</td>\n",
       "      <td>7.897085</td>\n",
       "      <td>-500.868509</td>\n",
       "      <td>4.931400</td>\n",
       "      <td>-499.963623</td>\n",
       "      <td>24.948919</td>\n",
       "      <td>-498.709987</td>\n",
       "    </tr>\n",
       "    <tr>\n",
       "      <th>4</th>\n",
       "      <td>2016-09-01 04:59:59</td>\n",
       "      <td>199.099327</td>\n",
       "      <td>10.682530</td>\n",
       "      <td>7.530000</td>\n",
       "      <td>0.805575</td>\n",
       "      <td>1401.268123</td>\n",
       "      <td>-500.808305</td>\n",
       "      <td>1398.128818</td>\n",
       "      <td>-499.504543</td>\n",
       "      <td>1402.172226</td>\n",
       "      <td>...</td>\n",
       "      <td>12.025367</td>\n",
       "      <td>-500.786497</td>\n",
       "      <td>8.054678</td>\n",
       "      <td>-500.397500</td>\n",
       "      <td>8.107890</td>\n",
       "      <td>-509.526725</td>\n",
       "      <td>4.957674</td>\n",
       "      <td>-500.360026</td>\n",
       "      <td>25.003331</td>\n",
       "      <td>-500.856333</td>\n",
       "    </tr>\n",
       "  </tbody>\n",
       "</table>\n",
       "<p>5 rows × 53 columns</p>\n",
       "</div>"
      ],
      "text/plain": [
       "                  date  primary_cleaner.input.sulfate  \\\n",
       "0  2016-09-01 00:59:59                     210.800909   \n",
       "1  2016-09-01 01:59:59                     215.392455   \n",
       "2  2016-09-01 02:59:59                     215.259946   \n",
       "3  2016-09-01 03:59:59                     215.336236   \n",
       "4  2016-09-01 04:59:59                     199.099327   \n",
       "\n",
       "   primary_cleaner.input.depressant  primary_cleaner.input.feed_size  \\\n",
       "0                         14.993118                         8.080000   \n",
       "1                         14.987471                         8.080000   \n",
       "2                         12.884934                         7.786667   \n",
       "3                         12.006805                         7.640000   \n",
       "4                         10.682530                         7.530000   \n",
       "\n",
       "   primary_cleaner.input.xanthate  primary_cleaner.state.floatbank8_a_air  \\\n",
       "0                        1.005021                             1398.981301   \n",
       "1                        0.990469                             1398.777912   \n",
       "2                        0.996043                             1398.493666   \n",
       "3                        0.863514                             1399.618111   \n",
       "4                        0.805575                             1401.268123   \n",
       "\n",
       "   primary_cleaner.state.floatbank8_a_level  \\\n",
       "0                               -500.225577   \n",
       "1                               -500.057435   \n",
       "2                               -500.868360   \n",
       "3                               -498.863574   \n",
       "4                               -500.808305   \n",
       "\n",
       "   primary_cleaner.state.floatbank8_b_air  \\\n",
       "0                             1399.144926   \n",
       "1                             1398.055362   \n",
       "2                             1398.860436   \n",
       "3                             1397.440120   \n",
       "4                             1398.128818   \n",
       "\n",
       "   primary_cleaner.state.floatbank8_b_level  \\\n",
       "0                               -499.919735   \n",
       "1                               -499.778182   \n",
       "2                               -499.764529   \n",
       "3                               -499.211024   \n",
       "4                               -499.504543   \n",
       "\n",
       "   primary_cleaner.state.floatbank8_c_air  ...  \\\n",
       "0                             1400.102998  ...   \n",
       "1                             1396.151033  ...   \n",
       "2                             1398.075709  ...   \n",
       "3                             1400.129303  ...   \n",
       "4                             1402.172226  ...   \n",
       "\n",
       "   secondary_cleaner.state.floatbank4_a_air  \\\n",
       "0                                 12.023554   \n",
       "1                                 12.058140   \n",
       "2                                 11.962366   \n",
       "3                                 12.033091   \n",
       "4                                 12.025367   \n",
       "\n",
       "   secondary_cleaner.state.floatbank4_a_level  \\\n",
       "0                                 -497.795834   \n",
       "1                                 -498.695773   \n",
       "2                                 -498.767484   \n",
       "3                                 -498.350935   \n",
       "4                                 -500.786497   \n",
       "\n",
       "   secondary_cleaner.state.floatbank4_b_air  \\\n",
       "0                                  8.016656   \n",
       "1                                  8.130979   \n",
       "2                                  8.096893   \n",
       "3                                  8.074946   \n",
       "4                                  8.054678   \n",
       "\n",
       "   secondary_cleaner.state.floatbank4_b_level  \\\n",
       "0                                 -501.289139   \n",
       "1                                 -499.634209   \n",
       "2                                 -500.827423   \n",
       "3                                 -499.474407   \n",
       "4                                 -500.397500   \n",
       "\n",
       "   secondary_cleaner.state.floatbank5_a_air  \\\n",
       "0                                  7.946562   \n",
       "1                                  7.958270   \n",
       "2                                  8.071056   \n",
       "3                                  7.897085   \n",
       "4                                  8.107890   \n",
       "\n",
       "   secondary_cleaner.state.floatbank5_a_level  \\\n",
       "0                                 -432.317850   \n",
       "1                                 -525.839648   \n",
       "2                                 -500.801673   \n",
       "3                                 -500.868509   \n",
       "4                                 -509.526725   \n",
       "\n",
       "   secondary_cleaner.state.floatbank5_b_air  \\\n",
       "0                                  4.872511   \n",
       "1                                  4.878850   \n",
       "2                                  4.905125   \n",
       "3                                  4.931400   \n",
       "4                                  4.957674   \n",
       "\n",
       "   secondary_cleaner.state.floatbank5_b_level  \\\n",
       "0                                 -500.037437   \n",
       "1                                 -500.162375   \n",
       "2                                 -499.828510   \n",
       "3                                 -499.963623   \n",
       "4                                 -500.360026   \n",
       "\n",
       "   secondary_cleaner.state.floatbank6_a_air  \\\n",
       "0                                 26.705889   \n",
       "1                                 25.019940   \n",
       "2                                 24.994862   \n",
       "3                                 24.948919   \n",
       "4                                 25.003331   \n",
       "\n",
       "   secondary_cleaner.state.floatbank6_a_level  \n",
       "0                                 -499.709414  \n",
       "1                                 -499.819438  \n",
       "2                                 -500.622559  \n",
       "3                                 -498.709987  \n",
       "4                                 -500.856333  \n",
       "\n",
       "[5 rows x 53 columns]"
      ]
     },
     "execution_count": 4,
     "metadata": {},
     "output_type": "execute_result"
    }
   ],
   "source": [
    "gold_recovery_test = pd.read_csv('/datasets/gold_recovery_test_new.csv')\n",
    "gold_recovery_test.head()"
   ]
  },
  {
   "cell_type": "code",
   "execution_count": 5,
   "metadata": {
    "scrolled": true
   },
   "outputs": [
    {
     "data": {
      "text/plain": [
       "Index(['date', 'final.output.concentrate_ag', 'final.output.concentrate_pb',\n",
       "       'final.output.concentrate_sol', 'final.output.concentrate_au',\n",
       "       'final.output.recovery', 'final.output.tail_ag', 'final.output.tail_pb',\n",
       "       'final.output.tail_sol', 'final.output.tail_au',\n",
       "       'primary_cleaner.input.sulfate', 'primary_cleaner.input.depressant',\n",
       "       'primary_cleaner.input.feed_size', 'primary_cleaner.input.xanthate',\n",
       "       'primary_cleaner.output.concentrate_ag',\n",
       "       'primary_cleaner.output.concentrate_pb',\n",
       "       'primary_cleaner.output.concentrate_sol',\n",
       "       'primary_cleaner.output.concentrate_au',\n",
       "       'primary_cleaner.output.tail_ag', 'primary_cleaner.output.tail_pb',\n",
       "       'primary_cleaner.output.tail_sol', 'primary_cleaner.output.tail_au',\n",
       "       'primary_cleaner.state.floatbank8_a_air',\n",
       "       'primary_cleaner.state.floatbank8_a_level',\n",
       "       'primary_cleaner.state.floatbank8_b_air',\n",
       "       'primary_cleaner.state.floatbank8_b_level',\n",
       "       'primary_cleaner.state.floatbank8_c_air',\n",
       "       'primary_cleaner.state.floatbank8_c_level',\n",
       "       'primary_cleaner.state.floatbank8_d_air',\n",
       "       'primary_cleaner.state.floatbank8_d_level',\n",
       "       'rougher.calculation.sulfate_to_au_concentrate',\n",
       "       'rougher.calculation.floatbank10_sulfate_to_au_feed',\n",
       "       'rougher.calculation.floatbank11_sulfate_to_au_feed',\n",
       "       'rougher.calculation.au_pb_ratio', 'rougher.input.feed_ag',\n",
       "       'rougher.input.feed_pb', 'rougher.input.feed_rate',\n",
       "       'rougher.input.feed_size', 'rougher.input.feed_sol',\n",
       "       'rougher.input.feed_au', 'rougher.input.floatbank10_sulfate',\n",
       "       'rougher.input.floatbank10_xanthate',\n",
       "       'rougher.input.floatbank11_sulfate',\n",
       "       'rougher.input.floatbank11_xanthate', 'rougher.output.concentrate_ag',\n",
       "       'rougher.output.concentrate_pb', 'rougher.output.concentrate_sol',\n",
       "       'rougher.output.concentrate_au', 'rougher.output.recovery',\n",
       "       'rougher.output.tail_ag', 'rougher.output.tail_pb',\n",
       "       'rougher.output.tail_sol', 'rougher.output.tail_au',\n",
       "       'rougher.state.floatbank10_a_air', 'rougher.state.floatbank10_a_level',\n",
       "       'rougher.state.floatbank10_b_air', 'rougher.state.floatbank10_b_level',\n",
       "       'rougher.state.floatbank10_c_air', 'rougher.state.floatbank10_c_level',\n",
       "       'rougher.state.floatbank10_d_air', 'rougher.state.floatbank10_d_level',\n",
       "       'rougher.state.floatbank10_e_air', 'rougher.state.floatbank10_e_level',\n",
       "       'rougher.state.floatbank10_f_air', 'rougher.state.floatbank10_f_level',\n",
       "       'secondary_cleaner.output.tail_ag', 'secondary_cleaner.output.tail_pb',\n",
       "       'secondary_cleaner.output.tail_sol', 'secondary_cleaner.output.tail_au',\n",
       "       'secondary_cleaner.state.floatbank2_a_air',\n",
       "       'secondary_cleaner.state.floatbank2_a_level',\n",
       "       'secondary_cleaner.state.floatbank2_b_air',\n",
       "       'secondary_cleaner.state.floatbank2_b_level',\n",
       "       'secondary_cleaner.state.floatbank3_a_air',\n",
       "       'secondary_cleaner.state.floatbank3_a_level',\n",
       "       'secondary_cleaner.state.floatbank3_b_air',\n",
       "       'secondary_cleaner.state.floatbank3_b_level',\n",
       "       'secondary_cleaner.state.floatbank4_a_air',\n",
       "       'secondary_cleaner.state.floatbank4_a_level',\n",
       "       'secondary_cleaner.state.floatbank4_b_air',\n",
       "       'secondary_cleaner.state.floatbank4_b_level',\n",
       "       'secondary_cleaner.state.floatbank5_a_air',\n",
       "       'secondary_cleaner.state.floatbank5_a_level',\n",
       "       'secondary_cleaner.state.floatbank5_b_air',\n",
       "       'secondary_cleaner.state.floatbank5_b_level',\n",
       "       'secondary_cleaner.state.floatbank6_a_air',\n",
       "       'secondary_cleaner.state.floatbank6_a_level'],\n",
       "      dtype='object')"
      ]
     },
     "execution_count": 5,
     "metadata": {},
     "output_type": "execute_result"
    }
   ],
   "source": [
    "gold_recovery_full = pd.read_csv('/datasets/gold_recovery_full_new.csv')\n",
    "gold_recovery_full.columns"
   ]
  },
  {
   "cell_type": "markdown",
   "metadata": {},
   "source": [
    "Данные загружены корректно."
   ]
  },
  {
   "cell_type": "code",
   "execution_count": 6,
   "metadata": {},
   "outputs": [],
   "source": [
    "def recovery(data):\n",
    "    n = 100 * data['rougher.output.concentrate_au']*(data['rougher.input.feed_au'] - data['rougher.output.tail_au'])/(data['rougher.input.feed_au']*(data['rougher.output.concentrate_au'] - data['rougher.output.tail_au']))\n",
    "    return n "
   ]
  },
  {
   "cell_type": "markdown",
   "metadata": {},
   "source": [
    "Проведем рассчет коэффициента восстановления ископаемого."
   ]
  },
  {
   "cell_type": "code",
   "execution_count": 7,
   "metadata": {},
   "outputs": [
    {
     "name": "stdout",
     "output_type": "stream",
     "text": [
      "0        87.107763\n",
      "1        86.843261\n",
      "2        86.842308\n",
      "3        87.226430\n",
      "4        86.688794\n",
      "           ...    \n",
      "14144    89.574376\n",
      "14145    87.724007\n",
      "14146    88.890579\n",
      "14147    89.858126\n",
      "14148    89.514960\n",
      "Length: 14149, dtype: float64\n",
      "\n",
      "MAE равно  1.1498046842860452e-14\n"
     ]
    }
   ],
   "source": [
    "predict = recovery(gold_recovery_train)\n",
    "print(predict)\n",
    "print()\n",
    "print('MAE равно ' , mean_absolute_error(gold_recovery_train['rougher.output.recovery'],predict))"
   ]
  },
  {
   "cell_type": "markdown",
   "metadata": {},
   "source": [
    "MAE маленькое, а значит эффективность обогащения рассчитана верно."
   ]
  },
  {
   "cell_type": "code",
   "execution_count": 8,
   "metadata": {},
   "outputs": [
    {
     "data": {
      "text/plain": [
       "date                                           0\n",
       "primary_cleaner.input.sulfate                  4\n",
       "primary_cleaner.input.depressant               5\n",
       "primary_cleaner.input.feed_size                0\n",
       "primary_cleaner.input.xanthate                 4\n",
       "primary_cleaner.state.floatbank8_a_air         0\n",
       "primary_cleaner.state.floatbank8_a_level       0\n",
       "primary_cleaner.state.floatbank8_b_air         0\n",
       "primary_cleaner.state.floatbank8_b_level       0\n",
       "primary_cleaner.state.floatbank8_c_air         0\n",
       "primary_cleaner.state.floatbank8_c_level       0\n",
       "primary_cleaner.state.floatbank8_d_air         0\n",
       "primary_cleaner.state.floatbank8_d_level       0\n",
       "rougher.input.feed_ag                          0\n",
       "rougher.input.feed_pb                          0\n",
       "rougher.input.feed_rate                        3\n",
       "rougher.input.feed_size                        1\n",
       "rougher.input.feed_sol                        21\n",
       "rougher.input.feed_au                          0\n",
       "rougher.input.floatbank10_sulfate              5\n",
       "rougher.input.floatbank10_xanthate             0\n",
       "rougher.input.floatbank11_sulfate              8\n",
       "rougher.input.floatbank11_xanthate            25\n",
       "rougher.state.floatbank10_a_air                0\n",
       "rougher.state.floatbank10_a_level              0\n",
       "rougher.state.floatbank10_b_air                0\n",
       "rougher.state.floatbank10_b_level              0\n",
       "rougher.state.floatbank10_c_air                0\n",
       "rougher.state.floatbank10_c_level              0\n",
       "rougher.state.floatbank10_d_air                0\n",
       "rougher.state.floatbank10_d_level              0\n",
       "rougher.state.floatbank10_e_air                0\n",
       "rougher.state.floatbank10_e_level              0\n",
       "rougher.state.floatbank10_f_air                0\n",
       "rougher.state.floatbank10_f_level              0\n",
       "secondary_cleaner.state.floatbank2_a_air       3\n",
       "secondary_cleaner.state.floatbank2_a_level     0\n",
       "secondary_cleaner.state.floatbank2_b_air       2\n",
       "secondary_cleaner.state.floatbank2_b_level     0\n",
       "secondary_cleaner.state.floatbank3_a_air       9\n",
       "secondary_cleaner.state.floatbank3_a_level     0\n",
       "secondary_cleaner.state.floatbank3_b_air       0\n",
       "secondary_cleaner.state.floatbank3_b_level     0\n",
       "secondary_cleaner.state.floatbank4_a_air       0\n",
       "secondary_cleaner.state.floatbank4_a_level     0\n",
       "secondary_cleaner.state.floatbank4_b_air       0\n",
       "secondary_cleaner.state.floatbank4_b_level     0\n",
       "secondary_cleaner.state.floatbank5_a_air       0\n",
       "secondary_cleaner.state.floatbank5_a_level     0\n",
       "secondary_cleaner.state.floatbank5_b_air       0\n",
       "secondary_cleaner.state.floatbank5_b_level     0\n",
       "secondary_cleaner.state.floatbank6_a_air       0\n",
       "secondary_cleaner.state.floatbank6_a_level     0\n",
       "dtype: int64"
      ]
     },
     "execution_count": 8,
     "metadata": {},
     "output_type": "execute_result"
    }
   ],
   "source": [
    "gold_recovery_test.isna().sum()"
   ]
  },
  {
   "cell_type": "code",
   "execution_count": 9,
   "metadata": {},
   "outputs": [],
   "source": [
    "gold_recovery_train = gold_recovery_train.ffill()\n",
    "gold_recovery_test = gold_recovery_test.ffill()"
   ]
  },
  {
   "cell_type": "markdown",
   "metadata": {},
   "source": [
    "## Анализ данных"
   ]
  },
  {
   "cell_type": "code",
   "execution_count": 16,
   "metadata": {},
   "outputs": [
    {
     "data": {
      "image/png": "[encoded data removed]",
      "text/plain": [
       "<Figure size 432x288 with 1 Axes>"
      ]
     },
     "metadata": {
      "needs_background": "light"
     },
     "output_type": "display_data"
    }
   ],
   "source": [
    "gold_recovery_train['rougher.input.feed_au'].hist();\n",
    "gold_recovery_train['rougher.output.concentrate_au'].hist();\n",
    "gold_recovery_train['primary_cleaner.output.concentrate_au'].hist();\n",
    "gold_recovery_train['final.output.concentrate_au'].hist();"
   ]
  },
  {
   "cell_type": "markdown",
   "metadata": {},
   "source": [
    "Как мы можем заметить концентрация AU растет."
   ]
  },
  {
   "cell_type": "code",
   "execution_count": 17,
   "metadata": {},
   "outputs": [
    {
     "data": {
      "image/png": "[encoded data removed]",
      "text/plain": [
       "<Figure size 432x288 with 1 Axes>"
      ]
     },
     "metadata": {
      "needs_background": "light"
     },
     "output_type": "display_data"
    }
   ],
   "source": [
    "gold_recovery_train['rougher.input.feed_ag'].hist();\n",
    "gold_recovery_train['rougher.output.concentrate_ag'].hist();\n",
    "gold_recovery_train['primary_cleaner.output.concentrate_ag'].hist();\n",
    "gold_recovery_train['final.output.concentrate_ag'].hist();"
   ]
  },
  {
   "cell_type": "markdown",
   "metadata": {},
   "source": [
    "Как мы можем заметить концентрация AG уменьшается."
   ]
  },
  {
   "cell_type": "code",
   "execution_count": 18,
   "metadata": {},
   "outputs": [
    {
     "data": {
      "image/png": "[encoded data removed]",
      "text/plain": [
       "<Figure size 432x288 with 1 Axes>"
      ]
     },
     "metadata": {
      "needs_background": "light"
     },
     "output_type": "display_data"
    }
   ],
   "source": [
    "gold_recovery_train['rougher.input.feed_pb'].hist();\n",
    "gold_recovery_train['rougher.output.concentrate_pb'].hist();\n",
    "gold_recovery_train['primary_cleaner.output.concentrate_pb'].hist();\n",
    "gold_recovery_train['final.output.concentrate_pb'].hist();"
   ]
  },
  {
   "cell_type": "markdown",
   "metadata": {},
   "source": [
    "Как мы можем заметить концентрация pb растет."
   ]
  },
  {
   "cell_type": "code",
   "execution_count": 19,
   "metadata": {},
   "outputs": [
    {
     "name": "stderr",
     "output_type": "stream",
     "text": [
      "/opt/conda/lib/python3.9/site-packages/seaborn/_decorators.py:36: FutureWarning: Pass the following variable as a keyword arg: x. From version 0.12, the only valid positional argument will be `data`, and passing other arguments without an explicit keyword will result in an error or misinterpretation.\n",
      "  warnings.warn(\n"
     ]
    },
    {
     "data": {
      "image/png": "[encoded data removed]",
      "text/plain": [
       "<Figure size 432x288 with 1 Axes>"
      ]
     },
     "metadata": {
      "needs_background": "light"
     },
     "output_type": "display_data"
    },
    {
     "name": "stderr",
     "output_type": "stream",
     "text": [
      "/opt/conda/lib/python3.9/site-packages/seaborn/_decorators.py:36: FutureWarning: Pass the following variable as a keyword arg: x. From version 0.12, the only valid positional argument will be `data`, and passing other arguments without an explicit keyword will result in an error or misinterpretation.\n",
      "  warnings.warn(\n"
     ]
    },
    {
     "data": {
      "image/png": "[encoded data removed]",
      "text/plain": [
       "<Figure size 432x288 with 1 Axes>"
      ]
     },
     "metadata": {
      "needs_background": "light"
     },
     "output_type": "display_data"
    }
   ],
   "source": [
    "sns.boxplot(data = gold_recovery_train['rougher.input.feed_size']).set(title = 'Распределение в тренировочной выборке',ylabel = 'Доля', xlabel = 'Индексы', xlim = (20,100))\n",
    "plt.show()\n",
    "sns.boxplot(data = gold_recovery_test['rougher.input.feed_size']).set(title = 'Распределение в тестовой выборке', xlabel = 'Индексы', ylabel = 'Доля', xlim = (20,100))\n",
    "plt.show()"
   ]
  },
  {
   "cell_type": "markdown",
   "metadata": {},
   "source": [
    "Как мы можем заметить распределение различается не сильно."
   ]
  },
  {
   "cell_type": "code",
   "execution_count": 20,
   "metadata": {},
   "outputs": [
    {
     "data": {
      "image/png": "[encoded data removed]",
      "text/plain": [
       "<Figure size 432x288 with 1 Axes>"
      ]
     },
     "metadata": {
      "needs_background": "light"
     },
     "output_type": "display_data"
    }
   ],
   "source": [
    "for i in range(len(gold_recovery_train)):\n",
    "    rougher = gold_recovery_train.loc[i,'rougher.input.feed_ag'] + gold_recovery_train.loc[i,'rougher.input.feed_au'] + gold_recovery_train.loc[i,'rougher.input.feed_pb'] + gold_recovery_train.loc[i,'rougher.input.feed_sol']\n",
    "    if rougher < 1:\n",
    "        gold_recovery_train = gold_recovery_train.drop([i],axis=0)\n",
    "rougher = gold_recovery_train['rougher.input.feed_ag'] + gold_recovery_train['rougher.input.feed_au'] + gold_recovery_train['rougher.input.feed_pb'] + gold_recovery_train['rougher.input.feed_sol']\n",
    "rougher.plot(title = 'Распределение общего исходного концентрата');"
   ]
  },
  {
   "cell_type": "code",
   "execution_count": 21,
   "metadata": {},
   "outputs": [
    {
     "data": {
      "image/png": "[encoded data removed]",
      "text/plain": [
       "<Figure size 432x288 with 1 Axes>"
      ]
     },
     "metadata": {
      "needs_background": "light"
     },
     "output_type": "display_data"
    }
   ],
   "source": [
    "for i in gold_recovery_train.index:\n",
    "    black = gold_recovery_train.loc[i,'rougher.output.concentrate_ag'] + gold_recovery_train.loc[i,'rougher.output.concentrate_au'] + gold_recovery_train.loc[i,'rougher.output.concentrate_pb'] + gold_recovery_train.loc[i,'rougher.output.concentrate_sol']\n",
    "    if black < 1:\n",
    "        gold_recovery_train = gold_recovery_train.drop([i],axis=0)\n",
    "black = gold_recovery_train['rougher.output.concentrate_ag'] + gold_recovery_train['rougher.output.concentrate_au'] + gold_recovery_train['rougher.output.concentrate_pb'] + gold_recovery_train['rougher.output.concentrate_sol']\n",
    "black.plot(title='Распределение общего чернового концентрата');"
   ]
  },
  {
   "cell_type": "code",
   "execution_count": 22,
   "metadata": {},
   "outputs": [
    {
     "data": {
      "image/png": "[encoded data removed]",
      "text/plain": [
       "<Figure size 432x288 with 1 Axes>"
      ]
     },
     "metadata": {
      "needs_background": "light"
     },
     "output_type": "display_data"
    }
   ],
   "source": [
    "for i in gold_recovery_train.index:\n",
    "    final = gold_recovery_train.loc[i,'final.output.concentrate_ag'] + gold_recovery_train.loc[i,'final.output.concentrate_au'] + gold_recovery_train.loc[i,'final.output.concentrate_pb'] + gold_recovery_train.loc[i,'final.output.concentrate_sol']\n",
    "    if final < 1:\n",
    "        gold_recovery_train = gold_recovery_train.drop([i],axis=0)\n",
    "final = gold_recovery_train['final.output.concentrate_ag'] + gold_recovery_train['final.output.concentrate_au'] + gold_recovery_train['final.output.concentrate_pb'] + gold_recovery_train['final.output.concentrate_sol']\n",
    "final.plot(title='Распределение общего финального концентрата');"
   ]
  },
  {
   "cell_type": "markdown",
   "metadata": {},
   "source": [
    "Мы можем заметить,что суммарная концентрация растет в зависимости от этапа."
   ]
  },
  {
   "cell_type": "markdown",
   "metadata": {},
   "source": [
    "## Модель"
   ]
  },
  {
   "cell_type": "markdown",
   "metadata": {},
   "source": [
    "Рассчитаем smape"
   ]
  },
  {
   "cell_type": "code",
   "execution_count": 23,
   "metadata": {},
   "outputs": [],
   "source": [
    "def total_smape(y_true,y_pred):\n",
    "    numerator = np.abs(y_true - y_pred)\n",
    "    denominator = (np.abs(y_true) + np.abs(y_pred))/2\n",
    "    smape = ((numerator/denominator)*100).sum() / len(y_pred)\n",
    "    return 0.25*smape[0] + 0.75*smape[1]"
   ]
  },
  {
   "cell_type": "code",
   "execution_count": 24,
   "metadata": {},
   "outputs": [],
   "source": [
    "scoring = make_scorer(total_smape,greater_is_better = False)\n",
    "features_train = gold_recovery_train.drop(['date','rougher.output.recovery','final.output.recovery'],axis=1)\n",
    "target_1 = gold_recovery_train['rougher.output.recovery']\n",
    "target_2 = gold_recovery_train['final.output.recovery']\n",
    "target_train = gold_recovery_train[['rougher.output.recovery','final.output.recovery']]"
   ]
  },
  {
   "cell_type": "code",
   "execution_count": 25,
   "metadata": {},
   "outputs": [],
   "source": [
    "for i in features_train.columns:\n",
    "    if i not in gold_recovery_test:\n",
    "        features_train = features_train.drop([i],axis=1)"
   ]
  },
  {
   "cell_type": "code",
   "execution_count": 26,
   "metadata": {},
   "outputs": [
    {
     "name": "stdout",
     "output_type": "stream",
     "text": [
      "10.011849233361389\n"
     ]
    }
   ],
   "source": [
    "model = LinearRegression()\n",
    "scores = cross_val_score(model,features_train,target_train, cv=5,scoring = scoring) \n",
    "n = pd.Series(scores)\n",
    "print(np.abs(n.mean()))"
   ]
  },
  {
   "cell_type": "markdown",
   "metadata": {},
   "source": [
    "Метрика равна 10."
   ]
  },
  {
   "cell_type": "code",
   "execution_count": 27,
   "metadata": {},
   "outputs": [
    {
     "name": "stdout",
     "output_type": "stream",
     "text": [
      "Fitting 2 folds for each of 4 candidates, totalling 8 fits\n",
      "{'max_depth': 25, 'n_estimators': 90}\n"
     ]
    }
   ],
   "source": [
    "rf_grid = [{'n_estimators':[90,110],'max_depth':[25,30]}]\n",
    "forest_reg = RandomForestRegressor()\n",
    "model = GridSearchCV(forest_reg, rf_grid,\n",
    "                         scoring = scoring, cv=2, verbose=1)\n",
    "model.fit(features_train,target_train)\n",
    "print(model.best_params_)"
   ]
  },
  {
   "cell_type": "markdown",
   "metadata": {},
   "source": [
    "Лучшая модель случайного леса с параметрами : n_estimators = 100,max_depth = 30"
   ]
  },
  {
   "cell_type": "code",
   "execution_count": 28,
   "metadata": {},
   "outputs": [
    {
     "name": "stdout",
     "output_type": "stream",
     "text": [
      "9.473721231974256\n"
     ]
    }
   ],
   "source": [
    "model = RandomForestRegressor(n_estimators = 100, max_depth = 30)\n",
    "scores = cross_val_score(model,features_train,target_train, cv=5,scoring = scoring) \n",
    "n = pd.Series(scores)\n",
    "print(np.abs(n.mean()))"
   ]
  },
  {
   "cell_type": "markdown",
   "metadata": {},
   "source": [
    "Метрика равна 9,5."
   ]
  },
  {
   "cell_type": "code",
   "execution_count": 29,
   "metadata": {},
   "outputs": [
    {
     "name": "stdout",
     "output_type": "stream",
     "text": [
      "Fitting 2 folds for each of 2 candidates, totalling 4 fits\n",
      "{'max_depth': 1}\n"
     ]
    }
   ],
   "source": [
    "rf_grid = [{'max_depth' : [1,50]}]\n",
    "tree_reg = DecisionTreeRegressor()\n",
    "model = GridSearchCV(tree_reg,rf_grid,scoring = scoring, cv = 2, verbose = 1)\n",
    "model.fit(features_train,target_train)\n",
    "print(model.best_params_)"
   ]
  },
  {
   "cell_type": "markdown",
   "metadata": {},
   "source": [
    "Лучшая модель с максимальной глубиной 1."
   ]
  },
  {
   "cell_type": "code",
   "execution_count": 30,
   "metadata": {},
   "outputs": [
    {
     "name": "stdout",
     "output_type": "stream",
     "text": [
      "8.968251376373434\n"
     ]
    }
   ],
   "source": [
    "model = DecisionTreeRegressor(max_depth = 1)\n",
    "scores = cross_val_score(model,features_train,target_train, cv=5,scoring = scoring) \n",
    "n = pd.Series(scores)\n",
    "print(np.abs(n.mean()))"
   ]
  },
  {
   "cell_type": "code",
   "execution_count": 31,
   "metadata": {},
   "outputs": [],
   "source": [
    "target_full = gold_recovery_full[['date','rougher.output.recovery','final.output.recovery']]"
   ]
  },
  {
   "cell_type": "markdown",
   "metadata": {},
   "source": [
    "Таким образом, наилучшая модель = это Линейная регрессия."
   ]
  },
  {
   "cell_type": "code",
   "execution_count": 32,
   "metadata": {},
   "outputs": [
    {
     "name": "stdout",
     "output_type": "stream",
     "text": [
      "(5290, 55)\n"
     ]
    }
   ],
   "source": [
    "gold_recovery_test = gold_recovery_test.merge(target_full,on='date')\n",
    "print(gold_recovery_test.shape)\n",
    "\n",
    "features_test = gold_recovery_test.drop(['date','rougher.output.recovery','final.output.recovery'],axis=1)\n",
    "target_test = gold_recovery_test[['rougher.output.recovery','final.output.recovery']]\n"
   ]
  },
  {
   "cell_type": "code",
   "execution_count": 37,
   "metadata": {},
   "outputs": [
    {
     "name": "stdout",
     "output_type": "stream",
     "text": [
      "(5290, 52) (5290, 2)\n"
     ]
    }
   ],
   "source": [
    "features_train = features_train[:len(target_test)]\n",
    "target_train = target_train[:len(target_test)]\n",
    "print(features_train.shape,target_train.shape)"
   ]
  },
  {
   "cell_type": "code",
   "execution_count": null,
   "metadata": {},
   "outputs": [],
   "source": [
    "Модель случайного леса показала лучшее значение метрики. Значит, на ней мы построим наши предсказания."
   ]
  },
  {
   "cell_type": "code",
   "execution_count": 38,
   "metadata": {},
   "outputs": [],
   "source": [
    "model = DecisionTreeRegressor(max_depth = 1)\n",
    "model.fit(features_train,target_train)\n",
    "predicted = model.predict(features_train)"
   ]
  },
  {
   "cell_type": "code",
   "execution_count": 39,
   "metadata": {
    "scrolled": true
   },
   "outputs": [
    {
     "name": "stdout",
     "output_type": "stream",
     "text": [
      "      rougher.output.recovery  final.output.recovery\n",
      "0                   81.800424              66.307485\n",
      "1                   80.627053              64.298735\n",
      "2                   81.147131              64.457285\n",
      "3                   80.731038              64.029754\n",
      "4                   79.519040              62.510818\n",
      "...                       ...                    ...\n",
      "5285                92.086486              70.533885\n",
      "5286                90.827524              69.850290\n",
      "5287                91.429154              70.653796\n",
      "5288                93.122587              71.635292\n",
      "5289                92.319347              71.477833\n",
      "\n",
      "[5290 rows x 2 columns]\n"
     ]
    }
   ],
   "source": [
    "predicted = pd.DataFrame(data=predicted,columns = ['rougher.output.recovery','final.output.recovery'])\n",
    "print(predicted)"
   ]
  },
  {
   "cell_type": "code",
   "execution_count": 42,
   "metadata": {},
   "outputs": [
    {
     "data": {
      "text/plain": [
       "13.163074077692881"
      ]
     },
     "execution_count": 42,
     "metadata": {},
     "output_type": "execute_result"
    }
   ],
   "source": [
    "total_smape(target_test,predicted)"
   ]
  },
  {
   "cell_type": "markdown",
   "metadata": {},
   "source": [
    "Мы получили модель для предсказания  коэффициент восстановления золота из золотосодержащей руды.Наилучшая модель - это линейная регрессия. Метрика SMAPE получилась равной 13."
   ]
  },
  {
   "cell_type": "markdown",
   "metadata": {},
   "source": [
    "Итоговый вывод: Мы получили модель для предсказания  коэффициент восстановления золота из золотосодержащей руды. Модель прошла проверку метрикой SMAPE и является наилучшей из приведенных."
   ]
  }
 ],
 "metadata": {
  "ExecuteTimeLog": [
   {
    "duration": 360,
    "start_time": "2022-08-16T08:40:07.061Z"
   },
   {
    "duration": 1315,
    "start_time": "2022-08-16T08:42:24.634Z"
   },
   {
    "duration": 351,
    "start_time": "2022-08-16T08:42:49.840Z"
   },
   {
    "duration": 1105,
    "start_time": "2022-08-16T08:44:49.399Z"
   },
   {
    "duration": 110,
    "start_time": "2022-08-16T08:45:02.059Z"
   },
   {
    "duration": 1497,
    "start_time": "2022-08-16T08:47:01.710Z"
   },
   {
    "duration": 290,
    "start_time": "2022-08-16T08:47:23.615Z"
   },
   {
    "duration": 281,
    "start_time": "2022-08-16T08:54:44.265Z"
   },
   {
    "duration": 4,
    "start_time": "2022-08-16T08:59:57.959Z"
   },
   {
    "duration": 8,
    "start_time": "2022-08-16T09:00:18.660Z"
   },
   {
    "duration": 9,
    "start_time": "2022-08-16T09:00:45.962Z"
   },
   {
    "duration": 36,
    "start_time": "2022-08-16T09:00:47.442Z"
   },
   {
    "duration": 355,
    "start_time": "2022-08-16T09:01:31.589Z"
   },
   {
    "duration": 390,
    "start_time": "2022-08-16T09:01:50.675Z"
   },
   {
    "duration": 367,
    "start_time": "2022-08-16T09:02:00.098Z"
   },
   {
    "duration": 847,
    "start_time": "2022-08-16T09:03:01.959Z"
   },
   {
    "duration": 51,
    "start_time": "2022-08-16T09:04:26.638Z"
   },
   {
    "duration": 6,
    "start_time": "2022-08-16T09:04:38.643Z"
   },
   {
    "duration": 303,
    "start_time": "2022-08-16T09:07:58.134Z"
   },
   {
    "duration": 279,
    "start_time": "2022-08-16T09:08:07.492Z"
   },
   {
    "duration": 11,
    "start_time": "2022-08-16T09:08:23.022Z"
   },
   {
    "duration": 8,
    "start_time": "2022-08-16T09:08:54.247Z"
   },
   {
    "duration": 7,
    "start_time": "2022-08-16T09:09:05.039Z"
   },
   {
    "duration": 42,
    "start_time": "2022-08-16T09:13:20.423Z"
   },
   {
    "duration": 2344,
    "start_time": "2022-08-16T09:13:47.823Z"
   },
   {
    "duration": 306,
    "start_time": "2022-08-16T09:14:01.350Z"
   },
   {
    "duration": 23,
    "start_time": "2022-08-16T09:15:32.174Z"
   },
   {
    "duration": 7,
    "start_time": "2022-08-16T09:15:46.278Z"
   },
   {
    "duration": 14,
    "start_time": "2022-08-16T09:16:32.786Z"
   },
   {
    "duration": 8,
    "start_time": "2022-08-16T09:16:45.446Z"
   },
   {
    "duration": 19,
    "start_time": "2022-08-16T09:16:53.004Z"
   },
   {
    "duration": 9,
    "start_time": "2022-08-16T09:17:00.937Z"
   },
   {
    "duration": 6,
    "start_time": "2022-08-16T09:17:39.328Z"
   },
   {
    "duration": 6,
    "start_time": "2022-08-16T09:28:13.185Z"
   },
   {
    "duration": 575,
    "start_time": "2022-08-16T09:39:10.598Z"
   },
   {
    "duration": 295,
    "start_time": "2022-08-16T09:41:20.477Z"
   },
   {
    "duration": 321,
    "start_time": "2022-08-16T09:41:34.628Z"
   },
   {
    "duration": 132,
    "start_time": "2022-08-16T09:43:28.340Z"
   },
   {
    "duration": 132,
    "start_time": "2022-08-16T09:43:44.239Z"
   },
   {
    "duration": 3,
    "start_time": "2022-08-16T09:44:54.889Z"
   },
   {
    "duration": 124,
    "start_time": "2022-08-16T09:45:05.644Z"
   },
   {
    "duration": 44,
    "start_time": "2022-08-16T10:57:57.750Z"
   },
   {
    "duration": 1076,
    "start_time": "2022-08-16T10:58:02.677Z"
   },
   {
    "duration": 881,
    "start_time": "2022-08-16T10:58:03.755Z"
   },
   {
    "duration": 5,
    "start_time": "2022-08-16T10:58:04.638Z"
   },
   {
    "duration": 414,
    "start_time": "2022-08-16T10:58:04.646Z"
   },
   {
    "duration": 1895,
    "start_time": "2022-08-16T10:58:05.062Z"
   },
   {
    "duration": 4,
    "start_time": "2022-08-16T10:58:06.958Z"
   },
   {
    "duration": 14,
    "start_time": "2022-08-16T10:58:06.964Z"
   },
   {
    "duration": 14,
    "start_time": "2022-08-16T10:58:06.979Z"
   },
   {
    "duration": 586,
    "start_time": "2022-08-16T10:58:06.995Z"
   },
   {
    "duration": 152,
    "start_time": "2022-08-16T10:58:07.584Z"
   },
   {
    "duration": 286,
    "start_time": "2022-08-16T10:58:38.068Z"
   },
   {
    "duration": 269,
    "start_time": "2022-08-16T10:59:19.623Z"
   },
   {
    "duration": 104,
    "start_time": "2022-08-16T11:03:33.084Z"
   },
   {
    "duration": 12,
    "start_time": "2022-08-16T11:05:31.598Z"
   },
   {
    "duration": 120,
    "start_time": "2022-08-16T11:14:38.920Z"
   },
   {
    "duration": 126,
    "start_time": "2022-08-16T11:15:32.148Z"
   },
   {
    "duration": 121,
    "start_time": "2022-08-16T11:16:00.755Z"
   },
   {
    "duration": 145,
    "start_time": "2022-08-16T11:16:13.269Z"
   },
   {
    "duration": 123,
    "start_time": "2022-08-16T11:16:19.760Z"
   },
   {
    "duration": 183,
    "start_time": "2022-08-16T11:16:27.616Z"
   },
   {
    "duration": 119,
    "start_time": "2022-08-16T11:16:40.500Z"
   },
   {
    "duration": 120,
    "start_time": "2022-08-16T11:20:00.018Z"
   },
   {
    "duration": 115,
    "start_time": "2022-08-16T11:20:54.049Z"
   },
   {
    "duration": 137,
    "start_time": "2022-08-16T11:22:09.653Z"
   },
   {
    "duration": 153,
    "start_time": "2022-08-16T11:22:37.953Z"
   },
   {
    "duration": 171,
    "start_time": "2022-08-16T11:23:13.138Z"
   },
   {
    "duration": 157,
    "start_time": "2022-08-16T11:23:24.638Z"
   },
   {
    "duration": 165,
    "start_time": "2022-08-16T11:23:30.955Z"
   },
   {
    "duration": 136,
    "start_time": "2022-08-16T11:23:54.889Z"
   },
   {
    "duration": 135,
    "start_time": "2022-08-16T11:24:02.644Z"
   },
   {
    "duration": 127,
    "start_time": "2022-08-16T11:24:32.349Z"
   },
   {
    "duration": 144,
    "start_time": "2022-08-16T11:25:09.394Z"
   },
   {
    "duration": 154,
    "start_time": "2022-08-16T11:31:36.529Z"
   },
   {
    "duration": 3318,
    "start_time": "2022-08-16T11:33:38.236Z"
   },
   {
    "duration": 3461,
    "start_time": "2022-08-16T11:39:01.369Z"
   },
   {
    "duration": 3514,
    "start_time": "2022-08-16T11:39:06.609Z"
   },
   {
    "duration": 3466,
    "start_time": "2022-08-16T11:41:32.674Z"
   },
   {
    "duration": 3426,
    "start_time": "2022-08-16T11:41:42.817Z"
   },
   {
    "duration": 3,
    "start_time": "2022-08-16T11:42:10.412Z"
   },
   {
    "duration": 3467,
    "start_time": "2022-08-16T11:42:17.573Z"
   },
   {
    "duration": 56,
    "start_time": "2022-08-16T11:54:35.631Z"
   },
   {
    "duration": 103,
    "start_time": "2022-08-16T11:54:44.889Z"
   },
   {
    "duration": 46,
    "start_time": "2022-08-16T11:55:56.940Z"
   },
   {
    "duration": 110,
    "start_time": "2022-08-16T11:56:10.512Z"
   },
   {
    "duration": 187,
    "start_time": "2022-08-16T11:56:28.808Z"
   },
   {
    "duration": 294,
    "start_time": "2022-08-16T11:56:59.754Z"
   },
   {
    "duration": 1304,
    "start_time": "2022-08-16T12:13:17.476Z"
   },
   {
    "duration": 274,
    "start_time": "2022-08-16T12:13:18.782Z"
   },
   {
    "duration": 6,
    "start_time": "2022-08-16T12:13:19.058Z"
   },
   {
    "duration": 100,
    "start_time": "2022-08-16T12:13:19.066Z"
   },
   {
    "duration": 375,
    "start_time": "2022-08-16T12:13:19.168Z"
   },
   {
    "duration": 4,
    "start_time": "2022-08-16T12:13:19.544Z"
   },
   {
    "duration": 17,
    "start_time": "2022-08-16T12:13:19.550Z"
   },
   {
    "duration": 8,
    "start_time": "2022-08-16T12:13:19.569Z"
   },
   {
    "duration": 173,
    "start_time": "2022-08-16T12:13:19.587Z"
   },
   {
    "duration": 146,
    "start_time": "2022-08-16T12:13:19.763Z"
   },
   {
    "duration": 165,
    "start_time": "2022-08-16T12:13:19.911Z"
   },
   {
    "duration": 146,
    "start_time": "2022-08-16T12:13:20.077Z"
   },
   {
    "duration": 155,
    "start_time": "2022-08-16T12:13:20.225Z"
   },
   {
    "duration": 158,
    "start_time": "2022-08-16T12:13:20.381Z"
   },
   {
    "duration": 295,
    "start_time": "2022-08-16T12:13:20.541Z"
   },
   {
    "duration": 196,
    "start_time": "2022-08-16T12:15:00.935Z"
   },
   {
    "duration": 49,
    "start_time": "2022-08-16T12:15:27.618Z"
   },
   {
    "duration": 55,
    "start_time": "2022-08-16T12:15:33.876Z"
   },
   {
    "duration": 1414,
    "start_time": "2022-08-16T12:16:29.264Z"
   },
   {
    "duration": 290,
    "start_time": "2022-08-16T12:16:30.680Z"
   },
   {
    "duration": 7,
    "start_time": "2022-08-16T12:16:30.971Z"
   },
   {
    "duration": 99,
    "start_time": "2022-08-16T12:16:30.986Z"
   },
   {
    "duration": 375,
    "start_time": "2022-08-16T12:16:31.087Z"
   },
   {
    "duration": 3,
    "start_time": "2022-08-16T12:16:31.464Z"
   },
   {
    "duration": 19,
    "start_time": "2022-08-16T12:16:31.469Z"
   },
   {
    "duration": 7,
    "start_time": "2022-08-16T12:16:31.490Z"
   },
   {
    "duration": 182,
    "start_time": "2022-08-16T12:16:31.498Z"
   },
   {
    "duration": 147,
    "start_time": "2022-08-16T12:16:31.687Z"
   },
   {
    "duration": 166,
    "start_time": "2022-08-16T12:16:31.836Z"
   },
   {
    "duration": 160,
    "start_time": "2022-08-16T12:16:32.003Z"
   },
   {
    "duration": 162,
    "start_time": "2022-08-16T12:16:32.165Z"
   },
   {
    "duration": 163,
    "start_time": "2022-08-16T12:16:32.329Z"
   },
   {
    "duration": 65,
    "start_time": "2022-08-16T12:16:32.493Z"
   },
   {
    "duration": 105,
    "start_time": "2022-08-16T12:16:53.769Z"
   },
   {
    "duration": 52,
    "start_time": "2022-08-16T12:17:28.726Z"
   },
   {
    "duration": 48,
    "start_time": "2022-08-16T12:17:49.579Z"
   },
   {
    "duration": 50,
    "start_time": "2022-08-16T12:18:08.060Z"
   },
   {
    "duration": 1232,
    "start_time": "2022-08-16T12:18:39.124Z"
   },
   {
    "duration": 276,
    "start_time": "2022-08-16T12:18:40.358Z"
   },
   {
    "duration": 6,
    "start_time": "2022-08-16T12:18:40.636Z"
   },
   {
    "duration": 101,
    "start_time": "2022-08-16T12:18:40.643Z"
   },
   {
    "duration": 365,
    "start_time": "2022-08-16T12:18:40.747Z"
   },
   {
    "duration": 4,
    "start_time": "2022-08-16T12:18:41.114Z"
   },
   {
    "duration": 29,
    "start_time": "2022-08-16T12:18:41.120Z"
   },
   {
    "duration": 7,
    "start_time": "2022-08-16T12:18:41.150Z"
   },
   {
    "duration": 154,
    "start_time": "2022-08-16T12:18:41.158Z"
   },
   {
    "duration": 138,
    "start_time": "2022-08-16T12:18:41.313Z"
   },
   {
    "duration": 157,
    "start_time": "2022-08-16T12:18:41.453Z"
   },
   {
    "duration": 136,
    "start_time": "2022-08-16T12:18:41.611Z"
   },
   {
    "duration": 160,
    "start_time": "2022-08-16T12:18:41.749Z"
   },
   {
    "duration": 159,
    "start_time": "2022-08-16T12:18:41.911Z"
   },
   {
    "duration": 55,
    "start_time": "2022-08-16T12:18:42.072Z"
   },
   {
    "duration": 48,
    "start_time": "2022-08-16T12:18:51.943Z"
   },
   {
    "duration": 4,
    "start_time": "2022-08-16T12:19:28.936Z"
   },
   {
    "duration": 58,
    "start_time": "2022-08-16T12:19:35.865Z"
   },
   {
    "duration": 4,
    "start_time": "2022-08-16T12:20:13.370Z"
   },
   {
    "duration": 58,
    "start_time": "2022-08-16T12:20:20.640Z"
   },
   {
    "duration": 51,
    "start_time": "2022-08-16T12:20:53.940Z"
   },
   {
    "duration": 48,
    "start_time": "2022-08-16T12:21:29.451Z"
   },
   {
    "duration": 295,
    "start_time": "2022-08-16T12:21:43.869Z"
   },
   {
    "duration": 240,
    "start_time": "2022-08-16T12:22:17.485Z"
   },
   {
    "duration": 143,
    "start_time": "2022-08-16T12:35:15.516Z"
   },
   {
    "duration": 133,
    "start_time": "2022-08-16T12:48:48.848Z"
   },
   {
    "duration": 206,
    "start_time": "2022-08-16T12:49:36.831Z"
   },
   {
    "duration": 136,
    "start_time": "2022-08-16T12:49:45.330Z"
   },
   {
    "duration": 143,
    "start_time": "2022-08-16T12:49:53.856Z"
   },
   {
    "duration": 156,
    "start_time": "2022-08-16T12:50:20.972Z"
   },
   {
    "duration": 142,
    "start_time": "2022-08-16T12:52:36.888Z"
   },
   {
    "duration": 128,
    "start_time": "2022-08-16T12:52:37.970Z"
   },
   {
    "duration": 125,
    "start_time": "2022-08-16T12:53:00.407Z"
   },
   {
    "duration": 207,
    "start_time": "2022-08-16T12:53:56.789Z"
   },
   {
    "duration": 894,
    "start_time": "2022-08-16T12:54:23.406Z"
   },
   {
    "duration": 134,
    "start_time": "2022-08-16T12:54:30.339Z"
   },
   {
    "duration": 76,
    "start_time": "2022-08-16T12:55:13.274Z"
   },
   {
    "duration": 1639,
    "start_time": "2022-08-16T16:29:32.983Z"
   },
   {
    "duration": 889,
    "start_time": "2022-08-16T16:29:34.624Z"
   },
   {
    "duration": 7,
    "start_time": "2022-08-16T16:29:35.515Z"
   },
   {
    "duration": 404,
    "start_time": "2022-08-16T16:29:35.524Z"
   },
   {
    "duration": 1827,
    "start_time": "2022-08-16T16:29:35.930Z"
   },
   {
    "duration": 4,
    "start_time": "2022-08-16T16:29:37.758Z"
   },
   {
    "duration": 16,
    "start_time": "2022-08-16T16:29:37.763Z"
   },
   {
    "duration": 7,
    "start_time": "2022-08-16T16:29:37.781Z"
   },
   {
    "duration": 177,
    "start_time": "2022-08-16T16:29:37.790Z"
   },
   {
    "duration": 159,
    "start_time": "2022-08-16T16:29:37.970Z"
   },
   {
    "duration": 179,
    "start_time": "2022-08-16T16:29:38.131Z"
   },
   {
    "duration": 179,
    "start_time": "2022-08-16T16:29:38.313Z"
   },
   {
    "duration": 179,
    "start_time": "2022-08-16T16:29:38.494Z"
   },
   {
    "duration": 271,
    "start_time": "2022-08-16T16:29:38.675Z"
   },
   {
    "duration": 304,
    "start_time": "2022-08-16T16:29:38.948Z"
   },
   {
    "duration": 169,
    "start_time": "2022-08-16T16:29:39.254Z"
   },
   {
    "duration": 174,
    "start_time": "2022-08-16T16:29:39.425Z"
   },
   {
    "duration": 154,
    "start_time": "2022-08-16T16:29:39.601Z"
   },
   {
    "duration": 3,
    "start_time": "2022-08-16T16:48:53.515Z"
   },
   {
    "duration": 48,
    "start_time": "2022-08-16T17:03:14.737Z"
   },
   {
    "duration": 114,
    "start_time": "2022-08-16T17:05:16.853Z"
   },
   {
    "duration": 12,
    "start_time": "2022-08-16T17:07:01.383Z"
   },
   {
    "duration": 13,
    "start_time": "2022-08-16T17:09:46.035Z"
   },
   {
    "duration": 13,
    "start_time": "2022-08-16T17:10:05.300Z"
   },
   {
    "duration": 11,
    "start_time": "2022-08-16T17:10:26.198Z"
   },
   {
    "duration": 8,
    "start_time": "2022-08-16T17:13:37.945Z"
   },
   {
    "duration": 12,
    "start_time": "2022-08-16T17:14:22.761Z"
   },
   {
    "duration": 11,
    "start_time": "2022-08-16T17:14:51.036Z"
   },
   {
    "duration": 13,
    "start_time": "2022-08-16T17:14:56.418Z"
   },
   {
    "duration": 17345,
    "start_time": "2022-08-16T17:14:57.196Z"
   },
   {
    "duration": 9,
    "start_time": "2022-08-16T17:15:54.900Z"
   },
   {
    "duration": 0,
    "start_time": "2022-08-16T17:16:25.808Z"
   },
   {
    "duration": 0,
    "start_time": "2022-08-16T17:16:25.811Z"
   },
   {
    "duration": 10,
    "start_time": "2022-08-16T17:16:26.193Z"
   },
   {
    "duration": 22133,
    "start_time": "2022-08-16T17:16:28.287Z"
   },
   {
    "duration": 11,
    "start_time": "2022-08-16T17:17:39.841Z"
   },
   {
    "duration": 187,
    "start_time": "2022-08-16T17:17:53.831Z"
   },
   {
    "duration": 6,
    "start_time": "2022-08-16T17:23:07.938Z"
   },
   {
    "duration": 52,
    "start_time": "2022-08-16T17:23:10.333Z"
   },
   {
    "duration": 53,
    "start_time": "2022-08-16T17:23:52.081Z"
   },
   {
    "duration": 12,
    "start_time": "2022-08-16T17:27:09.166Z"
   },
   {
    "duration": 10,
    "start_time": "2022-08-16T17:30:54.389Z"
   },
   {
    "duration": 6224,
    "start_time": "2022-08-16T17:31:00.558Z"
   },
   {
    "duration": 88,
    "start_time": "2022-08-16T17:31:07.278Z"
   },
   {
    "duration": 30,
    "start_time": "2022-08-16T17:31:13.408Z"
   },
   {
    "duration": 205,
    "start_time": "2022-08-16T17:31:14.373Z"
   },
   {
    "duration": 72,
    "start_time": "2022-08-16T17:31:36.297Z"
   },
   {
    "duration": 213,
    "start_time": "2022-08-16T17:31:42.427Z"
   },
   {
    "duration": 1470,
    "start_time": "2022-08-16T17:31:52.818Z"
   },
   {
    "duration": 298,
    "start_time": "2022-08-16T17:31:54.291Z"
   },
   {
    "duration": 15,
    "start_time": "2022-08-16T17:31:54.592Z"
   },
   {
    "duration": 118,
    "start_time": "2022-08-16T17:31:54.610Z"
   },
   {
    "duration": 407,
    "start_time": "2022-08-16T17:31:54.730Z"
   },
   {
    "duration": 3,
    "start_time": "2022-08-16T17:31:55.139Z"
   },
   {
    "duration": 13,
    "start_time": "2022-08-16T17:31:55.144Z"
   },
   {
    "duration": 7,
    "start_time": "2022-08-16T17:31:55.158Z"
   },
   {
    "duration": 7345,
    "start_time": "2022-08-16T17:31:55.166Z"
   },
   {
    "duration": 202,
    "start_time": "2022-08-16T17:32:02.515Z"
   },
   {
    "duration": 168,
    "start_time": "2022-08-16T17:32:02.719Z"
   },
   {
    "duration": 192,
    "start_time": "2022-08-16T17:32:02.889Z"
   },
   {
    "duration": 144,
    "start_time": "2022-08-16T17:32:03.083Z"
   },
   {
    "duration": 0,
    "start_time": "2022-08-16T17:32:03.229Z"
   },
   {
    "duration": 0,
    "start_time": "2022-08-16T17:32:03.230Z"
   },
   {
    "duration": 0,
    "start_time": "2022-08-16T17:32:03.231Z"
   },
   {
    "duration": 0,
    "start_time": "2022-08-16T17:32:03.233Z"
   },
   {
    "duration": 0,
    "start_time": "2022-08-16T17:32:03.234Z"
   },
   {
    "duration": 0,
    "start_time": "2022-08-16T17:32:03.236Z"
   },
   {
    "duration": 0,
    "start_time": "2022-08-16T17:32:03.237Z"
   },
   {
    "duration": 0,
    "start_time": "2022-08-16T17:32:03.238Z"
   },
   {
    "duration": 1,
    "start_time": "2022-08-16T17:32:03.238Z"
   },
   {
    "duration": 1526,
    "start_time": "2022-08-16T17:32:26.592Z"
   },
   {
    "duration": 295,
    "start_time": "2022-08-16T17:32:28.120Z"
   },
   {
    "duration": 9,
    "start_time": "2022-08-16T17:32:28.417Z"
   },
   {
    "duration": 121,
    "start_time": "2022-08-16T17:32:28.427Z"
   },
   {
    "duration": 398,
    "start_time": "2022-08-16T17:32:28.550Z"
   },
   {
    "duration": 4,
    "start_time": "2022-08-16T17:32:28.950Z"
   },
   {
    "duration": 20,
    "start_time": "2022-08-16T17:32:28.956Z"
   },
   {
    "duration": 25,
    "start_time": "2022-08-16T17:32:28.979Z"
   },
   {
    "duration": 155,
    "start_time": "2022-08-16T17:32:29.006Z"
   },
   {
    "duration": 0,
    "start_time": "2022-08-16T17:32:29.163Z"
   },
   {
    "duration": 0,
    "start_time": "2022-08-16T17:32:29.165Z"
   },
   {
    "duration": 0,
    "start_time": "2022-08-16T17:32:29.168Z"
   },
   {
    "duration": 0,
    "start_time": "2022-08-16T17:32:29.169Z"
   },
   {
    "duration": 0,
    "start_time": "2022-08-16T17:32:29.170Z"
   },
   {
    "duration": 0,
    "start_time": "2022-08-16T17:32:29.172Z"
   },
   {
    "duration": 0,
    "start_time": "2022-08-16T17:32:29.173Z"
   },
   {
    "duration": 0,
    "start_time": "2022-08-16T17:32:29.175Z"
   },
   {
    "duration": 0,
    "start_time": "2022-08-16T17:32:29.202Z"
   },
   {
    "duration": 0,
    "start_time": "2022-08-16T17:32:29.204Z"
   },
   {
    "duration": 0,
    "start_time": "2022-08-16T17:32:29.206Z"
   },
   {
    "duration": 0,
    "start_time": "2022-08-16T17:32:29.207Z"
   },
   {
    "duration": 0,
    "start_time": "2022-08-16T17:32:29.209Z"
   },
   {
    "duration": 1430,
    "start_time": "2022-08-16T17:32:48.245Z"
   },
   {
    "duration": 306,
    "start_time": "2022-08-16T17:32:49.677Z"
   },
   {
    "duration": 17,
    "start_time": "2022-08-16T17:32:49.985Z"
   },
   {
    "duration": 102,
    "start_time": "2022-08-16T17:32:50.005Z"
   },
   {
    "duration": 429,
    "start_time": "2022-08-16T17:32:50.109Z"
   },
   {
    "duration": 3,
    "start_time": "2022-08-16T17:32:50.540Z"
   },
   {
    "duration": 20,
    "start_time": "2022-08-16T17:32:50.545Z"
   },
   {
    "duration": 8,
    "start_time": "2022-08-16T17:32:50.567Z"
   },
   {
    "duration": 31,
    "start_time": "2022-08-16T17:32:50.577Z"
   },
   {
    "duration": 179,
    "start_time": "2022-08-16T17:32:50.610Z"
   },
   {
    "duration": 168,
    "start_time": "2022-08-16T17:32:50.791Z"
   },
   {
    "duration": 180,
    "start_time": "2022-08-16T17:32:50.961Z"
   },
   {
    "duration": 182,
    "start_time": "2022-08-16T17:32:51.143Z"
   },
   {
    "duration": 269,
    "start_time": "2022-08-16T17:32:51.327Z"
   },
   {
    "duration": 178,
    "start_time": "2022-08-16T17:32:51.598Z"
   },
   {
    "duration": 252,
    "start_time": "2022-08-16T17:32:51.779Z"
   },
   {
    "duration": 162,
    "start_time": "2022-08-16T17:32:52.033Z"
   },
   {
    "duration": 158,
    "start_time": "2022-08-16T17:32:52.197Z"
   },
   {
    "duration": 163,
    "start_time": "2022-08-16T17:32:52.357Z"
   },
   {
    "duration": 3,
    "start_time": "2022-08-16T17:32:52.522Z"
   },
   {
    "duration": 10,
    "start_time": "2022-08-16T17:32:52.527Z"
   },
   {
    "duration": 69,
    "start_time": "2022-08-16T17:32:52.539Z"
   },
   {
    "duration": 44,
    "start_time": "2022-08-16T19:05:20.929Z"
   },
   {
    "duration": 2959,
    "start_time": "2022-08-16T19:05:32.134Z"
   },
   {
    "duration": 810,
    "start_time": "2022-08-16T19:05:35.095Z"
   },
   {
    "duration": 6,
    "start_time": "2022-08-16T19:05:35.906Z"
   },
   {
    "duration": 438,
    "start_time": "2022-08-16T19:05:35.914Z"
   },
   {
    "duration": 1779,
    "start_time": "2022-08-16T19:05:36.354Z"
   },
   {
    "duration": 3,
    "start_time": "2022-08-16T19:05:38.134Z"
   },
   {
    "duration": 21,
    "start_time": "2022-08-16T19:05:38.139Z"
   },
   {
    "duration": 5,
    "start_time": "2022-08-16T19:05:38.162Z"
   },
   {
    "duration": 9,
    "start_time": "2022-08-16T19:05:38.169Z"
   },
   {
    "duration": 151,
    "start_time": "2022-08-16T19:05:38.179Z"
   },
   {
    "duration": 145,
    "start_time": "2022-08-16T19:05:38.338Z"
   },
   {
    "duration": 147,
    "start_time": "2022-08-16T19:05:38.484Z"
   },
   {
    "duration": 192,
    "start_time": "2022-08-16T19:05:38.638Z"
   },
   {
    "duration": 210,
    "start_time": "2022-08-16T19:05:38.832Z"
   },
   {
    "duration": 185,
    "start_time": "2022-08-16T19:05:39.044Z"
   },
   {
    "duration": 199,
    "start_time": "2022-08-16T19:05:39.231Z"
   },
   {
    "duration": 148,
    "start_time": "2022-08-16T19:05:39.432Z"
   },
   {
    "duration": 143,
    "start_time": "2022-08-16T19:05:39.581Z"
   },
   {
    "duration": 139,
    "start_time": "2022-08-16T19:05:39.726Z"
   },
   {
    "duration": 3,
    "start_time": "2022-08-16T19:05:39.866Z"
   },
   {
    "duration": 87,
    "start_time": "2022-08-16T19:05:39.870Z"
   },
   {
    "duration": 9,
    "start_time": "2022-08-16T19:06:01.977Z"
   },
   {
    "duration": 7,
    "start_time": "2022-08-16T19:07:11.972Z"
   },
   {
    "duration": 44,
    "start_time": "2022-08-16T19:07:15.138Z"
   },
   {
    "duration": 16,
    "start_time": "2022-08-16T19:10:16.770Z"
   },
   {
    "duration": 45,
    "start_time": "2022-08-17T15:27:32.362Z"
   },
   {
    "duration": 1583,
    "start_time": "2022-08-17T15:27:41.172Z"
   },
   {
    "duration": 767,
    "start_time": "2022-08-17T15:27:42.757Z"
   },
   {
    "duration": 6,
    "start_time": "2022-08-17T15:27:43.526Z"
   },
   {
    "duration": 406,
    "start_time": "2022-08-17T15:27:43.534Z"
   },
   {
    "duration": 1836,
    "start_time": "2022-08-17T15:27:43.942Z"
   },
   {
    "duration": 4,
    "start_time": "2022-08-17T15:27:45.780Z"
   },
   {
    "duration": 14,
    "start_time": "2022-08-17T15:27:45.786Z"
   },
   {
    "duration": 8,
    "start_time": "2022-08-17T15:27:45.802Z"
   },
   {
    "duration": 11,
    "start_time": "2022-08-17T15:27:45.812Z"
   },
   {
    "duration": 176,
    "start_time": "2022-08-17T15:27:45.826Z"
   },
   {
    "duration": 155,
    "start_time": "2022-08-17T15:27:46.004Z"
   },
   {
    "duration": 157,
    "start_time": "2022-08-17T15:27:46.161Z"
   },
   {
    "duration": 207,
    "start_time": "2022-08-17T15:27:46.320Z"
   },
   {
    "duration": 143,
    "start_time": "2022-08-17T15:27:46.529Z"
   },
   {
    "duration": 150,
    "start_time": "2022-08-17T15:27:46.674Z"
   },
   {
    "duration": 206,
    "start_time": "2022-08-17T15:27:46.825Z"
   },
   {
    "duration": 144,
    "start_time": "2022-08-17T15:27:47.033Z"
   },
   {
    "duration": 187,
    "start_time": "2022-08-17T15:27:47.178Z"
   },
   {
    "duration": 162,
    "start_time": "2022-08-17T15:27:47.370Z"
   },
   {
    "duration": 3,
    "start_time": "2022-08-17T15:27:47.534Z"
   },
   {
    "duration": 11,
    "start_time": "2022-08-17T15:27:47.539Z"
   },
   {
    "duration": 58,
    "start_time": "2022-08-17T15:27:47.551Z"
   },
   {
    "duration": 10,
    "start_time": "2022-08-17T15:30:42.428Z"
   },
   {
    "duration": 23,
    "start_time": "2022-08-17T15:31:01.297Z"
   },
   {
    "duration": 12,
    "start_time": "2022-08-17T15:31:09.570Z"
   },
   {
    "duration": 151,
    "start_time": "2022-08-17T15:31:18.100Z"
   },
   {
    "duration": 110,
    "start_time": "2022-08-17T15:32:49.169Z"
   },
   {
    "duration": 110,
    "start_time": "2022-08-17T15:34:14.074Z"
   },
   {
    "duration": 111,
    "start_time": "2022-08-17T15:34:20.812Z"
   },
   {
    "duration": 292,
    "start_time": "2022-08-17T15:36:37.220Z"
   },
   {
    "duration": 217,
    "start_time": "2022-08-17T15:36:52.761Z"
   },
   {
    "duration": 121,
    "start_time": "2022-08-17T15:37:18.820Z"
   },
   {
    "duration": 117,
    "start_time": "2022-08-17T15:37:42.614Z"
   },
   {
    "duration": 146,
    "start_time": "2022-08-17T15:38:19.902Z"
   },
   {
    "duration": 173,
    "start_time": "2022-08-17T15:39:03.295Z"
   },
   {
    "duration": 154,
    "start_time": "2022-08-17T15:39:12.111Z"
   },
   {
    "duration": 164,
    "start_time": "2022-08-17T15:39:45.604Z"
   },
   {
    "duration": 154,
    "start_time": "2022-08-17T15:40:16.513Z"
   },
   {
    "duration": 138,
    "start_time": "2022-08-17T15:43:32.909Z"
   },
   {
    "duration": 125,
    "start_time": "2022-08-17T15:44:29.915Z"
   },
   {
    "duration": 132,
    "start_time": "2022-08-17T15:44:55.293Z"
   },
   {
    "duration": 137,
    "start_time": "2022-08-17T15:49:23.005Z"
   },
   {
    "duration": 478,
    "start_time": "2022-08-17T15:49:42.901Z"
   },
   {
    "duration": 880,
    "start_time": "2022-08-17T15:50:45.295Z"
   },
   {
    "duration": 791,
    "start_time": "2022-08-17T15:51:11.280Z"
   },
   {
    "duration": 1398,
    "start_time": "2022-08-17T15:51:27.376Z"
   },
   {
    "duration": 294,
    "start_time": "2022-08-17T15:51:28.775Z"
   },
   {
    "duration": 4,
    "start_time": "2022-08-17T15:51:29.071Z"
   },
   {
    "duration": 104,
    "start_time": "2022-08-17T15:51:29.077Z"
   },
   {
    "duration": 366,
    "start_time": "2022-08-17T15:51:29.182Z"
   },
   {
    "duration": 3,
    "start_time": "2022-08-17T15:51:29.550Z"
   },
   {
    "duration": 12,
    "start_time": "2022-08-17T15:51:29.554Z"
   },
   {
    "duration": 12,
    "start_time": "2022-08-17T15:51:29.567Z"
   },
   {
    "duration": 34,
    "start_time": "2022-08-17T15:51:29.580Z"
   },
   {
    "duration": 150,
    "start_time": "2022-08-17T15:51:29.617Z"
   },
   {
    "duration": 143,
    "start_time": "2022-08-17T15:51:29.769Z"
   },
   {
    "duration": 164,
    "start_time": "2022-08-17T15:51:29.914Z"
   },
   {
    "duration": 142,
    "start_time": "2022-08-17T15:51:30.080Z"
   },
   {
    "duration": 230,
    "start_time": "2022-08-17T15:51:30.224Z"
   },
   {
    "duration": 166,
    "start_time": "2022-08-17T15:51:30.456Z"
   },
   {
    "duration": 168,
    "start_time": "2022-08-17T15:51:30.623Z"
   },
   {
    "duration": 160,
    "start_time": "2022-08-17T15:51:30.793Z"
   },
   {
    "duration": 173,
    "start_time": "2022-08-17T15:51:30.955Z"
   },
   {
    "duration": 203,
    "start_time": "2022-08-17T15:51:31.129Z"
   },
   {
    "duration": 151,
    "start_time": "2022-08-17T15:51:31.335Z"
   },
   {
    "duration": 132,
    "start_time": "2022-08-17T15:51:31.487Z"
   },
   {
    "duration": 647,
    "start_time": "2022-08-17T15:51:31.621Z"
   },
   {
    "duration": 3,
    "start_time": "2022-08-17T15:51:32.270Z"
   },
   {
    "duration": 17,
    "start_time": "2022-08-17T15:51:32.274Z"
   },
   {
    "duration": 65,
    "start_time": "2022-08-17T15:51:32.293Z"
   },
   {
    "duration": 1308,
    "start_time": "2022-08-17T15:52:12.217Z"
   },
   {
    "duration": 305,
    "start_time": "2022-08-17T15:52:13.526Z"
   },
   {
    "duration": 4,
    "start_time": "2022-08-17T15:52:13.833Z"
   },
   {
    "duration": 97,
    "start_time": "2022-08-17T15:52:13.839Z"
   },
   {
    "duration": 356,
    "start_time": "2022-08-17T15:52:13.938Z"
   },
   {
    "duration": 3,
    "start_time": "2022-08-17T15:52:14.295Z"
   },
   {
    "duration": 15,
    "start_time": "2022-08-17T15:52:14.300Z"
   },
   {
    "duration": 5,
    "start_time": "2022-08-17T15:52:14.317Z"
   },
   {
    "duration": 13,
    "start_time": "2022-08-17T15:52:14.324Z"
   },
   {
    "duration": 169,
    "start_time": "2022-08-17T15:52:14.339Z"
   },
   {
    "duration": 137,
    "start_time": "2022-08-17T15:52:14.510Z"
   },
   {
    "duration": 160,
    "start_time": "2022-08-17T15:52:14.649Z"
   },
   {
    "duration": 134,
    "start_time": "2022-08-17T15:52:14.811Z"
   },
   {
    "duration": 231,
    "start_time": "2022-08-17T15:52:14.947Z"
   },
   {
    "duration": 142,
    "start_time": "2022-08-17T15:52:15.179Z"
   },
   {
    "duration": 151,
    "start_time": "2022-08-17T15:52:15.322Z"
   },
   {
    "duration": 163,
    "start_time": "2022-08-17T15:52:15.475Z"
   },
   {
    "duration": 187,
    "start_time": "2022-08-17T15:52:15.640Z"
   },
   {
    "duration": 244,
    "start_time": "2022-08-17T15:52:15.829Z"
   },
   {
    "duration": 152,
    "start_time": "2022-08-17T15:52:16.075Z"
   },
   {
    "duration": 134,
    "start_time": "2022-08-17T15:52:16.229Z"
   },
   {
    "duration": 614,
    "start_time": "2022-08-17T15:52:16.365Z"
   },
   {
    "duration": 3,
    "start_time": "2022-08-17T15:52:16.981Z"
   },
   {
    "duration": 12,
    "start_time": "2022-08-17T15:52:16.985Z"
   },
   {
    "duration": 56,
    "start_time": "2022-08-17T15:52:16.999Z"
   },
   {
    "duration": 1339,
    "start_time": "2022-08-17T15:52:33.434Z"
   },
   {
    "duration": 290,
    "start_time": "2022-08-17T15:52:34.775Z"
   },
   {
    "duration": 4,
    "start_time": "2022-08-17T15:52:35.067Z"
   },
   {
    "duration": 116,
    "start_time": "2022-08-17T15:52:35.072Z"
   },
   {
    "duration": 348,
    "start_time": "2022-08-17T15:52:35.190Z"
   },
   {
    "duration": 3,
    "start_time": "2022-08-17T15:52:35.539Z"
   },
   {
    "duration": 17,
    "start_time": "2022-08-17T15:52:35.543Z"
   },
   {
    "duration": 23,
    "start_time": "2022-08-17T15:52:35.562Z"
   },
   {
    "duration": 26,
    "start_time": "2022-08-17T15:52:35.586Z"
   },
   {
    "duration": 154,
    "start_time": "2022-08-17T15:52:35.613Z"
   },
   {
    "duration": 130,
    "start_time": "2022-08-17T15:52:35.769Z"
   },
   {
    "duration": 182,
    "start_time": "2022-08-17T15:52:35.901Z"
   },
   {
    "duration": 147,
    "start_time": "2022-08-17T15:52:36.085Z"
   },
   {
    "duration": 217,
    "start_time": "2022-08-17T15:52:36.234Z"
   },
   {
    "duration": 143,
    "start_time": "2022-08-17T15:52:36.453Z"
   },
   {
    "duration": 156,
    "start_time": "2022-08-17T15:52:36.598Z"
   },
   {
    "duration": 155,
    "start_time": "2022-08-17T15:52:36.755Z"
   },
   {
    "duration": 171,
    "start_time": "2022-08-17T15:52:36.912Z"
   },
   {
    "duration": 250,
    "start_time": "2022-08-17T15:52:37.084Z"
   },
   {
    "duration": 161,
    "start_time": "2022-08-17T15:52:37.336Z"
   },
   {
    "duration": 134,
    "start_time": "2022-08-17T15:52:37.499Z"
   },
   {
    "duration": 640,
    "start_time": "2022-08-17T15:52:37.634Z"
   },
   {
    "duration": 3,
    "start_time": "2022-08-17T15:52:38.276Z"
   },
   {
    "duration": 24,
    "start_time": "2022-08-17T15:52:38.280Z"
   },
   {
    "duration": 57,
    "start_time": "2022-08-17T15:52:38.306Z"
   },
   {
    "duration": 1128,
    "start_time": "2022-08-17T15:55:12.274Z"
   },
   {
    "duration": 1362,
    "start_time": "2022-08-17T15:57:11.568Z"
   },
   {
    "duration": 298,
    "start_time": "2022-08-17T15:57:12.932Z"
   },
   {
    "duration": 4,
    "start_time": "2022-08-17T15:57:13.232Z"
   },
   {
    "duration": 95,
    "start_time": "2022-08-17T15:57:13.238Z"
   },
   {
    "duration": 348,
    "start_time": "2022-08-17T15:57:13.335Z"
   },
   {
    "duration": 3,
    "start_time": "2022-08-17T15:57:13.685Z"
   },
   {
    "duration": 23,
    "start_time": "2022-08-17T15:57:13.690Z"
   },
   {
    "duration": 6,
    "start_time": "2022-08-17T15:57:13.714Z"
   },
   {
    "duration": 15,
    "start_time": "2022-08-17T15:57:13.721Z"
   },
   {
    "duration": 154,
    "start_time": "2022-08-17T15:57:13.739Z"
   },
   {
    "duration": 143,
    "start_time": "2022-08-17T15:57:13.895Z"
   },
   {
    "duration": 150,
    "start_time": "2022-08-17T15:57:14.039Z"
   },
   {
    "duration": 139,
    "start_time": "2022-08-17T15:57:14.191Z"
   },
   {
    "duration": 218,
    "start_time": "2022-08-17T15:57:14.332Z"
   },
   {
    "duration": 144,
    "start_time": "2022-08-17T15:57:14.552Z"
   },
   {
    "duration": 157,
    "start_time": "2022-08-17T15:57:14.698Z"
   },
   {
    "duration": 156,
    "start_time": "2022-08-17T15:57:14.856Z"
   },
   {
    "duration": 169,
    "start_time": "2022-08-17T15:57:15.014Z"
   },
   {
    "duration": 202,
    "start_time": "2022-08-17T15:57:15.185Z"
   },
   {
    "duration": 120,
    "start_time": "2022-08-17T15:57:15.389Z"
   },
   {
    "duration": 0,
    "start_time": "2022-08-17T15:57:15.510Z"
   },
   {
    "duration": 0,
    "start_time": "2022-08-17T15:57:15.511Z"
   },
   {
    "duration": 0,
    "start_time": "2022-08-17T15:57:15.512Z"
   },
   {
    "duration": 0,
    "start_time": "2022-08-17T15:57:15.514Z"
   },
   {
    "duration": 1,
    "start_time": "2022-08-17T15:57:15.517Z"
   },
   {
    "duration": 464,
    "start_time": "2022-08-17T15:58:24.399Z"
   },
   {
    "duration": 1948,
    "start_time": "2022-08-17T15:58:28.426Z"
   },
   {
    "duration": 902,
    "start_time": "2022-08-17T15:59:41.050Z"
   },
   {
    "duration": 1374,
    "start_time": "2022-08-17T16:00:07.328Z"
   },
   {
    "duration": 292,
    "start_time": "2022-08-17T16:00:08.704Z"
   },
   {
    "duration": 11,
    "start_time": "2022-08-17T16:00:08.998Z"
   },
   {
    "duration": 96,
    "start_time": "2022-08-17T16:00:09.010Z"
   },
   {
    "duration": 342,
    "start_time": "2022-08-17T16:00:09.108Z"
   },
   {
    "duration": 3,
    "start_time": "2022-08-17T16:00:09.451Z"
   },
   {
    "duration": 14,
    "start_time": "2022-08-17T16:00:09.456Z"
   },
   {
    "duration": 7,
    "start_time": "2022-08-17T16:00:09.472Z"
   },
   {
    "duration": 33,
    "start_time": "2022-08-17T16:00:09.480Z"
   },
   {
    "duration": 153,
    "start_time": "2022-08-17T16:00:09.515Z"
   },
   {
    "duration": 147,
    "start_time": "2022-08-17T16:00:09.670Z"
   },
   {
    "duration": 162,
    "start_time": "2022-08-17T16:00:09.819Z"
   },
   {
    "duration": 156,
    "start_time": "2022-08-17T16:00:09.983Z"
   },
   {
    "duration": 246,
    "start_time": "2022-08-17T16:00:10.143Z"
   },
   {
    "duration": 153,
    "start_time": "2022-08-17T16:00:10.391Z"
   },
   {
    "duration": 163,
    "start_time": "2022-08-17T16:00:10.546Z"
   },
   {
    "duration": 158,
    "start_time": "2022-08-17T16:00:10.710Z"
   },
   {
    "duration": 174,
    "start_time": "2022-08-17T16:00:10.870Z"
   },
   {
    "duration": 203,
    "start_time": "2022-08-17T16:00:11.046Z"
   },
   {
    "duration": 478,
    "start_time": "2022-08-17T16:00:11.251Z"
   },
   {
    "duration": 2010,
    "start_time": "2022-08-17T16:00:11.730Z"
   },
   {
    "duration": 0,
    "start_time": "2022-08-17T16:00:13.742Z"
   },
   {
    "duration": 0,
    "start_time": "2022-08-17T16:00:13.743Z"
   },
   {
    "duration": 0,
    "start_time": "2022-08-17T16:00:13.745Z"
   },
   {
    "duration": 0,
    "start_time": "2022-08-17T16:00:13.746Z"
   },
   {
    "duration": 11,
    "start_time": "2022-08-17T16:01:36.035Z"
   },
   {
    "duration": 431,
    "start_time": "2022-08-17T16:01:51.165Z"
   },
   {
    "duration": 639,
    "start_time": "2022-08-17T16:02:05.447Z"
   },
   {
    "duration": 10,
    "start_time": "2022-08-17T16:04:46.328Z"
   },
   {
    "duration": 4,
    "start_time": "2022-08-17T16:07:17.716Z"
   },
   {
    "duration": 10,
    "start_time": "2022-08-17T16:07:24.825Z"
   },
   {
    "duration": 10,
    "start_time": "2022-08-17T16:07:36.786Z"
   },
   {
    "duration": 14,
    "start_time": "2022-08-17T16:08:18.286Z"
   },
   {
    "duration": 41,
    "start_time": "2022-08-17T16:09:42.874Z"
   },
   {
    "duration": 40,
    "start_time": "2022-08-17T16:12:03.340Z"
   },
   {
    "duration": 1539,
    "start_time": "2022-08-17T16:12:15.371Z"
   },
   {
    "duration": 4019,
    "start_time": "2022-08-17T16:13:18.693Z"
   },
   {
    "duration": 10,
    "start_time": "2022-08-17T16:13:49.356Z"
   },
   {
    "duration": 98,
    "start_time": "2022-08-17T16:13:52.925Z"
   },
   {
    "duration": 114,
    "start_time": "2022-08-17T16:14:27.158Z"
   },
   {
    "duration": 12,
    "start_time": "2022-08-17T16:17:04.606Z"
   },
   {
    "duration": 3,
    "start_time": "2022-08-17T16:18:50.912Z"
   },
   {
    "duration": 10,
    "start_time": "2022-08-17T16:18:58.149Z"
   },
   {
    "duration": 11,
    "start_time": "2022-08-17T16:21:07.153Z"
   },
   {
    "duration": 14,
    "start_time": "2022-08-17T16:21:14.251Z"
   },
   {
    "duration": 14,
    "start_time": "2022-08-17T16:21:49.115Z"
   },
   {
    "duration": 17,
    "start_time": "2022-08-17T16:22:01.712Z"
   },
   {
    "duration": 1305,
    "start_time": "2022-08-17T16:22:13.055Z"
   },
   {
    "duration": 291,
    "start_time": "2022-08-17T16:22:14.362Z"
   },
   {
    "duration": 6,
    "start_time": "2022-08-17T16:22:14.655Z"
   },
   {
    "duration": 114,
    "start_time": "2022-08-17T16:22:14.663Z"
   },
   {
    "duration": 362,
    "start_time": "2022-08-17T16:22:14.778Z"
   },
   {
    "duration": 3,
    "start_time": "2022-08-17T16:22:15.142Z"
   },
   {
    "duration": 23,
    "start_time": "2022-08-17T16:22:15.147Z"
   },
   {
    "duration": 7,
    "start_time": "2022-08-17T16:22:15.172Z"
   },
   {
    "duration": 12,
    "start_time": "2022-08-17T16:22:15.181Z"
   },
   {
    "duration": 163,
    "start_time": "2022-08-17T16:22:15.196Z"
   },
   {
    "duration": 143,
    "start_time": "2022-08-17T16:22:15.361Z"
   },
   {
    "duration": 154,
    "start_time": "2022-08-17T16:22:15.508Z"
   },
   {
    "duration": 166,
    "start_time": "2022-08-17T16:22:15.664Z"
   },
   {
    "duration": 173,
    "start_time": "2022-08-17T16:22:15.832Z"
   },
   {
    "duration": 235,
    "start_time": "2022-08-17T16:22:16.009Z"
   },
   {
    "duration": 163,
    "start_time": "2022-08-17T16:22:16.246Z"
   },
   {
    "duration": 161,
    "start_time": "2022-08-17T16:22:16.411Z"
   },
   {
    "duration": 175,
    "start_time": "2022-08-17T16:22:16.574Z"
   },
   {
    "duration": 203,
    "start_time": "2022-08-17T16:22:16.751Z"
   },
   {
    "duration": 586,
    "start_time": "2022-08-17T16:22:16.956Z"
   },
   {
    "duration": 1296,
    "start_time": "2022-08-17T16:22:17.546Z"
   },
   {
    "duration": 643,
    "start_time": "2022-08-17T16:22:18.844Z"
   },
   {
    "duration": 3,
    "start_time": "2022-08-17T16:22:19.488Z"
   },
   {
    "duration": 118,
    "start_time": "2022-08-17T16:22:19.493Z"
   },
   {
    "duration": 16,
    "start_time": "2022-08-17T16:22:31.470Z"
   },
   {
    "duration": 59,
    "start_time": "2022-08-17T16:27:20.740Z"
   },
   {
    "duration": 60,
    "start_time": "2022-08-18T14:46:36.089Z"
   },
   {
    "duration": 1381,
    "start_time": "2022-08-18T14:46:43.811Z"
   },
   {
    "duration": 1145,
    "start_time": "2022-08-18T14:46:45.193Z"
   },
   {
    "duration": 5,
    "start_time": "2022-08-18T14:46:46.340Z"
   },
   {
    "duration": 168,
    "start_time": "2022-08-18T14:46:46.347Z"
   },
   {
    "duration": 545,
    "start_time": "2022-08-18T14:46:46.516Z"
   },
   {
    "duration": 3,
    "start_time": "2022-08-18T14:46:47.062Z"
   },
   {
    "duration": 30,
    "start_time": "2022-08-18T14:46:47.066Z"
   },
   {
    "duration": 14,
    "start_time": "2022-08-18T14:46:47.097Z"
   },
   {
    "duration": 29,
    "start_time": "2022-08-18T14:46:47.112Z"
   },
   {
    "duration": 138,
    "start_time": "2022-08-18T14:46:47.143Z"
   },
   {
    "duration": 135,
    "start_time": "2022-08-18T14:46:47.282Z"
   },
   {
    "duration": 153,
    "start_time": "2022-08-18T14:46:47.418Z"
   },
   {
    "duration": 139,
    "start_time": "2022-08-18T14:46:47.572Z"
   },
   {
    "duration": 215,
    "start_time": "2022-08-18T14:46:47.713Z"
   },
   {
    "duration": 136,
    "start_time": "2022-08-18T14:46:47.929Z"
   },
   {
    "duration": 149,
    "start_time": "2022-08-18T14:46:48.066Z"
   },
   {
    "duration": 155,
    "start_time": "2022-08-18T14:46:48.217Z"
   },
   {
    "duration": 168,
    "start_time": "2022-08-18T14:46:48.374Z"
   },
   {
    "duration": 198,
    "start_time": "2022-08-18T14:46:48.544Z"
   },
   {
    "duration": 463,
    "start_time": "2022-08-18T14:46:48.744Z"
   },
   {
    "duration": 1264,
    "start_time": "2022-08-18T14:46:49.209Z"
   },
   {
    "duration": 595,
    "start_time": "2022-08-18T14:46:50.474Z"
   },
   {
    "duration": 3,
    "start_time": "2022-08-18T14:46:51.070Z"
   },
   {
    "duration": 112,
    "start_time": "2022-08-18T14:46:51.075Z"
   },
   {
    "duration": 16,
    "start_time": "2022-08-18T14:49:07.323Z"
   },
   {
    "duration": 13,
    "start_time": "2022-08-18T14:49:42.567Z"
   },
   {
    "duration": 12,
    "start_time": "2022-08-18T14:50:52.396Z"
   },
   {
    "duration": 8,
    "start_time": "2022-08-18T14:51:37.119Z"
   },
   {
    "duration": 28,
    "start_time": "2022-08-18T14:59:32.548Z"
   },
   {
    "duration": 263,
    "start_time": "2022-08-18T14:59:42.586Z"
   },
   {
    "duration": 99,
    "start_time": "2022-08-18T15:04:09.715Z"
   },
   {
    "duration": 3,
    "start_time": "2022-08-18T15:04:14.153Z"
   },
   {
    "duration": 3,
    "start_time": "2022-08-18T15:04:21.772Z"
   },
   {
    "duration": 7,
    "start_time": "2022-08-18T15:05:36.061Z"
   },
   {
    "duration": 3,
    "start_time": "2022-08-18T15:08:17.629Z"
   },
   {
    "duration": 3,
    "start_time": "2022-08-18T15:08:18.916Z"
   },
   {
    "duration": 8,
    "start_time": "2022-08-18T15:19:59.556Z"
   },
   {
    "duration": 7,
    "start_time": "2022-08-18T15:20:00.736Z"
   },
   {
    "duration": 89,
    "start_time": "2022-08-18T15:21:10.457Z"
   },
   {
    "duration": 268,
    "start_time": "2022-08-18T15:21:29.581Z"
   },
   {
    "duration": 13,
    "start_time": "2022-08-18T15:22:03.154Z"
   },
   {
    "duration": 3893,
    "start_time": "2022-08-18T15:22:15.724Z"
   },
   {
    "duration": 4,
    "start_time": "2022-08-18T15:33:19.941Z"
   },
   {
    "duration": 3,
    "start_time": "2022-08-18T15:33:31.271Z"
   },
   {
    "duration": 3754,
    "start_time": "2022-08-18T15:33:36.560Z"
   },
   {
    "duration": 6,
    "start_time": "2022-08-18T15:33:44.071Z"
   },
   {
    "duration": 3609,
    "start_time": "2022-08-18T15:33:47.803Z"
   },
   {
    "duration": 1611,
    "start_time": "2022-08-18T15:34:54.105Z"
   },
   {
    "duration": 900,
    "start_time": "2022-08-18T15:35:16.940Z"
   },
   {
    "duration": 3356,
    "start_time": "2022-08-18T15:35:29.450Z"
   },
   {
    "duration": 3321,
    "start_time": "2022-08-18T15:35:51.886Z"
   },
   {
    "duration": 127,
    "start_time": "2022-08-18T15:44:50.639Z"
   },
   {
    "duration": 3789,
    "start_time": "2022-08-18T15:45:07.219Z"
   },
   {
    "duration": 114,
    "start_time": "2022-08-18T15:45:27.848Z"
   },
   {
    "duration": 3874,
    "start_time": "2022-08-18T15:45:33.032Z"
   },
   {
    "duration": 13,
    "start_time": "2022-08-18T16:04:56.539Z"
   },
   {
    "duration": 3,
    "start_time": "2022-08-18T16:05:48.537Z"
   },
   {
    "duration": 9,
    "start_time": "2022-08-18T16:05:55.351Z"
   },
   {
    "duration": 9,
    "start_time": "2022-08-18T16:06:18.692Z"
   },
   {
    "duration": 27,
    "start_time": "2022-08-18T16:06:35.199Z"
   },
   {
    "duration": 2034,
    "start_time": "2022-08-18T16:07:13.241Z"
   },
   {
    "duration": 14,
    "start_time": "2022-08-18T16:07:28.501Z"
   },
   {
    "duration": 47,
    "start_time": "2022-08-18T16:07:36.290Z"
   },
   {
    "duration": 9,
    "start_time": "2022-08-18T16:07:55.239Z"
   },
   {
    "duration": 68,
    "start_time": "2022-08-18T16:08:17.730Z"
   },
   {
    "duration": 4,
    "start_time": "2022-08-18T16:10:13.096Z"
   },
   {
    "duration": 11,
    "start_time": "2022-08-18T16:10:27.035Z"
   },
   {
    "duration": 10,
    "start_time": "2022-08-18T16:11:05.728Z"
   },
   {
    "duration": 5505,
    "start_time": "2022-08-18T16:11:13.928Z"
   },
   {
    "duration": 3301,
    "start_time": "2022-08-18T16:12:23.022Z"
   },
   {
    "duration": 0,
    "start_time": "2022-08-18T16:15:20.911Z"
   },
   {
    "duration": 1456,
    "start_time": "2022-08-18T16:17:33.031Z"
   },
   {
    "duration": 368,
    "start_time": "2022-08-18T16:17:34.489Z"
   },
   {
    "duration": 5,
    "start_time": "2022-08-18T16:17:34.858Z"
   },
   {
    "duration": 99,
    "start_time": "2022-08-18T16:17:34.865Z"
   },
   {
    "duration": 356,
    "start_time": "2022-08-18T16:17:34.966Z"
   },
   {
    "duration": 5,
    "start_time": "2022-08-18T16:17:35.331Z"
   },
   {
    "duration": 11,
    "start_time": "2022-08-18T16:17:35.338Z"
   },
   {
    "duration": 6,
    "start_time": "2022-08-18T16:17:35.350Z"
   },
   {
    "duration": 15,
    "start_time": "2022-08-18T16:17:35.357Z"
   },
   {
    "duration": 174,
    "start_time": "2022-08-18T16:17:35.374Z"
   },
   {
    "duration": 141,
    "start_time": "2022-08-18T16:17:35.549Z"
   },
   {
    "duration": 162,
    "start_time": "2022-08-18T16:17:35.693Z"
   },
   {
    "duration": 146,
    "start_time": "2022-08-18T16:17:35.856Z"
   },
   {
    "duration": 271,
    "start_time": "2022-08-18T16:17:36.005Z"
   },
   {
    "duration": 190,
    "start_time": "2022-08-18T16:17:36.278Z"
   },
   {
    "duration": 187,
    "start_time": "2022-08-18T16:17:36.470Z"
   },
   {
    "duration": 172,
    "start_time": "2022-08-18T16:17:36.658Z"
   },
   {
    "duration": 160,
    "start_time": "2022-08-18T16:17:36.836Z"
   },
   {
    "duration": 293,
    "start_time": "2022-08-18T16:17:36.998Z"
   },
   {
    "duration": 506,
    "start_time": "2022-08-18T16:17:37.292Z"
   },
   {
    "duration": 1225,
    "start_time": "2022-08-18T16:17:37.799Z"
   },
   {
    "duration": 631,
    "start_time": "2022-08-18T16:17:39.026Z"
   },
   {
    "duration": 4,
    "start_time": "2022-08-18T16:17:39.658Z"
   },
   {
    "duration": 13,
    "start_time": "2022-08-18T16:17:39.663Z"
   },
   {
    "duration": 4449,
    "start_time": "2022-08-18T16:17:39.678Z"
   },
   {
    "duration": 1807,
    "start_time": "2022-08-18T16:20:31.933Z"
   },
   {
    "duration": 319,
    "start_time": "2022-08-18T16:20:33.742Z"
   },
   {
    "duration": 5,
    "start_time": "2022-08-18T16:20:34.064Z"
   },
   {
    "duration": 106,
    "start_time": "2022-08-18T16:20:34.071Z"
   },
   {
    "duration": 389,
    "start_time": "2022-08-18T16:20:34.179Z"
   },
   {
    "duration": 3,
    "start_time": "2022-08-18T16:20:34.570Z"
   },
   {
    "duration": 13,
    "start_time": "2022-08-18T16:20:34.575Z"
   },
   {
    "duration": 34,
    "start_time": "2022-08-18T16:20:34.589Z"
   },
   {
    "duration": 13,
    "start_time": "2022-08-18T16:20:34.631Z"
   },
   {
    "duration": 190,
    "start_time": "2022-08-18T16:20:34.645Z"
   },
   {
    "duration": 159,
    "start_time": "2022-08-18T16:20:34.837Z"
   },
   {
    "duration": 195,
    "start_time": "2022-08-18T16:20:34.998Z"
   },
   {
    "duration": 166,
    "start_time": "2022-08-18T16:20:35.195Z"
   },
   {
    "duration": 236,
    "start_time": "2022-08-18T16:20:35.364Z"
   },
   {
    "duration": 166,
    "start_time": "2022-08-18T16:20:35.601Z"
   },
   {
    "duration": 173,
    "start_time": "2022-08-18T16:20:35.768Z"
   },
   {
    "duration": 209,
    "start_time": "2022-08-18T16:20:35.943Z"
   },
   {
    "duration": 222,
    "start_time": "2022-08-18T16:20:36.156Z"
   },
   {
    "duration": 251,
    "start_time": "2022-08-18T16:20:36.380Z"
   },
   {
    "duration": 505,
    "start_time": "2022-08-18T16:20:36.633Z"
   },
   {
    "duration": 1209,
    "start_time": "2022-08-18T16:20:37.140Z"
   },
   {
    "duration": 627,
    "start_time": "2022-08-18T16:20:38.351Z"
   },
   {
    "duration": 3,
    "start_time": "2022-08-18T16:20:38.979Z"
   },
   {
    "duration": 10,
    "start_time": "2022-08-18T16:20:38.984Z"
   },
   {
    "duration": 6844,
    "start_time": "2022-08-18T16:20:38.995Z"
   },
   {
    "duration": 241,
    "start_time": "2022-08-18T16:20:45.910Z"
   },
   {
    "duration": 0,
    "start_time": "2022-08-18T16:20:46.154Z"
   },
   {
    "duration": 924,
    "start_time": "2022-08-18T16:21:23.093Z"
   },
   {
    "duration": 919,
    "start_time": "2022-08-18T16:21:52.208Z"
   },
   {
    "duration": 855,
    "start_time": "2022-08-18T16:22:11.776Z"
   },
   {
    "duration": 976,
    "start_time": "2022-08-18T16:22:50.335Z"
   },
   {
    "duration": 46,
    "start_time": "2022-08-19T06:31:05.373Z"
   },
   {
    "duration": 1567,
    "start_time": "2022-08-19T06:31:13.364Z"
   },
   {
    "duration": 954,
    "start_time": "2022-08-19T06:31:14.933Z"
   },
   {
    "duration": 5,
    "start_time": "2022-08-19T06:31:15.889Z"
   },
   {
    "duration": 475,
    "start_time": "2022-08-19T06:31:15.895Z"
   },
   {
    "duration": 1872,
    "start_time": "2022-08-19T06:31:16.372Z"
   },
   {
    "duration": 3,
    "start_time": "2022-08-19T06:31:18.246Z"
   },
   {
    "duration": 22,
    "start_time": "2022-08-19T06:31:18.251Z"
   },
   {
    "duration": 9,
    "start_time": "2022-08-19T06:31:18.275Z"
   },
   {
    "duration": 29,
    "start_time": "2022-08-19T06:31:18.285Z"
   },
   {
    "duration": 162,
    "start_time": "2022-08-19T06:31:18.318Z"
   },
   {
    "duration": 145,
    "start_time": "2022-08-19T06:31:18.487Z"
   },
   {
    "duration": 160,
    "start_time": "2022-08-19T06:31:18.633Z"
   },
   {
    "duration": 211,
    "start_time": "2022-08-19T06:31:18.794Z"
   },
   {
    "duration": 154,
    "start_time": "2022-08-19T06:31:19.006Z"
   },
   {
    "duration": 157,
    "start_time": "2022-08-19T06:31:19.162Z"
   },
   {
    "duration": 166,
    "start_time": "2022-08-19T06:31:19.321Z"
   },
   {
    "duration": 174,
    "start_time": "2022-08-19T06:31:19.489Z"
   },
   {
    "duration": 186,
    "start_time": "2022-08-19T06:31:19.665Z"
   },
   {
    "duration": 218,
    "start_time": "2022-08-19T06:31:19.852Z"
   },
   {
    "duration": 482,
    "start_time": "2022-08-19T06:31:20.072Z"
   },
   {
    "duration": 1195,
    "start_time": "2022-08-19T06:31:20.555Z"
   },
   {
    "duration": 618,
    "start_time": "2022-08-19T06:31:21.752Z"
   },
   {
    "duration": 3,
    "start_time": "2022-08-19T06:31:22.371Z"
   },
   {
    "duration": 11,
    "start_time": "2022-08-19T06:31:22.376Z"
   },
   {
    "duration": 123,
    "start_time": "2022-08-19T06:31:22.388Z"
   },
   {
    "duration": 0,
    "start_time": "2022-08-19T06:31:22.513Z"
   },
   {
    "duration": 0,
    "start_time": "2022-08-19T06:31:22.514Z"
   },
   {
    "duration": 0,
    "start_time": "2022-08-19T06:31:22.515Z"
   },
   {
    "duration": 52,
    "start_time": "2022-08-19T06:31:33.689Z"
   },
   {
    "duration": 4,
    "start_time": "2022-08-19T06:32:01.297Z"
   },
   {
    "duration": 3,
    "start_time": "2022-08-19T06:32:09.329Z"
   },
   {
    "duration": 1363,
    "start_time": "2022-08-19T06:32:10.730Z"
   },
   {
    "duration": 236,
    "start_time": "2022-08-19T06:32:15.354Z"
   },
   {
    "duration": 1360,
    "start_time": "2022-08-19T06:35:02.403Z"
   },
   {
    "duration": 294,
    "start_time": "2022-08-19T06:35:03.765Z"
   },
   {
    "duration": 5,
    "start_time": "2022-08-19T06:35:04.060Z"
   },
   {
    "duration": 93,
    "start_time": "2022-08-19T06:35:04.066Z"
   },
   {
    "duration": 349,
    "start_time": "2022-08-19T06:35:04.161Z"
   },
   {
    "duration": 2,
    "start_time": "2022-08-19T06:35:04.512Z"
   },
   {
    "duration": 29,
    "start_time": "2022-08-19T06:35:04.516Z"
   },
   {
    "duration": 6,
    "start_time": "2022-08-19T06:35:04.546Z"
   },
   {
    "duration": 13,
    "start_time": "2022-08-19T06:35:04.553Z"
   },
   {
    "duration": 167,
    "start_time": "2022-08-19T06:35:04.569Z"
   },
   {
    "duration": 151,
    "start_time": "2022-08-19T06:35:04.738Z"
   },
   {
    "duration": 166,
    "start_time": "2022-08-19T06:35:04.890Z"
   },
   {
    "duration": 155,
    "start_time": "2022-08-19T06:35:05.057Z"
   },
   {
    "duration": 245,
    "start_time": "2022-08-19T06:35:05.213Z"
   },
   {
    "duration": 156,
    "start_time": "2022-08-19T06:35:05.459Z"
   },
   {
    "duration": 174,
    "start_time": "2022-08-19T06:35:05.617Z"
   },
   {
    "duration": 167,
    "start_time": "2022-08-19T06:35:05.793Z"
   },
   {
    "duration": 193,
    "start_time": "2022-08-19T06:35:05.961Z"
   },
   {
    "duration": 266,
    "start_time": "2022-08-19T06:35:06.156Z"
   },
   {
    "duration": 516,
    "start_time": "2022-08-19T06:35:06.423Z"
   },
   {
    "duration": 1290,
    "start_time": "2022-08-19T06:35:06.940Z"
   },
   {
    "duration": 630,
    "start_time": "2022-08-19T06:35:08.231Z"
   },
   {
    "duration": 4,
    "start_time": "2022-08-19T06:35:08.862Z"
   },
   {
    "duration": 11,
    "start_time": "2022-08-19T06:35:08.867Z"
   },
   {
    "duration": 49,
    "start_time": "2022-08-19T06:35:08.886Z"
   },
   {
    "duration": 1556,
    "start_time": "2022-08-19T06:35:08.937Z"
   },
   {
    "duration": 394,
    "start_time": "2022-08-19T06:35:10.494Z"
   },
   {
    "duration": 1256,
    "start_time": "2022-08-19T06:41:50.100Z"
   },
   {
    "duration": 275,
    "start_time": "2022-08-19T06:41:51.358Z"
   },
   {
    "duration": 4,
    "start_time": "2022-08-19T06:41:51.634Z"
   },
   {
    "duration": 109,
    "start_time": "2022-08-19T06:41:51.640Z"
   },
   {
    "duration": 348,
    "start_time": "2022-08-19T06:41:51.750Z"
   },
   {
    "duration": 3,
    "start_time": "2022-08-19T06:41:52.100Z"
   },
   {
    "duration": 21,
    "start_time": "2022-08-19T06:41:52.105Z"
   },
   {
    "duration": 19,
    "start_time": "2022-08-19T06:41:52.128Z"
   },
   {
    "duration": 37,
    "start_time": "2022-08-19T06:41:52.148Z"
   },
   {
    "duration": 176,
    "start_time": "2022-08-19T06:41:52.188Z"
   },
   {
    "duration": 137,
    "start_time": "2022-08-19T06:41:52.365Z"
   },
   {
    "duration": 157,
    "start_time": "2022-08-19T06:41:52.503Z"
   },
   {
    "duration": 142,
    "start_time": "2022-08-19T06:41:52.661Z"
   },
   {
    "duration": 220,
    "start_time": "2022-08-19T06:41:52.805Z"
   },
   {
    "duration": 148,
    "start_time": "2022-08-19T06:41:53.026Z"
   },
   {
    "duration": 164,
    "start_time": "2022-08-19T06:41:53.175Z"
   },
   {
    "duration": 164,
    "start_time": "2022-08-19T06:41:53.341Z"
   },
   {
    "duration": 167,
    "start_time": "2022-08-19T06:41:53.506Z"
   },
   {
    "duration": 201,
    "start_time": "2022-08-19T06:41:53.675Z"
   },
   {
    "duration": 494,
    "start_time": "2022-08-19T06:41:53.877Z"
   },
   {
    "duration": 1220,
    "start_time": "2022-08-19T06:41:54.373Z"
   },
   {
    "duration": 632,
    "start_time": "2022-08-19T06:41:55.595Z"
   },
   {
    "duration": 5,
    "start_time": "2022-08-19T06:41:56.229Z"
   },
   {
    "duration": 50,
    "start_time": "2022-08-19T06:41:56.235Z"
   },
   {
    "duration": 66,
    "start_time": "2022-08-19T06:41:56.287Z"
   },
   {
    "duration": 1638,
    "start_time": "2022-08-19T06:41:56.355Z"
   },
   {
    "duration": 302,
    "start_time": "2022-08-19T06:41:57.994Z"
   },
   {
    "duration": 119093,
    "start_time": "2022-08-19T06:41:58.301Z"
   },
   {
    "duration": 120978,
    "start_time": "2022-08-19T06:44:04.563Z"
   },
   {
    "duration": 217115,
    "start_time": "2022-08-19T06:48:29.934Z"
   },
   {
    "duration": 246579,
    "start_time": "2022-08-19T07:06:04.371Z"
   },
   {
    "duration": 3,
    "start_time": "2022-08-19T07:16:13.660Z"
   },
   {
    "duration": 1218,
    "start_time": "2022-08-19T07:47:18.351Z"
   },
   {
    "duration": 1254,
    "start_time": "2022-08-19T07:48:11.976Z"
   },
   {
    "duration": 383,
    "start_time": "2022-08-19T07:48:44.268Z"
   },
   {
    "duration": 179,
    "start_time": "2022-08-19T07:50:01.610Z"
   },
   {
    "duration": 1935,
    "start_time": "2022-08-19T08:21:56.184Z"
   },
   {
    "duration": 269,
    "start_time": "2022-08-19T08:21:58.121Z"
   },
   {
    "duration": 4,
    "start_time": "2022-08-19T08:21:58.391Z"
   },
   {
    "duration": 96,
    "start_time": "2022-08-19T08:21:58.397Z"
   },
   {
    "duration": 333,
    "start_time": "2022-08-19T08:21:58.495Z"
   },
   {
    "duration": 3,
    "start_time": "2022-08-19T08:21:58.830Z"
   },
   {
    "duration": 19,
    "start_time": "2022-08-19T08:21:58.835Z"
   },
   {
    "duration": 6,
    "start_time": "2022-08-19T08:21:58.857Z"
   },
   {
    "duration": 11,
    "start_time": "2022-08-19T08:21:58.865Z"
   },
   {
    "duration": 171,
    "start_time": "2022-08-19T08:21:58.879Z"
   },
   {
    "duration": 157,
    "start_time": "2022-08-19T08:21:59.057Z"
   },
   {
    "duration": 185,
    "start_time": "2022-08-19T08:21:59.216Z"
   },
   {
    "duration": 154,
    "start_time": "2022-08-19T08:21:59.403Z"
   },
   {
    "duration": 232,
    "start_time": "2022-08-19T08:21:59.559Z"
   },
   {
    "duration": 164,
    "start_time": "2022-08-19T08:21:59.793Z"
   },
   {
    "duration": 171,
    "start_time": "2022-08-19T08:21:59.959Z"
   },
   {
    "duration": 198,
    "start_time": "2022-08-19T08:22:00.132Z"
   },
   {
    "duration": 191,
    "start_time": "2022-08-19T08:22:00.332Z"
   },
   {
    "duration": 225,
    "start_time": "2022-08-19T08:22:00.525Z"
   },
   {
    "duration": 532,
    "start_time": "2022-08-19T08:22:00.752Z"
   },
   {
    "duration": 1381,
    "start_time": "2022-08-19T08:22:01.286Z"
   },
   {
    "duration": 665,
    "start_time": "2022-08-19T08:22:02.668Z"
   },
   {
    "duration": 3,
    "start_time": "2022-08-19T08:22:03.335Z"
   },
   {
    "duration": 18,
    "start_time": "2022-08-19T08:22:03.339Z"
   },
   {
    "duration": 91,
    "start_time": "2022-08-19T08:22:03.359Z"
   },
   {
    "duration": 54,
    "start_time": "2022-08-19T08:22:42.248Z"
   },
   {
    "duration": 53,
    "start_time": "2022-08-19T14:12:32.138Z"
   },
   {
    "duration": 1738,
    "start_time": "2022-08-19T14:12:39.310Z"
   },
   {
    "duration": 1343,
    "start_time": "2022-08-19T14:12:41.050Z"
   },
   {
    "duration": 6,
    "start_time": "2022-08-19T14:12:42.394Z"
   },
   {
    "duration": 187,
    "start_time": "2022-08-19T14:12:42.402Z"
   },
   {
    "duration": 675,
    "start_time": "2022-08-19T14:12:42.590Z"
   },
   {
    "duration": 3,
    "start_time": "2022-08-19T14:12:43.267Z"
   },
   {
    "duration": 22,
    "start_time": "2022-08-19T14:12:43.272Z"
   },
   {
    "duration": 16,
    "start_time": "2022-08-19T14:12:43.296Z"
   },
   {
    "duration": 28,
    "start_time": "2022-08-19T14:12:43.314Z"
   },
   {
    "duration": 222,
    "start_time": "2022-08-19T14:12:43.345Z"
   },
   {
    "duration": 183,
    "start_time": "2022-08-19T14:12:43.569Z"
   },
   {
    "duration": 190,
    "start_time": "2022-08-19T14:12:43.754Z"
   },
   {
    "duration": 264,
    "start_time": "2022-08-19T14:12:43.946Z"
   },
   {
    "duration": 183,
    "start_time": "2022-08-19T14:12:44.212Z"
   },
   {
    "duration": 181,
    "start_time": "2022-08-19T14:12:44.397Z"
   },
   {
    "duration": 188,
    "start_time": "2022-08-19T14:12:44.580Z"
   },
   {
    "duration": 188,
    "start_time": "2022-08-19T14:12:44.770Z"
   },
   {
    "duration": 203,
    "start_time": "2022-08-19T14:12:44.959Z"
   },
   {
    "duration": 237,
    "start_time": "2022-08-19T14:12:45.164Z"
   },
   {
    "duration": 568,
    "start_time": "2022-08-19T14:12:45.403Z"
   },
   {
    "duration": 1569,
    "start_time": "2022-08-19T14:12:45.973Z"
   },
   {
    "duration": 732,
    "start_time": "2022-08-19T14:12:47.544Z"
   },
   {
    "duration": 4,
    "start_time": "2022-08-19T14:12:48.278Z"
   },
   {
    "duration": 24,
    "start_time": "2022-08-19T14:12:48.283Z"
   },
   {
    "duration": 80,
    "start_time": "2022-08-19T14:12:48.309Z"
   },
   {
    "duration": 1578,
    "start_time": "2022-08-19T14:12:48.391Z"
   },
   {
    "duration": 1555,
    "start_time": "2022-08-19T14:17:20.835Z"
   },
   {
    "duration": 333,
    "start_time": "2022-08-19T14:17:22.392Z"
   },
   {
    "duration": 5,
    "start_time": "2022-08-19T14:17:22.727Z"
   },
   {
    "duration": 116,
    "start_time": "2022-08-19T14:17:22.734Z"
   },
   {
    "duration": 423,
    "start_time": "2022-08-19T14:17:22.852Z"
   },
   {
    "duration": 4,
    "start_time": "2022-08-19T14:17:23.277Z"
   },
   {
    "duration": 23,
    "start_time": "2022-08-19T14:17:23.283Z"
   },
   {
    "duration": 11,
    "start_time": "2022-08-19T14:17:23.308Z"
   },
   {
    "duration": 20,
    "start_time": "2022-08-19T14:17:23.321Z"
   },
   {
    "duration": 208,
    "start_time": "2022-08-19T14:17:23.345Z"
   },
   {
    "duration": 174,
    "start_time": "2022-08-19T14:17:23.555Z"
   },
   {
    "duration": 206,
    "start_time": "2022-08-19T14:17:23.730Z"
   },
   {
    "duration": 177,
    "start_time": "2022-08-19T14:17:23.938Z"
   },
   {
    "duration": 268,
    "start_time": "2022-08-19T14:17:24.117Z"
   },
   {
    "duration": 177,
    "start_time": "2022-08-19T14:17:24.387Z"
   },
   {
    "duration": 208,
    "start_time": "2022-08-19T14:17:24.565Z"
   },
   {
    "duration": 191,
    "start_time": "2022-08-19T14:17:24.775Z"
   },
   {
    "duration": 200,
    "start_time": "2022-08-19T14:17:24.968Z"
   },
   {
    "duration": 245,
    "start_time": "2022-08-19T14:17:25.169Z"
   },
   {
    "duration": 558,
    "start_time": "2022-08-19T14:17:25.416Z"
   },
   {
    "duration": 1551,
    "start_time": "2022-08-19T14:17:25.976Z"
   },
   {
    "duration": 719,
    "start_time": "2022-08-19T14:17:27.529Z"
   },
   {
    "duration": 4,
    "start_time": "2022-08-19T14:17:28.250Z"
   },
   {
    "duration": 8,
    "start_time": "2022-08-19T14:17:28.267Z"
   },
   {
    "duration": 69,
    "start_time": "2022-08-19T14:17:28.277Z"
   },
   {
    "duration": 1424,
    "start_time": "2022-08-19T14:17:28.347Z"
   },
   {
    "duration": 1542,
    "start_time": "2022-08-19T14:22:10.154Z"
   },
   {
    "duration": 316,
    "start_time": "2022-08-19T14:22:11.698Z"
   },
   {
    "duration": 5,
    "start_time": "2022-08-19T14:22:12.016Z"
   },
   {
    "duration": 101,
    "start_time": "2022-08-19T14:22:12.023Z"
   },
   {
    "duration": 381,
    "start_time": "2022-08-19T14:22:12.125Z"
   },
   {
    "duration": 3,
    "start_time": "2022-08-19T14:22:12.508Z"
   },
   {
    "duration": 28,
    "start_time": "2022-08-19T14:22:12.513Z"
   },
   {
    "duration": 8,
    "start_time": "2022-08-19T14:22:12.543Z"
   },
   {
    "duration": 18,
    "start_time": "2022-08-19T14:22:12.552Z"
   },
   {
    "duration": 186,
    "start_time": "2022-08-19T14:22:12.573Z"
   },
   {
    "duration": 172,
    "start_time": "2022-08-19T14:22:12.767Z"
   },
   {
    "duration": 191,
    "start_time": "2022-08-19T14:22:12.941Z"
   },
   {
    "duration": 167,
    "start_time": "2022-08-19T14:22:13.134Z"
   },
   {
    "duration": 266,
    "start_time": "2022-08-19T14:22:13.303Z"
   },
   {
    "duration": 174,
    "start_time": "2022-08-19T14:22:13.571Z"
   },
   {
    "duration": 186,
    "start_time": "2022-08-19T14:22:13.747Z"
   },
   {
    "duration": 190,
    "start_time": "2022-08-19T14:22:13.935Z"
   },
   {
    "duration": 202,
    "start_time": "2022-08-19T14:22:14.127Z"
   },
   {
    "duration": 246,
    "start_time": "2022-08-19T14:22:14.331Z"
   },
   {
    "duration": 574,
    "start_time": "2022-08-19T14:22:14.579Z"
   },
   {
    "duration": 1547,
    "start_time": "2022-08-19T14:22:15.155Z"
   },
   {
    "duration": 808,
    "start_time": "2022-08-19T14:22:16.704Z"
   },
   {
    "duration": 4,
    "start_time": "2022-08-19T14:22:17.514Z"
   },
   {
    "duration": 9,
    "start_time": "2022-08-19T14:22:17.520Z"
   },
   {
    "duration": 84,
    "start_time": "2022-08-19T14:22:17.531Z"
   },
   {
    "duration": 1752,
    "start_time": "2022-08-19T14:22:17.617Z"
   },
   {
    "duration": 1529,
    "start_time": "2022-08-19T14:22:39.434Z"
   },
   {
    "duration": 319,
    "start_time": "2022-08-19T14:22:40.967Z"
   },
   {
    "duration": 4,
    "start_time": "2022-08-19T14:22:41.288Z"
   },
   {
    "duration": 106,
    "start_time": "2022-08-19T14:22:41.294Z"
   },
   {
    "duration": 405,
    "start_time": "2022-08-19T14:22:41.402Z"
   },
   {
    "duration": 3,
    "start_time": "2022-08-19T14:22:41.808Z"
   },
   {
    "duration": 12,
    "start_time": "2022-08-19T14:22:41.813Z"
   },
   {
    "duration": 8,
    "start_time": "2022-08-19T14:22:41.827Z"
   },
   {
    "duration": 32,
    "start_time": "2022-08-19T14:22:41.836Z"
   },
   {
    "duration": 188,
    "start_time": "2022-08-19T14:22:41.870Z"
   },
   {
    "duration": 172,
    "start_time": "2022-08-19T14:22:42.060Z"
   },
   {
    "duration": 182,
    "start_time": "2022-08-19T14:22:42.234Z"
   },
   {
    "duration": 168,
    "start_time": "2022-08-19T14:22:42.418Z"
   },
   {
    "duration": 259,
    "start_time": "2022-08-19T14:22:42.589Z"
   },
   {
    "duration": 184,
    "start_time": "2022-08-19T14:22:42.849Z"
   },
   {
    "duration": 195,
    "start_time": "2022-08-19T14:22:43.035Z"
   },
   {
    "duration": 201,
    "start_time": "2022-08-19T14:22:43.232Z"
   },
   {
    "duration": 221,
    "start_time": "2022-08-19T14:22:43.435Z"
   },
   {
    "duration": 237,
    "start_time": "2022-08-19T14:22:43.658Z"
   },
   {
    "duration": 552,
    "start_time": "2022-08-19T14:22:43.897Z"
   },
   {
    "duration": 1494,
    "start_time": "2022-08-19T14:22:44.450Z"
   },
   {
    "duration": 772,
    "start_time": "2022-08-19T14:22:45.946Z"
   },
   {
    "duration": 5,
    "start_time": "2022-08-19T14:22:46.720Z"
   },
   {
    "duration": 11,
    "start_time": "2022-08-19T14:22:46.727Z"
   },
   {
    "duration": 88,
    "start_time": "2022-08-19T14:22:46.740Z"
   },
   {
    "duration": 1441,
    "start_time": "2022-08-19T14:22:46.830Z"
   },
   {
    "duration": 325927,
    "start_time": "2022-08-19T14:22:48.272Z"
   },
   {
    "duration": 282790,
    "start_time": "2022-08-19T14:28:14.201Z"
   },
   {
    "duration": 1316,
    "start_time": "2022-08-19T14:32:56.994Z"
   },
   {
    "duration": 406,
    "start_time": "2022-08-19T14:32:58.312Z"
   },
   {
    "duration": 134,
    "start_time": "2022-08-19T14:32:58.720Z"
   },
   {
    "duration": 0,
    "start_time": "2022-08-19T14:32:58.856Z"
   },
   {
    "duration": 17,
    "start_time": "2022-08-19T15:29:59.646Z"
   },
   {
    "duration": 88,
    "start_time": "2022-08-19T15:32:30.695Z"
   },
   {
    "duration": 59,
    "start_time": "2022-08-19T15:32:41.725Z"
   },
   {
    "duration": 85,
    "start_time": "2022-08-19T15:33:46.727Z"
   },
   {
    "duration": 16,
    "start_time": "2022-08-19T15:34:00.481Z"
   },
   {
    "duration": 92,
    "start_time": "2022-08-19T15:35:41.592Z"
   },
   {
    "duration": 414,
    "start_time": "2022-08-19T15:36:41.542Z"
   },
   {
    "duration": 1465,
    "start_time": "2022-08-19T15:37:17.954Z"
   },
   {
    "duration": 74,
    "start_time": "2022-08-19T15:37:37.886Z"
   },
   {
    "duration": 22,
    "start_time": "2022-08-19T15:38:37.660Z"
   },
   {
    "duration": 17,
    "start_time": "2022-08-19T15:38:52.213Z"
   },
   {
    "duration": 19,
    "start_time": "2022-08-19T15:40:14.820Z"
   },
   {
    "duration": 25,
    "start_time": "2022-08-19T15:41:31.170Z"
   },
   {
    "duration": 23,
    "start_time": "2022-08-19T15:41:48.262Z"
   },
   {
    "duration": 21,
    "start_time": "2022-08-19T15:42:20.865Z"
   },
   {
    "duration": 5,
    "start_time": "2022-08-19T15:43:01.429Z"
   },
   {
    "duration": 5,
    "start_time": "2022-08-19T15:43:16.516Z"
   },
   {
    "duration": 12,
    "start_time": "2022-08-19T15:43:24.765Z"
   },
   {
    "duration": 1327,
    "start_time": "2022-08-19T15:43:33.516Z"
   },
   {
    "duration": 24,
    "start_time": "2022-08-19T15:44:06.185Z"
   },
   {
    "duration": 33,
    "start_time": "2022-08-19T15:44:33.234Z"
   },
   {
    "duration": 39,
    "start_time": "2022-08-19T15:44:40.595Z"
   },
   {
    "duration": 0,
    "start_time": "2022-08-19T15:46:56.418Z"
   },
   {
    "duration": 26,
    "start_time": "2022-08-19T15:47:00.117Z"
   },
   {
    "duration": 126,
    "start_time": "2022-08-19T15:47:09.185Z"
   },
   {
    "duration": 17,
    "start_time": "2022-08-19T15:47:11.467Z"
   },
   {
    "duration": 7,
    "start_time": "2022-08-19T15:47:48.732Z"
   },
   {
    "duration": 1606,
    "start_time": "2022-08-19T15:48:56.147Z"
   },
   {
    "duration": 330,
    "start_time": "2022-08-19T15:48:57.756Z"
   },
   {
    "duration": 6,
    "start_time": "2022-08-19T15:48:58.087Z"
   },
   {
    "duration": 108,
    "start_time": "2022-08-19T15:48:58.095Z"
   },
   {
    "duration": 401,
    "start_time": "2022-08-19T15:48:58.205Z"
   },
   {
    "duration": 3,
    "start_time": "2022-08-19T15:48:58.608Z"
   },
   {
    "duration": 16,
    "start_time": "2022-08-19T15:48:58.613Z"
   },
   {
    "duration": 8,
    "start_time": "2022-08-19T15:48:58.630Z"
   },
   {
    "duration": 39,
    "start_time": "2022-08-19T15:48:58.640Z"
   },
   {
    "duration": 191,
    "start_time": "2022-08-19T15:48:58.682Z"
   },
   {
    "duration": 170,
    "start_time": "2022-08-19T15:48:58.875Z"
   },
   {
    "duration": 196,
    "start_time": "2022-08-19T15:48:59.047Z"
   },
   {
    "duration": 166,
    "start_time": "2022-08-19T15:48:59.245Z"
   },
   {
    "duration": 275,
    "start_time": "2022-08-19T15:48:59.413Z"
   },
   {
    "duration": 168,
    "start_time": "2022-08-19T15:48:59.689Z"
   },
   {
    "duration": 194,
    "start_time": "2022-08-19T15:48:59.859Z"
   },
   {
    "duration": 196,
    "start_time": "2022-08-19T15:49:00.055Z"
   },
   {
    "duration": 203,
    "start_time": "2022-08-19T15:49:00.253Z"
   },
   {
    "duration": 246,
    "start_time": "2022-08-19T15:49:00.459Z"
   },
   {
    "duration": 598,
    "start_time": "2022-08-19T15:49:00.708Z"
   },
   {
    "duration": 1612,
    "start_time": "2022-08-19T15:51:50.465Z"
   },
   {
    "duration": 342,
    "start_time": "2022-08-19T15:51:52.079Z"
   },
   {
    "duration": 5,
    "start_time": "2022-08-19T15:51:52.423Z"
   },
   {
    "duration": 112,
    "start_time": "2022-08-19T15:51:52.429Z"
   },
   {
    "duration": 397,
    "start_time": "2022-08-19T15:51:52.543Z"
   },
   {
    "duration": 3,
    "start_time": "2022-08-19T15:51:52.942Z"
   },
   {
    "duration": 30,
    "start_time": "2022-08-19T15:51:52.947Z"
   },
   {
    "duration": 8,
    "start_time": "2022-08-19T15:51:52.981Z"
   },
   {
    "duration": 15,
    "start_time": "2022-08-19T15:51:52.991Z"
   },
   {
    "duration": 203,
    "start_time": "2022-08-19T15:51:53.008Z"
   },
   {
    "duration": 179,
    "start_time": "2022-08-19T15:51:53.213Z"
   },
   {
    "duration": 218,
    "start_time": "2022-08-19T15:51:53.393Z"
   },
   {
    "duration": 178,
    "start_time": "2022-08-19T15:51:53.613Z"
   },
   {
    "duration": 289,
    "start_time": "2022-08-19T15:51:53.794Z"
   },
   {
    "duration": 168,
    "start_time": "2022-08-19T15:51:54.086Z"
   },
   {
    "duration": 198,
    "start_time": "2022-08-19T15:51:54.256Z"
   },
   {
    "duration": 205,
    "start_time": "2022-08-19T15:51:54.456Z"
   },
   {
    "duration": 220,
    "start_time": "2022-08-19T15:51:54.663Z"
   },
   {
    "duration": 290,
    "start_time": "2022-08-19T15:51:54.885Z"
   },
   {
    "duration": 608,
    "start_time": "2022-08-19T15:51:55.182Z"
   },
   {
    "duration": 1859,
    "start_time": "2022-08-19T15:51:55.792Z"
   },
   {
    "duration": 786,
    "start_time": "2022-08-19T15:51:57.653Z"
   },
   {
    "duration": 4,
    "start_time": "2022-08-19T15:51:58.441Z"
   },
   {
    "duration": 33,
    "start_time": "2022-08-19T15:51:58.447Z"
   },
   {
    "duration": 82,
    "start_time": "2022-08-19T15:51:58.483Z"
   },
   {
    "duration": 1516,
    "start_time": "2022-08-19T15:51:58.567Z"
   },
   {
    "duration": 320645,
    "start_time": "2022-08-19T15:52:00.091Z"
   },
   {
    "duration": 1629,
    "start_time": "2022-08-20T09:46:27.903Z"
   },
   {
    "duration": 819,
    "start_time": "2022-08-20T09:46:29.534Z"
   },
   {
    "duration": 5,
    "start_time": "2022-08-20T09:46:30.355Z"
   },
   {
    "duration": 437,
    "start_time": "2022-08-20T09:46:30.363Z"
   },
   {
    "duration": 1821,
    "start_time": "2022-08-20T09:46:30.802Z"
   },
   {
    "duration": 4,
    "start_time": "2022-08-20T09:46:32.624Z"
   },
   {
    "duration": 34,
    "start_time": "2022-08-20T09:46:32.630Z"
   },
   {
    "duration": 12,
    "start_time": "2022-08-20T09:46:32.666Z"
   },
   {
    "duration": 22,
    "start_time": "2022-08-20T09:46:32.680Z"
   },
   {
    "duration": 177,
    "start_time": "2022-08-20T09:46:32.706Z"
   },
   {
    "duration": 147,
    "start_time": "2022-08-20T09:46:32.885Z"
   },
   {
    "duration": 146,
    "start_time": "2022-08-20T09:46:33.033Z"
   },
   {
    "duration": 199,
    "start_time": "2022-08-20T09:46:33.181Z"
   },
   {
    "duration": 159,
    "start_time": "2022-08-20T09:46:33.382Z"
   },
   {
    "duration": 163,
    "start_time": "2022-08-20T09:46:33.543Z"
   },
   {
    "duration": 178,
    "start_time": "2022-08-20T09:46:33.708Z"
   },
   {
    "duration": 158,
    "start_time": "2022-08-20T09:46:33.888Z"
   },
   {
    "duration": 163,
    "start_time": "2022-08-20T09:46:34.048Z"
   },
   {
    "duration": 200,
    "start_time": "2022-08-20T09:46:34.212Z"
   },
   {
    "duration": 503,
    "start_time": "2022-08-20T09:46:34.414Z"
   },
   {
    "duration": 1174,
    "start_time": "2022-08-20T09:46:34.919Z"
   },
   {
    "duration": 630,
    "start_time": "2022-08-20T09:46:36.094Z"
   },
   {
    "duration": 4,
    "start_time": "2022-08-20T09:46:36.726Z"
   },
   {
    "duration": 11,
    "start_time": "2022-08-20T09:46:36.732Z"
   },
   {
    "duration": 43,
    "start_time": "2022-08-20T09:46:36.744Z"
   },
   {
    "duration": 1424,
    "start_time": "2022-08-20T09:46:36.789Z"
   },
   {
    "duration": 332979,
    "start_time": "2022-08-20T09:46:38.214Z"
   },
   {
    "duration": 249113,
    "start_time": "2022-08-20T09:52:11.196Z"
   },
   {
    "duration": 1300,
    "start_time": "2022-08-20T09:56:20.311Z"
   },
   {
    "duration": 401,
    "start_time": "2022-08-20T09:56:21.612Z"
   },
   {
    "duration": 5,
    "start_time": "2022-08-20T09:56:22.014Z"
   },
   {
    "duration": 24,
    "start_time": "2022-08-20T09:56:22.020Z"
   },
   {
    "duration": 372,
    "start_time": "2022-08-20T09:56:22.046Z"
   },
   {
    "duration": 70,
    "start_time": "2022-08-20T09:57:37.341Z"
   },
   {
    "duration": 31,
    "start_time": "2022-08-20T09:58:22.505Z"
   },
   {
    "duration": 104,
    "start_time": "2022-08-20T10:02:53.108Z"
   },
   {
    "duration": 32,
    "start_time": "2022-08-20T10:08:08.393Z"
   },
   {
    "duration": 7,
    "start_time": "2022-08-20T10:08:15.143Z"
   },
   {
    "duration": 3,
    "start_time": "2022-08-20T10:10:13.026Z"
   },
   {
    "duration": 8,
    "start_time": "2022-08-20T10:10:20.726Z"
   },
   {
    "duration": 3,
    "start_time": "2022-08-20T10:11:06.584Z"
   },
   {
    "duration": 9,
    "start_time": "2022-08-20T10:11:14.460Z"
   },
   {
    "duration": 123,
    "start_time": "2022-08-20T10:11:57.888Z"
   },
   {
    "duration": 16,
    "start_time": "2022-08-20T10:12:02.645Z"
   },
   {
    "duration": 15,
    "start_time": "2022-08-20T10:12:18.581Z"
   },
   {
    "duration": 17,
    "start_time": "2022-08-20T10:12:33.950Z"
   },
   {
    "duration": 6,
    "start_time": "2022-08-20T10:12:58.760Z"
   },
   {
    "duration": 8,
    "start_time": "2022-08-20T10:13:20.505Z"
   },
   {
    "duration": 65,
    "start_time": "2022-08-20T10:14:52.970Z"
   },
   {
    "duration": 269,
    "start_time": "2022-08-20T10:15:04.145Z"
   },
   {
    "duration": 22,
    "start_time": "2022-08-20T10:15:10.945Z"
   },
   {
    "duration": 1332,
    "start_time": "2022-08-20T10:15:39.805Z"
   },
   {
    "duration": 265,
    "start_time": "2022-08-20T10:15:41.139Z"
   },
   {
    "duration": 7,
    "start_time": "2022-08-20T10:15:41.405Z"
   },
   {
    "duration": 85,
    "start_time": "2022-08-20T10:15:41.413Z"
   },
   {
    "duration": 300,
    "start_time": "2022-08-20T10:15:41.500Z"
   },
   {
    "duration": 2,
    "start_time": "2022-08-20T10:15:41.802Z"
   },
   {
    "duration": 10,
    "start_time": "2022-08-20T10:15:41.805Z"
   },
   {
    "duration": 6,
    "start_time": "2022-08-20T10:15:41.816Z"
   },
   {
    "duration": 11,
    "start_time": "2022-08-20T10:15:41.823Z"
   },
   {
    "duration": 166,
    "start_time": "2022-08-20T10:15:41.836Z"
   },
   {
    "duration": 139,
    "start_time": "2022-08-20T10:15:42.004Z"
   },
   {
    "duration": 147,
    "start_time": "2022-08-20T10:15:42.144Z"
   },
   {
    "duration": 136,
    "start_time": "2022-08-20T10:15:42.292Z"
   },
   {
    "duration": 238,
    "start_time": "2022-08-20T10:15:42.430Z"
   },
   {
    "duration": 174,
    "start_time": "2022-08-20T10:15:42.670Z"
   },
   {
    "duration": 143,
    "start_time": "2022-08-20T10:15:42.846Z"
   },
   {
    "duration": 148,
    "start_time": "2022-08-20T10:15:42.990Z"
   },
   {
    "duration": 159,
    "start_time": "2022-08-20T10:15:43.140Z"
   },
   {
    "duration": 204,
    "start_time": "2022-08-20T10:15:43.301Z"
   },
   {
    "duration": 524,
    "start_time": "2022-08-20T10:15:43.511Z"
   },
   {
    "duration": 1164,
    "start_time": "2022-08-20T10:15:44.036Z"
   },
   {
    "duration": 640,
    "start_time": "2022-08-20T10:15:45.202Z"
   },
   {
    "duration": 3,
    "start_time": "2022-08-20T10:15:45.843Z"
   },
   {
    "duration": 24,
    "start_time": "2022-08-20T10:15:45.848Z"
   },
   {
    "duration": 52,
    "start_time": "2022-08-20T10:15:45.873Z"
   },
   {
    "duration": 1188,
    "start_time": "2022-08-20T10:15:45.927Z"
   },
   {
    "duration": 1285,
    "start_time": "2022-08-20T10:16:03.047Z"
   },
   {
    "duration": 260,
    "start_time": "2022-08-20T10:16:04.335Z"
   },
   {
    "duration": 4,
    "start_time": "2022-08-20T10:16:04.597Z"
   },
   {
    "duration": 87,
    "start_time": "2022-08-20T10:16:04.602Z"
   },
   {
    "duration": 298,
    "start_time": "2022-08-20T10:16:04.691Z"
   },
   {
    "duration": 2,
    "start_time": "2022-08-20T10:16:04.991Z"
   },
   {
    "duration": 8,
    "start_time": "2022-08-20T10:16:04.995Z"
   },
   {
    "duration": 6,
    "start_time": "2022-08-20T10:16:05.011Z"
   },
   {
    "duration": 11,
    "start_time": "2022-08-20T10:16:05.018Z"
   },
   {
    "duration": 160,
    "start_time": "2022-08-20T10:16:05.031Z"
   },
   {
    "duration": 134,
    "start_time": "2022-08-20T10:16:05.192Z"
   },
   {
    "duration": 165,
    "start_time": "2022-08-20T10:16:05.328Z"
   },
   {
    "duration": 134,
    "start_time": "2022-08-20T10:16:05.494Z"
   },
   {
    "duration": 196,
    "start_time": "2022-08-20T10:16:05.631Z"
   },
   {
    "duration": 149,
    "start_time": "2022-08-20T10:16:05.828Z"
   },
   {
    "duration": 152,
    "start_time": "2022-08-20T10:16:05.979Z"
   },
   {
    "duration": 145,
    "start_time": "2022-08-20T10:16:06.132Z"
   },
   {
    "duration": 165,
    "start_time": "2022-08-20T10:16:06.279Z"
   },
   {
    "duration": 197,
    "start_time": "2022-08-20T10:16:06.446Z"
   },
   {
    "duration": 497,
    "start_time": "2022-08-20T10:16:06.644Z"
   },
   {
    "duration": 1351,
    "start_time": "2022-08-20T10:18:51.955Z"
   },
   {
    "duration": 275,
    "start_time": "2022-08-20T10:18:53.308Z"
   },
   {
    "duration": 5,
    "start_time": "2022-08-20T10:18:53.585Z"
   },
   {
    "duration": 105,
    "start_time": "2022-08-20T10:18:53.592Z"
   },
   {
    "duration": 303,
    "start_time": "2022-08-20T10:18:53.699Z"
   },
   {
    "duration": 3,
    "start_time": "2022-08-20T10:18:54.004Z"
   },
   {
    "duration": 11,
    "start_time": "2022-08-20T10:18:54.008Z"
   },
   {
    "duration": 11,
    "start_time": "2022-08-20T10:18:54.021Z"
   },
   {
    "duration": 10,
    "start_time": "2022-08-20T10:18:54.033Z"
   },
   {
    "duration": 180,
    "start_time": "2022-08-20T10:18:54.046Z"
   },
   {
    "duration": 148,
    "start_time": "2022-08-20T10:18:54.227Z"
   },
   {
    "duration": 153,
    "start_time": "2022-08-20T10:18:54.377Z"
   },
   {
    "duration": 146,
    "start_time": "2022-08-20T10:18:54.532Z"
   },
   {
    "duration": 214,
    "start_time": "2022-08-20T10:18:54.679Z"
   },
   {
    "duration": 179,
    "start_time": "2022-08-20T10:18:54.894Z"
   },
   {
    "duration": 174,
    "start_time": "2022-08-20T10:18:55.074Z"
   },
   {
    "duration": 145,
    "start_time": "2022-08-20T10:18:55.250Z"
   },
   {
    "duration": 168,
    "start_time": "2022-08-20T10:18:55.397Z"
   },
   {
    "duration": 205,
    "start_time": "2022-08-20T10:18:55.567Z"
   },
   {
    "duration": 495,
    "start_time": "2022-08-20T10:18:55.773Z"
   },
   {
    "duration": 1185,
    "start_time": "2022-08-20T10:18:56.269Z"
   },
   {
    "duration": 636,
    "start_time": "2022-08-20T10:18:57.456Z"
   },
   {
    "duration": 4,
    "start_time": "2022-08-20T10:18:58.093Z"
   },
   {
    "duration": 14,
    "start_time": "2022-08-20T10:18:58.098Z"
   },
   {
    "duration": 40,
    "start_time": "2022-08-20T10:18:58.114Z"
   },
   {
    "duration": 1157,
    "start_time": "2022-08-20T10:18:58.156Z"
   },
   {
    "duration": 318451,
    "start_time": "2022-08-20T10:18:59.315Z"
   },
   {
    "duration": 16,
    "start_time": "2022-08-20T10:30:45.309Z"
   },
   {
    "duration": 1324,
    "start_time": "2022-08-20T10:31:07.772Z"
   },
   {
    "duration": 276,
    "start_time": "2022-08-20T10:31:09.097Z"
   },
   {
    "duration": 4,
    "start_time": "2022-08-20T10:31:09.374Z"
   },
   {
    "duration": 92,
    "start_time": "2022-08-20T10:31:09.380Z"
   },
   {
    "duration": 325,
    "start_time": "2022-08-20T10:31:09.473Z"
   },
   {
    "duration": 2,
    "start_time": "2022-08-20T10:31:09.800Z"
   },
   {
    "duration": 11,
    "start_time": "2022-08-20T10:31:09.804Z"
   },
   {
    "duration": 6,
    "start_time": "2022-08-20T10:31:09.816Z"
   },
   {
    "duration": 10,
    "start_time": "2022-08-20T10:31:09.823Z"
   },
   {
    "duration": 177,
    "start_time": "2022-08-20T10:31:09.835Z"
   },
   {
    "duration": 141,
    "start_time": "2022-08-20T10:31:10.014Z"
   },
   {
    "duration": 197,
    "start_time": "2022-08-20T10:31:10.156Z"
   },
   {
    "duration": 154,
    "start_time": "2022-08-20T10:31:10.354Z"
   },
   {
    "duration": 206,
    "start_time": "2022-08-20T10:31:10.511Z"
   },
   {
    "duration": 149,
    "start_time": "2022-08-20T10:31:10.718Z"
   },
   {
    "duration": 159,
    "start_time": "2022-08-20T10:31:10.868Z"
   },
   {
    "duration": 157,
    "start_time": "2022-08-20T10:31:11.029Z"
   },
   {
    "duration": 160,
    "start_time": "2022-08-20T10:31:11.188Z"
   },
   {
    "duration": 206,
    "start_time": "2022-08-20T10:31:11.350Z"
   },
   {
    "duration": 527,
    "start_time": "2022-08-20T10:31:11.558Z"
   },
   {
    "duration": 1338,
    "start_time": "2022-08-20T10:31:12.086Z"
   },
   {
    "duration": 630,
    "start_time": "2022-08-20T10:31:13.426Z"
   },
   {
    "duration": 4,
    "start_time": "2022-08-20T10:31:14.057Z"
   },
   {
    "duration": 8,
    "start_time": "2022-08-20T10:31:14.062Z"
   },
   {
    "duration": 48,
    "start_time": "2022-08-20T10:31:14.072Z"
   },
   {
    "duration": 1191,
    "start_time": "2022-08-20T10:31:14.122Z"
   },
   {
    "duration": 1604,
    "start_time": "2022-08-20T15:14:56.792Z"
   },
   {
    "duration": 1066,
    "start_time": "2022-08-20T15:14:58.404Z"
   },
   {
    "duration": 5,
    "start_time": "2022-08-20T15:14:59.472Z"
   },
   {
    "duration": 484,
    "start_time": "2022-08-20T15:14:59.479Z"
   },
   {
    "duration": 1998,
    "start_time": "2022-08-20T15:14:59.965Z"
   },
   {
    "duration": 3,
    "start_time": "2022-08-20T15:15:01.965Z"
   },
   {
    "duration": 40,
    "start_time": "2022-08-20T15:15:01.970Z"
   },
   {
    "duration": 16,
    "start_time": "2022-08-20T15:15:02.012Z"
   },
   {
    "duration": 23,
    "start_time": "2022-08-20T15:15:02.030Z"
   },
   {
    "duration": 187,
    "start_time": "2022-08-20T15:15:02.057Z"
   },
   {
    "duration": 162,
    "start_time": "2022-08-20T15:15:02.246Z"
   },
   {
    "duration": 188,
    "start_time": "2022-08-20T15:15:02.410Z"
   },
   {
    "duration": 223,
    "start_time": "2022-08-20T15:15:02.603Z"
   },
   {
    "duration": 193,
    "start_time": "2022-08-20T15:15:02.828Z"
   },
   {
    "duration": 165,
    "start_time": "2022-08-20T15:15:03.023Z"
   },
   {
    "duration": 184,
    "start_time": "2022-08-20T15:15:03.189Z"
   },
   {
    "duration": 194,
    "start_time": "2022-08-20T15:15:03.375Z"
   },
   {
    "duration": 197,
    "start_time": "2022-08-20T15:15:03.571Z"
   },
   {
    "duration": 231,
    "start_time": "2022-08-20T15:15:03.770Z"
   },
   {
    "duration": 601,
    "start_time": "2022-08-20T15:15:04.004Z"
   },
   {
    "duration": 1437,
    "start_time": "2022-08-20T15:15:04.607Z"
   },
   {
    "duration": 722,
    "start_time": "2022-08-20T15:15:06.045Z"
   },
   {
    "duration": 3,
    "start_time": "2022-08-20T15:15:06.769Z"
   },
   {
    "duration": 29,
    "start_time": "2022-08-20T15:15:06.773Z"
   },
   {
    "duration": 86,
    "start_time": "2022-08-20T15:15:06.804Z"
   },
   {
    "duration": 2902,
    "start_time": "2022-08-20T15:15:06.894Z"
   },
   {
    "duration": 284062,
    "start_time": "2022-08-20T15:15:09.798Z"
   },
   {
    "duration": 251363,
    "start_time": "2022-08-20T15:19:53.863Z"
   },
   {
    "duration": 1221,
    "start_time": "2022-08-20T15:24:05.228Z"
   },
   {
    "duration": 374,
    "start_time": "2022-08-20T15:24:06.451Z"
   },
   {
    "duration": 3,
    "start_time": "2022-08-20T15:24:06.827Z"
   },
   {
    "duration": 16,
    "start_time": "2022-08-20T15:24:06.832Z"
   },
   {
    "duration": 3,
    "start_time": "2022-08-20T15:24:06.849Z"
   },
   {
    "duration": 138,
    "start_time": "2022-08-20T15:24:06.854Z"
   },
   {
    "duration": 0,
    "start_time": "2022-08-20T15:24:06.995Z"
   },
   {
    "duration": 0,
    "start_time": "2022-08-20T15:24:06.998Z"
   },
   {
    "duration": 0,
    "start_time": "2022-08-20T15:24:06.999Z"
   },
   {
    "duration": 4,
    "start_time": "2022-08-20T15:40:10.177Z"
   },
   {
    "duration": 5,
    "start_time": "2022-08-20T15:40:38.256Z"
   },
   {
    "duration": 5,
    "start_time": "2022-08-20T15:41:14.755Z"
   },
   {
    "duration": 91,
    "start_time": "2022-08-20T15:41:18.106Z"
   },
   {
    "duration": 7,
    "start_time": "2022-08-20T15:41:24.257Z"
   },
   {
    "duration": 10,
    "start_time": "2022-08-20T15:41:30.115Z"
   },
   {
    "duration": 9,
    "start_time": "2022-08-20T15:41:56.868Z"
   },
   {
    "duration": 9,
    "start_time": "2022-08-20T15:42:46.497Z"
   }
  ],
  "kernelspec": {
   "display_name": "Python 3 (ipykernel)",
   "language": "python",
   "name": "python3"
  },
  "language_info": {
   "codemirror_mode": {
    "name": "ipython",
    "version": 3
   },
   "file_extension": ".py",
   "mimetype": "text/x-python",
   "name": "python",
   "nbconvert_exporter": "python",
   "pygments_lexer": "ipython3",
   "version": "3.11.5"
  },
  "toc": {
   "base_numbering": 1,
   "nav_menu": {},
   "number_sections": true,
   "sideBar": true,
   "skip_h1_title": true,
   "title_cell": "Содержание",
   "title_sidebar": "Contents",
   "toc_cell": true,
   "toc_position": {},
   "toc_section_display": true,
   "toc_window_display": true
  }
 },
 "nbformat": 4,
 "nbformat_minor": 2
}

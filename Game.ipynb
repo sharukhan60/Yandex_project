{
 "cells": [
  {
   "cell_type": "markdown",
   "metadata": {},
   "source": [
    "# Цель проекта\n",
    "Нужно выявить определяющие успешность игры закономерности. Это позволит сделать ставку на потенциально популярный продукт и спланировать рекламные кампании."
   ]
  },
  {
   "cell_type": "markdown",
   "metadata": {},
   "source": [
    "# Шаги:\n",
    "-обзор данных\\\n",
    "-подготовка данных\\\n",
    "-исследовательский аализ\\\n",
    "-портрет каждого пользователя\\\n",
    "-проверка гипотез\\\n",
    "-вывод"
   ]
  },
  {
   "cell_type": "markdown",
   "metadata": {},
   "source": [
    "# Обзор данных"
   ]
  },
  {
   "cell_type": "code",
   "execution_count": 1,
   "metadata": {},
   "outputs": [],
   "source": [
    "import pandas as pd\n",
    "import matplotlib.pyplot as plt\n",
    "from scipy import stats as st\n",
    "import seaborn as sns\n",
    "import matplotlib.pyplot as plt"
   ]
  },
  {
   "cell_type": "code",
   "execution_count": 2,
   "metadata": {
    "scrolled": true
   },
   "outputs": [
    {
     "name": "stdout",
     "output_type": "stream",
     "text": [
      "<class 'pandas.core.frame.DataFrame'>\n",
      "RangeIndex: 16715 entries, 0 to 16714\n",
      "Data columns (total 11 columns):\n",
      " #   Column           Non-Null Count  Dtype  \n",
      "---  ------           --------------  -----  \n",
      " 0   Name             16713 non-null  object \n",
      " 1   Platform         16715 non-null  object \n",
      " 2   Year_of_Release  16446 non-null  float64\n",
      " 3   Genre            16713 non-null  object \n",
      " 4   NA_sales         16715 non-null  float64\n",
      " 5   EU_sales         16715 non-null  float64\n",
      " 6   JP_sales         16715 non-null  float64\n",
      " 7   Other_sales      16715 non-null  float64\n",
      " 8   Critic_Score     8137 non-null   float64\n",
      " 9   User_Score       10014 non-null  object \n",
      " 10  Rating           9949 non-null   object \n",
      "dtypes: float64(6), object(5)\n",
      "memory usage: 1.4+ MB\n"
     ]
    },
    {
     "data": {
      "text/html": [
       "<div>\n",
       "<style scoped>\n",
       "    .dataframe tbody tr th:only-of-type {\n",
       "        vertical-align: middle;\n",
       "    }\n",
       "\n",
       "    .dataframe tbody tr th {\n",
       "        vertical-align: top;\n",
       "    }\n",
       "\n",
       "    .dataframe thead th {\n",
       "        text-align: right;\n",
       "    }\n",
       "</style>\n",
       "<table border=\"1\" class=\"dataframe\">\n",
       "  <thead>\n",
       "    <tr style=\"text-align: right;\">\n",
       "      <th></th>\n",
       "      <th>Name</th>\n",
       "      <th>Platform</th>\n",
       "      <th>Year_of_Release</th>\n",
       "      <th>Genre</th>\n",
       "      <th>NA_sales</th>\n",
       "      <th>EU_sales</th>\n",
       "      <th>JP_sales</th>\n",
       "      <th>Other_sales</th>\n",
       "      <th>Critic_Score</th>\n",
       "      <th>User_Score</th>\n",
       "      <th>Rating</th>\n",
       "    </tr>\n",
       "  </thead>\n",
       "  <tbody>\n",
       "    <tr>\n",
       "      <th>0</th>\n",
       "      <td>Wii Sports</td>\n",
       "      <td>Wii</td>\n",
       "      <td>2006.0</td>\n",
       "      <td>Sports</td>\n",
       "      <td>41.36</td>\n",
       "      <td>28.96</td>\n",
       "      <td>3.77</td>\n",
       "      <td>8.45</td>\n",
       "      <td>76.0</td>\n",
       "      <td>8</td>\n",
       "      <td>E</td>\n",
       "    </tr>\n",
       "    <tr>\n",
       "      <th>1</th>\n",
       "      <td>Super Mario Bros.</td>\n",
       "      <td>NES</td>\n",
       "      <td>1985.0</td>\n",
       "      <td>Platform</td>\n",
       "      <td>29.08</td>\n",
       "      <td>3.58</td>\n",
       "      <td>6.81</td>\n",
       "      <td>0.77</td>\n",
       "      <td>NaN</td>\n",
       "      <td>NaN</td>\n",
       "      <td>NaN</td>\n",
       "    </tr>\n",
       "    <tr>\n",
       "      <th>2</th>\n",
       "      <td>Mario Kart Wii</td>\n",
       "      <td>Wii</td>\n",
       "      <td>2008.0</td>\n",
       "      <td>Racing</td>\n",
       "      <td>15.68</td>\n",
       "      <td>12.76</td>\n",
       "      <td>3.79</td>\n",
       "      <td>3.29</td>\n",
       "      <td>82.0</td>\n",
       "      <td>8.3</td>\n",
       "      <td>E</td>\n",
       "    </tr>\n",
       "    <tr>\n",
       "      <th>3</th>\n",
       "      <td>Wii Sports Resort</td>\n",
       "      <td>Wii</td>\n",
       "      <td>2009.0</td>\n",
       "      <td>Sports</td>\n",
       "      <td>15.61</td>\n",
       "      <td>10.93</td>\n",
       "      <td>3.28</td>\n",
       "      <td>2.95</td>\n",
       "      <td>80.0</td>\n",
       "      <td>8</td>\n",
       "      <td>E</td>\n",
       "    </tr>\n",
       "    <tr>\n",
       "      <th>4</th>\n",
       "      <td>Pokemon Red/Pokemon Blue</td>\n",
       "      <td>GB</td>\n",
       "      <td>1996.0</td>\n",
       "      <td>Role-Playing</td>\n",
       "      <td>11.27</td>\n",
       "      <td>8.89</td>\n",
       "      <td>10.22</td>\n",
       "      <td>1.00</td>\n",
       "      <td>NaN</td>\n",
       "      <td>NaN</td>\n",
       "      <td>NaN</td>\n",
       "    </tr>\n",
       "    <tr>\n",
       "      <th>5</th>\n",
       "      <td>Tetris</td>\n",
       "      <td>GB</td>\n",
       "      <td>1989.0</td>\n",
       "      <td>Puzzle</td>\n",
       "      <td>23.20</td>\n",
       "      <td>2.26</td>\n",
       "      <td>4.22</td>\n",
       "      <td>0.58</td>\n",
       "      <td>NaN</td>\n",
       "      <td>NaN</td>\n",
       "      <td>NaN</td>\n",
       "    </tr>\n",
       "    <tr>\n",
       "      <th>6</th>\n",
       "      <td>New Super Mario Bros.</td>\n",
       "      <td>DS</td>\n",
       "      <td>2006.0</td>\n",
       "      <td>Platform</td>\n",
       "      <td>11.28</td>\n",
       "      <td>9.14</td>\n",
       "      <td>6.50</td>\n",
       "      <td>2.88</td>\n",
       "      <td>89.0</td>\n",
       "      <td>8.5</td>\n",
       "      <td>E</td>\n",
       "    </tr>\n",
       "    <tr>\n",
       "      <th>7</th>\n",
       "      <td>Wii Play</td>\n",
       "      <td>Wii</td>\n",
       "      <td>2006.0</td>\n",
       "      <td>Misc</td>\n",
       "      <td>13.96</td>\n",
       "      <td>9.18</td>\n",
       "      <td>2.93</td>\n",
       "      <td>2.84</td>\n",
       "      <td>58.0</td>\n",
       "      <td>6.6</td>\n",
       "      <td>E</td>\n",
       "    </tr>\n",
       "    <tr>\n",
       "      <th>8</th>\n",
       "      <td>New Super Mario Bros. Wii</td>\n",
       "      <td>Wii</td>\n",
       "      <td>2009.0</td>\n",
       "      <td>Platform</td>\n",
       "      <td>14.44</td>\n",
       "      <td>6.94</td>\n",
       "      <td>4.70</td>\n",
       "      <td>2.24</td>\n",
       "      <td>87.0</td>\n",
       "      <td>8.4</td>\n",
       "      <td>E</td>\n",
       "    </tr>\n",
       "    <tr>\n",
       "      <th>9</th>\n",
       "      <td>Duck Hunt</td>\n",
       "      <td>NES</td>\n",
       "      <td>1984.0</td>\n",
       "      <td>Shooter</td>\n",
       "      <td>26.93</td>\n",
       "      <td>0.63</td>\n",
       "      <td>0.28</td>\n",
       "      <td>0.47</td>\n",
       "      <td>NaN</td>\n",
       "      <td>NaN</td>\n",
       "      <td>NaN</td>\n",
       "    </tr>\n",
       "  </tbody>\n",
       "</table>\n",
       "</div>"
      ],
      "text/plain": [
       "                        Name Platform  Year_of_Release         Genre  \\\n",
       "0                 Wii Sports      Wii           2006.0        Sports   \n",
       "1          Super Mario Bros.      NES           1985.0      Platform   \n",
       "2             Mario Kart Wii      Wii           2008.0        Racing   \n",
       "3          Wii Sports Resort      Wii           2009.0        Sports   \n",
       "4   Pokemon Red/Pokemon Blue       GB           1996.0  Role-Playing   \n",
       "5                     Tetris       GB           1989.0        Puzzle   \n",
       "6      New Super Mario Bros.       DS           2006.0      Platform   \n",
       "7                   Wii Play      Wii           2006.0          Misc   \n",
       "8  New Super Mario Bros. Wii      Wii           2009.0      Platform   \n",
       "9                  Duck Hunt      NES           1984.0       Shooter   \n",
       "\n",
       "   NA_sales  EU_sales  JP_sales  Other_sales  Critic_Score User_Score Rating  \n",
       "0     41.36     28.96      3.77         8.45          76.0          8      E  \n",
       "1     29.08      3.58      6.81         0.77           NaN        NaN    NaN  \n",
       "2     15.68     12.76      3.79         3.29          82.0        8.3      E  \n",
       "3     15.61     10.93      3.28         2.95          80.0          8      E  \n",
       "4     11.27      8.89     10.22         1.00           NaN        NaN    NaN  \n",
       "5     23.20      2.26      4.22         0.58           NaN        NaN    NaN  \n",
       "6     11.28      9.14      6.50         2.88          89.0        8.5      E  \n",
       "7     13.96      9.18      2.93         2.84          58.0        6.6      E  \n",
       "8     14.44      6.94      4.70         2.24          87.0        8.4      E  \n",
       "9     26.93      0.63      0.28         0.47           NaN        NaN    NaN  "
      ]
     },
     "execution_count": 2,
     "metadata": {},
     "output_type": "execute_result"
    }
   ],
   "source": [
    "data = pd.read_csv('/datasets/games.csv')\n",
    "data.info()\n",
    "data.head(10)"
   ]
  },
  {
   "cell_type": "markdown",
   "metadata": {},
   "source": [
    "Заметим, что в названиях столбцов допущены ошибки,приведем их к нужному виду. В столбцах critic_score,user_score,rating имеются пропуски."
   ]
  },
  {
   "cell_type": "markdown",
   "metadata": {},
   "source": [
    "\n",
    "# Подготовим данные"
   ]
  },
  {
   "cell_type": "code",
   "execution_count": 3,
   "metadata": {},
   "outputs": [],
   "source": [
    "data = data.rename(columns={\n",
    "    'Name' : 'name',\n",
    "    'Platform' : 'platform',\n",
    "    'Year_of_Release' : 'year_of_release',\n",
    "    'Genre' : 'genre',\n",
    "    'NA_sales' : 'na_sales',\n",
    "    'EU_sales' : 'eu_sales',\n",
    "    'JP_sales' : 'jp_sales',\n",
    "    'Other_sales' : 'other_sales',\n",
    "    'Critic_Score' : 'critic_score',\n",
    "    'User_Score' : 'user_score',\n",
    "    'Rating' : 'rating'\n",
    "})\n"
   ]
  },
  {
   "cell_type": "markdown",
   "metadata": {},
   "source": [
    "Заполним пропуски.\\\n",
    "В столбце name Есть 2 пропуска их мы не сможем заполнить,из-за пропуска в названии есть 2 пропуска в жанре,которые мы также не сможем заполнить.\\\n",
    "\n",
    "В столбце year_of_release мы не сможем заполнить пропуски потому что не знает дату публикации каждой игры.\\\n",
    "В столбцах с оценками заполним соответственными медианными зачениями.\\\n",
    "Возможно эти пропуски появились из-за ошибки человека или неправильного сбора информации.\\"
   ]
  },
  {
   "cell_type": "markdown",
   "metadata": {},
   "source": [
    "\n",
    "\n",
    "Заполним пропуски в столбцах rating,critic_score,user_score на значения заглушки.</div>"
   ]
  },
  {
   "cell_type": "markdown",
   "metadata": {},
   "source": [
    "Заметим что tbd не несут за собой скрытого послания и их можно заменить на NaN."
   ]
  },
  {
   "cell_type": "code",
   "execution_count": 4,
   "metadata": {},
   "outputs": [],
   "source": [
    "data['critic_score']=data['critic_score'].fillna(-5)\n",
    "data['user_score'] = data['user_score'].where(data['user_score'] != 'tbd')\n",
    "data['user_score'] = data['user_score'].fillna(-5)\n",
    "data['rating'] = data['rating'].fillna('unknown')"
   ]
  },
  {
   "cell_type": "code",
   "execution_count": 5,
   "metadata": {},
   "outputs": [
    {
     "data": {
      "text/plain": [
       "0.01609332934489979"
      ]
     },
     "execution_count": 5,
     "metadata": {},
     "output_type": "execute_result"
    }
   ],
   "source": [
    "data['year_of_release'].isna().sum() / data.shape[0]"
   ]
  },
  {
   "cell_type": "markdown",
   "metadata": {},
   "source": [
    "Мы не сможем заполнить пропуски в столбце year of release, а пропуски не могут быть допущены к исследовательскому анализу, поэтому мы их удалим . Это сильно не повлият на анализ т.к. их доляя составляет всего 2% от общего числа."
   ]
  },
  {
   "cell_type": "code",
   "execution_count": 6,
   "metadata": {},
   "outputs": [],
   "source": [
    "data = data.dropna(subset = ['year_of_release'])"
   ]
  },
  {
   "cell_type": "markdown",
   "metadata": {},
   "source": [
    "В столбце year_of_release заметим тип данных с float на int потому что год это целочисленное значение.В столбце critic_score также заменим тип данных потому что в данной системе исполбзуются целые числа.\\\n",
    "В столбце user_score поменяем тип данных object на float."
   ]
  },
  {
   "cell_type": "code",
   "execution_count": 7,
   "metadata": {},
   "outputs": [
    {
     "name": "stdout",
     "output_type": "stream",
     "text": [
      "<class 'pandas.core.frame.DataFrame'>\n",
      "Int64Index: 16446 entries, 0 to 16714\n",
      "Data columns (total 11 columns):\n",
      " #   Column           Non-Null Count  Dtype  \n",
      "---  ------           --------------  -----  \n",
      " 0   name             16444 non-null  object \n",
      " 1   platform         16446 non-null  object \n",
      " 2   year_of_release  16446 non-null  int64  \n",
      " 3   genre            16444 non-null  object \n",
      " 4   na_sales         16446 non-null  float64\n",
      " 5   eu_sales         16446 non-null  float64\n",
      " 6   jp_sales         16446 non-null  float64\n",
      " 7   other_sales      16446 non-null  float64\n",
      " 8   critic_score     16446 non-null  int64  \n",
      " 9   user_score       16446 non-null  float64\n",
      " 10  rating           16446 non-null  object \n",
      "dtypes: float64(5), int64(2), object(4)\n",
      "memory usage: 1.5+ MB\n"
     ]
    }
   ],
   "source": [
    "data['year_of_release'] = data['year_of_release'].astype('int')\n",
    "data['critic_score'] = data['critic_score'].astype('int')\n",
    "data['user_score'] = pd.to_numeric(data['user_score'])\n",
    "data.info()"
   ]
  },
  {
   "cell_type": "code",
   "execution_count": 8,
   "metadata": {},
   "outputs": [],
   "source": [
    "data['sum_sales'] = data['na_sales'] + data['eu_sales'] + data['jp_sales'] + data['other_sales']"
   ]
  },
  {
   "cell_type": "markdown",
   "metadata": {},
   "source": [
    "\n",
    "# Исследовательский анализ"
   ]
  },
  {
   "cell_type": "code",
   "execution_count": 9,
   "metadata": {},
   "outputs": [
    {
     "data": {
      "image/png": "[encoded data removed]",
      "text/plain": [
       "<Figure size 432x288 with 1 Axes>"
      ]
     },
     "metadata": {
      "needs_background": "light"
     },
     "output_type": "display_data"
    }
   ],
   "source": [
    "data.pivot_table(index='year_of_release',values = 'name',aggfunc='count').plot(ylabel='Количество выпущенных игр',xlabel='Дата выхода');\n"
   ]
  },
  {
   "cell_type": "code",
   "execution_count": 10,
   "metadata": {},
   "outputs": [
    {
     "data": {
      "image/png": "[encoded data removed]",
      "text/plain": [
       "<Figure size 432x288 with 1 Axes>"
      ]
     },
     "metadata": {
      "needs_background": "light"
     },
     "output_type": "display_data"
    }
   ],
   "source": [
    "data.pivot_table(index='year_of_release',values = 'name',aggfunc='count').plot(kind='bar',ylabel='Количество выпущенных игр',xlabel='Дата выхода');"
   ]
  },
  {
   "cell_type": "markdown",
   "metadata": {},
   "source": [
    "Заметный рост выпуска игр наблюдается с 1994 года, пик в 2008-9 годах а затем заметен спад.Можно рассмотреть данные в период с 1994 года."
   ]
  },
  {
   "cell_type": "code",
   "execution_count": 12,
   "metadata": {},
   "outputs": [
    {
     "data": {
      "image/png": "[encoded data removed]",
      "text/plain": [
       "<Figure size 432x288 with 1 Axes>"
      ]
     },
     "metadata": {
      "needs_background": "light"
     },
     "output_type": "display_data"
    }
   ],
   "source": [
    "data.pivot_table(index='platform',values='sum_sales',aggfunc='sum').sort_values(by='sum_sales',ascending=False).plot(kind='bar',ylabel='Сумма продаж',xlabel='Платформа');"
   ]
  },
  {
   "cell_type": "markdown",
   "metadata": {},
   "source": [
    "\n",
    "    График показывает количество проданных игр на каждой из платформ. Первые 10 из них мы возьмем для дальнейшего анализа."
   ]
  },
  {
   "cell_type": "code",
   "execution_count": 13,
   "metadata": {},
   "outputs": [
    {
     "data": {
      "image/png": "[encoded data removed]",
      "text/plain": [
       "<Figure size 432x288 with 1 Axes>"
      ]
     },
     "metadata": {
      "needs_background": "light"
     },
     "output_type": "display_data"
    }
   ],
   "source": [
    "data.query('platform ==\"PS2\"').pivot_table(index='year_of_release',values='sum_sales',aggfunc='sum').plot(kind='bar',ylabel='Суммарные продажи игр',xlabel='PS2');"
   ]
  },
  {
   "cell_type": "code",
   "execution_count": 14,
   "metadata": {},
   "outputs": [
    {
     "data": {
      "image/png": "[encoded data removed]",
      "text/plain": [
       "<Figure size 432x288 with 1 Axes>"
      ]
     },
     "metadata": {
      "needs_background": "light"
     },
     "output_type": "display_data"
    }
   ],
   "source": [
    "data.query('platform ==\"X360\"').pivot_table(index='year_of_release',values='sum_sales',aggfunc='sum').plot(kind='bar',ylabel='Суммарные продажи игр',xlabel='X360');"
   ]
  },
  {
   "cell_type": "code",
   "execution_count": 15,
   "metadata": {},
   "outputs": [
    {
     "data": {
      "image/png": "[encoded data removed]",
      "text/plain": [
       "<Figure size 432x288 with 1 Axes>"
      ]
     },
     "metadata": {
      "needs_background": "light"
     },
     "output_type": "display_data"
    }
   ],
   "source": [
    "data.query('platform ==\"Wii\"').pivot_table(index='year_of_release',values='sum_sales',aggfunc='sum').plot(kind='bar',ylabel='Суммарные продажи игр',xlabel='Wii');"
   ]
  },
  {
   "cell_type": "code",
   "execution_count": 16,
   "metadata": {},
   "outputs": [
    {
     "data": {
      "image/png": "[encoded data removed]",
      "text/plain": [
       "<Figure size 432x288 with 1 Axes>"
      ]
     },
     "metadata": {
      "needs_background": "light"
     },
     "output_type": "display_data"
    }
   ],
   "source": [
    "data.query('platform ==\"PS3\"').pivot_table(index='year_of_release',values='sum_sales',aggfunc='sum').plot(kind='bar',ylabel='Суммарные продажи игр',xlabel='PS3');"
   ]
  },
  {
   "cell_type": "code",
   "execution_count": 17,
   "metadata": {},
   "outputs": [
    {
     "data": {
      "image/png": "[encoded data removed]",
      "text/plain": [
       "<Figure size 432x288 with 1 Axes>"
      ]
     },
     "metadata": {
      "needs_background": "light"
     },
     "output_type": "display_data"
    }
   ],
   "source": [
    "data.query('platform ==\"DS\"').pivot_table(index='year_of_release',values='sum_sales',aggfunc='sum').plot(kind='bar',ylabel='Суммарные продажи игр',xlabel='DS');"
   ]
  },
  {
   "cell_type": "code",
   "execution_count": 18,
   "metadata": {},
   "outputs": [
    {
     "data": {
      "image/png": "[encoded data removed]",
      "text/plain": [
       "<Figure size 432x288 with 1 Axes>"
      ]
     },
     "metadata": {
      "needs_background": "light"
     },
     "output_type": "display_data"
    }
   ],
   "source": [
    "data.query('platform ==\"PS\"').pivot_table(index='year_of_release',values='sum_sales',aggfunc='sum').plot(kind='bar',ylabel='Суммарные продажи игр',xlabel='PS');"
   ]
  },
  {
   "cell_type": "code",
   "execution_count": 19,
   "metadata": {},
   "outputs": [
    {
     "data": {
      "image/png": "[encoded data removed]",
      "text/plain": [
       "<Figure size 432x288 with 1 Axes>"
      ]
     },
     "metadata": {
      "needs_background": "light"
     },
     "output_type": "display_data"
    }
   ],
   "source": [
    "data.query('platform ==\"GBA\"').pivot_table(index='year_of_release',values='sum_sales',aggfunc='sum').plot(kind='bar',ylabel='Суммарные продажи игр',xlabel='GBA');"
   ]
  },
  {
   "cell_type": "code",
   "execution_count": 20,
   "metadata": {},
   "outputs": [
    {
     "data": {
      "image/png": "[encoded data removed]",
      "text/plain": [
       "<Figure size 432x288 with 1 Axes>"
      ]
     },
     "metadata": {
      "needs_background": "light"
     },
     "output_type": "display_data"
    }
   ],
   "source": [
    "data.query('platform ==\"PS4\"').pivot_table(index='year_of_release',values='sum_sales',aggfunc='sum').plot(kind='bar',ylabel='Суммарные продажи игр',xlabel='PS4');"
   ]
  },
  {
   "cell_type": "code",
   "execution_count": 21,
   "metadata": {},
   "outputs": [
    {
     "data": {
      "image/png": "[encoded data removed]",
      "text/plain": [
       "<Figure size 432x288 with 1 Axes>"
      ]
     },
     "metadata": {
      "needs_background": "light"
     },
     "output_type": "display_data"
    }
   ],
   "source": [
    "data.query('platform ==\"PSP\"').pivot_table(index='year_of_release',values='sum_sales',aggfunc='sum').plot(kind='bar',ylabel='Суммарные продажи игр',xlabel='PSP');"
   ]
  },
  {
   "cell_type": "code",
   "execution_count": 22,
   "metadata": {},
   "outputs": [
    {
     "data": {
      "image/png": "[encoded data removed]",
      "text/plain": [
       "<Figure size 432x288 with 1 Axes>"
      ]
     },
     "metadata": {
      "needs_background": "light"
     },
     "output_type": "display_data"
    }
   ],
   "source": [
    "data.query('platform ==\"GB\"').pivot_table(index='year_of_release',values='sum_sales',aggfunc='sum').plot(kind='bar',ylabel='Суммарные продажи игр',xlabel='GB');"
   ]
  },
  {
   "cell_type": "markdown",
   "metadata": {},
   "source": [
    "GB появилась в 1988 исчезла в 2001, пик в 2000.\\\n",
    "PSP появилась в 2004 исчезла в 2015,пик в 2006,2010 годах.\\\n",
    "PS4 поиявился в 2013.\\\n",
    "GBA появилась в 2000,исчезла в 2007,пик в 2002.\\\n",
    "PS появиласьв 1994 исчезла в 2003,пик в 1998.\\\n",
    "DS появилась в 1985,была  популярна с 2004 до 2013,когда и исчезла.\\\n",
    "PS3 появилась в 2006,пик в 2011,исчезла в 2016.\\\n",
    "WII появилась в 2006,пик в 2009,исчезла в 2016.\\\n",
    "X360 появиласьв 2005,пик - 2011,исчезла в 2016.\\\n",
    "PS2 появилась в 2000, пик 2002, исчезла в в 2011\\"
   ]
  },
  {
   "cell_type": "markdown",
   "metadata": {},
   "source": [
    "Заметим, что в среднем каждая платформа популярна 5 лет. За это время появляется новая и становится популярней.Таким образом, актуальный период - 5 лет. Возьмем данные начиная с 2011 года."
   ]
  },
  {
   "cell_type": "markdown",
   "metadata": {},
   "source": [
    "\n",
    "Рассмотрим период с 2014 по 2016 годы.</div>\n",
    "    "
   ]
  },
  {
   "cell_type": "code",
   "execution_count": 23,
   "metadata": {},
   "outputs": [
    {
     "data": {
      "image/png": "[encoded data removed]",
      "text/plain": [
       "<Figure size 432x288 with 1 Axes>"
      ]
     },
     "metadata": {
      "needs_background": "light"
     },
     "output_type": "display_data"
    }
   ],
   "source": [
    "data = data.query('year_of_release > 2013')\n",
    "data.pivot_table(index='platform',values='sum_sales',aggfunc='sum').sort_values(by='sum_sales',ascending=False).plot(kind='bar',ylabel='Сумма продаж за актуальный период');\n"
   ]
  },
  {
   "cell_type": "code",
   "execution_count": 24,
   "metadata": {},
   "outputs": [
    {
     "data": {
      "image/png": "[encoded data removed]",
      "text/plain": [
       "<Figure size 432x288 with 1 Axes>"
      ]
     },
     "metadata": {
      "needs_background": "light"
     },
     "output_type": "display_data"
    }
   ],
   "source": [
    "data.query('platform ==\"PS4\"').pivot_table(index='year_of_release',values='sum_sales',aggfunc='sum').plot(kind='bar',ylabel='Сумма продаж',xlabel='PS4');"
   ]
  },
  {
   "cell_type": "code",
   "execution_count": 25,
   "metadata": {},
   "outputs": [
    {
     "data": {
      "image/png": "[encoded data removed]",
      "text/plain": [
       "<Figure size 432x288 with 1 Axes>"
      ]
     },
     "metadata": {
      "needs_background": "light"
     },
     "output_type": "display_data"
    }
   ],
   "source": [
    "data.query('platform ==\"XOne\"').pivot_table(index='year_of_release',values='sum_sales',aggfunc='sum').plot(kind='bar',ylabel='Сумма продаж',xlabel='XOne');"
   ]
  },
  {
   "cell_type": "code",
   "execution_count": 26,
   "metadata": {},
   "outputs": [
    {
     "data": {
      "image/png": "[encoded data removed]",
      "text/plain": [
       "<Figure size 432x288 with 1 Axes>"
      ]
     },
     "metadata": {
      "needs_background": "light"
     },
     "output_type": "display_data"
    }
   ],
   "source": [
    "data.query('platform ==\"3DS\"').pivot_table(index='year_of_release',values='sum_sales',aggfunc='sum').plot(kind='bar',ylabel='Сумма продаж',xlabel='3DS');"
   ]
  },
  {
   "cell_type": "code",
   "execution_count": 27,
   "metadata": {},
   "outputs": [
    {
     "data": {
      "image/png": "[encoded data removed]",
      "text/plain": [
       "<Figure size 432x288 with 1 Axes>"
      ]
     },
     "metadata": {
      "needs_background": "light"
     },
     "output_type": "display_data"
    }
   ],
   "source": [
    "data.query('platform ==\"PS3\"').pivot_table(index='year_of_release',values='sum_sales',aggfunc='sum').plot(kind='bar',ylabel='Сумма продаж',xlabel='PS3');"
   ]
  },
  {
   "cell_type": "code",
   "execution_count": 28,
   "metadata": {},
   "outputs": [
    {
     "data": {
      "image/png": "[encoded data removed]",
      "text/plain": [
       "<Figure size 432x288 with 1 Axes>"
      ]
     },
     "metadata": {
      "needs_background": "light"
     },
     "output_type": "display_data"
    }
   ],
   "source": [
    "data.query('platform ==\"X360\"').pivot_table(index='year_of_release',values='sum_sales',aggfunc='sum').plot(kind='bar',ylabel='Сумма продаж',xlabel='X360');"
   ]
  },
  {
   "cell_type": "code",
   "execution_count": 29,
   "metadata": {},
   "outputs": [
    {
     "data": {
      "image/png": "[encoded data removed]",
      "text/plain": [
       "<Figure size 432x288 with 1 Axes>"
      ]
     },
     "metadata": {
      "needs_background": "light"
     },
     "output_type": "display_data"
    }
   ],
   "source": [
    "data.query('platform ==\"WiiU\"').pivot_table(index='year_of_release',values='sum_sales',aggfunc='sum').plot(kind='bar',ylabel='Сумма продаж',xlabel='WiiU');"
   ]
  },
  {
   "cell_type": "code",
   "execution_count": 30,
   "metadata": {},
   "outputs": [
    {
     "data": {
      "image/png": "[encoded data removed]",
      "text/plain": [
       "<Figure size 432x288 with 1 Axes>"
      ]
     },
     "metadata": {
      "needs_background": "light"
     },
     "output_type": "display_data"
    }
   ],
   "source": [
    "data.query('platform ==\"PC\"').pivot_table(index='year_of_release',values='sum_sales',aggfunc='sum').plot(kind='bar',ylabel='Сумма продаж',xlabel='PC');"
   ]
  },
  {
   "cell_type": "code",
   "execution_count": 31,
   "metadata": {},
   "outputs": [
    {
     "data": {
      "image/png": "[encoded data removed]",
      "text/plain": [
       "<Figure size 432x288 with 1 Axes>"
      ]
     },
     "metadata": {
      "needs_background": "light"
     },
     "output_type": "display_data"
    }
   ],
   "source": [
    "data.query('platform ==\"PSV\"').pivot_table(index='year_of_release',values='sum_sales',aggfunc='sum').plot(kind='bar',ylabel='Сумма продаж',xlabel='PSV');"
   ]
  },
  {
   "cell_type": "code",
   "execution_count": 32,
   "metadata": {},
   "outputs": [
    {
     "data": {
      "image/png": "[encoded data removed]",
      "text/plain": [
       "<Figure size 432x288 with 1 Axes>"
      ]
     },
     "metadata": {
      "needs_background": "light"
     },
     "output_type": "display_data"
    }
   ],
   "source": [
    "data.query('platform ==\"Wii\"').pivot_table(index='year_of_release',values='sum_sales',aggfunc='sum').plot(kind='bar',ylabel='Сумма продаж',xlabel='Wii');"
   ]
  },
  {
   "cell_type": "code",
   "execution_count": 33,
   "metadata": {},
   "outputs": [
    {
     "data": {
      "image/png": "[encoded data removed]",
      "text/plain": [
       "<Figure size 432x288 with 1 Axes>"
      ]
     },
     "metadata": {
      "needs_background": "light"
     },
     "output_type": "display_data"
    }
   ],
   "source": [
    "data.query('platform ==\"PSP\"').pivot_table(index='year_of_release',values='sum_sales',aggfunc='sum').plot(kind='bar',ylabel='Сумма продаж',xlabel='PSP');"
   ]
  },
  {
   "cell_type": "markdown",
   "metadata": {},
   "source": [
    "Заметим, что к 2016 году многие платформы потеряли свою популярность.PS4 продала 60 млн,XOne  20 млн,PC 5 млн,PCV 4 млн,Wiiu 5 млн"
   ]
  },
  {
   "cell_type": "markdown",
   "metadata": {},
   "source": [
    "\n",
    "\n",
    "Лидируют по продажам PS4,XOne с разницой в 150 млн, и 3DS. На платформах PS4  , Xone и  3DS,за 2016 продали в 2 раза меньше чем в  2016.\\\n",
    "А на Других платформах PS3,X360 Wiiu , Wii  за год уменьшилась в 4-5 раз. На них продажи резко упали.\n",
    "</div>\n",
    "    "
   ]
  },
  {
   "cell_type": "code",
   "execution_count": 34,
   "metadata": {
    "scrolled": true
   },
   "outputs": [
    {
     "data": {
      "image/png": "[encoded data removed]",
      "text/plain": [
       "<Figure size 432x288 with 1 Axes>"
      ]
     },
     "metadata": {
      "needs_background": "light"
     },
     "output_type": "display_data"
    }
   ],
   "source": [
    "data.query('platform ==\"PS4\"').pivot_table(index='year_of_release',values='sum_sales',aggfunc='sum').boxplot();"
   ]
  },
  {
   "cell_type": "code",
   "execution_count": 35,
   "metadata": {},
   "outputs": [
    {
     "data": {
      "image/png": "[encoded data removed]",
      "text/plain": [
       "<Figure size 432x288 with 1 Axes>"
      ]
     },
     "metadata": {
      "needs_background": "light"
     },
     "output_type": "display_data"
    }
   ],
   "source": [
    "data.query('platform ==\"XOne\"').pivot_table(index='year_of_release',values='sum_sales',aggfunc='sum').boxplot();"
   ]
  },
  {
   "cell_type": "code",
   "execution_count": 36,
   "metadata": {},
   "outputs": [
    {
     "data": {
      "image/png": "[encoded data removed]",
      "text/plain": [
       "<Figure size 432x288 with 1 Axes>"
      ]
     },
     "metadata": {
      "needs_background": "light"
     },
     "output_type": "display_data"
    }
   ],
   "source": [
    "data.query('platform ==\"PC\"').pivot_table(index='year_of_release',values='sum_sales',aggfunc='sum').boxplot();"
   ]
  },
  {
   "cell_type": "code",
   "execution_count": 37,
   "metadata": {},
   "outputs": [
    {
     "data": {
      "image/png": "[encoded data removed]",
      "text/plain": [
       "<Figure size 432x288 with 1 Axes>"
      ]
     },
     "metadata": {
      "needs_background": "light"
     },
     "output_type": "display_data"
    }
   ],
   "source": [
    "data.query('platform ==\"PSV\"').pivot_table(index='year_of_release',values='sum_sales',aggfunc='sum').boxplot();"
   ]
  },
  {
   "cell_type": "code",
   "execution_count": 38,
   "metadata": {
    "scrolled": true
   },
   "outputs": [
    {
     "data": {
      "image/png": "[encoded data removed]",
      "text/plain": [
       "<Figure size 432x288 with 1 Axes>"
      ]
     },
     "metadata": {
      "needs_background": "light"
     },
     "output_type": "display_data"
    }
   ],
   "source": [
    "data.query('platform ==\"WiiU\"').pivot_table(index='year_of_release',values='sum_sales',aggfunc='sum').boxplot();"
   ]
  },
  {
   "cell_type": "markdown",
   "metadata": {},
   "source": [
    "Самые популярные это PS4,XOne,PC, их среднее и медианное значения больше остальных."
   ]
  },
  {
   "cell_type": "code",
   "execution_count": 39,
   "metadata": {},
   "outputs": [
    {
     "name": "stdout",
     "output_type": "stream",
     "text": [
      "        Shooter  Action  Role-Playing  Sports  Fighting  Racing    Misc  \\\n",
      "count    128.00  619.00        221.00  161.00     60.00   69.00  113.00   \n",
      "unique   104.00  153.00         90.00   95.00     45.00   39.00   55.00   \n",
      "top        0.02    0.02          0.03    0.01      0.03    0.03    0.02   \n",
      "freq       8.00   71.00         25.00   12.00      5.00    9.00   13.00   \n",
      "\n",
      "        Platform  Simulation  Adventure  Puzzle  Strategy  \n",
      "count      38.00       44.00     185.00   14.00     37.00  \n",
      "unique     31.00       29.00      38.00   10.00     19.00  \n",
      "top         0.01        0.01       0.02    0.01      0.01  \n",
      "freq        3.00        8.00      41.00    3.00      5.00  \n"
     ]
    },
    {
     "data": {
      "image/png": "[encoded data removed]",
      "text/plain": [
       "<Figure size 432x288 with 1 Axes>"
      ]
     },
     "metadata": {
      "needs_background": "light"
     },
     "output_type": "display_data"
    }
   ],
   "source": [
    "k = pd.DataFrame(columns = data['genre'].unique(),data = data['sum_sales'])\n",
    "for i in data['genre'].unique():\n",
    "    for j in data['genre'].index:\n",
    "           if data.loc[j,'genre'] == i:\n",
    "                k.loc[j,i] = data.loc[j,'sum_sales']\n",
    "\n",
    "print(k.describe())\n",
    "k = k.fillna(-1)\n",
    "k.boxplot()\n",
    "plt.ylim(0, 15)\n",
    "plt.show()"
   ]
  },
  {
   "cell_type": "code",
   "execution_count": 40,
   "metadata": {
    "scrolled": true
   },
   "outputs": [
    {
     "data": {
      "image/png": "[encoded data removed]",
      "text/plain": [
       "<Figure size 432x288 with 1 Axes>"
      ]
     },
     "metadata": {
      "needs_background": "light"
     },
     "output_type": "display_data"
    }
   ],
   "source": [
    "k.boxplot()\n",
    "plt.ylim(0, 5)\n",
    "plt.show()"
   ]
  },
  {
   "cell_type": "markdown",
   "metadata": {},
   "source": []
  },
  {
   "cell_type": "code",
   "execution_count": 41,
   "metadata": {},
   "outputs": [
    {
     "data": {
      "image/png": "[encoded data removed]",
      "text/plain": [
       "<Figure size 936x576 with 1 Axes>"
      ]
     },
     "metadata": {
      "needs_background": "light"
     },
     "output_type": "display_data"
    }
   ],
   "source": [
    "plt.figure(figsize=(13, 8))\n",
    "(sns.boxplot(data = data, y = 'sum_sales', x='platform')\n",
    "    .set(title = 'Продажи по перспективным платформам за 2014-2016 гг', xlabel = 'Платформы', ylabel = 'Общие продажи', ylim=(0, 3)))\n",
    "plt.show()"
   ]
  },
  {
   "cell_type": "code",
   "execution_count": 42,
   "metadata": {},
   "outputs": [
    {
     "data": {
      "image/png": "[encoded data removed]",
      "text/plain": [
       "<Figure size 432x288 with 1 Axes>"
      ]
     },
     "metadata": {
      "needs_background": "light"
     },
     "output_type": "display_data"
    }
   ],
   "source": [
    "data_cor = data.query('critic_score > -5')\n",
    "data_cor.query('platform == \"PS4\"').plot(kind='scatter',x='critic_score',y='sum_sales');"
   ]
  },
  {
   "cell_type": "code",
   "execution_count": 43,
   "metadata": {},
   "outputs": [
    {
     "data": {
      "image/png": "[encoded data removed]",
      "text/plain": [
       "<Figure size 432x288 with 1 Axes>"
      ]
     },
     "metadata": {
      "needs_background": "light"
     },
     "output_type": "display_data"
    }
   ],
   "source": [
    "data_cor = data.query('user_score > -5')\n",
    "data_cor.query('platform == \"PS4\"').plot(kind='scatter',x='user_score',y='sum_sales');"
   ]
  },
  {
   "cell_type": "code",
   "execution_count": 72,
   "metadata": {},
   "outputs": [
    {
     "name": "stdout",
     "output_type": "stream",
     "text": [
      "0.40266141068104083\n",
      "-0.040131589472697356\n"
     ]
    }
   ],
   "source": [
    "print(data.query('platform == \"PS4\" and critic_score > -5')['critic_score'].corr(data.query('platform == \"PS4\"')['sum_sales']))\n",
    "print(data.query('platform == \"PS4\" and user_score > -5')['user_score'].corr(data.query('platform == \"PS4\"')['sum_sales']))"
   ]
  },
  {
   "cell_type": "code",
   "execution_count": 45,
   "metadata": {},
   "outputs": [
    {
     "data": {
      "image/png": "[encoded data removed]",
      "text/plain": [
       "<Figure size 432x288 with 9 Axes>"
      ]
     },
     "metadata": {
      "needs_background": "light"
     },
     "output_type": "display_data"
    }
   ],
   "source": [
    "pd.plotting.scatter_matrix(data.query('platform == \"PS4\" and (critic_score>-5) and user_score >-5')[['critic_score','user_score','sum_sales']]);"
   ]
  },
  {
   "cell_type": "markdown",
   "metadata": {},
   "source": [
    "Чем ввыше оценки ,тем больше продаж."
   ]
  },
  {
   "cell_type": "code",
   "execution_count": 46,
   "metadata": {},
   "outputs": [
    {
     "data": {
      "image/png": "[encoded data removed]",
      "text/plain": [
       "<Figure size 432x288 with 1 Axes>"
      ]
     },
     "metadata": {
      "needs_background": "light"
     },
     "output_type": "display_data"
    }
   ],
   "source": [
    "data.query('platform == \"XOne and critic_score > -5\"').plot(kind='scatter',x='critic_score',y='sum_sales');"
   ]
  },
  {
   "cell_type": "code",
   "execution_count": 47,
   "metadata": {},
   "outputs": [
    {
     "data": {
      "image/png": "[encoded data removed]",
      "text/plain": [
       "<Figure size 432x288 with 1 Axes>"
      ]
     },
     "metadata": {
      "needs_background": "light"
     },
     "output_type": "display_data"
    }
   ],
   "source": [
    "data.query('platform == \"XOne\" and user_score > -5').plot(kind='scatter',x='user_score',y='sum_sales');"
   ]
  },
  {
   "cell_type": "code",
   "execution_count": 73,
   "metadata": {},
   "outputs": [
    {
     "name": "stdout",
     "output_type": "stream",
     "text": [
      "nan\n",
      "-0.0703839280647581\n"
     ]
    }
   ],
   "source": [
    "print(data.query('platform == \"XOne and critic_score > -5\"')['critic_score'].corr(data.query('platform == \"XOne\"')['sum_sales']))\n",
    "print(data.query('platform == \"XOne\" and user_score > -5')['user_score'].corr(data.query('platform == \"XOne\"')['sum_sales']))"
   ]
  },
  {
   "cell_type": "code",
   "execution_count": 49,
   "metadata": {},
   "outputs": [
    {
     "data": {
      "image/png": "[encoded data removed]",
      "text/plain": [
       "<Figure size 432x288 with 9 Axes>"
      ]
     },
     "metadata": {
      "needs_background": "light"
     },
     "output_type": "display_data"
    }
   ],
   "source": [
    "pd.plotting.scatter_matrix(data.query('platform == \"XOne\" and critic_score > -5 and user_score > -5')[['critic_score','user_score','sum_sales']]);"
   ]
  },
  {
   "cell_type": "code",
   "execution_count": 50,
   "metadata": {},
   "outputs": [
    {
     "data": {
      "image/png": "[encoded data removed]",
      "text/plain": [
       "<Figure size 432x288 with 1 Axes>"
      ]
     },
     "metadata": {
      "needs_background": "light"
     },
     "output_type": "display_data"
    }
   ],
   "source": [
    "data.query('platform == \"3DS\" and critic_score > -5').plot(kind='scatter',x='critic_score',y='sum_sales');"
   ]
  },
  {
   "cell_type": "code",
   "execution_count": 51,
   "metadata": {},
   "outputs": [
    {
     "data": {
      "image/png": "[encoded data removed]",
      "text/plain": [
       "<Figure size 432x288 with 1 Axes>"
      ]
     },
     "metadata": {
      "needs_background": "light"
     },
     "output_type": "display_data"
    }
   ],
   "source": [
    "data.query('platform == \"3DS\" and user_score > -5').plot(kind='scatter',x='user_score',y='sum_sales');"
   ]
  },
  {
   "cell_type": "code",
   "execution_count": 68,
   "metadata": {},
   "outputs": [
    {
     "name": "stdout",
     "output_type": "stream",
     "text": [
      "0.314117492869051\n",
      "0.2151932718527028\n"
     ]
    }
   ],
   "source": [
    "print(data.query('platform == \"3DS\" and critic_score > -5')['critic_score'].corr(data.query('platform == \"3DS\" and critic_score > -5')['sum_sales']))\n",
    "print(data.query('platform == \"3DS\" and user_score > -5')['user_score'].corr(data.query('platform == \"3DS\" and user_score > -5')['sum_sales']))"
   ]
  },
  {
   "cell_type": "code",
   "execution_count": 53,
   "metadata": {},
   "outputs": [
    {
     "data": {
      "image/png": "[encoded data removed]",
      "text/plain": [
       "<Figure size 432x288 with 9 Axes>"
      ]
     },
     "metadata": {
      "needs_background": "light"
     },
     "output_type": "display_data"
    }
   ],
   "source": [
    "pd.plotting.scatter_matrix(data.query('platform == \"3DS\" and critic_score > -5 and user_score > -5')[['critic_score','user_score','sum_sales']]);"
   ]
  },
  {
   "cell_type": "markdown",
   "metadata": {},
   "source": [
    "Чем ввыше оценки ,тем больше продаж."
   ]
  },
  {
   "cell_type": "code",
   "execution_count": 86,
   "metadata": {},
   "outputs": [
    {
     "data": {
      "text/html": [
       "<div>\n",
       "<style scoped>\n",
       "    .dataframe tbody tr th:only-of-type {\n",
       "        vertical-align: middle;\n",
       "    }\n",
       "\n",
       "    .dataframe tbody tr th {\n",
       "        vertical-align: top;\n",
       "    }\n",
       "\n",
       "    .dataframe thead th {\n",
       "        text-align: right;\n",
       "    }\n",
       "</style>\n",
       "<table border=\"1\" class=\"dataframe\">\n",
       "  <thead>\n",
       "    <tr style=\"text-align: right;\">\n",
       "      <th></th>\n",
       "      <th>critic_score</th>\n",
       "      <th>user_score</th>\n",
       "    </tr>\n",
       "  </thead>\n",
       "  <tbody>\n",
       "    <tr>\n",
       "      <th>PS4</th>\n",
       "      <td>0.401903</td>\n",
       "      <td>-0.043186</td>\n",
       "    </tr>\n",
       "    <tr>\n",
       "      <th>3DS</th>\n",
       "      <td>0.284686</td>\n",
       "      <td>0.27985</td>\n",
       "    </tr>\n",
       "    <tr>\n",
       "      <th>XOne</th>\n",
       "      <td>0.422112</td>\n",
       "      <td>-0.091734</td>\n",
       "    </tr>\n",
       "  </tbody>\n",
       "</table>\n",
       "</div>"
      ],
      "text/plain": [
       "     critic_score user_score\n",
       "PS4      0.401903  -0.043186\n",
       "3DS      0.284686    0.27985\n",
       "XOne     0.422112  -0.091734"
      ]
     },
     "execution_count": 86,
     "metadata": {},
     "output_type": "execute_result"
    }
   ],
   "source": [
    "data_cor = pd.DataFrame(columns = ['critic_score','user_score'])\n",
    "for i in ['PS4','3DS','XOne']:\n",
    "    data_cor.loc[i,'critic_score'] = data.query('user_score > -5 and critic_score > -5 and platform == @i')['critic_score'].corr(data.query('user_score > -5 and critic_score > -5 and platform == @i')['sum_sales'])\n",
    "    data_cor.loc[i,'user_score'] = data.query('user_score > -5 and critic_score > -5 and platform == @i')['user_score'].corr(data.query('user_score > -5 and critic_score > -5 and platform == @i')['sum_sales'])\n",
    "data_cor"
   ]
  },
  {
   "cell_type": "code",
   "execution_count": 74,
   "metadata": {},
   "outputs": [
    {
     "data": {
      "text/html": [
       "<div>\n",
       "<style scoped>\n",
       "    .dataframe tbody tr th:only-of-type {\n",
       "        vertical-align: middle;\n",
       "    }\n",
       "\n",
       "    .dataframe tbody tr th {\n",
       "        vertical-align: top;\n",
       "    }\n",
       "\n",
       "    .dataframe thead th {\n",
       "        text-align: right;\n",
       "    }\n",
       "</style>\n",
       "<table border=\"1\" class=\"dataframe\">\n",
       "  <thead>\n",
       "    <tr style=\"text-align: right;\">\n",
       "      <th></th>\n",
       "      <th>year_of_release</th>\n",
       "      <th>na_sales</th>\n",
       "      <th>eu_sales</th>\n",
       "      <th>jp_sales</th>\n",
       "      <th>other_sales</th>\n",
       "      <th>critic_score</th>\n",
       "      <th>user_score</th>\n",
       "      <th>sum_sales</th>\n",
       "    </tr>\n",
       "  </thead>\n",
       "  <tbody>\n",
       "    <tr>\n",
       "      <th>year_of_release</th>\n",
       "      <td>1.000000</td>\n",
       "      <td>-0.129273</td>\n",
       "      <td>-0.083243</td>\n",
       "      <td>-0.093916</td>\n",
       "      <td>-0.090065</td>\n",
       "      <td>0.065150</td>\n",
       "      <td>0.013862</td>\n",
       "      <td>-0.119035</td>\n",
       "    </tr>\n",
       "    <tr>\n",
       "      <th>na_sales</th>\n",
       "      <td>-0.129273</td>\n",
       "      <td>1.000000</td>\n",
       "      <td>0.664557</td>\n",
       "      <td>0.248403</td>\n",
       "      <td>0.811223</td>\n",
       "      <td>0.330498</td>\n",
       "      <td>-0.000749</td>\n",
       "      <td>0.885560</td>\n",
       "    </tr>\n",
       "    <tr>\n",
       "      <th>eu_sales</th>\n",
       "      <td>-0.083243</td>\n",
       "      <td>0.664557</td>\n",
       "      <td>1.000000</td>\n",
       "      <td>0.215769</td>\n",
       "      <td>0.919598</td>\n",
       "      <td>0.268624</td>\n",
       "      <td>-0.034994</td>\n",
       "      <td>0.922617</td>\n",
       "    </tr>\n",
       "    <tr>\n",
       "      <th>jp_sales</th>\n",
       "      <td>-0.093916</td>\n",
       "      <td>0.248403</td>\n",
       "      <td>0.215769</td>\n",
       "      <td>1.000000</td>\n",
       "      <td>0.201978</td>\n",
       "      <td>0.128222</td>\n",
       "      <td>0.191007</td>\n",
       "      <td>0.365624</td>\n",
       "    </tr>\n",
       "    <tr>\n",
       "      <th>other_sales</th>\n",
       "      <td>-0.090065</td>\n",
       "      <td>0.811223</td>\n",
       "      <td>0.919598</td>\n",
       "      <td>0.201978</td>\n",
       "      <td>1.000000</td>\n",
       "      <td>0.287381</td>\n",
       "      <td>-0.013419</td>\n",
       "      <td>0.953329</td>\n",
       "    </tr>\n",
       "    <tr>\n",
       "      <th>critic_score</th>\n",
       "      <td>0.065150</td>\n",
       "      <td>0.330498</td>\n",
       "      <td>0.268624</td>\n",
       "      <td>0.128222</td>\n",
       "      <td>0.287381</td>\n",
       "      <td>1.000000</td>\n",
       "      <td>0.504460</td>\n",
       "      <td>0.325363</td>\n",
       "    </tr>\n",
       "    <tr>\n",
       "      <th>user_score</th>\n",
       "      <td>0.013862</td>\n",
       "      <td>-0.000749</td>\n",
       "      <td>-0.034994</td>\n",
       "      <td>0.191007</td>\n",
       "      <td>-0.013419</td>\n",
       "      <td>0.504460</td>\n",
       "      <td>1.000000</td>\n",
       "      <td>0.005202</td>\n",
       "    </tr>\n",
       "    <tr>\n",
       "      <th>sum_sales</th>\n",
       "      <td>-0.119035</td>\n",
       "      <td>0.885560</td>\n",
       "      <td>0.922617</td>\n",
       "      <td>0.365624</td>\n",
       "      <td>0.953329</td>\n",
       "      <td>0.325363</td>\n",
       "      <td>0.005202</td>\n",
       "      <td>1.000000</td>\n",
       "    </tr>\n",
       "  </tbody>\n",
       "</table>\n",
       "</div>"
      ],
      "text/plain": [
       "                 year_of_release  na_sales  eu_sales  jp_sales  other_sales  \\\n",
       "year_of_release         1.000000 -0.129273 -0.083243 -0.093916    -0.090065   \n",
       "na_sales               -0.129273  1.000000  0.664557  0.248403     0.811223   \n",
       "eu_sales               -0.083243  0.664557  1.000000  0.215769     0.919598   \n",
       "jp_sales               -0.093916  0.248403  0.215769  1.000000     0.201978   \n",
       "other_sales            -0.090065  0.811223  0.919598  0.201978     1.000000   \n",
       "critic_score            0.065150  0.330498  0.268624  0.128222     0.287381   \n",
       "user_score              0.013862 -0.000749 -0.034994  0.191007    -0.013419   \n",
       "sum_sales              -0.119035  0.885560  0.922617  0.365624     0.953329   \n",
       "\n",
       "                 critic_score  user_score  sum_sales  \n",
       "year_of_release      0.065150    0.013862  -0.119035  \n",
       "na_sales             0.330498   -0.000749   0.885560  \n",
       "eu_sales             0.268624   -0.034994   0.922617  \n",
       "jp_sales             0.128222    0.191007   0.365624  \n",
       "other_sales          0.287381   -0.013419   0.953329  \n",
       "critic_score         1.000000    0.504460   0.325363  \n",
       "user_score           0.504460    1.000000   0.005202  \n",
       "sum_sales            0.325363    0.005202   1.000000  "
      ]
     },
     "execution_count": 74,
     "metadata": {},
     "output_type": "execute_result"
    }
   ],
   "source": [
    "data.query('critic_score > -5 and user_score > -5').corr()"
   ]
  },
  {
   "cell_type": "markdown",
   "metadata": {},
   "source": [
    "\n",
    "\n",
    "Для пользователей PS4 коэффицент корреляции: между отзывами критиков и продажами умеренная(0.4) и между отзывами пользователей и продажами слабая.\\\n",
    "Для пользователей 3DS коэффицент корелляции: между отзывами критиков и продажами слабая(0.28) и между отзывами пользователей и продажами слабая 0.27\\\n",
    "Для пользователей XOne коэффицент корреляции: между отзывами критиков и продажами умеренная(0.42) и между отзывами пользователей и продажами слабая.</div>"
   ]
  },
  {
   "cell_type": "code",
   "execution_count": 54,
   "metadata": {},
   "outputs": [
    {
     "data": {
      "image/png": "[encoded data removed]",
      "text/plain": [
       "<Figure size 432x288 with 1 Axes>"
      ]
     },
     "metadata": {
      "needs_background": "light"
     },
     "output_type": "display_data"
    }
   ],
   "source": [
    "data.pivot_table(index='genre',values='sum_sales',aggfunc='count').sort_values(by='sum_sales',ascending=False).plot(kind='bar',xlabel='Жанр',ylabel='Количество игр');"
   ]
  },
  {
   "cell_type": "code",
   "execution_count": 55,
   "metadata": {},
   "outputs": [
    {
     "data": {
      "image/png": "[encoded data removed]",
      "text/plain": [
       "<Figure size 432x288 with 1 Axes>"
      ]
     },
     "metadata": {
      "needs_background": "light"
     },
     "output_type": "display_data"
    }
   ],
   "source": [
    "data.pivot_table(index='genre',values='sum_sales',aggfunc='sum').sort_values(by='sum_sales',ascending=False).plot(kind='bar',xlabel='Жанр',ylabel='Суммы продаж');"
   ]
  },
  {
   "cell_type": "markdown",
   "metadata": {},
   "source": [
    "Самые прибылбные жанры: action,shooter,role-playing,sports,misc.\\\n",
    "Выделяются жанры с высокими продажами : action,shooter,role-playing.Жанры с маленькими продажами :puzzle,strategy,adventure.\n"
   ]
  },
  {
   "cell_type": "code",
   "execution_count": 56,
   "metadata": {},
   "outputs": [
    {
     "data": {
      "image/png": "[encoded data removed]",
      "text/plain": [
       "<Figure size 432x288 with 1 Axes>"
      ]
     },
     "metadata": {
      "needs_background": "light"
     },
     "output_type": "display_data"
    }
   ],
   "source": [
    "data.pivot_table(index='genre',values='sum_sales',aggfunc=['median','mean']).plot(kind='bar',xlabel='Жанр',ylabel='Количество игр');"
   ]
  },
  {
   "cell_type": "markdown",
   "metadata": {},
   "source": [
    "#  Составим портрет пользователя каждого региона"
   ]
  },
  {
   "cell_type": "code",
   "execution_count": 57,
   "metadata": {},
   "outputs": [
    {
     "data": {
      "image/png": "[encoded data removed]",
      "text/plain": [
       "<Figure size 432x288 with 1 Axes>"
      ]
     },
     "metadata": {
      "needs_background": "light"
     },
     "output_type": "display_data"
    }
   ],
   "source": [
    "data.pivot_table(index='platform',values='na_sales',aggfunc='sum').sort_values(by='na_sales',ascending=False)[:5].plot(kind='bar');"
   ]
  },
  {
   "cell_type": "code",
   "execution_count": 58,
   "metadata": {},
   "outputs": [
    {
     "data": {
      "image/png": "[encoded data removed]",
      "text/plain": [
       "<Figure size 432x288 with 1 Axes>"
      ]
     },
     "metadata": {
      "needs_background": "light"
     },
     "output_type": "display_data"
    }
   ],
   "source": [
    "data.pivot_table(index='platform',values='jp_sales',aggfunc='sum').sort_values(by='jp_sales',ascending=False)[:5].plot(kind='bar');"
   ]
  },
  {
   "cell_type": "code",
   "execution_count": 59,
   "metadata": {},
   "outputs": [
    {
     "data": {
      "image/png": "[encoded data removed]",
      "text/plain": [
       "<Figure size 432x288 with 1 Axes>"
      ]
     },
     "metadata": {
      "needs_background": "light"
     },
     "output_type": "display_data"
    }
   ],
   "source": [
    "data.pivot_table(index='platform',values='eu_sales',aggfunc='sum').sort_values(by='eu_sales',ascending=False)[:5].plot(kind='bar');"
   ]
  },
  {
   "cell_type": "markdown",
   "metadata": {},
   "source": [
    "X360 в Америке продали свыше 200 млн игр,в Японии даже не вошли в топ 5,в Европе 120 млн копий.\\\n",
    "PS3 в Америке продали свыше 150 млн,в Японии около 50, а в Европе свыше 160.\\\n",
    "PS4 в Америке продали около 100 млн, в Японии около 20,в Европе около 140.\\\n",
    "3DS В Америке продали около 100 млн, в Японии 100 млн,а в Европе около 60.\\"
   ]
  },
  {
   "cell_type": "code",
   "execution_count": 60,
   "metadata": {},
   "outputs": [
    {
     "data": {
      "image/png": "[encoded data removed]",
      "text/plain": [
       "<Figure size 432x288 with 1 Axes>"
      ]
     },
     "metadata": {
      "needs_background": "light"
     },
     "output_type": "display_data"
    }
   ],
   "source": [
    "data.pivot_table(index='genre',values='na_sales',aggfunc='sum').sort_values(by='na_sales',ascending=False)[:5].plot(kind='bar');"
   ]
  },
  {
   "cell_type": "code",
   "execution_count": 61,
   "metadata": {},
   "outputs": [
    {
     "data": {
      "image/png": "[encoded data removed]",
      "text/plain": [
       "<Figure size 432x288 with 1 Axes>"
      ]
     },
     "metadata": {
      "needs_background": "light"
     },
     "output_type": "display_data"
    }
   ],
   "source": [
    "data.pivot_table(index='genre',values='jp_sales',aggfunc='sum').sort_values(by='jp_sales',ascending=False)[:5].plot(kind='bar');"
   ]
  },
  {
   "cell_type": "code",
   "execution_count": 62,
   "metadata": {},
   "outputs": [
    {
     "data": {
      "image/png": "[encoded data removed]",
      "text/plain": [
       "<Figure size 432x288 with 1 Axes>"
      ]
     },
     "metadata": {
      "needs_background": "light"
     },
     "output_type": "display_data"
    }
   ],
   "source": [
    "data.pivot_table(index='genre',values='eu_sales',aggfunc='sum').sort_values(by='eu_sales',ascending=False)[:5].plot(kind='bar');"
   ]
  },
  {
   "cell_type": "markdown",
   "metadata": {},
   "source": [
    "В Америке и Европе популярны action, shooter,sports,role-playing жанры.Отличаются лишь позиции под номером 5 в Америке это Misc а в Европе- это racing.По-моему мнению, схожесть в предпочтениях обусловлена тем,что американцы являются потомками европейцев.\\\n",
    "В Японии же этот список кардинально другой. Самые популярные это role-playing,action,misc,fighting.Я думаю, это связано с тем, что менталитет и культура этих стран сильно отличается."
   ]
  },
  {
   "cell_type": "code",
   "execution_count": 63,
   "metadata": {},
   "outputs": [
    {
     "data": {
      "image/png": "[encoded data removed]",
      "text/plain": [
       "<Figure size 432x288 with 1 Axes>"
      ]
     },
     "metadata": {
      "needs_background": "light"
     },
     "output_type": "display_data"
    }
   ],
   "source": [
    "data.pivot_table(index='rating',values = 'na_sales',aggfunc='sum').sort_values(by='na_sales',ascending=False).plot(kind='bar');"
   ]
  },
  {
   "cell_type": "code",
   "execution_count": 64,
   "metadata": {},
   "outputs": [
    {
     "data": {
      "image/png": "[encoded data removed]",
      "text/plain": [
       "<Figure size 432x288 with 1 Axes>"
      ]
     },
     "metadata": {
      "needs_background": "light"
     },
     "output_type": "display_data"
    }
   ],
   "source": [
    "data.pivot_table(index='rating',values = 'jp_sales',aggfunc='sum').sort_values(by='jp_sales',ascending=False).plot(kind='bar');"
   ]
  },
  {
   "cell_type": "code",
   "execution_count": 65,
   "metadata": {},
   "outputs": [
    {
     "data": {
      "image/png": "[encoded data removed]",
      "text/plain": [
       "<Figure size 432x288 with 1 Axes>"
      ]
     },
     "metadata": {
      "needs_background": "light"
     },
     "output_type": "display_data"
    }
   ],
   "source": [
    "data.pivot_table(index='rating',values = 'eu_sales',aggfunc='sum').sort_values(by='eu_sales',ascending=False).plot(kind='bar');"
   ]
  },
  {
   "cell_type": "markdown",
   "metadata": {},
   "source": [
    "В Амеркие популярны :M,E,T+\\\n",
    "\n",
    "В Европе популярны: M,E,T"
   ]
  },
  {
   "cell_type": "markdown",
   "metadata": {},
   "source": [
    "\n",
    "В Японии больше 80 млн пропусков а затем идут T,E,M.</div>"
   ]
  },
  {
   "cell_type": "markdown",
   "metadata": {},
   "source": [
    "# Проверка Гипотез"
   ]
  },
  {
   "cell_type": "markdown",
   "metadata": {},
   "source": [
    "H0: Средние пользовательские рейтинги платформ Xbox One и PC одинаковые;\\\n",
    "H1: Среднийе пользовательские рейтинги платформ Xbox One и PC не равны."
   ]
  },
  {
   "cell_type": "code",
   "execution_count": 66,
   "metadata": {
    "scrolled": true
   },
   "outputs": [
    {
     "name": "stdout",
     "output_type": "stream",
     "text": [
      "p-значение:  0.10450507919348415\n",
      "Не получилось отвергнуть нулевую гипотезу\n"
     ]
    }
   ],
   "source": [
    "\n",
    "\n",
    "xone = data.query('platform == \"XOne\" and user_score > -5')['user_score'].values\n",
    "pc = data.query('platform == \"PC\" and user_score > -5')['user_score'].values\n",
    "results = st.ttest_ind(xone,pc,equal_var = True)\n",
    "\n",
    "alpha = .05\n",
    "\n",
    "print('p-значение: ', results.pvalue)\n",
    "if results.pvalue < alpha:\n",
    "    print(\"Отвергаем нулевую гипотезу\")\n",
    "else:\n",
    "    print(\"Не получилось отвергнуть нулевую гипотезу\")"
   ]
  },
  {
   "cell_type": "markdown",
   "metadata": {},
   "source": [
    "У нас нет оснований утверждать, что средние пользовательские рейтинги платформ Xbox One и PC значимо различаются."
   ]
  },
  {
   "cell_type": "markdown",
   "metadata": {},
   "source": [
    "H0: Средние пользовательские рейтинги жанров Action и Sports одинаковы\\\n",
    "H1: Средние пользовательские рейтинги жанров Action и Sports не равны.\n"
   ]
  },
  {
   "cell_type": "code",
   "execution_count": 67,
   "metadata": {},
   "outputs": [
    {
     "name": "stdout",
     "output_type": "stream",
     "text": [
      "p-значение:  2.8711147985105864e-19\n",
      "Отвергаем нулевую гипотезу\n"
     ]
    }
   ],
   "source": [
    "\n",
    "action = data.query('genre == \"Action\" and user_score > -5')['user_score'].values\n",
    "sport = data.query('genre == \"Sports\" and user_score > -5')['user_score'].values\n",
    "    \n",
    "results = st.ttest_ind(action,sport)\n",
    "\n",
    "alpha = .05\n",
    "\n",
    "print('p-значение: ', results.pvalue)\n",
    "if results.pvalue < alpha:\n",
    "    print(\"Отвергаем нулевую гипотезу\")\n",
    "else:\n",
    "    print(\"Не получилось отвергнуть нулевую гипотезу\")"
   ]
  },
  {
   "cell_type": "code",
   "execution_count": null,
   "metadata": {},
   "outputs": [],
   "source": []
  },
  {
   "cell_type": "markdown",
   "metadata": {},
   "source": [
    "Значит, средние пользовательские рейтинги жанров Action и Sports не равны."
   ]
  },
  {
   "cell_type": "markdown",
   "metadata": {},
   "source": [
    "# Вывод"
   ]
  },
  {
   "cell_type": "markdown",
   "metadata": {},
   "source": [
    " В Америке успешными будут игры на платформах PS4,Xone,X360(c продажами 100,80,25 млн соответственно) в жанрах shooter,action и sports(80,70,45 млн копий соответственно), рейтингом M,E,T(100,50,40).\\\n",
    " В Япониии будут успешными игры на платформах 3DS,PS4,PSV(45,15,15 млн соответственно), в жанрах role_playing,action,fighting(30,29,6) и рейтингом T,E,M(15,9,8).\\\n",
    "    В Европе будут успешными игры на платформах PS4,Xone,PS3(130,30,30 млн) в жанрах action,shooter,sports(75,65,45 млн) и рейтингом M,E,T(90,60,40)"
   ]
  },
  {
   "cell_type": "markdown",
   "metadata": {},
   "source": [
    "При выстраивании стратегии нужно учесть отзывы,потому что они оказывают влияние на продажи.Отзывы критиков оказывает умеренное воздействие на продажи(0.32). А отзывы пользователей оказывают слабое воздействие на продажи.\n",
    "    <div>"
   ]
  }
 ],
 "metadata": {
  "ExecuteTimeLog": [
   {
    "duration": 520,
    "start_time": "2022-06-24T06:46:31.853Z"
   },
   {
    "duration": 112,
    "start_time": "2022-06-24T06:46:46.496Z"
   },
   {
    "duration": 84,
    "start_time": "2022-06-24T06:46:53.091Z"
   },
   {
    "duration": 67,
    "start_time": "2022-06-24T06:47:24.155Z"
   },
   {
    "duration": 85,
    "start_time": "2022-06-24T06:47:32.088Z"
   },
   {
    "duration": 94,
    "start_time": "2022-06-24T06:47:52.318Z"
   },
   {
    "duration": 83,
    "start_time": "2022-06-24T06:48:01.245Z"
   },
   {
    "duration": 68,
    "start_time": "2022-06-24T06:53:23.026Z"
   },
   {
    "duration": 6,
    "start_time": "2022-06-24T06:56:59.383Z"
   },
   {
    "duration": 39,
    "start_time": "2022-06-24T06:57:06.018Z"
   },
   {
    "duration": 9,
    "start_time": "2022-06-24T06:58:21.275Z"
   },
   {
    "duration": 19,
    "start_time": "2022-06-24T07:01:42.822Z"
   },
   {
    "duration": 13,
    "start_time": "2022-06-24T07:02:20.246Z"
   },
   {
    "duration": 12,
    "start_time": "2022-06-24T07:02:33.577Z"
   },
   {
    "duration": 18,
    "start_time": "2022-06-24T07:02:56.332Z"
   },
   {
    "duration": 12,
    "start_time": "2022-06-24T07:59:44.638Z"
   },
   {
    "duration": 13,
    "start_time": "2022-06-24T08:00:23.268Z"
   },
   {
    "duration": 14,
    "start_time": "2022-06-24T08:00:50.466Z"
   },
   {
    "duration": 11,
    "start_time": "2022-06-24T08:02:06.839Z"
   },
   {
    "duration": 10,
    "start_time": "2022-06-24T08:02:18.302Z"
   },
   {
    "duration": 6,
    "start_time": "2022-06-24T08:02:30.751Z"
   },
   {
    "duration": 6,
    "start_time": "2022-06-24T08:10:41.485Z"
   },
   {
    "duration": 36,
    "start_time": "2022-06-24T08:11:06.515Z"
   },
   {
    "duration": 23,
    "start_time": "2022-06-24T08:11:16.884Z"
   },
   {
    "duration": 31,
    "start_time": "2022-06-24T08:12:07.039Z"
   },
   {
    "duration": 79,
    "start_time": "2022-06-24T08:12:28.983Z"
   },
   {
    "duration": 49,
    "start_time": "2022-06-24T08:12:35.808Z"
   },
   {
    "duration": 39,
    "start_time": "2022-06-24T08:13:49.268Z"
   },
   {
    "duration": 69,
    "start_time": "2022-06-24T08:15:14.709Z"
   },
   {
    "duration": 36,
    "start_time": "2022-06-24T08:16:20.937Z"
   },
   {
    "duration": 51,
    "start_time": "2022-06-24T08:16:31.502Z"
   },
   {
    "duration": 4,
    "start_time": "2022-06-24T08:23:12.370Z"
   },
   {
    "duration": 8,
    "start_time": "2022-06-24T08:23:16.363Z"
   },
   {
    "duration": 8,
    "start_time": "2022-06-24T08:29:35.868Z"
   },
   {
    "duration": 6,
    "start_time": "2022-06-24T08:29:36.806Z"
   },
   {
    "duration": 510,
    "start_time": "2022-06-24T08:29:46.785Z"
   },
   {
    "duration": 9,
    "start_time": "2022-06-24T08:29:47.297Z"
   },
   {
    "duration": 90,
    "start_time": "2022-06-24T08:29:47.308Z"
   },
   {
    "duration": 0,
    "start_time": "2022-06-24T08:29:47.400Z"
   },
   {
    "duration": 8,
    "start_time": "2022-06-24T08:30:26.066Z"
   },
   {
    "duration": 11,
    "start_time": "2022-06-24T08:35:42.782Z"
   },
   {
    "duration": 6,
    "start_time": "2022-06-24T08:37:19.739Z"
   },
   {
    "duration": 16,
    "start_time": "2022-06-24T08:37:30.382Z"
   },
   {
    "duration": 20,
    "start_time": "2022-06-24T08:39:20.614Z"
   },
   {
    "duration": 9,
    "start_time": "2022-06-24T08:39:33.187Z"
   },
   {
    "duration": 10,
    "start_time": "2022-06-24T08:39:57.381Z"
   },
   {
    "duration": 40,
    "start_time": "2022-06-24T08:40:09.869Z"
   },
   {
    "duration": 16,
    "start_time": "2022-06-24T08:40:17.986Z"
   },
   {
    "duration": 8,
    "start_time": "2022-06-24T08:41:00.088Z"
   },
   {
    "duration": 9,
    "start_time": "2022-06-24T08:41:10.755Z"
   },
   {
    "duration": 10,
    "start_time": "2022-06-24T08:41:34.823Z"
   },
   {
    "duration": 52,
    "start_time": "2022-06-24T13:31:48.922Z"
   },
   {
    "duration": 859,
    "start_time": "2022-06-24T13:31:54.604Z"
   },
   {
    "duration": 6,
    "start_time": "2022-06-24T13:31:55.466Z"
   },
   {
    "duration": 65,
    "start_time": "2022-06-24T13:31:55.474Z"
   },
   {
    "duration": 0,
    "start_time": "2022-06-24T13:31:55.541Z"
   },
   {
    "duration": 7,
    "start_time": "2022-06-24T13:33:10.326Z"
   },
   {
    "duration": 6,
    "start_time": "2022-06-24T13:33:30.397Z"
   },
   {
    "duration": 9,
    "start_time": "2022-06-24T13:33:56.481Z"
   },
   {
    "duration": 104,
    "start_time": "2022-06-24T13:34:43.211Z"
   },
   {
    "duration": 5,
    "start_time": "2022-06-24T13:34:50.483Z"
   },
   {
    "duration": 10,
    "start_time": "2022-06-24T13:35:18.713Z"
   },
   {
    "duration": 11,
    "start_time": "2022-06-24T13:45:21.687Z"
   },
   {
    "duration": 10,
    "start_time": "2022-06-24T13:48:37.200Z"
   },
   {
    "duration": 13,
    "start_time": "2022-06-24T13:48:47.129Z"
   },
   {
    "duration": 7,
    "start_time": "2022-06-24T13:49:28.298Z"
   },
   {
    "duration": 28,
    "start_time": "2022-06-24T13:50:19.594Z"
   },
   {
    "duration": 67,
    "start_time": "2022-06-24T18:35:47.102Z"
   },
   {
    "duration": 730,
    "start_time": "2022-06-24T18:35:53.567Z"
   },
   {
    "duration": 7,
    "start_time": "2022-06-24T18:35:54.299Z"
   },
   {
    "duration": 81,
    "start_time": "2022-06-24T18:35:54.308Z"
   },
   {
    "duration": 0,
    "start_time": "2022-06-24T18:35:54.391Z"
   },
   {
    "duration": 21,
    "start_time": "2022-06-24T18:37:02.998Z"
   },
   {
    "duration": 19,
    "start_time": "2022-06-24T18:37:31.201Z"
   },
   {
    "duration": 27,
    "start_time": "2022-06-24T18:37:41.280Z"
   },
   {
    "duration": 23,
    "start_time": "2022-06-24T18:37:59.078Z"
   },
   {
    "duration": 26,
    "start_time": "2022-06-24T18:40:36.698Z"
   },
   {
    "duration": 21,
    "start_time": "2022-06-24T18:46:51.857Z"
   },
   {
    "duration": 18,
    "start_time": "2022-06-24T18:48:19.670Z"
   },
   {
    "duration": 511,
    "start_time": "2022-06-24T18:48:35.356Z"
   },
   {
    "duration": 5,
    "start_time": "2022-06-24T18:48:35.870Z"
   },
   {
    "duration": 85,
    "start_time": "2022-06-24T18:48:35.877Z"
   },
   {
    "duration": 0,
    "start_time": "2022-06-24T18:48:35.964Z"
   },
   {
    "duration": 128,
    "start_time": "2022-06-24T18:49:27.202Z"
   },
   {
    "duration": 8,
    "start_time": "2022-06-24T18:49:38.378Z"
   },
   {
    "duration": 7,
    "start_time": "2022-06-24T18:50:47.207Z"
   },
   {
    "duration": 16,
    "start_time": "2022-06-24T18:51:12.295Z"
   },
   {
    "duration": 7,
    "start_time": "2022-06-24T18:51:31.846Z"
   },
   {
    "duration": 101,
    "start_time": "2022-06-24T18:54:39.395Z"
   },
   {
    "duration": 48,
    "start_time": "2022-06-25T07:00:08.304Z"
   },
   {
    "duration": 486,
    "start_time": "2022-06-25T07:00:16.268Z"
   },
   {
    "duration": 5,
    "start_time": "2022-06-25T07:00:16.756Z"
   },
   {
    "duration": 14,
    "start_time": "2022-06-25T07:00:16.762Z"
   },
   {
    "duration": 49,
    "start_time": "2022-06-25T07:00:16.778Z"
   },
   {
    "duration": 10,
    "start_time": "2022-06-25T07:00:35.635Z"
   },
   {
    "duration": 8,
    "start_time": "2022-06-25T07:00:49.614Z"
   },
   {
    "duration": 13,
    "start_time": "2022-06-25T07:01:01.077Z"
   },
   {
    "duration": 24,
    "start_time": "2022-06-25T07:01:27.734Z"
   },
   {
    "duration": 14,
    "start_time": "2022-06-25T07:01:43.596Z"
   },
   {
    "duration": 18,
    "start_time": "2022-06-25T07:02:04.637Z"
   },
   {
    "duration": 619,
    "start_time": "2022-06-25T07:02:52.000Z"
   },
   {
    "duration": 6,
    "start_time": "2022-06-25T07:02:52.621Z"
   },
   {
    "duration": 26,
    "start_time": "2022-06-25T07:02:52.630Z"
   },
   {
    "duration": 16,
    "start_time": "2022-06-25T07:02:52.658Z"
   },
   {
    "duration": 590,
    "start_time": "2022-06-25T07:03:17.001Z"
   },
   {
    "duration": 5,
    "start_time": "2022-06-25T07:03:17.593Z"
   },
   {
    "duration": 27,
    "start_time": "2022-06-25T07:03:17.600Z"
   },
   {
    "duration": 20,
    "start_time": "2022-06-25T07:03:17.630Z"
   },
   {
    "duration": 474,
    "start_time": "2022-06-25T07:03:33.482Z"
   },
   {
    "duration": 6,
    "start_time": "2022-06-25T07:03:33.959Z"
   },
   {
    "duration": 110,
    "start_time": "2022-06-25T07:03:33.967Z"
   },
   {
    "duration": 0,
    "start_time": "2022-06-25T07:03:34.079Z"
   },
   {
    "duration": 15,
    "start_time": "2022-06-25T07:03:39.182Z"
   },
   {
    "duration": 11,
    "start_time": "2022-06-25T07:03:47.026Z"
   },
   {
    "duration": 482,
    "start_time": "2022-06-25T07:04:00.768Z"
   },
   {
    "duration": 7,
    "start_time": "2022-06-25T07:04:01.253Z"
   },
   {
    "duration": 37,
    "start_time": "2022-06-25T07:04:01.262Z"
   },
   {
    "duration": 25,
    "start_time": "2022-06-25T07:04:01.303Z"
   },
   {
    "duration": 19,
    "start_time": "2022-06-25T07:04:36.334Z"
   },
   {
    "duration": 18,
    "start_time": "2022-06-25T07:04:46.194Z"
   },
   {
    "duration": 624,
    "start_time": "2022-06-25T07:04:54.176Z"
   },
   {
    "duration": 8,
    "start_time": "2022-06-25T07:04:54.802Z"
   },
   {
    "duration": 27,
    "start_time": "2022-06-25T07:04:54.813Z"
   },
   {
    "duration": 22,
    "start_time": "2022-06-25T07:04:54.842Z"
   },
   {
    "duration": 15,
    "start_time": "2022-06-25T07:05:17.555Z"
   },
   {
    "duration": 39,
    "start_time": "2022-06-25T07:05:42.242Z"
   },
   {
    "duration": 35,
    "start_time": "2022-06-25T07:05:56.076Z"
   },
   {
    "duration": 119,
    "start_time": "2022-06-25T07:07:13.929Z"
   },
   {
    "duration": 4,
    "start_time": "2022-06-25T07:09:36.916Z"
   },
   {
    "duration": 8,
    "start_time": "2022-06-25T07:09:45.850Z"
   },
   {
    "duration": 8,
    "start_time": "2022-06-25T07:09:55.774Z"
   },
   {
    "duration": 10,
    "start_time": "2022-06-25T07:10:26.266Z"
   },
   {
    "duration": 10,
    "start_time": "2022-06-25T07:10:58.272Z"
   },
   {
    "duration": 9,
    "start_time": "2022-06-25T07:11:02.736Z"
   },
   {
    "duration": 10,
    "start_time": "2022-06-25T07:11:16.196Z"
   },
   {
    "duration": 24,
    "start_time": "2022-06-25T07:11:23.096Z"
   },
   {
    "duration": 22,
    "start_time": "2022-06-25T07:11:45.743Z"
   },
   {
    "duration": 25,
    "start_time": "2022-06-25T07:11:56.962Z"
   },
   {
    "duration": 8,
    "start_time": "2022-06-25T07:12:43.267Z"
   },
   {
    "duration": 6,
    "start_time": "2022-06-25T07:13:01.634Z"
   },
   {
    "duration": 442,
    "start_time": "2022-06-25T07:13:13.276Z"
   },
   {
    "duration": 4,
    "start_time": "2022-06-25T07:13:13.720Z"
   },
   {
    "duration": 19,
    "start_time": "2022-06-25T07:13:13.726Z"
   },
   {
    "duration": 23,
    "start_time": "2022-06-25T07:13:13.747Z"
   },
   {
    "duration": 28,
    "start_time": "2022-06-25T07:13:13.772Z"
   },
   {
    "duration": 6,
    "start_time": "2022-06-25T07:15:09.077Z"
   },
   {
    "duration": 5,
    "start_time": "2022-06-25T07:15:36.440Z"
   },
   {
    "duration": 51,
    "start_time": "2022-06-25T07:17:37.723Z"
   },
   {
    "duration": 7,
    "start_time": "2022-06-25T07:20:02.077Z"
   },
   {
    "duration": 22,
    "start_time": "2022-06-25T07:20:07.237Z"
   },
   {
    "duration": 5,
    "start_time": "2022-06-25T07:20:36.405Z"
   },
   {
    "duration": 7,
    "start_time": "2022-06-25T07:20:51.798Z"
   },
   {
    "duration": 543,
    "start_time": "2022-06-25T07:21:10.307Z"
   },
   {
    "duration": 5,
    "start_time": "2022-06-25T07:21:10.852Z"
   },
   {
    "duration": 28,
    "start_time": "2022-06-25T07:21:10.859Z"
   },
   {
    "duration": 9,
    "start_time": "2022-06-25T07:21:10.890Z"
   },
   {
    "duration": 25,
    "start_time": "2022-06-25T07:21:10.900Z"
   },
   {
    "duration": 32,
    "start_time": "2022-06-25T07:21:10.927Z"
   },
   {
    "duration": 19,
    "start_time": "2022-06-25T07:21:10.961Z"
   },
   {
    "duration": 65,
    "start_time": "2022-06-25T07:23:55.585Z"
   },
   {
    "duration": 21,
    "start_time": "2022-06-25T07:24:02.236Z"
   },
   {
    "duration": 21,
    "start_time": "2022-06-25T07:24:13.709Z"
   },
   {
    "duration": 20,
    "start_time": "2022-06-25T07:25:15.074Z"
   },
   {
    "duration": 22,
    "start_time": "2022-06-25T07:25:21.483Z"
   },
   {
    "duration": 592,
    "start_time": "2022-06-25T07:25:44.094Z"
   },
   {
    "duration": 7,
    "start_time": "2022-06-25T07:25:44.690Z"
   },
   {
    "duration": 35,
    "start_time": "2022-06-25T07:25:44.699Z"
   },
   {
    "duration": 6,
    "start_time": "2022-06-25T07:25:44.736Z"
   },
   {
    "duration": 93,
    "start_time": "2022-06-25T07:25:44.744Z"
   },
   {
    "duration": 0,
    "start_time": "2022-06-25T07:25:44.838Z"
   },
   {
    "duration": 0,
    "start_time": "2022-06-25T07:25:44.840Z"
   },
   {
    "duration": 18,
    "start_time": "2022-06-25T07:26:42.906Z"
   },
   {
    "duration": 11,
    "start_time": "2022-06-25T07:27:33.738Z"
   },
   {
    "duration": 22,
    "start_time": "2022-06-25T07:28:31.895Z"
   },
   {
    "duration": 478,
    "start_time": "2022-06-25T07:31:03.790Z"
   },
   {
    "duration": 5,
    "start_time": "2022-06-25T07:31:04.270Z"
   },
   {
    "duration": 26,
    "start_time": "2022-06-25T07:31:04.276Z"
   },
   {
    "duration": 5,
    "start_time": "2022-06-25T07:31:04.304Z"
   },
   {
    "duration": 43,
    "start_time": "2022-06-25T07:31:04.311Z"
   },
   {
    "duration": 23,
    "start_time": "2022-06-25T07:31:04.356Z"
   },
   {
    "duration": 26,
    "start_time": "2022-06-25T07:31:04.381Z"
   },
   {
    "duration": 98,
    "start_time": "2022-06-25T07:31:23.078Z"
   },
   {
    "duration": 21,
    "start_time": "2022-06-25T07:31:41.997Z"
   },
   {
    "duration": 557,
    "start_time": "2022-06-25T07:35:17.219Z"
   },
   {
    "duration": 5,
    "start_time": "2022-06-25T07:35:17.778Z"
   },
   {
    "duration": 1255,
    "start_time": "2022-06-25T07:35:17.785Z"
   },
   {
    "duration": 239,
    "start_time": "2022-06-25T07:35:19.042Z"
   },
   {
    "duration": 68,
    "start_time": "2022-06-25T07:35:19.283Z"
   },
   {
    "duration": 0,
    "start_time": "2022-06-25T07:35:19.353Z"
   },
   {
    "duration": 0,
    "start_time": "2022-06-25T07:35:19.355Z"
   },
   {
    "duration": 141,
    "start_time": "2022-06-25T07:36:00.293Z"
   },
   {
    "duration": 8,
    "start_time": "2022-06-25T07:36:08.447Z"
   },
   {
    "duration": 137,
    "start_time": "2022-06-25T07:36:15.640Z"
   },
   {
    "duration": 12,
    "start_time": "2022-06-25T07:36:28.085Z"
   },
   {
    "duration": 546,
    "start_time": "2022-06-25T07:36:47.812Z"
   },
   {
    "duration": 4,
    "start_time": "2022-06-25T07:36:48.360Z"
   },
   {
    "duration": 17,
    "start_time": "2022-06-25T07:36:48.365Z"
   },
   {
    "duration": 4,
    "start_time": "2022-06-25T07:36:48.384Z"
   },
   {
    "duration": 126,
    "start_time": "2022-06-25T07:36:48.390Z"
   },
   {
    "duration": 24,
    "start_time": "2022-06-25T07:36:48.517Z"
   },
   {
    "duration": 20,
    "start_time": "2022-06-25T07:36:48.543Z"
   },
   {
    "duration": 163,
    "start_time": "2022-06-25T07:37:54.287Z"
   },
   {
    "duration": 136,
    "start_time": "2022-06-25T07:38:20.031Z"
   },
   {
    "duration": 192,
    "start_time": "2022-06-25T07:38:43.111Z"
   },
   {
    "duration": 197,
    "start_time": "2022-06-25T07:38:48.125Z"
   },
   {
    "duration": 1117,
    "start_time": "2022-06-25T07:38:58.649Z"
   },
   {
    "duration": 547,
    "start_time": "2022-06-25T07:39:16.536Z"
   },
   {
    "duration": 5,
    "start_time": "2022-06-25T07:39:17.086Z"
   },
   {
    "duration": 21,
    "start_time": "2022-06-25T07:39:17.093Z"
   },
   {
    "duration": 13,
    "start_time": "2022-06-25T07:39:17.117Z"
   },
   {
    "duration": 174,
    "start_time": "2022-06-25T07:39:17.132Z"
   },
   {
    "duration": 36,
    "start_time": "2022-06-25T07:39:17.308Z"
   },
   {
    "duration": 23,
    "start_time": "2022-06-25T07:39:17.346Z"
   },
   {
    "duration": 1043,
    "start_time": "2022-06-25T07:39:36.049Z"
   },
   {
    "duration": 456,
    "start_time": "2022-06-25T07:39:48.174Z"
   },
   {
    "duration": 4,
    "start_time": "2022-06-25T07:39:48.633Z"
   },
   {
    "duration": 23,
    "start_time": "2022-06-25T07:39:48.639Z"
   },
   {
    "duration": 5,
    "start_time": "2022-06-25T07:39:48.664Z"
   },
   {
    "duration": 149,
    "start_time": "2022-06-25T07:39:48.670Z"
   },
   {
    "duration": 21,
    "start_time": "2022-06-25T07:39:48.826Z"
   },
   {
    "duration": 17,
    "start_time": "2022-06-25T07:39:48.849Z"
   },
   {
    "duration": 2305,
    "start_time": "2022-06-25T07:40:06.684Z"
   },
   {
    "duration": 566,
    "start_time": "2022-06-25T07:41:08.980Z"
   },
   {
    "duration": 6,
    "start_time": "2022-06-25T07:41:09.549Z"
   },
   {
    "duration": 23,
    "start_time": "2022-06-25T07:41:09.557Z"
   },
   {
    "duration": 6,
    "start_time": "2022-06-25T07:41:09.582Z"
   },
   {
    "duration": 194,
    "start_time": "2022-06-25T07:41:09.591Z"
   },
   {
    "duration": 25,
    "start_time": "2022-06-25T07:41:09.787Z"
   },
   {
    "duration": 18,
    "start_time": "2022-06-25T07:41:09.833Z"
   },
   {
    "duration": 752,
    "start_time": "2022-06-25T07:41:26.687Z"
   },
   {
    "duration": 934,
    "start_time": "2022-06-25T07:41:49.118Z"
   },
   {
    "duration": 513,
    "start_time": "2022-06-25T07:41:56.444Z"
   },
   {
    "duration": 5,
    "start_time": "2022-06-25T07:41:56.959Z"
   },
   {
    "duration": 19,
    "start_time": "2022-06-25T07:41:56.966Z"
   },
   {
    "duration": 5,
    "start_time": "2022-06-25T07:41:56.986Z"
   },
   {
    "duration": 588,
    "start_time": "2022-06-25T07:41:56.993Z"
   },
   {
    "duration": 29,
    "start_time": "2022-06-25T07:41:57.583Z"
   },
   {
    "duration": 44,
    "start_time": "2022-06-25T07:41:57.614Z"
   },
   {
    "duration": 5,
    "start_time": "2022-06-25T07:42:23.724Z"
   },
   {
    "duration": 10,
    "start_time": "2022-06-25T07:43:04.574Z"
   },
   {
    "duration": 15,
    "start_time": "2022-06-25T07:43:20.014Z"
   },
   {
    "duration": 21,
    "start_time": "2022-06-25T07:43:47.217Z"
   },
   {
    "duration": 46,
    "start_time": "2022-06-25T07:46:58.781Z"
   },
   {
    "duration": 568,
    "start_time": "2022-06-25T07:47:12.812Z"
   },
   {
    "duration": 306,
    "start_time": "2022-06-25T07:47:59.875Z"
   },
   {
    "duration": 365,
    "start_time": "2022-06-25T07:49:24.787Z"
   },
   {
    "duration": 359,
    "start_time": "2022-06-25T07:49:48.379Z"
   },
   {
    "duration": 49,
    "start_time": "2022-06-25T07:50:13.809Z"
   },
   {
    "duration": 48,
    "start_time": "2022-06-25T07:50:38.479Z"
   },
   {
    "duration": 364,
    "start_time": "2022-06-25T07:50:51.450Z"
   },
   {
    "duration": 72,
    "start_time": "2022-06-25T07:51:00.076Z"
   },
   {
    "duration": 323,
    "start_time": "2022-06-25T07:51:15.942Z"
   },
   {
    "duration": 181,
    "start_time": "2022-06-25T07:52:29.991Z"
   },
   {
    "duration": 79,
    "start_time": "2022-06-25T07:56:53.703Z"
   },
   {
    "duration": 174,
    "start_time": "2022-06-25T07:57:04.270Z"
   },
   {
    "duration": 177,
    "start_time": "2022-06-25T07:57:43.667Z"
   },
   {
    "duration": 375,
    "start_time": "2022-06-25T07:58:36.016Z"
   },
   {
    "duration": 484,
    "start_time": "2022-06-25T07:59:24.312Z"
   },
   {
    "duration": 8,
    "start_time": "2022-06-25T08:04:16.393Z"
   },
   {
    "duration": 9,
    "start_time": "2022-06-25T08:04:56.646Z"
   },
   {
    "duration": 22,
    "start_time": "2022-06-25T08:07:26.389Z"
   },
   {
    "duration": 869,
    "start_time": "2022-06-25T08:08:46.721Z"
   },
   {
    "duration": 789,
    "start_time": "2022-06-25T08:08:56.205Z"
   },
   {
    "duration": 426,
    "start_time": "2022-06-25T08:09:22.714Z"
   },
   {
    "duration": 551,
    "start_time": "2022-06-25T08:09:31.328Z"
   },
   {
    "duration": 18,
    "start_time": "2022-06-25T08:10:31.391Z"
   },
   {
    "duration": 722,
    "start_time": "2022-06-25T08:10:50.981Z"
   },
   {
    "duration": 14,
    "start_time": "2022-06-25T08:11:16.547Z"
   },
   {
    "duration": 877,
    "start_time": "2022-06-25T08:11:49.290Z"
   },
   {
    "duration": 21,
    "start_time": "2022-06-25T08:12:04.487Z"
   },
   {
    "duration": 18,
    "start_time": "2022-06-25T08:12:13.597Z"
   },
   {
    "duration": 949,
    "start_time": "2022-06-25T08:12:21.088Z"
   },
   {
    "duration": 16,
    "start_time": "2022-06-25T08:12:33.974Z"
   },
   {
    "duration": 14,
    "start_time": "2022-06-25T08:12:46.486Z"
   },
   {
    "duration": 499,
    "start_time": "2022-06-25T08:13:33.592Z"
   },
   {
    "duration": 6,
    "start_time": "2022-06-25T08:13:34.093Z"
   },
   {
    "duration": 26,
    "start_time": "2022-06-25T08:13:34.101Z"
   },
   {
    "duration": 5,
    "start_time": "2022-06-25T08:13:34.129Z"
   },
   {
    "duration": 624,
    "start_time": "2022-06-25T08:13:34.137Z"
   },
   {
    "duration": 17,
    "start_time": "2022-06-25T08:13:34.763Z"
   },
   {
    "duration": 5,
    "start_time": "2022-06-25T08:13:34.782Z"
   },
   {
    "duration": 468,
    "start_time": "2022-06-25T08:13:34.788Z"
   },
   {
    "duration": 362,
    "start_time": "2022-06-25T08:13:35.258Z"
   },
   {
    "duration": 15,
    "start_time": "2022-06-25T08:13:35.622Z"
   },
   {
    "duration": 313,
    "start_time": "2022-06-25T08:13:35.638Z"
   },
   {
    "duration": 93,
    "start_time": "2022-06-25T08:13:35.953Z"
   },
   {
    "duration": 0,
    "start_time": "2022-06-25T08:13:36.048Z"
   },
   {
    "duration": 15,
    "start_time": "2022-06-25T08:14:12.244Z"
   },
   {
    "duration": 1382,
    "start_time": "2022-06-25T08:15:00.746Z"
   },
   {
    "duration": 519,
    "start_time": "2022-06-25T08:15:51.945Z"
   },
   {
    "duration": 4,
    "start_time": "2022-06-25T08:15:52.467Z"
   },
   {
    "duration": 22,
    "start_time": "2022-06-25T08:15:52.473Z"
   },
   {
    "duration": 6,
    "start_time": "2022-06-25T08:15:52.497Z"
   },
   {
    "duration": 570,
    "start_time": "2022-06-25T08:15:52.505Z"
   },
   {
    "duration": 19,
    "start_time": "2022-06-25T08:15:53.076Z"
   },
   {
    "duration": 5,
    "start_time": "2022-06-25T08:15:53.097Z"
   },
   {
    "duration": 486,
    "start_time": "2022-06-25T08:15:53.103Z"
   },
   {
    "duration": 358,
    "start_time": "2022-06-25T08:15:53.591Z"
   },
   {
    "duration": 15,
    "start_time": "2022-06-25T08:15:53.953Z"
   },
   {
    "duration": 316,
    "start_time": "2022-06-25T08:15:53.970Z"
   },
   {
    "duration": 585,
    "start_time": "2022-06-25T08:18:02.796Z"
   },
   {
    "duration": 4,
    "start_time": "2022-06-25T08:18:03.383Z"
   },
   {
    "duration": 26,
    "start_time": "2022-06-25T08:18:03.389Z"
   },
   {
    "duration": 15,
    "start_time": "2022-06-25T08:18:03.418Z"
   },
   {
    "duration": 593,
    "start_time": "2022-06-25T08:18:03.447Z"
   },
   {
    "duration": 20,
    "start_time": "2022-06-25T08:18:04.042Z"
   },
   {
    "duration": 5,
    "start_time": "2022-06-25T08:18:04.065Z"
   },
   {
    "duration": 550,
    "start_time": "2022-06-25T08:18:04.072Z"
   },
   {
    "duration": 372,
    "start_time": "2022-06-25T08:18:04.625Z"
   },
   {
    "duration": 30,
    "start_time": "2022-06-25T08:18:04.998Z"
   },
   {
    "duration": 297,
    "start_time": "2022-06-25T08:18:05.030Z"
   },
   {
    "duration": 2179,
    "start_time": "2022-06-25T08:18:05.329Z"
   },
   {
    "duration": 9,
    "start_time": "2022-06-25T09:19:45.446Z"
   },
   {
    "duration": 37,
    "start_time": "2022-06-25T09:19:54.676Z"
   },
   {
    "duration": 27,
    "start_time": "2022-06-25T09:21:16.410Z"
   },
   {
    "duration": 22,
    "start_time": "2022-06-25T09:21:37.869Z"
   },
   {
    "duration": 16,
    "start_time": "2022-06-25T09:21:51.668Z"
   },
   {
    "duration": 511,
    "start_time": "2022-06-25T09:22:50.224Z"
   },
   {
    "duration": 6,
    "start_time": "2022-06-25T09:22:50.739Z"
   },
   {
    "duration": 18,
    "start_time": "2022-06-25T09:22:50.746Z"
   },
   {
    "duration": 6,
    "start_time": "2022-06-25T09:22:50.766Z"
   },
   {
    "duration": 544,
    "start_time": "2022-06-25T09:22:50.773Z"
   },
   {
    "duration": 24,
    "start_time": "2022-06-25T09:22:51.319Z"
   },
   {
    "duration": 12,
    "start_time": "2022-06-25T09:22:51.346Z"
   },
   {
    "duration": 444,
    "start_time": "2022-06-25T09:22:51.360Z"
   },
   {
    "duration": 372,
    "start_time": "2022-06-25T09:22:51.806Z"
   },
   {
    "duration": 13,
    "start_time": "2022-06-25T09:22:52.180Z"
   },
   {
    "duration": 315,
    "start_time": "2022-06-25T09:22:52.195Z"
   },
   {
    "duration": 1668,
    "start_time": "2022-06-25T09:22:52.512Z"
   },
   {
    "duration": 19,
    "start_time": "2022-06-25T09:22:54.181Z"
   },
   {
    "duration": 223,
    "start_time": "2022-06-25T09:23:16.523Z"
   },
   {
    "duration": 591,
    "start_time": "2022-06-25T09:23:44.251Z"
   },
   {
    "duration": 5,
    "start_time": "2022-06-25T09:23:44.845Z"
   },
   {
    "duration": 22,
    "start_time": "2022-06-25T09:23:44.853Z"
   },
   {
    "duration": 6,
    "start_time": "2022-06-25T09:23:44.877Z"
   },
   {
    "duration": 578,
    "start_time": "2022-06-25T09:23:44.886Z"
   },
   {
    "duration": 17,
    "start_time": "2022-06-25T09:23:45.466Z"
   },
   {
    "duration": 5,
    "start_time": "2022-06-25T09:23:45.486Z"
   },
   {
    "duration": 472,
    "start_time": "2022-06-25T09:23:45.492Z"
   },
   {
    "duration": 348,
    "start_time": "2022-06-25T09:23:45.966Z"
   },
   {
    "duration": 24,
    "start_time": "2022-06-25T09:23:46.316Z"
   },
   {
    "duration": 300,
    "start_time": "2022-06-25T09:23:46.344Z"
   },
   {
    "duration": 1695,
    "start_time": "2022-06-25T09:23:46.647Z"
   },
   {
    "duration": 18,
    "start_time": "2022-06-25T09:23:48.345Z"
   },
   {
    "duration": 203,
    "start_time": "2022-06-25T09:24:35.844Z"
   },
   {
    "duration": 211,
    "start_time": "2022-06-25T09:25:03.945Z"
   },
   {
    "duration": 193,
    "start_time": "2022-06-25T09:25:10.542Z"
   },
   {
    "duration": 1962,
    "start_time": "2022-06-25T09:26:21.390Z"
   },
   {
    "duration": 190,
    "start_time": "2022-06-25T09:33:26.575Z"
   },
   {
    "duration": 124,
    "start_time": "2022-06-25T09:33:40.243Z"
   },
   {
    "duration": 395,
    "start_time": "2022-06-25T09:33:53.212Z"
   },
   {
    "duration": 664,
    "start_time": "2022-06-25T09:37:43.449Z"
   },
   {
    "duration": 501,
    "start_time": "2022-06-25T09:37:55.415Z"
   },
   {
    "duration": 5,
    "start_time": "2022-06-25T09:37:55.917Z"
   },
   {
    "duration": 15,
    "start_time": "2022-06-25T09:37:55.923Z"
   },
   {
    "duration": 4,
    "start_time": "2022-06-25T09:37:55.940Z"
   },
   {
    "duration": 492,
    "start_time": "2022-06-25T09:37:55.945Z"
   },
   {
    "duration": 15,
    "start_time": "2022-06-25T09:37:56.439Z"
   },
   {
    "duration": 4,
    "start_time": "2022-06-25T09:37:56.456Z"
   },
   {
    "duration": 414,
    "start_time": "2022-06-25T09:37:56.462Z"
   },
   {
    "duration": 328,
    "start_time": "2022-06-25T09:37:56.878Z"
   },
   {
    "duration": 19,
    "start_time": "2022-06-25T09:37:57.208Z"
   },
   {
    "duration": 268,
    "start_time": "2022-06-25T09:37:57.228Z"
   },
   {
    "duration": 1561,
    "start_time": "2022-06-25T09:37:57.498Z"
   },
   {
    "duration": 185,
    "start_time": "2022-06-25T09:37:59.060Z"
   },
   {
    "duration": 1708,
    "start_time": "2022-06-25T09:37:59.247Z"
   },
   {
    "duration": 377,
    "start_time": "2022-06-25T09:38:00.957Z"
   },
   {
    "duration": 749,
    "start_time": "2022-06-25T09:38:47.460Z"
   },
   {
    "duration": 1780,
    "start_time": "2022-06-25T09:39:27.922Z"
   },
   {
    "duration": 1733,
    "start_time": "2022-06-25T09:39:44.521Z"
   },
   {
    "duration": 1813,
    "start_time": "2022-06-25T09:42:40.775Z"
   },
   {
    "duration": 1778,
    "start_time": "2022-06-25T09:42:54.175Z"
   },
   {
    "duration": 139,
    "start_time": "2022-06-25T09:43:00.512Z"
   },
   {
    "duration": 1854,
    "start_time": "2022-06-25T09:43:05.078Z"
   },
   {
    "duration": 21,
    "start_time": "2022-06-25T09:43:22.219Z"
   },
   {
    "duration": 414,
    "start_time": "2022-06-25T09:43:36.434Z"
   },
   {
    "duration": 29,
    "start_time": "2022-06-25T09:44:10.814Z"
   },
   {
    "duration": 117,
    "start_time": "2022-06-25T09:44:18.120Z"
   },
   {
    "duration": 127,
    "start_time": "2022-06-25T09:45:07.592Z"
   },
   {
    "duration": 113,
    "start_time": "2022-06-25T09:45:09.216Z"
   },
   {
    "duration": 144,
    "start_time": "2022-06-25T09:45:10.536Z"
   },
   {
    "duration": 219,
    "start_time": "2022-06-25T09:45:33.484Z"
   },
   {
    "duration": 121,
    "start_time": "2022-06-25T09:45:36.391Z"
   },
   {
    "duration": 115,
    "start_time": "2022-06-25T09:45:59.861Z"
   },
   {
    "duration": 145,
    "start_time": "2022-06-25T09:46:55.554Z"
   },
   {
    "duration": 29,
    "start_time": "2022-06-25T09:50:40.992Z"
   },
   {
    "duration": 23,
    "start_time": "2022-06-25T09:53:21.539Z"
   },
   {
    "duration": 21,
    "start_time": "2022-06-25T09:53:26.342Z"
   },
   {
    "duration": 112,
    "start_time": "2022-06-25T09:53:37.997Z"
   },
   {
    "duration": 10,
    "start_time": "2022-06-25T09:57:20.748Z"
   },
   {
    "duration": 744,
    "start_time": "2022-06-25T09:57:27.120Z"
   },
   {
    "duration": 804,
    "start_time": "2022-06-25T09:57:31.045Z"
   },
   {
    "duration": 26,
    "start_time": "2022-06-25T09:58:28.097Z"
   },
   {
    "duration": 1252,
    "start_time": "2022-06-25T09:59:04.801Z"
   },
   {
    "duration": 19,
    "start_time": "2022-06-25T09:59:18.580Z"
   },
   {
    "duration": 30,
    "start_time": "2022-06-25T09:59:36.574Z"
   },
   {
    "duration": 159,
    "start_time": "2022-06-25T10:00:23.495Z"
   },
   {
    "duration": 315,
    "start_time": "2022-06-25T10:01:56.885Z"
   },
   {
    "duration": 156,
    "start_time": "2022-06-25T10:03:00.986Z"
   },
   {
    "duration": 13,
    "start_time": "2022-06-25T10:05:07.594Z"
   },
   {
    "duration": 10,
    "start_time": "2022-06-25T10:05:12.470Z"
   },
   {
    "duration": 450,
    "start_time": "2022-06-25T10:06:54.388Z"
   },
   {
    "duration": 338,
    "start_time": "2022-06-25T10:06:58.144Z"
   },
   {
    "duration": 312,
    "start_time": "2022-06-25T10:07:36.217Z"
   },
   {
    "duration": 182,
    "start_time": "2022-06-25T10:08:02.471Z"
   },
   {
    "duration": 506,
    "start_time": "2022-06-25T10:08:17.051Z"
   },
   {
    "duration": 5,
    "start_time": "2022-06-25T10:08:17.560Z"
   },
   {
    "duration": 18,
    "start_time": "2022-06-25T10:08:17.566Z"
   },
   {
    "duration": 5,
    "start_time": "2022-06-25T10:08:17.587Z"
   },
   {
    "duration": 605,
    "start_time": "2022-06-25T10:08:17.594Z"
   },
   {
    "duration": 16,
    "start_time": "2022-06-25T10:08:18.201Z"
   },
   {
    "duration": 6,
    "start_time": "2022-06-25T10:08:18.225Z"
   },
   {
    "duration": 464,
    "start_time": "2022-06-25T10:08:18.233Z"
   },
   {
    "duration": 379,
    "start_time": "2022-06-25T10:08:18.699Z"
   },
   {
    "duration": 14,
    "start_time": "2022-06-25T10:08:19.081Z"
   },
   {
    "duration": 323,
    "start_time": "2022-06-25T10:08:19.097Z"
   },
   {
    "duration": 122,
    "start_time": "2022-06-25T10:08:19.422Z"
   },
   {
    "duration": 0,
    "start_time": "2022-06-25T10:08:19.612Z"
   },
   {
    "duration": 0,
    "start_time": "2022-06-25T10:08:19.614Z"
   },
   {
    "duration": 0,
    "start_time": "2022-06-25T10:08:19.615Z"
   },
   {
    "duration": 0,
    "start_time": "2022-06-25T10:08:19.617Z"
   },
   {
    "duration": 1,
    "start_time": "2022-06-25T10:08:19.625Z"
   },
   {
    "duration": 0,
    "start_time": "2022-06-25T10:08:19.628Z"
   },
   {
    "duration": 0,
    "start_time": "2022-06-25T10:08:19.629Z"
   },
   {
    "duration": 0,
    "start_time": "2022-06-25T10:08:19.631Z"
   },
   {
    "duration": 0,
    "start_time": "2022-06-25T10:08:19.632Z"
   },
   {
    "duration": 0,
    "start_time": "2022-06-25T10:08:19.633Z"
   },
   {
    "duration": 0,
    "start_time": "2022-06-25T10:08:19.635Z"
   },
   {
    "duration": 0,
    "start_time": "2022-06-25T10:08:19.637Z"
   },
   {
    "duration": 0,
    "start_time": "2022-06-25T10:08:19.638Z"
   },
   {
    "duration": 0,
    "start_time": "2022-06-25T10:08:19.639Z"
   },
   {
    "duration": 0,
    "start_time": "2022-06-25T10:08:19.640Z"
   },
   {
    "duration": 0,
    "start_time": "2022-06-25T10:08:19.642Z"
   },
   {
    "duration": 0,
    "start_time": "2022-06-25T10:08:19.643Z"
   },
   {
    "duration": 0,
    "start_time": "2022-06-25T10:08:19.645Z"
   },
   {
    "duration": 0,
    "start_time": "2022-06-25T10:08:19.647Z"
   },
   {
    "duration": 0,
    "start_time": "2022-06-25T10:08:19.648Z"
   },
   {
    "duration": 0,
    "start_time": "2022-06-25T10:08:19.650Z"
   },
   {
    "duration": 0,
    "start_time": "2022-06-25T10:08:19.652Z"
   },
   {
    "duration": 0,
    "start_time": "2022-06-25T10:08:19.653Z"
   },
   {
    "duration": 0,
    "start_time": "2022-06-25T10:08:19.654Z"
   },
   {
    "duration": 0,
    "start_time": "2022-06-25T10:08:19.655Z"
   },
   {
    "duration": 0,
    "start_time": "2022-06-25T10:08:19.656Z"
   },
   {
    "duration": 0,
    "start_time": "2022-06-25T10:08:19.657Z"
   },
   {
    "duration": 0,
    "start_time": "2022-06-25T10:08:19.658Z"
   },
   {
    "duration": 0,
    "start_time": "2022-06-25T10:08:19.659Z"
   },
   {
    "duration": 0,
    "start_time": "2022-06-25T10:08:19.660Z"
   },
   {
    "duration": 540,
    "start_time": "2022-06-25T10:09:19.411Z"
   },
   {
    "duration": 5,
    "start_time": "2022-06-25T10:09:19.954Z"
   },
   {
    "duration": 42,
    "start_time": "2022-06-25T10:09:19.961Z"
   },
   {
    "duration": 16,
    "start_time": "2022-06-25T10:09:20.005Z"
   },
   {
    "duration": 598,
    "start_time": "2022-06-25T10:09:20.024Z"
   },
   {
    "duration": 25,
    "start_time": "2022-06-25T10:09:20.624Z"
   },
   {
    "duration": 8,
    "start_time": "2022-06-25T10:09:20.651Z"
   },
   {
    "duration": 496,
    "start_time": "2022-06-25T10:09:20.661Z"
   },
   {
    "duration": 382,
    "start_time": "2022-06-25T10:09:21.159Z"
   },
   {
    "duration": 17,
    "start_time": "2022-06-25T10:09:21.543Z"
   },
   {
    "duration": 327,
    "start_time": "2022-06-25T10:09:21.561Z"
   },
   {
    "duration": 103,
    "start_time": "2022-06-25T10:09:21.890Z"
   },
   {
    "duration": 0,
    "start_time": "2022-06-25T10:09:22.067Z"
   },
   {
    "duration": 0,
    "start_time": "2022-06-25T10:09:22.069Z"
   },
   {
    "duration": 0,
    "start_time": "2022-06-25T10:09:22.070Z"
   },
   {
    "duration": 0,
    "start_time": "2022-06-25T10:09:22.071Z"
   },
   {
    "duration": 0,
    "start_time": "2022-06-25T10:09:22.072Z"
   },
   {
    "duration": 0,
    "start_time": "2022-06-25T10:09:22.073Z"
   },
   {
    "duration": 0,
    "start_time": "2022-06-25T10:09:22.074Z"
   },
   {
    "duration": 0,
    "start_time": "2022-06-25T10:09:22.075Z"
   },
   {
    "duration": 0,
    "start_time": "2022-06-25T10:09:22.076Z"
   },
   {
    "duration": 0,
    "start_time": "2022-06-25T10:09:22.077Z"
   },
   {
    "duration": 0,
    "start_time": "2022-06-25T10:09:22.078Z"
   },
   {
    "duration": 0,
    "start_time": "2022-06-25T10:09:22.080Z"
   },
   {
    "duration": 0,
    "start_time": "2022-06-25T10:09:22.081Z"
   },
   {
    "duration": 0,
    "start_time": "2022-06-25T10:09:22.082Z"
   },
   {
    "duration": 0,
    "start_time": "2022-06-25T10:09:22.083Z"
   },
   {
    "duration": 0,
    "start_time": "2022-06-25T10:09:22.084Z"
   },
   {
    "duration": 0,
    "start_time": "2022-06-25T10:09:22.085Z"
   },
   {
    "duration": 0,
    "start_time": "2022-06-25T10:09:22.087Z"
   },
   {
    "duration": 0,
    "start_time": "2022-06-25T10:09:22.088Z"
   },
   {
    "duration": 0,
    "start_time": "2022-06-25T10:09:22.127Z"
   },
   {
    "duration": 0,
    "start_time": "2022-06-25T10:09:22.128Z"
   },
   {
    "duration": 0,
    "start_time": "2022-06-25T10:09:22.129Z"
   },
   {
    "duration": 0,
    "start_time": "2022-06-25T10:09:22.131Z"
   },
   {
    "duration": 0,
    "start_time": "2022-06-25T10:09:22.132Z"
   },
   {
    "duration": 0,
    "start_time": "2022-06-25T10:09:22.133Z"
   },
   {
    "duration": 0,
    "start_time": "2022-06-25T10:09:22.135Z"
   },
   {
    "duration": 0,
    "start_time": "2022-06-25T10:09:22.136Z"
   },
   {
    "duration": 0,
    "start_time": "2022-06-25T10:09:22.138Z"
   },
   {
    "duration": 0,
    "start_time": "2022-06-25T10:09:22.139Z"
   },
   {
    "duration": 0,
    "start_time": "2022-06-25T10:09:22.140Z"
   },
   {
    "duration": 530,
    "start_time": "2022-06-25T10:11:25.301Z"
   },
   {
    "duration": 5,
    "start_time": "2022-06-25T10:11:25.833Z"
   },
   {
    "duration": 19,
    "start_time": "2022-06-25T10:11:25.840Z"
   },
   {
    "duration": 4,
    "start_time": "2022-06-25T10:11:25.862Z"
   },
   {
    "duration": 533,
    "start_time": "2022-06-25T10:11:25.868Z"
   },
   {
    "duration": 28,
    "start_time": "2022-06-25T10:11:26.403Z"
   },
   {
    "duration": 5,
    "start_time": "2022-06-25T10:11:26.434Z"
   },
   {
    "duration": 431,
    "start_time": "2022-06-25T10:11:26.442Z"
   },
   {
    "duration": 348,
    "start_time": "2022-06-25T10:11:26.874Z"
   },
   {
    "duration": 13,
    "start_time": "2022-06-25T10:11:27.226Z"
   },
   {
    "duration": 283,
    "start_time": "2022-06-25T10:11:27.240Z"
   },
   {
    "duration": 246,
    "start_time": "2022-06-25T10:11:27.524Z"
   },
   {
    "duration": 194,
    "start_time": "2022-06-25T10:11:27.773Z"
   },
   {
    "duration": 182,
    "start_time": "2022-06-25T10:11:27.969Z"
   },
   {
    "duration": 194,
    "start_time": "2022-06-25T10:11:28.153Z"
   },
   {
    "duration": 194,
    "start_time": "2022-06-25T10:11:28.349Z"
   },
   {
    "duration": 181,
    "start_time": "2022-06-25T10:11:28.545Z"
   },
   {
    "duration": 167,
    "start_time": "2022-06-25T10:11:28.728Z"
   },
   {
    "duration": 142,
    "start_time": "2022-06-25T10:11:28.897Z"
   },
   {
    "duration": 192,
    "start_time": "2022-06-25T10:11:29.041Z"
   },
   {
    "duration": 198,
    "start_time": "2022-06-25T10:11:29.234Z"
   },
   {
    "duration": 283,
    "start_time": "2022-06-25T10:11:29.434Z"
   },
   {
    "duration": 133,
    "start_time": "2022-06-25T10:11:29.720Z"
   },
   {
    "duration": 0,
    "start_time": "2022-06-25T10:11:29.855Z"
   },
   {
    "duration": 0,
    "start_time": "2022-06-25T10:11:29.856Z"
   },
   {
    "duration": 0,
    "start_time": "2022-06-25T10:11:29.857Z"
   },
   {
    "duration": 0,
    "start_time": "2022-06-25T10:11:29.859Z"
   },
   {
    "duration": 0,
    "start_time": "2022-06-25T10:11:29.860Z"
   },
   {
    "duration": 0,
    "start_time": "2022-06-25T10:11:29.862Z"
   },
   {
    "duration": 0,
    "start_time": "2022-06-25T10:11:29.863Z"
   },
   {
    "duration": 0,
    "start_time": "2022-06-25T10:11:29.985Z"
   },
   {
    "duration": 0,
    "start_time": "2022-06-25T10:11:29.987Z"
   },
   {
    "duration": 0,
    "start_time": "2022-06-25T10:11:29.989Z"
   },
   {
    "duration": 0,
    "start_time": "2022-06-25T10:11:29.990Z"
   },
   {
    "duration": 0,
    "start_time": "2022-06-25T10:11:29.992Z"
   },
   {
    "duration": 0,
    "start_time": "2022-06-25T10:11:29.994Z"
   },
   {
    "duration": 0,
    "start_time": "2022-06-25T10:11:29.995Z"
   },
   {
    "duration": 0,
    "start_time": "2022-06-25T10:11:29.999Z"
   },
   {
    "duration": 0,
    "start_time": "2022-06-25T10:11:30.001Z"
   },
   {
    "duration": 0,
    "start_time": "2022-06-25T10:11:30.027Z"
   },
   {
    "duration": 0,
    "start_time": "2022-06-25T10:11:30.028Z"
   },
   {
    "duration": 0,
    "start_time": "2022-06-25T10:11:30.030Z"
   },
   {
    "duration": 558,
    "start_time": "2022-06-25T10:13:00.015Z"
   },
   {
    "duration": 5,
    "start_time": "2022-06-25T10:13:00.575Z"
   },
   {
    "duration": 31,
    "start_time": "2022-06-25T10:13:00.582Z"
   },
   {
    "duration": 5,
    "start_time": "2022-06-25T10:13:00.615Z"
   },
   {
    "duration": 501,
    "start_time": "2022-06-25T10:13:00.623Z"
   },
   {
    "duration": 17,
    "start_time": "2022-06-25T10:13:01.125Z"
   },
   {
    "duration": 22,
    "start_time": "2022-06-25T10:13:01.144Z"
   },
   {
    "duration": 506,
    "start_time": "2022-06-25T10:13:01.168Z"
   },
   {
    "duration": 340,
    "start_time": "2022-06-25T10:13:01.677Z"
   },
   {
    "duration": 13,
    "start_time": "2022-06-25T10:13:02.025Z"
   },
   {
    "duration": 313,
    "start_time": "2022-06-25T10:13:02.040Z"
   },
   {
    "duration": 267,
    "start_time": "2022-06-25T10:13:02.356Z"
   },
   {
    "duration": 207,
    "start_time": "2022-06-25T10:13:02.626Z"
   },
   {
    "duration": 203,
    "start_time": "2022-06-25T10:13:02.835Z"
   },
   {
    "duration": 214,
    "start_time": "2022-06-25T10:13:03.040Z"
   },
   {
    "duration": 185,
    "start_time": "2022-06-25T10:13:03.258Z"
   },
   {
    "duration": 174,
    "start_time": "2022-06-25T10:13:03.445Z"
   },
   {
    "duration": 178,
    "start_time": "2022-06-25T10:13:03.620Z"
   },
   {
    "duration": 155,
    "start_time": "2022-06-25T10:13:03.800Z"
   },
   {
    "duration": 196,
    "start_time": "2022-06-25T10:13:03.957Z"
   },
   {
    "duration": 209,
    "start_time": "2022-06-25T10:13:04.154Z"
   },
   {
    "duration": 247,
    "start_time": "2022-06-25T10:13:04.365Z"
   },
   {
    "duration": 258,
    "start_time": "2022-06-25T10:13:04.614Z"
   },
   {
    "duration": 182,
    "start_time": "2022-06-25T10:13:04.874Z"
   },
   {
    "duration": 142,
    "start_time": "2022-06-25T10:13:05.058Z"
   },
   {
    "duration": 149,
    "start_time": "2022-06-25T10:13:05.202Z"
   },
   {
    "duration": 148,
    "start_time": "2022-06-25T10:13:05.353Z"
   },
   {
    "duration": 158,
    "start_time": "2022-06-25T10:13:05.504Z"
   },
   {
    "duration": 156,
    "start_time": "2022-06-25T10:13:05.664Z"
   },
   {
    "duration": 167,
    "start_time": "2022-06-25T10:13:05.821Z"
   },
   {
    "duration": 181,
    "start_time": "2022-06-25T10:13:05.990Z"
   },
   {
    "duration": 147,
    "start_time": "2022-06-25T10:13:06.173Z"
   },
   {
    "duration": 192,
    "start_time": "2022-06-25T10:13:06.326Z"
   },
   {
    "duration": 229,
    "start_time": "2022-06-25T10:13:06.520Z"
   },
   {
    "duration": 127,
    "start_time": "2022-06-25T10:13:06.751Z"
   },
   {
    "duration": 148,
    "start_time": "2022-06-25T10:13:06.881Z"
   },
   {
    "duration": 139,
    "start_time": "2022-06-25T10:13:07.031Z"
   },
   {
    "duration": 118,
    "start_time": "2022-06-25T10:13:07.171Z"
   },
   {
    "duration": 131,
    "start_time": "2022-06-25T10:13:07.291Z"
   },
   {
    "duration": 183,
    "start_time": "2022-06-25T10:13:07.425Z"
   },
   {
    "duration": 196,
    "start_time": "2022-06-25T10:13:07.610Z"
   },
   {
    "duration": 305,
    "start_time": "2022-06-25T10:13:07.807Z"
   },
   {
    "duration": 363,
    "start_time": "2022-06-25T10:14:17.229Z"
   },
   {
    "duration": 152,
    "start_time": "2022-06-25T10:15:16.537Z"
   },
   {
    "duration": 153,
    "start_time": "2022-06-25T10:15:18.491Z"
   },
   {
    "duration": 49,
    "start_time": "2022-06-25T10:15:20.153Z"
   },
   {
    "duration": 54,
    "start_time": "2022-06-25T10:15:26.354Z"
   },
   {
    "duration": 48,
    "start_time": "2022-06-25T10:15:37.510Z"
   },
   {
    "duration": 356,
    "start_time": "2022-06-25T10:15:48.857Z"
   },
   {
    "duration": 24,
    "start_time": "2022-06-25T10:17:06.143Z"
   },
   {
    "duration": 569,
    "start_time": "2022-06-25T10:19:06.700Z"
   },
   {
    "duration": 4,
    "start_time": "2022-06-25T10:19:07.272Z"
   },
   {
    "duration": 21,
    "start_time": "2022-06-25T10:19:07.280Z"
   },
   {
    "duration": 7,
    "start_time": "2022-06-25T10:19:07.303Z"
   },
   {
    "duration": 712,
    "start_time": "2022-06-25T10:19:07.313Z"
   },
   {
    "duration": 23,
    "start_time": "2022-06-25T10:19:08.027Z"
   },
   {
    "duration": 28,
    "start_time": "2022-06-25T10:19:08.052Z"
   },
   {
    "duration": 575,
    "start_time": "2022-06-25T10:19:08.082Z"
   },
   {
    "duration": 424,
    "start_time": "2022-06-25T10:19:08.659Z"
   },
   {
    "duration": 15,
    "start_time": "2022-06-25T10:19:09.085Z"
   },
   {
    "duration": 402,
    "start_time": "2022-06-25T10:19:09.102Z"
   },
   {
    "duration": 282,
    "start_time": "2022-06-25T10:19:09.506Z"
   },
   {
    "duration": 220,
    "start_time": "2022-06-25T10:19:09.789Z"
   },
   {
    "duration": 234,
    "start_time": "2022-06-25T10:19:10.014Z"
   },
   {
    "duration": 233,
    "start_time": "2022-06-25T10:19:10.253Z"
   },
   {
    "duration": 204,
    "start_time": "2022-06-25T10:19:10.488Z"
   },
   {
    "duration": 215,
    "start_time": "2022-06-25T10:19:10.694Z"
   },
   {
    "duration": 201,
    "start_time": "2022-06-25T10:19:10.911Z"
   },
   {
    "duration": 195,
    "start_time": "2022-06-25T10:19:11.114Z"
   },
   {
    "duration": 190,
    "start_time": "2022-06-25T10:19:11.311Z"
   },
   {
    "duration": 241,
    "start_time": "2022-06-25T10:19:11.504Z"
   },
   {
    "duration": 215,
    "start_time": "2022-06-25T10:19:11.747Z"
   },
   {
    "duration": 358,
    "start_time": "2022-06-25T10:19:11.964Z"
   },
   {
    "duration": 150,
    "start_time": "2022-06-25T10:19:12.340Z"
   },
   {
    "duration": 167,
    "start_time": "2022-06-25T10:19:12.492Z"
   },
   {
    "duration": 152,
    "start_time": "2022-06-25T10:19:12.661Z"
   },
   {
    "duration": 158,
    "start_time": "2022-06-25T10:19:12.815Z"
   },
   {
    "duration": 199,
    "start_time": "2022-06-25T10:19:12.974Z"
   },
   {
    "duration": 187,
    "start_time": "2022-06-25T10:19:13.175Z"
   },
   {
    "duration": 193,
    "start_time": "2022-06-25T10:19:13.364Z"
   },
   {
    "duration": 192,
    "start_time": "2022-06-25T10:19:13.558Z"
   },
   {
    "duration": 132,
    "start_time": "2022-06-25T10:19:13.752Z"
   },
   {
    "duration": 170,
    "start_time": "2022-06-25T10:19:13.886Z"
   },
   {
    "duration": 235,
    "start_time": "2022-06-25T10:19:14.058Z"
   },
   {
    "duration": 150,
    "start_time": "2022-06-25T10:19:14.295Z"
   },
   {
    "duration": 152,
    "start_time": "2022-06-25T10:19:14.447Z"
   },
   {
    "duration": 139,
    "start_time": "2022-06-25T10:19:14.601Z"
   },
   {
    "duration": 132,
    "start_time": "2022-06-25T10:19:14.742Z"
   },
   {
    "duration": 140,
    "start_time": "2022-06-25T10:19:14.876Z"
   },
   {
    "duration": 171,
    "start_time": "2022-06-25T10:19:15.018Z"
   },
   {
    "duration": 166,
    "start_time": "2022-06-25T10:19:15.193Z"
   },
   {
    "duration": 296,
    "start_time": "2022-06-25T10:19:15.360Z"
   },
   {
    "duration": 189,
    "start_time": "2022-06-25T10:19:15.658Z"
   },
   {
    "duration": 248,
    "start_time": "2022-06-25T10:19:15.849Z"
   },
   {
    "duration": 324,
    "start_time": "2022-06-25T10:19:16.099Z"
   },
   {
    "duration": 187,
    "start_time": "2022-06-25T10:19:16.425Z"
   },
   {
    "duration": 223,
    "start_time": "2022-06-25T10:19:16.614Z"
   },
   {
    "duration": 66,
    "start_time": "2022-06-25T10:19:58.336Z"
   },
   {
    "duration": 239,
    "start_time": "2022-06-25T10:20:04.700Z"
   },
   {
    "duration": 204,
    "start_time": "2022-06-25T10:20:20.122Z"
   },
   {
    "duration": 204,
    "start_time": "2022-06-25T10:20:30.356Z"
   },
   {
    "duration": 221,
    "start_time": "2022-06-25T10:21:38.895Z"
   },
   {
    "duration": 225,
    "start_time": "2022-06-25T10:22:05.352Z"
   },
   {
    "duration": 45,
    "start_time": "2022-06-25T10:24:59.075Z"
   },
   {
    "duration": 242,
    "start_time": "2022-06-25T11:03:07.466Z"
   },
   {
    "duration": 267,
    "start_time": "2022-06-25T11:05:10.421Z"
   },
   {
    "duration": 173,
    "start_time": "2022-06-25T11:05:24.338Z"
   },
   {
    "duration": 88,
    "start_time": "2022-06-25T11:05:43.552Z"
   },
   {
    "duration": 154,
    "start_time": "2022-06-25T11:05:50.821Z"
   },
   {
    "duration": 169,
    "start_time": "2022-06-25T11:06:15.112Z"
   },
   {
    "duration": 54,
    "start_time": "2022-06-25T11:11:15.165Z"
   },
   {
    "duration": 555,
    "start_time": "2022-06-25T11:12:36.464Z"
   },
   {
    "duration": 7,
    "start_time": "2022-06-25T11:12:37.022Z"
   },
   {
    "duration": 57,
    "start_time": "2022-06-25T11:12:37.031Z"
   },
   {
    "duration": 7,
    "start_time": "2022-06-25T11:12:37.091Z"
   },
   {
    "duration": 700,
    "start_time": "2022-06-25T11:12:37.099Z"
   },
   {
    "duration": 32,
    "start_time": "2022-06-25T11:12:37.803Z"
   },
   {
    "duration": 11,
    "start_time": "2022-06-25T11:12:37.837Z"
   },
   {
    "duration": 569,
    "start_time": "2022-06-25T11:12:37.851Z"
   },
   {
    "duration": 399,
    "start_time": "2022-06-25T11:12:38.422Z"
   },
   {
    "duration": 37,
    "start_time": "2022-06-25T11:12:38.824Z"
   },
   {
    "duration": 322,
    "start_time": "2022-06-25T11:12:38.865Z"
   },
   {
    "duration": 288,
    "start_time": "2022-06-25T11:12:39.189Z"
   },
   {
    "duration": 216,
    "start_time": "2022-06-25T11:12:39.479Z"
   },
   {
    "duration": 209,
    "start_time": "2022-06-25T11:12:39.696Z"
   },
   {
    "duration": 216,
    "start_time": "2022-06-25T11:12:39.906Z"
   },
   {
    "duration": 236,
    "start_time": "2022-06-25T11:12:40.123Z"
   },
   {
    "duration": 218,
    "start_time": "2022-06-25T11:12:40.361Z"
   },
   {
    "duration": 217,
    "start_time": "2022-06-25T11:12:40.581Z"
   },
   {
    "duration": 181,
    "start_time": "2022-06-25T11:12:40.800Z"
   },
   {
    "duration": 198,
    "start_time": "2022-06-25T11:12:40.982Z"
   },
   {
    "duration": 234,
    "start_time": "2022-06-25T11:12:41.183Z"
   },
   {
    "duration": 255,
    "start_time": "2022-06-25T11:12:41.420Z"
   },
   {
    "duration": 287,
    "start_time": "2022-06-25T11:12:41.677Z"
   },
   {
    "duration": 194,
    "start_time": "2022-06-25T11:12:41.966Z"
   },
   {
    "duration": 153,
    "start_time": "2022-06-25T11:12:42.162Z"
   },
   {
    "duration": 171,
    "start_time": "2022-06-25T11:12:42.318Z"
   },
   {
    "duration": 187,
    "start_time": "2022-06-25T11:12:42.492Z"
   },
   {
    "duration": 197,
    "start_time": "2022-06-25T11:12:42.683Z"
   },
   {
    "duration": 200,
    "start_time": "2022-06-25T11:12:42.882Z"
   },
   {
    "duration": 197,
    "start_time": "2022-06-25T11:12:43.084Z"
   },
   {
    "duration": 171,
    "start_time": "2022-06-25T11:12:43.283Z"
   },
   {
    "duration": 140,
    "start_time": "2022-06-25T11:12:43.456Z"
   },
   {
    "duration": 188,
    "start_time": "2022-06-25T11:12:43.598Z"
   },
   {
    "duration": 228,
    "start_time": "2022-06-25T11:12:43.788Z"
   },
   {
    "duration": 145,
    "start_time": "2022-06-25T11:12:44.018Z"
   },
   {
    "duration": 140,
    "start_time": "2022-06-25T11:12:44.164Z"
   },
   {
    "duration": 155,
    "start_time": "2022-06-25T11:12:44.306Z"
   },
   {
    "duration": 150,
    "start_time": "2022-06-25T11:12:44.463Z"
   },
   {
    "duration": 180,
    "start_time": "2022-06-25T11:12:44.615Z"
   },
   {
    "duration": 204,
    "start_time": "2022-06-25T11:12:44.798Z"
   },
   {
    "duration": 171,
    "start_time": "2022-06-25T11:12:45.004Z"
   },
   {
    "duration": 316,
    "start_time": "2022-06-25T11:12:45.178Z"
   },
   {
    "duration": 179,
    "start_time": "2022-06-25T11:12:45.496Z"
   },
   {
    "duration": 276,
    "start_time": "2022-06-25T11:12:45.677Z"
   },
   {
    "duration": 326,
    "start_time": "2022-06-25T11:12:45.955Z"
   },
   {
    "duration": 221,
    "start_time": "2022-06-25T11:12:46.283Z"
   },
   {
    "duration": 207,
    "start_time": "2022-06-25T11:12:46.506Z"
   },
   {
    "duration": 165,
    "start_time": "2022-06-25T11:12:46.715Z"
   },
   {
    "duration": 136,
    "start_time": "2022-06-25T11:12:46.882Z"
   },
   {
    "duration": 175,
    "start_time": "2022-06-25T11:12:47.020Z"
   },
   {
    "duration": 195,
    "start_time": "2022-06-25T11:13:31.143Z"
   },
   {
    "duration": 180,
    "start_time": "2022-06-25T11:13:59.243Z"
   },
   {
    "duration": 165,
    "start_time": "2022-06-25T11:14:02.748Z"
   },
   {
    "duration": 99,
    "start_time": "2022-06-25T11:21:35.503Z"
   },
   {
    "duration": 263,
    "start_time": "2022-06-25T11:21:41.045Z"
   },
   {
    "duration": 159,
    "start_time": "2022-06-25T11:22:37.530Z"
   },
   {
    "duration": 179,
    "start_time": "2022-06-25T11:23:04.628Z"
   },
   {
    "duration": 154,
    "start_time": "2022-06-25T11:23:31.965Z"
   },
   {
    "duration": 157,
    "start_time": "2022-06-25T11:23:33.946Z"
   },
   {
    "duration": 151,
    "start_time": "2022-06-25T11:25:22.716Z"
   },
   {
    "duration": 671,
    "start_time": "2022-06-25T11:32:22.796Z"
   },
   {
    "duration": 90,
    "start_time": "2022-06-25T11:32:57.957Z"
   },
   {
    "duration": 78,
    "start_time": "2022-06-25T11:33:31.771Z"
   },
   {
    "duration": 86,
    "start_time": "2022-06-25T11:34:04.861Z"
   },
   {
    "duration": 84,
    "start_time": "2022-06-25T11:34:26.089Z"
   },
   {
    "duration": 76,
    "start_time": "2022-06-25T11:35:16.658Z"
   },
   {
    "duration": 70,
    "start_time": "2022-06-25T11:35:35.824Z"
   },
   {
    "duration": 100,
    "start_time": "2022-06-25T11:36:07.317Z"
   },
   {
    "duration": 70,
    "start_time": "2022-06-25T11:36:31.370Z"
   },
   {
    "duration": 68,
    "start_time": "2022-06-25T11:37:13.857Z"
   },
   {
    "duration": 20,
    "start_time": "2022-06-25T11:56:26.054Z"
   },
   {
    "duration": 12,
    "start_time": "2022-06-25T11:57:10.581Z"
   },
   {
    "duration": 11,
    "start_time": "2022-06-25T11:58:28.698Z"
   },
   {
    "duration": 13,
    "start_time": "2022-06-25T12:01:12.004Z"
   },
   {
    "duration": 13,
    "start_time": "2022-06-25T12:01:35.053Z"
   },
   {
    "duration": 11,
    "start_time": "2022-06-25T12:01:40.256Z"
   },
   {
    "duration": 13,
    "start_time": "2022-06-25T12:01:54.012Z"
   },
   {
    "duration": 11,
    "start_time": "2022-06-25T12:02:05.968Z"
   },
   {
    "duration": 10,
    "start_time": "2022-06-25T12:02:16.204Z"
   },
   {
    "duration": 13,
    "start_time": "2022-06-25T12:02:36.295Z"
   },
   {
    "duration": 15,
    "start_time": "2022-06-25T12:02:45.422Z"
   },
   {
    "duration": 3,
    "start_time": "2022-06-25T12:06:56.536Z"
   },
   {
    "duration": 97,
    "start_time": "2022-06-25T12:14:43.018Z"
   },
   {
    "duration": 18,
    "start_time": "2022-06-25T12:15:40.102Z"
   },
   {
    "duration": 513,
    "start_time": "2022-06-25T12:15:50.120Z"
   },
   {
    "duration": 4,
    "start_time": "2022-06-25T12:15:50.635Z"
   },
   {
    "duration": 36,
    "start_time": "2022-06-25T12:15:50.641Z"
   },
   {
    "duration": 5,
    "start_time": "2022-06-25T12:15:50.679Z"
   },
   {
    "duration": 479,
    "start_time": "2022-06-25T12:15:50.685Z"
   },
   {
    "duration": 20,
    "start_time": "2022-06-25T12:15:51.165Z"
   },
   {
    "duration": 5,
    "start_time": "2022-06-25T12:15:51.187Z"
   },
   {
    "duration": 458,
    "start_time": "2022-06-25T12:15:51.194Z"
   },
   {
    "duration": 322,
    "start_time": "2022-06-25T12:15:51.654Z"
   },
   {
    "duration": 11,
    "start_time": "2022-06-25T12:15:51.979Z"
   },
   {
    "duration": 313,
    "start_time": "2022-06-25T12:15:51.991Z"
   },
   {
    "duration": 268,
    "start_time": "2022-06-25T12:15:52.306Z"
   },
   {
    "duration": 197,
    "start_time": "2022-06-25T12:15:52.575Z"
   },
   {
    "duration": 216,
    "start_time": "2022-06-25T12:15:52.775Z"
   },
   {
    "duration": 201,
    "start_time": "2022-06-25T12:15:52.993Z"
   },
   {
    "duration": 204,
    "start_time": "2022-06-25T12:15:53.196Z"
   },
   {
    "duration": 186,
    "start_time": "2022-06-25T12:15:53.402Z"
   },
   {
    "duration": 182,
    "start_time": "2022-06-25T12:15:53.590Z"
   },
   {
    "duration": 161,
    "start_time": "2022-06-25T12:15:53.774Z"
   },
   {
    "duration": 191,
    "start_time": "2022-06-25T12:15:53.936Z"
   },
   {
    "duration": 228,
    "start_time": "2022-06-25T12:15:54.129Z"
   },
   {
    "duration": 289,
    "start_time": "2022-06-25T12:15:54.360Z"
   },
   {
    "duration": 267,
    "start_time": "2022-06-25T12:15:54.652Z"
   },
   {
    "duration": 155,
    "start_time": "2022-06-25T12:15:54.926Z"
   },
   {
    "duration": 132,
    "start_time": "2022-06-25T12:15:55.082Z"
   },
   {
    "duration": 151,
    "start_time": "2022-06-25T12:15:55.217Z"
   },
   {
    "duration": 170,
    "start_time": "2022-06-25T12:15:55.369Z"
   },
   {
    "duration": 152,
    "start_time": "2022-06-25T12:15:55.544Z"
   },
   {
    "duration": 148,
    "start_time": "2022-06-25T12:15:55.697Z"
   },
   {
    "duration": 157,
    "start_time": "2022-06-25T12:15:55.847Z"
   },
   {
    "duration": 154,
    "start_time": "2022-06-25T12:15:56.006Z"
   },
   {
    "duration": 138,
    "start_time": "2022-06-25T12:15:56.161Z"
   },
   {
    "duration": 167,
    "start_time": "2022-06-25T12:15:56.301Z"
   },
   {
    "duration": 207,
    "start_time": "2022-06-25T12:15:56.470Z"
   },
   {
    "duration": 147,
    "start_time": "2022-06-25T12:15:56.679Z"
   },
   {
    "duration": 130,
    "start_time": "2022-06-25T12:15:56.828Z"
   },
   {
    "duration": 138,
    "start_time": "2022-06-25T12:15:56.960Z"
   },
   {
    "duration": 108,
    "start_time": "2022-06-25T12:15:57.100Z"
   },
   {
    "duration": 115,
    "start_time": "2022-06-25T12:15:57.216Z"
   },
   {
    "duration": 146,
    "start_time": "2022-06-25T12:15:57.333Z"
   },
   {
    "duration": 154,
    "start_time": "2022-06-25T12:15:57.481Z"
   },
   {
    "duration": 458,
    "start_time": "2022-06-25T12:15:57.637Z"
   },
   {
    "duration": 246,
    "start_time": "2022-06-25T12:15:58.097Z"
   },
   {
    "duration": 143,
    "start_time": "2022-06-25T12:15:58.345Z"
   },
   {
    "duration": 479,
    "start_time": "2022-06-25T12:15:58.490Z"
   },
   {
    "duration": 186,
    "start_time": "2022-06-25T12:15:58.970Z"
   },
   {
    "duration": 179,
    "start_time": "2022-06-25T12:15:59.158Z"
   },
   {
    "duration": 136,
    "start_time": "2022-06-25T12:15:59.339Z"
   },
   {
    "duration": 132,
    "start_time": "2022-06-25T12:15:59.476Z"
   },
   {
    "duration": 156,
    "start_time": "2022-06-25T12:15:59.610Z"
   },
   {
    "duration": 124,
    "start_time": "2022-06-25T12:15:59.768Z"
   },
   {
    "duration": 237,
    "start_time": "2022-06-25T12:15:59.894Z"
   },
   {
    "duration": 176,
    "start_time": "2022-06-25T12:16:00.133Z"
   },
   {
    "duration": 152,
    "start_time": "2022-06-25T12:16:00.311Z"
   },
   {
    "duration": 156,
    "start_time": "2022-06-25T12:16:00.465Z"
   },
   {
    "duration": 147,
    "start_time": "2022-06-25T12:16:00.623Z"
   },
   {
    "duration": 474,
    "start_time": "2022-06-25T12:16:00.772Z"
   },
   {
    "duration": 12,
    "start_time": "2022-06-25T12:16:01.247Z"
   },
   {
    "duration": 513,
    "start_time": "2022-06-25T12:25:16.723Z"
   },
   {
    "duration": 5,
    "start_time": "2022-06-25T12:25:17.239Z"
   },
   {
    "duration": 18,
    "start_time": "2022-06-25T12:25:17.246Z"
   },
   {
    "duration": 6,
    "start_time": "2022-06-25T12:25:17.266Z"
   },
   {
    "duration": 606,
    "start_time": "2022-06-25T12:25:17.273Z"
   },
   {
    "duration": 26,
    "start_time": "2022-06-25T12:25:17.881Z"
   },
   {
    "duration": 18,
    "start_time": "2022-06-25T12:25:17.910Z"
   },
   {
    "duration": 478,
    "start_time": "2022-06-25T12:25:17.931Z"
   },
   {
    "duration": 392,
    "start_time": "2022-06-25T12:25:18.411Z"
   },
   {
    "duration": 21,
    "start_time": "2022-06-25T12:25:18.806Z"
   },
   {
    "duration": 278,
    "start_time": "2022-06-25T12:25:18.831Z"
   },
   {
    "duration": 266,
    "start_time": "2022-06-25T12:25:19.111Z"
   },
   {
    "duration": 189,
    "start_time": "2022-06-25T12:25:19.380Z"
   },
   {
    "duration": 215,
    "start_time": "2022-06-25T12:25:19.571Z"
   },
   {
    "duration": 191,
    "start_time": "2022-06-25T12:25:19.787Z"
   },
   {
    "duration": 212,
    "start_time": "2022-06-25T12:25:19.980Z"
   },
   {
    "duration": 199,
    "start_time": "2022-06-25T12:25:20.194Z"
   },
   {
    "duration": 178,
    "start_time": "2022-06-25T12:25:20.395Z"
   },
   {
    "duration": 143,
    "start_time": "2022-06-25T12:25:20.575Z"
   },
   {
    "duration": 199,
    "start_time": "2022-06-25T12:25:20.720Z"
   },
   {
    "duration": 207,
    "start_time": "2022-06-25T12:25:20.922Z"
   },
   {
    "duration": 278,
    "start_time": "2022-06-25T12:25:21.131Z"
   },
   {
    "duration": 301,
    "start_time": "2022-06-25T12:25:21.411Z"
   },
   {
    "duration": 212,
    "start_time": "2022-06-25T12:25:21.714Z"
   },
   {
    "duration": 192,
    "start_time": "2022-06-25T12:25:21.928Z"
   },
   {
    "duration": 151,
    "start_time": "2022-06-25T12:25:22.126Z"
   },
   {
    "duration": 160,
    "start_time": "2022-06-25T12:25:22.279Z"
   },
   {
    "duration": 160,
    "start_time": "2022-06-25T12:25:22.444Z"
   },
   {
    "duration": 177,
    "start_time": "2022-06-25T12:25:22.606Z"
   },
   {
    "duration": 166,
    "start_time": "2022-06-25T12:25:22.785Z"
   },
   {
    "duration": 166,
    "start_time": "2022-06-25T12:25:22.953Z"
   },
   {
    "duration": 142,
    "start_time": "2022-06-25T12:25:23.120Z"
   },
   {
    "duration": 181,
    "start_time": "2022-06-25T12:25:23.267Z"
   },
   {
    "duration": 234,
    "start_time": "2022-06-25T12:25:23.451Z"
   },
   {
    "duration": 167,
    "start_time": "2022-06-25T12:25:23.687Z"
   },
   {
    "duration": 134,
    "start_time": "2022-06-25T12:25:23.856Z"
   },
   {
    "duration": 110,
    "start_time": "2022-06-25T12:25:23.993Z"
   },
   {
    "duration": 113,
    "start_time": "2022-06-25T12:25:24.105Z"
   },
   {
    "duration": 139,
    "start_time": "2022-06-25T12:25:24.226Z"
   },
   {
    "duration": 231,
    "start_time": "2022-06-25T12:25:24.366Z"
   },
   {
    "duration": 219,
    "start_time": "2022-06-25T12:25:24.599Z"
   },
   {
    "duration": 502,
    "start_time": "2022-06-25T12:25:24.820Z"
   },
   {
    "duration": 256,
    "start_time": "2022-06-25T12:25:25.324Z"
   },
   {
    "duration": 163,
    "start_time": "2022-06-25T12:25:25.583Z"
   },
   {
    "duration": 498,
    "start_time": "2022-06-25T12:25:25.749Z"
   },
   {
    "duration": 255,
    "start_time": "2022-06-25T12:25:26.249Z"
   },
   {
    "duration": 206,
    "start_time": "2022-06-25T12:25:26.507Z"
   },
   {
    "duration": 147,
    "start_time": "2022-06-25T12:25:26.715Z"
   },
   {
    "duration": 167,
    "start_time": "2022-06-25T12:25:26.865Z"
   },
   {
    "duration": 162,
    "start_time": "2022-06-25T12:25:27.034Z"
   },
   {
    "duration": 192,
    "start_time": "2022-06-25T12:25:27.198Z"
   },
   {
    "duration": 244,
    "start_time": "2022-06-25T12:25:27.392Z"
   },
   {
    "duration": 166,
    "start_time": "2022-06-25T12:25:27.638Z"
   },
   {
    "duration": 161,
    "start_time": "2022-06-25T12:25:27.806Z"
   },
   {
    "duration": 219,
    "start_time": "2022-06-25T12:25:27.969Z"
   },
   {
    "duration": 163,
    "start_time": "2022-06-25T12:25:28.190Z"
   },
   {
    "duration": 470,
    "start_time": "2022-06-25T12:25:28.355Z"
   },
   {
    "duration": 17,
    "start_time": "2022-06-25T12:25:28.827Z"
   },
   {
    "duration": 570,
    "start_time": "2022-06-25T15:07:21.451Z"
   },
   {
    "duration": 5,
    "start_time": "2022-06-25T15:07:22.024Z"
   },
   {
    "duration": 34,
    "start_time": "2022-06-25T15:07:22.030Z"
   },
   {
    "duration": 20,
    "start_time": "2022-06-25T15:07:22.066Z"
   },
   {
    "duration": 502,
    "start_time": "2022-06-25T15:07:22.089Z"
   },
   {
    "duration": 16,
    "start_time": "2022-06-25T15:07:22.593Z"
   },
   {
    "duration": 9,
    "start_time": "2022-06-25T15:07:22.611Z"
   },
   {
    "duration": 614,
    "start_time": "2022-06-25T15:07:22.622Z"
   },
   {
    "duration": 327,
    "start_time": "2022-06-25T15:07:23.239Z"
   },
   {
    "duration": 15,
    "start_time": "2022-06-25T15:07:23.571Z"
   },
   {
    "duration": 285,
    "start_time": "2022-06-25T15:07:23.587Z"
   },
   {
    "duration": 215,
    "start_time": "2022-06-25T15:07:23.874Z"
   },
   {
    "duration": 182,
    "start_time": "2022-06-25T15:07:24.091Z"
   },
   {
    "duration": 160,
    "start_time": "2022-06-25T15:07:24.276Z"
   },
   {
    "duration": 175,
    "start_time": "2022-06-25T15:07:24.438Z"
   },
   {
    "duration": 175,
    "start_time": "2022-06-25T15:07:24.615Z"
   },
   {
    "duration": 162,
    "start_time": "2022-06-25T15:07:24.792Z"
   },
   {
    "duration": 171,
    "start_time": "2022-06-25T15:07:24.960Z"
   },
   {
    "duration": 143,
    "start_time": "2022-06-25T15:07:25.132Z"
   },
   {
    "duration": 172,
    "start_time": "2022-06-25T15:07:25.277Z"
   },
   {
    "duration": 203,
    "start_time": "2022-06-25T15:07:25.450Z"
   },
   {
    "duration": 196,
    "start_time": "2022-06-25T15:07:25.658Z"
   },
   {
    "duration": 224,
    "start_time": "2022-06-25T15:07:25.863Z"
   },
   {
    "duration": 139,
    "start_time": "2022-06-25T15:07:26.088Z"
   },
   {
    "duration": 142,
    "start_time": "2022-06-25T15:07:26.229Z"
   },
   {
    "duration": 128,
    "start_time": "2022-06-25T15:07:26.373Z"
   },
   {
    "duration": 135,
    "start_time": "2022-06-25T15:07:26.503Z"
   },
   {
    "duration": 146,
    "start_time": "2022-06-25T15:07:26.640Z"
   },
   {
    "duration": 132,
    "start_time": "2022-06-25T15:07:26.788Z"
   },
   {
    "duration": 152,
    "start_time": "2022-06-25T15:07:26.921Z"
   },
   {
    "duration": 158,
    "start_time": "2022-06-25T15:07:27.075Z"
   },
   {
    "duration": 164,
    "start_time": "2022-06-25T15:07:27.235Z"
   },
   {
    "duration": 151,
    "start_time": "2022-06-25T15:07:27.401Z"
   },
   {
    "duration": 184,
    "start_time": "2022-06-25T15:07:27.554Z"
   },
   {
    "duration": 111,
    "start_time": "2022-06-25T15:07:27.740Z"
   },
   {
    "duration": 94,
    "start_time": "2022-06-25T15:07:27.863Z"
   },
   {
    "duration": 87,
    "start_time": "2022-06-25T15:07:27.967Z"
   },
   {
    "duration": 90,
    "start_time": "2022-06-25T15:07:28.059Z"
   },
   {
    "duration": 115,
    "start_time": "2022-06-25T15:07:28.158Z"
   },
   {
    "duration": 133,
    "start_time": "2022-06-25T15:07:28.275Z"
   },
   {
    "duration": 137,
    "start_time": "2022-06-25T15:07:28.413Z"
   },
   {
    "duration": 448,
    "start_time": "2022-06-25T15:07:28.552Z"
   },
   {
    "duration": 216,
    "start_time": "2022-06-25T15:07:29.002Z"
   },
   {
    "duration": 152,
    "start_time": "2022-06-25T15:07:29.219Z"
   },
   {
    "duration": 419,
    "start_time": "2022-06-25T15:07:29.373Z"
   },
   {
    "duration": 180,
    "start_time": "2022-06-25T15:07:29.794Z"
   },
   {
    "duration": 175,
    "start_time": "2022-06-25T15:07:29.976Z"
   },
   {
    "duration": 136,
    "start_time": "2022-06-25T15:07:30.153Z"
   },
   {
    "duration": 138,
    "start_time": "2022-06-25T15:07:30.291Z"
   },
   {
    "duration": 159,
    "start_time": "2022-06-25T15:07:30.431Z"
   },
   {
    "duration": 137,
    "start_time": "2022-06-25T15:07:30.592Z"
   },
   {
    "duration": 249,
    "start_time": "2022-06-25T15:07:30.731Z"
   },
   {
    "duration": 144,
    "start_time": "2022-06-25T15:07:30.982Z"
   },
   {
    "duration": 150,
    "start_time": "2022-06-25T15:07:31.128Z"
   },
   {
    "duration": 143,
    "start_time": "2022-06-25T15:07:31.280Z"
   },
   {
    "duration": 129,
    "start_time": "2022-06-25T15:07:31.425Z"
   },
   {
    "duration": 395,
    "start_time": "2022-06-25T15:07:31.559Z"
   },
   {
    "duration": 20,
    "start_time": "2022-06-25T15:07:31.956Z"
   },
   {
    "duration": 118,
    "start_time": "2022-06-25T15:57:06.155Z"
   },
   {
    "duration": 4,
    "start_time": "2022-06-25T15:57:06.275Z"
   },
   {
    "duration": 8,
    "start_time": "2022-06-25T15:57:30.238Z"
   },
   {
    "duration": 6,
    "start_time": "2022-06-25T15:58:07.714Z"
   },
   {
    "duration": 5,
    "start_time": "2022-06-25T15:58:20.775Z"
   },
   {
    "duration": 5,
    "start_time": "2022-06-25T15:58:31.251Z"
   },
   {
    "duration": 5,
    "start_time": "2022-06-25T15:58:35.842Z"
   },
   {
    "duration": 5,
    "start_time": "2022-06-25T15:58:51.807Z"
   },
   {
    "duration": 7,
    "start_time": "2022-06-25T15:59:06.410Z"
   },
   {
    "duration": 4,
    "start_time": "2022-06-25T16:01:35.014Z"
   },
   {
    "duration": 249,
    "start_time": "2022-06-25T20:25:01.418Z"
   },
   {
    "duration": 117,
    "start_time": "2022-06-25T20:25:31.151Z"
   },
   {
    "duration": 12,
    "start_time": "2022-06-25T20:40:54.184Z"
   },
   {
    "duration": 21,
    "start_time": "2022-06-25T20:41:24.519Z"
   },
   {
    "duration": 75,
    "start_time": "2022-06-25T20:41:36.869Z"
   },
   {
    "duration": 6,
    "start_time": "2022-06-25T20:41:36.946Z"
   },
   {
    "duration": 13,
    "start_time": "2022-06-25T20:41:36.953Z"
   },
   {
    "duration": 5,
    "start_time": "2022-06-25T20:41:36.969Z"
   },
   {
    "duration": 542,
    "start_time": "2022-06-25T20:41:36.975Z"
   },
   {
    "duration": 18,
    "start_time": "2022-06-25T20:41:37.519Z"
   },
   {
    "duration": 4,
    "start_time": "2022-06-25T20:41:37.539Z"
   },
   {
    "duration": 144,
    "start_time": "2022-06-25T20:41:37.559Z"
   },
   {
    "duration": 290,
    "start_time": "2022-06-25T20:41:37.705Z"
   },
   {
    "duration": 9,
    "start_time": "2022-06-25T20:41:37.998Z"
   },
   {
    "duration": 253,
    "start_time": "2022-06-25T20:41:38.009Z"
   },
   {
    "duration": 158,
    "start_time": "2022-06-25T20:41:38.264Z"
   },
   {
    "duration": 173,
    "start_time": "2022-06-25T20:41:38.424Z"
   },
   {
    "duration": 170,
    "start_time": "2022-06-25T20:41:38.599Z"
   },
   {
    "duration": 167,
    "start_time": "2022-06-25T20:41:38.771Z"
   },
   {
    "duration": 159,
    "start_time": "2022-06-25T20:41:38.939Z"
   },
   {
    "duration": 164,
    "start_time": "2022-06-25T20:41:39.100Z"
   },
   {
    "duration": 234,
    "start_time": "2022-06-25T20:41:39.266Z"
   },
   {
    "duration": 133,
    "start_time": "2022-06-25T20:41:39.502Z"
   },
   {
    "duration": 164,
    "start_time": "2022-06-25T20:41:39.637Z"
   },
   {
    "duration": 177,
    "start_time": "2022-06-25T20:41:39.802Z"
   },
   {
    "duration": 172,
    "start_time": "2022-06-25T20:41:39.981Z"
   },
   {
    "duration": 138,
    "start_time": "2022-06-25T20:41:40.154Z"
   },
   {
    "duration": 142,
    "start_time": "2022-06-25T20:41:40.293Z"
   },
   {
    "duration": 122,
    "start_time": "2022-06-25T20:41:40.436Z"
   },
   {
    "duration": 137,
    "start_time": "2022-06-25T20:41:40.560Z"
   },
   {
    "duration": 130,
    "start_time": "2022-06-25T20:41:40.698Z"
   },
   {
    "duration": 140,
    "start_time": "2022-06-25T20:41:40.832Z"
   },
   {
    "duration": 212,
    "start_time": "2022-06-25T20:41:40.973Z"
   },
   {
    "duration": 139,
    "start_time": "2022-06-25T20:41:41.186Z"
   },
   {
    "duration": 138,
    "start_time": "2022-06-25T20:41:41.327Z"
   },
   {
    "duration": 119,
    "start_time": "2022-06-25T20:41:41.467Z"
   },
   {
    "duration": 141,
    "start_time": "2022-06-25T20:41:41.588Z"
   },
   {
    "duration": 117,
    "start_time": "2022-06-25T20:41:41.731Z"
   },
   {
    "duration": 114,
    "start_time": "2022-06-25T20:41:41.849Z"
   },
   {
    "duration": 12,
    "start_time": "2022-06-25T20:41:41.964Z"
   },
   {
    "duration": 0,
    "start_time": "2022-06-25T20:41:41.977Z"
   },
   {
    "duration": 0,
    "start_time": "2022-06-25T20:41:41.978Z"
   },
   {
    "duration": 0,
    "start_time": "2022-06-25T20:41:41.979Z"
   },
   {
    "duration": 0,
    "start_time": "2022-06-25T20:41:41.980Z"
   },
   {
    "duration": 0,
    "start_time": "2022-06-25T20:41:41.981Z"
   },
   {
    "duration": 0,
    "start_time": "2022-06-25T20:41:41.982Z"
   },
   {
    "duration": 0,
    "start_time": "2022-06-25T20:41:41.983Z"
   },
   {
    "duration": 0,
    "start_time": "2022-06-25T20:41:41.984Z"
   },
   {
    "duration": 0,
    "start_time": "2022-06-25T20:41:41.985Z"
   },
   {
    "duration": 0,
    "start_time": "2022-06-25T20:41:41.986Z"
   },
   {
    "duration": 0,
    "start_time": "2022-06-25T20:41:41.987Z"
   },
   {
    "duration": 0,
    "start_time": "2022-06-25T20:41:41.988Z"
   },
   {
    "duration": 0,
    "start_time": "2022-06-25T20:41:41.989Z"
   },
   {
    "duration": 0,
    "start_time": "2022-06-25T20:41:41.990Z"
   },
   {
    "duration": 0,
    "start_time": "2022-06-25T20:41:41.991Z"
   },
   {
    "duration": 0,
    "start_time": "2022-06-25T20:41:41.993Z"
   },
   {
    "duration": 0,
    "start_time": "2022-06-25T20:41:41.994Z"
   },
   {
    "duration": 0,
    "start_time": "2022-06-25T20:41:41.996Z"
   },
   {
    "duration": 0,
    "start_time": "2022-06-25T20:41:41.997Z"
   },
   {
    "duration": 0,
    "start_time": "2022-06-25T20:41:41.998Z"
   },
   {
    "duration": 0,
    "start_time": "2022-06-25T20:41:41.999Z"
   },
   {
    "duration": 0,
    "start_time": "2022-06-25T20:41:42.000Z"
   },
   {
    "duration": 0,
    "start_time": "2022-06-25T20:41:42.001Z"
   },
   {
    "duration": 0,
    "start_time": "2022-06-25T20:41:42.001Z"
   },
   {
    "duration": 22,
    "start_time": "2022-06-25T20:41:57.135Z"
   },
   {
    "duration": 9,
    "start_time": "2022-06-25T20:42:09.067Z"
   },
   {
    "duration": 12,
    "start_time": "2022-06-25T20:42:20.017Z"
   },
   {
    "duration": 101,
    "start_time": "2022-06-25T20:42:24.619Z"
   },
   {
    "duration": 193,
    "start_time": "2022-06-25T20:42:26.649Z"
   },
   {
    "duration": 104,
    "start_time": "2022-06-25T20:42:52.347Z"
   },
   {
    "duration": 107,
    "start_time": "2022-06-25T20:42:56.609Z"
   },
   {
    "duration": 290,
    "start_time": "2022-06-25T20:43:02.469Z"
   },
   {
    "duration": 114,
    "start_time": "2022-06-25T20:43:36.398Z"
   },
   {
    "duration": 95,
    "start_time": "2022-06-25T20:43:41.099Z"
   },
   {
    "duration": 273,
    "start_time": "2022-06-25T20:44:13.689Z"
   },
   {
    "duration": 270,
    "start_time": "2022-06-25T20:44:30.239Z"
   },
   {
    "duration": 259,
    "start_time": "2022-06-25T20:44:45.367Z"
   },
   {
    "duration": 367,
    "start_time": "2022-06-25T20:44:53.520Z"
   },
   {
    "duration": 243,
    "start_time": "2022-06-25T20:45:05.647Z"
   },
   {
    "duration": 245,
    "start_time": "2022-06-25T20:45:10.519Z"
   },
   {
    "duration": 514,
    "start_time": "2022-06-25T20:50:12.061Z"
   },
   {
    "duration": 5,
    "start_time": "2022-06-25T20:50:12.577Z"
   },
   {
    "duration": 17,
    "start_time": "2022-06-25T20:50:12.583Z"
   },
   {
    "duration": 7,
    "start_time": "2022-06-25T20:50:12.602Z"
   },
   {
    "duration": 536,
    "start_time": "2022-06-25T20:50:12.611Z"
   },
   {
    "duration": 33,
    "start_time": "2022-06-25T20:50:13.149Z"
   },
   {
    "duration": 4,
    "start_time": "2022-06-25T20:50:13.184Z"
   },
   {
    "duration": 412,
    "start_time": "2022-06-25T20:50:13.189Z"
   },
   {
    "duration": 317,
    "start_time": "2022-06-25T20:50:13.602Z"
   },
   {
    "duration": 12,
    "start_time": "2022-06-25T20:50:13.920Z"
   },
   {
    "duration": 274,
    "start_time": "2022-06-25T20:50:13.934Z"
   },
   {
    "duration": 228,
    "start_time": "2022-06-25T20:50:14.210Z"
   },
   {
    "duration": 187,
    "start_time": "2022-06-25T20:50:14.440Z"
   },
   {
    "duration": 185,
    "start_time": "2022-06-25T20:50:14.630Z"
   },
   {
    "duration": 178,
    "start_time": "2022-06-25T20:50:14.817Z"
   },
   {
    "duration": 187,
    "start_time": "2022-06-25T20:50:14.996Z"
   },
   {
    "duration": 182,
    "start_time": "2022-06-25T20:50:15.185Z"
   },
   {
    "duration": 156,
    "start_time": "2022-06-25T20:50:15.371Z"
   },
   {
    "duration": 135,
    "start_time": "2022-06-25T20:50:15.529Z"
   },
   {
    "duration": 167,
    "start_time": "2022-06-25T20:50:15.667Z"
   },
   {
    "duration": 198,
    "start_time": "2022-06-25T20:50:15.835Z"
   },
   {
    "duration": 186,
    "start_time": "2022-06-25T20:50:16.034Z"
   },
   {
    "duration": 225,
    "start_time": "2022-06-25T20:50:16.221Z"
   },
   {
    "duration": 149,
    "start_time": "2022-06-25T20:50:16.447Z"
   },
   {
    "duration": 146,
    "start_time": "2022-06-25T20:50:16.597Z"
   },
   {
    "duration": 164,
    "start_time": "2022-06-25T20:50:16.745Z"
   },
   {
    "duration": 136,
    "start_time": "2022-06-25T20:50:16.910Z"
   },
   {
    "duration": 159,
    "start_time": "2022-06-25T20:50:17.047Z"
   },
   {
    "duration": 180,
    "start_time": "2022-06-25T20:50:17.208Z"
   },
   {
    "duration": 193,
    "start_time": "2022-06-25T20:50:17.390Z"
   },
   {
    "duration": 144,
    "start_time": "2022-06-25T20:50:17.585Z"
   },
   {
    "duration": 140,
    "start_time": "2022-06-25T20:50:17.731Z"
   },
   {
    "duration": 135,
    "start_time": "2022-06-25T20:50:17.875Z"
   },
   {
    "duration": 191,
    "start_time": "2022-06-25T20:50:18.011Z"
   },
   {
    "duration": 115,
    "start_time": "2022-06-25T20:50:18.203Z"
   },
   {
    "duration": 113,
    "start_time": "2022-06-25T20:50:18.320Z"
   },
   {
    "duration": 110,
    "start_time": "2022-06-25T20:50:18.435Z"
   },
   {
    "duration": 110,
    "start_time": "2022-06-25T20:50:18.546Z"
   },
   {
    "duration": 123,
    "start_time": "2022-06-25T20:50:18.658Z"
   },
   {
    "duration": 145,
    "start_time": "2022-06-25T20:50:18.783Z"
   },
   {
    "duration": 146,
    "start_time": "2022-06-25T20:50:18.932Z"
   },
   {
    "duration": 453,
    "start_time": "2022-06-25T20:50:19.080Z"
   },
   {
    "duration": 218,
    "start_time": "2022-06-25T20:50:19.535Z"
   },
   {
    "duration": 145,
    "start_time": "2022-06-25T20:50:19.755Z"
   },
   {
    "duration": 479,
    "start_time": "2022-06-25T20:50:19.902Z"
   },
   {
    "duration": 184,
    "start_time": "2022-06-25T20:50:20.383Z"
   },
   {
    "duration": 181,
    "start_time": "2022-06-25T20:50:20.569Z"
   },
   {
    "duration": 152,
    "start_time": "2022-06-25T20:50:20.752Z"
   },
   {
    "duration": 136,
    "start_time": "2022-06-25T20:50:20.906Z"
   },
   {
    "duration": 153,
    "start_time": "2022-06-25T20:50:21.044Z"
   },
   {
    "duration": 143,
    "start_time": "2022-06-25T20:50:21.199Z"
   },
   {
    "duration": 231,
    "start_time": "2022-06-25T20:50:21.343Z"
   },
   {
    "duration": 146,
    "start_time": "2022-06-25T20:50:21.576Z"
   },
   {
    "duration": 142,
    "start_time": "2022-06-25T20:50:21.724Z"
   },
   {
    "duration": 153,
    "start_time": "2022-06-25T20:50:21.871Z"
   },
   {
    "duration": 145,
    "start_time": "2022-06-25T20:50:22.026Z"
   },
   {
    "duration": 435,
    "start_time": "2022-06-25T20:50:22.177Z"
   },
   {
    "duration": 9,
    "start_time": "2022-06-25T20:50:22.614Z"
   },
   {
    "duration": 11,
    "start_time": "2022-06-25T20:57:58.739Z"
   },
   {
    "duration": 98,
    "start_time": "2022-06-25T20:58:09.040Z"
   },
   {
    "duration": 9,
    "start_time": "2022-06-25T20:58:11.673Z"
   },
   {
    "duration": 473,
    "start_time": "2022-06-25T21:09:02.607Z"
   },
   {
    "duration": 5,
    "start_time": "2022-06-25T21:09:03.083Z"
   },
   {
    "duration": 39,
    "start_time": "2022-06-25T21:09:03.090Z"
   },
   {
    "duration": 5,
    "start_time": "2022-06-25T21:09:03.131Z"
   },
   {
    "duration": 523,
    "start_time": "2022-06-25T21:09:03.137Z"
   },
   {
    "duration": 23,
    "start_time": "2022-06-25T21:09:03.664Z"
   },
   {
    "duration": 4,
    "start_time": "2022-06-25T21:09:03.688Z"
   },
   {
    "duration": 421,
    "start_time": "2022-06-25T21:09:03.694Z"
   },
   {
    "duration": 323,
    "start_time": "2022-06-25T21:09:04.117Z"
   },
   {
    "duration": 29,
    "start_time": "2022-06-25T21:09:04.443Z"
   },
   {
    "duration": 271,
    "start_time": "2022-06-25T21:09:04.476Z"
   },
   {
    "duration": 248,
    "start_time": "2022-06-25T21:09:04.749Z"
   },
   {
    "duration": 190,
    "start_time": "2022-06-25T21:09:04.999Z"
   },
   {
    "duration": 188,
    "start_time": "2022-06-25T21:09:05.191Z"
   },
   {
    "duration": 183,
    "start_time": "2022-06-25T21:09:05.381Z"
   },
   {
    "duration": 171,
    "start_time": "2022-06-25T21:09:05.570Z"
   },
   {
    "duration": 178,
    "start_time": "2022-06-25T21:09:05.743Z"
   },
   {
    "duration": 166,
    "start_time": "2022-06-25T21:09:05.923Z"
   },
   {
    "duration": 145,
    "start_time": "2022-06-25T21:09:06.091Z"
   },
   {
    "duration": 182,
    "start_time": "2022-06-25T21:09:06.238Z"
   },
   {
    "duration": 187,
    "start_time": "2022-06-25T21:09:06.422Z"
   },
   {
    "duration": 196,
    "start_time": "2022-06-25T21:09:06.611Z"
   },
   {
    "duration": 225,
    "start_time": "2022-06-25T21:09:06.809Z"
   },
   {
    "duration": 191,
    "start_time": "2022-06-25T21:09:07.036Z"
   },
   {
    "duration": 161,
    "start_time": "2022-06-25T21:09:07.229Z"
   },
   {
    "duration": 195,
    "start_time": "2022-06-25T21:09:07.393Z"
   },
   {
    "duration": 146,
    "start_time": "2022-06-25T21:09:07.590Z"
   },
   {
    "duration": 146,
    "start_time": "2022-06-25T21:09:07.740Z"
   },
   {
    "duration": 146,
    "start_time": "2022-06-25T21:09:07.888Z"
   },
   {
    "duration": 144,
    "start_time": "2022-06-25T21:09:08.036Z"
   },
   {
    "duration": 162,
    "start_time": "2022-06-25T21:09:08.182Z"
   },
   {
    "duration": 134,
    "start_time": "2022-06-25T21:09:08.346Z"
   },
   {
    "duration": 147,
    "start_time": "2022-06-25T21:09:08.481Z"
   },
   {
    "duration": 213,
    "start_time": "2022-06-25T21:09:08.630Z"
   },
   {
    "duration": 120,
    "start_time": "2022-06-25T21:09:08.844Z"
   },
   {
    "duration": 115,
    "start_time": "2022-06-25T21:09:08.969Z"
   },
   {
    "duration": 105,
    "start_time": "2022-06-25T21:09:09.085Z"
   },
   {
    "duration": 103,
    "start_time": "2022-06-25T21:09:09.192Z"
   },
   {
    "duration": 117,
    "start_time": "2022-06-25T21:09:09.297Z"
   },
   {
    "duration": 153,
    "start_time": "2022-06-25T21:09:09.416Z"
   },
   {
    "duration": 139,
    "start_time": "2022-06-25T21:09:09.574Z"
   },
   {
    "duration": 467,
    "start_time": "2022-06-25T21:09:09.714Z"
   },
   {
    "duration": 226,
    "start_time": "2022-06-25T21:09:10.182Z"
   },
   {
    "duration": 150,
    "start_time": "2022-06-25T21:09:10.410Z"
   },
   {
    "duration": 454,
    "start_time": "2022-06-25T21:09:10.564Z"
   },
   {
    "duration": 185,
    "start_time": "2022-06-25T21:09:11.020Z"
   },
   {
    "duration": 185,
    "start_time": "2022-06-25T21:09:11.207Z"
   },
   {
    "duration": 127,
    "start_time": "2022-06-25T21:09:11.393Z"
   },
   {
    "duration": 140,
    "start_time": "2022-06-25T21:09:11.522Z"
   },
   {
    "duration": 131,
    "start_time": "2022-06-25T21:09:11.669Z"
   },
   {
    "duration": 135,
    "start_time": "2022-06-25T21:09:11.802Z"
   },
   {
    "duration": 238,
    "start_time": "2022-06-25T21:09:11.939Z"
   },
   {
    "duration": 209,
    "start_time": "2022-06-25T21:09:12.180Z"
   },
   {
    "duration": 145,
    "start_time": "2022-06-25T21:09:12.391Z"
   },
   {
    "duration": 150,
    "start_time": "2022-06-25T21:09:12.538Z"
   },
   {
    "duration": 134,
    "start_time": "2022-06-25T21:09:12.690Z"
   },
   {
    "duration": 417,
    "start_time": "2022-06-25T21:09:12.826Z"
   },
   {
    "duration": 18,
    "start_time": "2022-06-25T21:09:13.245Z"
   },
   {
    "duration": 416,
    "start_time": "2022-06-26T04:55:04.414Z"
   },
   {
    "duration": 47,
    "start_time": "2022-06-26T07:38:37.733Z"
   },
   {
    "duration": 41,
    "start_time": "2022-06-26T07:39:31.076Z"
   },
   {
    "duration": 7,
    "start_time": "2022-06-26T07:39:48.447Z"
   },
   {
    "duration": 405,
    "start_time": "2022-06-26T07:39:53.456Z"
   },
   {
    "duration": 118,
    "start_time": "2022-06-26T07:39:53.863Z"
   },
   {
    "duration": 71,
    "start_time": "2022-06-26T07:39:53.983Z"
   },
   {
    "duration": 0,
    "start_time": "2022-06-26T07:39:54.058Z"
   },
   {
    "duration": 0,
    "start_time": "2022-06-26T07:39:54.059Z"
   },
   {
    "duration": 0,
    "start_time": "2022-06-26T07:39:54.060Z"
   },
   {
    "duration": 0,
    "start_time": "2022-06-26T07:39:54.061Z"
   },
   {
    "duration": 0,
    "start_time": "2022-06-26T07:39:54.062Z"
   },
   {
    "duration": 0,
    "start_time": "2022-06-26T07:39:54.063Z"
   },
   {
    "duration": 0,
    "start_time": "2022-06-26T07:39:54.064Z"
   },
   {
    "duration": 0,
    "start_time": "2022-06-26T07:39:54.065Z"
   },
   {
    "duration": 0,
    "start_time": "2022-06-26T07:39:54.066Z"
   },
   {
    "duration": 0,
    "start_time": "2022-06-26T07:39:54.067Z"
   },
   {
    "duration": 0,
    "start_time": "2022-06-26T07:39:54.068Z"
   },
   {
    "duration": 0,
    "start_time": "2022-06-26T07:39:54.069Z"
   },
   {
    "duration": 0,
    "start_time": "2022-06-26T07:39:54.070Z"
   },
   {
    "duration": 0,
    "start_time": "2022-06-26T07:39:54.071Z"
   },
   {
    "duration": 0,
    "start_time": "2022-06-26T07:39:54.073Z"
   },
   {
    "duration": 0,
    "start_time": "2022-06-26T07:39:54.073Z"
   },
   {
    "duration": 0,
    "start_time": "2022-06-26T07:39:54.074Z"
   },
   {
    "duration": 0,
    "start_time": "2022-06-26T07:39:54.076Z"
   },
   {
    "duration": 0,
    "start_time": "2022-06-26T07:39:54.076Z"
   },
   {
    "duration": 0,
    "start_time": "2022-06-26T07:39:54.077Z"
   },
   {
    "duration": 0,
    "start_time": "2022-06-26T07:39:54.078Z"
   },
   {
    "duration": 1,
    "start_time": "2022-06-26T07:39:54.079Z"
   },
   {
    "duration": 0,
    "start_time": "2022-06-26T07:39:54.081Z"
   },
   {
    "duration": 0,
    "start_time": "2022-06-26T07:39:54.082Z"
   },
   {
    "duration": 0,
    "start_time": "2022-06-26T07:39:54.083Z"
   },
   {
    "duration": 0,
    "start_time": "2022-06-26T07:39:54.084Z"
   },
   {
    "duration": 0,
    "start_time": "2022-06-26T07:39:54.086Z"
   },
   {
    "duration": 0,
    "start_time": "2022-06-26T07:39:54.087Z"
   },
   {
    "duration": 0,
    "start_time": "2022-06-26T07:39:54.088Z"
   },
   {
    "duration": 0,
    "start_time": "2022-06-26T07:39:54.094Z"
   },
   {
    "duration": 0,
    "start_time": "2022-06-26T07:39:54.152Z"
   },
   {
    "duration": 0,
    "start_time": "2022-06-26T07:39:54.153Z"
   },
   {
    "duration": 0,
    "start_time": "2022-06-26T07:39:54.155Z"
   },
   {
    "duration": 0,
    "start_time": "2022-06-26T07:39:54.156Z"
   },
   {
    "duration": 0,
    "start_time": "2022-06-26T07:39:54.157Z"
   },
   {
    "duration": 0,
    "start_time": "2022-06-26T07:39:54.158Z"
   },
   {
    "duration": 0,
    "start_time": "2022-06-26T07:39:54.159Z"
   },
   {
    "duration": 0,
    "start_time": "2022-06-26T07:39:54.160Z"
   },
   {
    "duration": 0,
    "start_time": "2022-06-26T07:39:54.161Z"
   },
   {
    "duration": 0,
    "start_time": "2022-06-26T07:39:54.162Z"
   },
   {
    "duration": 0,
    "start_time": "2022-06-26T07:39:54.163Z"
   },
   {
    "duration": 1,
    "start_time": "2022-06-26T07:39:54.164Z"
   },
   {
    "duration": 0,
    "start_time": "2022-06-26T07:39:54.166Z"
   },
   {
    "duration": 0,
    "start_time": "2022-06-26T07:39:54.167Z"
   },
   {
    "duration": 0,
    "start_time": "2022-06-26T07:39:54.168Z"
   },
   {
    "duration": 0,
    "start_time": "2022-06-26T07:39:54.170Z"
   },
   {
    "duration": 0,
    "start_time": "2022-06-26T07:39:54.171Z"
   },
   {
    "duration": 0,
    "start_time": "2022-06-26T07:39:54.172Z"
   },
   {
    "duration": 0,
    "start_time": "2022-06-26T07:39:54.173Z"
   },
   {
    "duration": 0,
    "start_time": "2022-06-26T07:39:54.174Z"
   },
   {
    "duration": 0,
    "start_time": "2022-06-26T07:39:54.175Z"
   },
   {
    "duration": 0,
    "start_time": "2022-06-26T07:39:54.176Z"
   },
   {
    "duration": 0,
    "start_time": "2022-06-26T07:39:54.177Z"
   },
   {
    "duration": 0,
    "start_time": "2022-06-26T07:39:54.178Z"
   },
   {
    "duration": 0,
    "start_time": "2022-06-26T07:39:54.179Z"
   },
   {
    "duration": 0,
    "start_time": "2022-06-26T07:39:54.180Z"
   },
   {
    "duration": 7,
    "start_time": "2022-06-26T07:40:11.305Z"
   },
   {
    "duration": 387,
    "start_time": "2022-06-26T07:43:32.575Z"
   },
   {
    "duration": 82,
    "start_time": "2022-06-26T07:43:32.963Z"
   },
   {
    "duration": 5,
    "start_time": "2022-06-26T07:43:33.046Z"
   },
   {
    "duration": 13,
    "start_time": "2022-06-26T07:43:33.052Z"
   },
   {
    "duration": 4,
    "start_time": "2022-06-26T07:43:33.067Z"
   },
   {
    "duration": 13,
    "start_time": "2022-06-26T07:43:33.072Z"
   },
   {
    "duration": 25,
    "start_time": "2022-06-26T07:43:33.086Z"
   },
   {
    "duration": 15,
    "start_time": "2022-06-26T07:43:33.112Z"
   },
   {
    "duration": 567,
    "start_time": "2022-06-26T07:43:33.129Z"
   },
   {
    "duration": 330,
    "start_time": "2022-06-26T07:43:33.699Z"
   },
   {
    "duration": 10,
    "start_time": "2022-06-26T07:43:34.031Z"
   },
   {
    "duration": 289,
    "start_time": "2022-06-26T07:43:34.043Z"
   },
   {
    "duration": 237,
    "start_time": "2022-06-26T07:43:34.334Z"
   },
   {
    "duration": 182,
    "start_time": "2022-06-26T07:43:34.572Z"
   },
   {
    "duration": 180,
    "start_time": "2022-06-26T07:43:34.755Z"
   },
   {
    "duration": 180,
    "start_time": "2022-06-26T07:43:34.937Z"
   },
   {
    "duration": 221,
    "start_time": "2022-06-26T07:43:35.119Z"
   },
   {
    "duration": 179,
    "start_time": "2022-06-26T07:43:35.342Z"
   },
   {
    "duration": 165,
    "start_time": "2022-06-26T07:43:35.523Z"
   },
   {
    "duration": 139,
    "start_time": "2022-06-26T07:43:35.690Z"
   },
   {
    "duration": 176,
    "start_time": "2022-06-26T07:43:35.831Z"
   },
   {
    "duration": 196,
    "start_time": "2022-06-26T07:43:36.009Z"
   },
   {
    "duration": 200,
    "start_time": "2022-06-26T07:43:36.207Z"
   },
   {
    "duration": 232,
    "start_time": "2022-06-26T07:43:36.409Z"
   },
   {
    "duration": 148,
    "start_time": "2022-06-26T07:43:36.643Z"
   },
   {
    "duration": 147,
    "start_time": "2022-06-26T07:43:36.792Z"
   },
   {
    "duration": 140,
    "start_time": "2022-06-26T07:43:36.941Z"
   },
   {
    "duration": 129,
    "start_time": "2022-06-26T07:43:37.085Z"
   },
   {
    "duration": 141,
    "start_time": "2022-06-26T07:43:37.216Z"
   },
   {
    "duration": 152,
    "start_time": "2022-06-26T07:43:37.359Z"
   },
   {
    "duration": 154,
    "start_time": "2022-06-26T07:43:37.513Z"
   },
   {
    "duration": 149,
    "start_time": "2022-06-26T07:43:37.670Z"
   },
   {
    "duration": 123,
    "start_time": "2022-06-26T07:43:37.820Z"
   },
   {
    "duration": 150,
    "start_time": "2022-06-26T07:43:37.945Z"
   },
   {
    "duration": 200,
    "start_time": "2022-06-26T07:43:38.097Z"
   },
   {
    "duration": 110,
    "start_time": "2022-06-26T07:43:38.299Z"
   },
   {
    "duration": 108,
    "start_time": "2022-06-26T07:43:38.410Z"
   },
   {
    "duration": 101,
    "start_time": "2022-06-26T07:43:38.519Z"
   },
   {
    "duration": 103,
    "start_time": "2022-06-26T07:43:38.621Z"
   },
   {
    "duration": 104,
    "start_time": "2022-06-26T07:43:38.726Z"
   },
   {
    "duration": 125,
    "start_time": "2022-06-26T07:43:38.832Z"
   },
   {
    "duration": 130,
    "start_time": "2022-06-26T07:43:38.958Z"
   },
   {
    "duration": 405,
    "start_time": "2022-06-26T07:43:39.090Z"
   },
   {
    "duration": 189,
    "start_time": "2022-06-26T07:43:39.497Z"
   },
   {
    "duration": 139,
    "start_time": "2022-06-26T07:43:39.688Z"
   },
   {
    "duration": 443,
    "start_time": "2022-06-26T07:43:39.829Z"
   },
   {
    "duration": 171,
    "start_time": "2022-06-26T07:43:40.274Z"
   },
   {
    "duration": 161,
    "start_time": "2022-06-26T07:43:40.451Z"
   },
   {
    "duration": 127,
    "start_time": "2022-06-26T07:43:40.614Z"
   },
   {
    "duration": 127,
    "start_time": "2022-06-26T07:43:40.743Z"
   },
   {
    "duration": 153,
    "start_time": "2022-06-26T07:43:40.872Z"
   },
   {
    "duration": 138,
    "start_time": "2022-06-26T07:43:41.027Z"
   },
   {
    "duration": 202,
    "start_time": "2022-06-26T07:43:41.167Z"
   },
   {
    "duration": 142,
    "start_time": "2022-06-26T07:43:41.370Z"
   },
   {
    "duration": 139,
    "start_time": "2022-06-26T07:43:41.513Z"
   },
   {
    "duration": 133,
    "start_time": "2022-06-26T07:43:41.654Z"
   },
   {
    "duration": 128,
    "start_time": "2022-06-26T07:43:41.789Z"
   },
   {
    "duration": 417,
    "start_time": "2022-06-26T07:43:41.919Z"
   },
   {
    "duration": 9,
    "start_time": "2022-06-26T07:43:42.337Z"
   },
   {
    "duration": 4,
    "start_time": "2022-06-26T07:44:31.538Z"
   },
   {
    "duration": 139,
    "start_time": "2022-06-26T07:44:38.477Z"
   },
   {
    "duration": 432,
    "start_time": "2022-06-26T07:49:00.356Z"
   },
   {
    "duration": 90,
    "start_time": "2022-06-26T07:49:00.790Z"
   },
   {
    "duration": 4,
    "start_time": "2022-06-26T07:49:00.882Z"
   },
   {
    "duration": 27,
    "start_time": "2022-06-26T07:49:00.888Z"
   },
   {
    "duration": 24,
    "start_time": "2022-06-26T07:49:00.916Z"
   },
   {
    "duration": 22,
    "start_time": "2022-06-26T07:49:00.942Z"
   },
   {
    "duration": 37,
    "start_time": "2022-06-26T07:49:00.967Z"
   },
   {
    "duration": 15,
    "start_time": "2022-06-26T07:49:01.006Z"
   },
   {
    "duration": 468,
    "start_time": "2022-06-26T07:49:01.022Z"
   },
   {
    "duration": 365,
    "start_time": "2022-06-26T07:49:01.493Z"
   },
   {
    "duration": 19,
    "start_time": "2022-06-26T07:49:01.860Z"
   },
   {
    "duration": 335,
    "start_time": "2022-06-26T07:49:01.881Z"
   },
   {
    "duration": 62,
    "start_time": "2022-06-26T07:49:02.218Z"
   },
   {
    "duration": 0,
    "start_time": "2022-06-26T07:49:02.284Z"
   },
   {
    "duration": 0,
    "start_time": "2022-06-26T07:49:02.285Z"
   },
   {
    "duration": 0,
    "start_time": "2022-06-26T07:49:02.287Z"
   },
   {
    "duration": 0,
    "start_time": "2022-06-26T07:49:02.289Z"
   },
   {
    "duration": 0,
    "start_time": "2022-06-26T07:49:02.290Z"
   },
   {
    "duration": 0,
    "start_time": "2022-06-26T07:49:02.292Z"
   },
   {
    "duration": 0,
    "start_time": "2022-06-26T07:49:02.294Z"
   },
   {
    "duration": 0,
    "start_time": "2022-06-26T07:49:02.295Z"
   },
   {
    "duration": 1,
    "start_time": "2022-06-26T07:49:02.296Z"
   },
   {
    "duration": 0,
    "start_time": "2022-06-26T07:49:02.365Z"
   },
   {
    "duration": 0,
    "start_time": "2022-06-26T07:49:02.366Z"
   },
   {
    "duration": 0,
    "start_time": "2022-06-26T07:49:02.367Z"
   },
   {
    "duration": 0,
    "start_time": "2022-06-26T07:49:02.368Z"
   },
   {
    "duration": 0,
    "start_time": "2022-06-26T07:49:02.369Z"
   },
   {
    "duration": 0,
    "start_time": "2022-06-26T07:49:02.371Z"
   },
   {
    "duration": 0,
    "start_time": "2022-06-26T07:49:02.372Z"
   },
   {
    "duration": 0,
    "start_time": "2022-06-26T07:49:02.373Z"
   },
   {
    "duration": 0,
    "start_time": "2022-06-26T07:49:02.374Z"
   },
   {
    "duration": 0,
    "start_time": "2022-06-26T07:49:02.375Z"
   },
   {
    "duration": 0,
    "start_time": "2022-06-26T07:49:02.376Z"
   },
   {
    "duration": 0,
    "start_time": "2022-06-26T07:49:02.377Z"
   },
   {
    "duration": 0,
    "start_time": "2022-06-26T07:49:02.378Z"
   },
   {
    "duration": 0,
    "start_time": "2022-06-26T07:49:02.380Z"
   },
   {
    "duration": 0,
    "start_time": "2022-06-26T07:49:02.381Z"
   },
   {
    "duration": 0,
    "start_time": "2022-06-26T07:49:02.382Z"
   },
   {
    "duration": 0,
    "start_time": "2022-06-26T07:49:02.383Z"
   },
   {
    "duration": 0,
    "start_time": "2022-06-26T07:49:02.384Z"
   },
   {
    "duration": 0,
    "start_time": "2022-06-26T07:49:02.385Z"
   },
   {
    "duration": 0,
    "start_time": "2022-06-26T07:49:02.387Z"
   },
   {
    "duration": 0,
    "start_time": "2022-06-26T07:49:02.388Z"
   },
   {
    "duration": 0,
    "start_time": "2022-06-26T07:49:02.389Z"
   },
   {
    "duration": 0,
    "start_time": "2022-06-26T07:49:02.391Z"
   },
   {
    "duration": 0,
    "start_time": "2022-06-26T07:49:02.391Z"
   },
   {
    "duration": 0,
    "start_time": "2022-06-26T07:49:02.392Z"
   },
   {
    "duration": 0,
    "start_time": "2022-06-26T07:49:02.393Z"
   },
   {
    "duration": 0,
    "start_time": "2022-06-26T07:49:02.395Z"
   },
   {
    "duration": 0,
    "start_time": "2022-06-26T07:49:02.396Z"
   },
   {
    "duration": 0,
    "start_time": "2022-06-26T07:49:02.397Z"
   },
   {
    "duration": 0,
    "start_time": "2022-06-26T07:49:02.452Z"
   },
   {
    "duration": 0,
    "start_time": "2022-06-26T07:49:02.454Z"
   },
   {
    "duration": 0,
    "start_time": "2022-06-26T07:49:02.455Z"
   },
   {
    "duration": 0,
    "start_time": "2022-06-26T07:49:02.456Z"
   },
   {
    "duration": 0,
    "start_time": "2022-06-26T07:49:02.458Z"
   },
   {
    "duration": 0,
    "start_time": "2022-06-26T07:49:02.459Z"
   },
   {
    "duration": 0,
    "start_time": "2022-06-26T07:49:02.460Z"
   },
   {
    "duration": 0,
    "start_time": "2022-06-26T07:49:02.462Z"
   },
   {
    "duration": 0,
    "start_time": "2022-06-26T07:49:02.463Z"
   },
   {
    "duration": 384,
    "start_time": "2022-06-26T07:49:40.480Z"
   },
   {
    "duration": 79,
    "start_time": "2022-06-26T07:49:40.866Z"
   },
   {
    "duration": 4,
    "start_time": "2022-06-26T07:49:40.947Z"
   },
   {
    "duration": 9,
    "start_time": "2022-06-26T07:49:40.954Z"
   },
   {
    "duration": 5,
    "start_time": "2022-06-26T07:49:40.964Z"
   },
   {
    "duration": 7,
    "start_time": "2022-06-26T07:49:40.971Z"
   },
   {
    "duration": 20,
    "start_time": "2022-06-26T07:49:40.980Z"
   },
   {
    "duration": 5,
    "start_time": "2022-06-26T07:49:41.002Z"
   },
   {
    "duration": 391,
    "start_time": "2022-06-26T07:49:41.008Z"
   },
   {
    "duration": 357,
    "start_time": "2022-06-26T07:49:41.402Z"
   },
   {
    "duration": 12,
    "start_time": "2022-06-26T07:49:41.761Z"
   },
   {
    "duration": 292,
    "start_time": "2022-06-26T07:49:41.774Z"
   },
   {
    "duration": 214,
    "start_time": "2022-06-26T07:49:42.067Z"
   },
   {
    "duration": 170,
    "start_time": "2022-06-26T07:49:42.283Z"
   },
   {
    "duration": 191,
    "start_time": "2022-06-26T07:49:42.455Z"
   },
   {
    "duration": 193,
    "start_time": "2022-06-26T07:49:42.652Z"
   },
   {
    "duration": 175,
    "start_time": "2022-06-26T07:49:42.851Z"
   },
   {
    "duration": 170,
    "start_time": "2022-06-26T07:49:43.027Z"
   },
   {
    "duration": 158,
    "start_time": "2022-06-26T07:49:43.199Z"
   },
   {
    "duration": 135,
    "start_time": "2022-06-26T07:49:43.359Z"
   },
   {
    "duration": 172,
    "start_time": "2022-06-26T07:49:43.495Z"
   },
   {
    "duration": 215,
    "start_time": "2022-06-26T07:49:43.668Z"
   },
   {
    "duration": 201,
    "start_time": "2022-06-26T07:49:43.885Z"
   },
   {
    "duration": 224,
    "start_time": "2022-06-26T07:49:44.088Z"
   },
   {
    "duration": 146,
    "start_time": "2022-06-26T07:49:44.314Z"
   },
   {
    "duration": 132,
    "start_time": "2022-06-26T07:49:44.463Z"
   },
   {
    "duration": 138,
    "start_time": "2022-06-26T07:49:44.597Z"
   },
   {
    "duration": 157,
    "start_time": "2022-06-26T07:49:44.738Z"
   },
   {
    "duration": 144,
    "start_time": "2022-06-26T07:49:44.896Z"
   },
   {
    "duration": 149,
    "start_time": "2022-06-26T07:49:45.042Z"
   },
   {
    "duration": 140,
    "start_time": "2022-06-26T07:49:45.193Z"
   },
   {
    "duration": 234,
    "start_time": "2022-06-26T07:49:45.335Z"
   },
   {
    "duration": 141,
    "start_time": "2022-06-26T07:49:45.572Z"
   },
   {
    "duration": 150,
    "start_time": "2022-06-26T07:49:45.714Z"
   },
   {
    "duration": 188,
    "start_time": "2022-06-26T07:49:45.866Z"
   },
   {
    "duration": 105,
    "start_time": "2022-06-26T07:49:46.056Z"
   },
   {
    "duration": 104,
    "start_time": "2022-06-26T07:49:46.163Z"
   },
   {
    "duration": 113,
    "start_time": "2022-06-26T07:49:46.269Z"
   },
   {
    "duration": 112,
    "start_time": "2022-06-26T07:49:46.384Z"
   },
   {
    "duration": 124,
    "start_time": "2022-06-26T07:49:46.498Z"
   },
   {
    "duration": 147,
    "start_time": "2022-06-26T07:49:46.624Z"
   },
   {
    "duration": 155,
    "start_time": "2022-06-26T07:49:46.773Z"
   },
   {
    "duration": 448,
    "start_time": "2022-06-26T07:49:46.930Z"
   },
   {
    "duration": 212,
    "start_time": "2022-06-26T07:49:47.380Z"
   },
   {
    "duration": 160,
    "start_time": "2022-06-26T07:49:47.593Z"
   },
   {
    "duration": 525,
    "start_time": "2022-06-26T07:49:47.755Z"
   },
   {
    "duration": 219,
    "start_time": "2022-06-26T07:49:48.282Z"
   },
   {
    "duration": 180,
    "start_time": "2022-06-26T07:49:48.503Z"
   },
   {
    "duration": 125,
    "start_time": "2022-06-26T07:49:48.685Z"
   },
   {
    "duration": 129,
    "start_time": "2022-06-26T07:49:48.811Z"
   },
   {
    "duration": 155,
    "start_time": "2022-06-26T07:49:48.941Z"
   },
   {
    "duration": 157,
    "start_time": "2022-06-26T07:49:49.098Z"
   },
   {
    "duration": 243,
    "start_time": "2022-06-26T07:49:49.258Z"
   },
   {
    "duration": 187,
    "start_time": "2022-06-26T07:49:49.503Z"
   },
   {
    "duration": 141,
    "start_time": "2022-06-26T07:49:49.693Z"
   },
   {
    "duration": 142,
    "start_time": "2022-06-26T07:49:49.836Z"
   },
   {
    "duration": 163,
    "start_time": "2022-06-26T07:49:49.980Z"
   },
   {
    "duration": 401,
    "start_time": "2022-06-26T07:49:50.145Z"
   },
   {
    "duration": 12,
    "start_time": "2022-06-26T07:49:50.548Z"
   },
   {
    "duration": 55,
    "start_time": "2022-06-26T07:51:01.979Z"
   },
   {
    "duration": 402,
    "start_time": "2022-06-26T07:53:28.726Z"
   },
   {
    "duration": 78,
    "start_time": "2022-06-26T07:53:29.130Z"
   },
   {
    "duration": 4,
    "start_time": "2022-06-26T07:53:29.209Z"
   },
   {
    "duration": 9,
    "start_time": "2022-06-26T07:53:29.215Z"
   },
   {
    "duration": 4,
    "start_time": "2022-06-26T07:53:29.226Z"
   },
   {
    "duration": 20,
    "start_time": "2022-06-26T07:53:29.232Z"
   },
   {
    "duration": 21,
    "start_time": "2022-06-26T07:53:29.253Z"
   },
   {
    "duration": 4,
    "start_time": "2022-06-26T07:53:29.276Z"
   },
   {
    "duration": 387,
    "start_time": "2022-06-26T07:53:29.282Z"
   },
   {
    "duration": 320,
    "start_time": "2022-06-26T07:53:29.671Z"
   },
   {
    "duration": 10,
    "start_time": "2022-06-26T07:53:29.993Z"
   },
   {
    "duration": 294,
    "start_time": "2022-06-26T07:53:30.004Z"
   },
   {
    "duration": 226,
    "start_time": "2022-06-26T07:53:30.300Z"
   },
   {
    "duration": 188,
    "start_time": "2022-06-26T07:53:30.529Z"
   },
   {
    "duration": 171,
    "start_time": "2022-06-26T07:53:30.718Z"
   },
   {
    "duration": 182,
    "start_time": "2022-06-26T07:53:30.891Z"
   },
   {
    "duration": 178,
    "start_time": "2022-06-26T07:53:31.074Z"
   },
   {
    "duration": 167,
    "start_time": "2022-06-26T07:53:31.253Z"
   },
   {
    "duration": 160,
    "start_time": "2022-06-26T07:53:31.422Z"
   },
   {
    "duration": 156,
    "start_time": "2022-06-26T07:53:31.584Z"
   },
   {
    "duration": 170,
    "start_time": "2022-06-26T07:53:31.742Z"
   },
   {
    "duration": 175,
    "start_time": "2022-06-26T07:53:31.914Z"
   },
   {
    "duration": 153,
    "start_time": "2022-06-26T07:53:32.091Z"
   },
   {
    "duration": 184,
    "start_time": "2022-06-26T07:53:32.246Z"
   },
   {
    "duration": 142,
    "start_time": "2022-06-26T07:53:32.432Z"
   },
   {
    "duration": 141,
    "start_time": "2022-06-26T07:53:32.577Z"
   },
   {
    "duration": 121,
    "start_time": "2022-06-26T07:53:32.719Z"
   },
   {
    "duration": 132,
    "start_time": "2022-06-26T07:53:32.842Z"
   },
   {
    "duration": 145,
    "start_time": "2022-06-26T07:53:32.975Z"
   },
   {
    "duration": 143,
    "start_time": "2022-06-26T07:53:33.122Z"
   },
   {
    "duration": 132,
    "start_time": "2022-06-26T07:53:33.267Z"
   },
   {
    "duration": 133,
    "start_time": "2022-06-26T07:53:33.401Z"
   },
   {
    "duration": 87,
    "start_time": "2022-06-26T07:53:33.536Z"
   },
   {
    "duration": 0,
    "start_time": "2022-06-26T07:53:33.625Z"
   },
   {
    "duration": 0,
    "start_time": "2022-06-26T07:53:33.627Z"
   },
   {
    "duration": 0,
    "start_time": "2022-06-26T07:53:33.628Z"
   },
   {
    "duration": 0,
    "start_time": "2022-06-26T07:53:33.629Z"
   },
   {
    "duration": 0,
    "start_time": "2022-06-26T07:53:33.630Z"
   },
   {
    "duration": 0,
    "start_time": "2022-06-26T07:53:33.652Z"
   },
   {
    "duration": 0,
    "start_time": "2022-06-26T07:53:33.653Z"
   },
   {
    "duration": 0,
    "start_time": "2022-06-26T07:53:33.654Z"
   },
   {
    "duration": 0,
    "start_time": "2022-06-26T07:53:33.655Z"
   },
   {
    "duration": 0,
    "start_time": "2022-06-26T07:53:33.656Z"
   },
   {
    "duration": 0,
    "start_time": "2022-06-26T07:53:33.657Z"
   },
   {
    "duration": 0,
    "start_time": "2022-06-26T07:53:33.658Z"
   },
   {
    "duration": 0,
    "start_time": "2022-06-26T07:53:33.659Z"
   },
   {
    "duration": 0,
    "start_time": "2022-06-26T07:53:33.660Z"
   },
   {
    "duration": 0,
    "start_time": "2022-06-26T07:53:33.661Z"
   },
   {
    "duration": 0,
    "start_time": "2022-06-26T07:53:33.662Z"
   },
   {
    "duration": 0,
    "start_time": "2022-06-26T07:53:33.664Z"
   },
   {
    "duration": 0,
    "start_time": "2022-06-26T07:53:33.665Z"
   },
   {
    "duration": 0,
    "start_time": "2022-06-26T07:53:33.666Z"
   },
   {
    "duration": 0,
    "start_time": "2022-06-26T07:53:33.667Z"
   },
   {
    "duration": 0,
    "start_time": "2022-06-26T07:53:33.668Z"
   },
   {
    "duration": 0,
    "start_time": "2022-06-26T07:53:33.669Z"
   },
   {
    "duration": 0,
    "start_time": "2022-06-26T07:53:33.670Z"
   },
   {
    "duration": 0,
    "start_time": "2022-06-26T07:53:33.672Z"
   },
   {
    "duration": 0,
    "start_time": "2022-06-26T07:53:33.673Z"
   },
   {
    "duration": 0,
    "start_time": "2022-06-26T07:53:33.673Z"
   },
   {
    "duration": 45,
    "start_time": "2022-06-26T07:55:10.576Z"
   },
   {
    "duration": 382,
    "start_time": "2022-06-26T07:55:22.557Z"
   },
   {
    "duration": 90,
    "start_time": "2022-06-26T07:55:22.941Z"
   },
   {
    "duration": 4,
    "start_time": "2022-06-26T07:55:23.032Z"
   },
   {
    "duration": 10,
    "start_time": "2022-06-26T07:55:23.038Z"
   },
   {
    "duration": 8,
    "start_time": "2022-06-26T07:55:23.049Z"
   },
   {
    "duration": 12,
    "start_time": "2022-06-26T07:55:23.059Z"
   },
   {
    "duration": 21,
    "start_time": "2022-06-26T07:55:23.073Z"
   },
   {
    "duration": 4,
    "start_time": "2022-06-26T07:55:23.096Z"
   },
   {
    "duration": 365,
    "start_time": "2022-06-26T07:55:23.102Z"
   },
   {
    "duration": 299,
    "start_time": "2022-06-26T07:55:23.470Z"
   },
   {
    "duration": 12,
    "start_time": "2022-06-26T07:55:23.770Z"
   },
   {
    "duration": 267,
    "start_time": "2022-06-26T07:55:23.784Z"
   },
   {
    "duration": 225,
    "start_time": "2022-06-26T07:55:24.052Z"
   },
   {
    "duration": 169,
    "start_time": "2022-06-26T07:55:24.278Z"
   },
   {
    "duration": 173,
    "start_time": "2022-06-26T07:55:24.448Z"
   },
   {
    "duration": 170,
    "start_time": "2022-06-26T07:55:24.623Z"
   },
   {
    "duration": 168,
    "start_time": "2022-06-26T07:55:24.795Z"
   },
   {
    "duration": 172,
    "start_time": "2022-06-26T07:55:24.965Z"
   },
   {
    "duration": 193,
    "start_time": "2022-06-26T07:55:25.139Z"
   },
   {
    "duration": 145,
    "start_time": "2022-06-26T07:55:25.334Z"
   },
   {
    "duration": 161,
    "start_time": "2022-06-26T07:55:25.481Z"
   },
   {
    "duration": 175,
    "start_time": "2022-06-26T07:55:25.643Z"
   },
   {
    "duration": 65,
    "start_time": "2022-06-26T07:55:25.819Z"
   },
   {
    "duration": 0,
    "start_time": "2022-06-26T07:55:25.886Z"
   },
   {
    "duration": 0,
    "start_time": "2022-06-26T07:55:25.887Z"
   },
   {
    "duration": 0,
    "start_time": "2022-06-26T07:55:25.888Z"
   },
   {
    "duration": 0,
    "start_time": "2022-06-26T07:55:25.889Z"
   },
   {
    "duration": 0,
    "start_time": "2022-06-26T07:55:25.891Z"
   },
   {
    "duration": 0,
    "start_time": "2022-06-26T07:55:25.892Z"
   },
   {
    "duration": 0,
    "start_time": "2022-06-26T07:55:25.893Z"
   },
   {
    "duration": 0,
    "start_time": "2022-06-26T07:55:25.894Z"
   },
   {
    "duration": 0,
    "start_time": "2022-06-26T07:55:25.895Z"
   },
   {
    "duration": 0,
    "start_time": "2022-06-26T07:55:25.896Z"
   },
   {
    "duration": 0,
    "start_time": "2022-06-26T07:55:25.897Z"
   },
   {
    "duration": 0,
    "start_time": "2022-06-26T07:55:25.898Z"
   },
   {
    "duration": 0,
    "start_time": "2022-06-26T07:55:25.899Z"
   },
   {
    "duration": 0,
    "start_time": "2022-06-26T07:55:25.900Z"
   },
   {
    "duration": 0,
    "start_time": "2022-06-26T07:55:25.901Z"
   },
   {
    "duration": 0,
    "start_time": "2022-06-26T07:55:25.902Z"
   },
   {
    "duration": 0,
    "start_time": "2022-06-26T07:55:25.903Z"
   },
   {
    "duration": 0,
    "start_time": "2022-06-26T07:55:25.904Z"
   },
   {
    "duration": 0,
    "start_time": "2022-06-26T07:55:25.905Z"
   },
   {
    "duration": 0,
    "start_time": "2022-06-26T07:55:25.906Z"
   },
   {
    "duration": 0,
    "start_time": "2022-06-26T07:55:25.907Z"
   },
   {
    "duration": 0,
    "start_time": "2022-06-26T07:55:25.908Z"
   },
   {
    "duration": 0,
    "start_time": "2022-06-26T07:55:25.909Z"
   },
   {
    "duration": 0,
    "start_time": "2022-06-26T07:55:25.910Z"
   },
   {
    "duration": 0,
    "start_time": "2022-06-26T07:55:25.911Z"
   },
   {
    "duration": 0,
    "start_time": "2022-06-26T07:55:25.912Z"
   },
   {
    "duration": 0,
    "start_time": "2022-06-26T07:55:25.912Z"
   },
   {
    "duration": 0,
    "start_time": "2022-06-26T07:55:25.913Z"
   },
   {
    "duration": 0,
    "start_time": "2022-06-26T07:55:25.914Z"
   },
   {
    "duration": 0,
    "start_time": "2022-06-26T07:55:25.915Z"
   },
   {
    "duration": 0,
    "start_time": "2022-06-26T07:55:25.917Z"
   },
   {
    "duration": 0,
    "start_time": "2022-06-26T07:55:25.918Z"
   },
   {
    "duration": 0,
    "start_time": "2022-06-26T07:55:25.919Z"
   },
   {
    "duration": 0,
    "start_time": "2022-06-26T07:55:25.920Z"
   },
   {
    "duration": 0,
    "start_time": "2022-06-26T07:55:25.921Z"
   },
   {
    "duration": 0,
    "start_time": "2022-06-26T07:55:25.922Z"
   },
   {
    "duration": 170,
    "start_time": "2022-06-26T07:55:32.402Z"
   },
   {
    "duration": 257,
    "start_time": "2022-06-26T07:56:59.346Z"
   },
   {
    "duration": 212,
    "start_time": "2022-06-26T07:57:09.441Z"
   },
   {
    "duration": 161,
    "start_time": "2022-06-26T07:57:38.791Z"
   },
   {
    "duration": 140,
    "start_time": "2022-06-26T07:57:51.993Z"
   },
   {
    "duration": 126,
    "start_time": "2022-06-26T07:57:53.393Z"
   },
   {
    "duration": 150,
    "start_time": "2022-06-26T07:57:55.175Z"
   },
   {
    "duration": 121,
    "start_time": "2022-06-26T07:57:56.834Z"
   },
   {
    "duration": 126,
    "start_time": "2022-06-26T07:57:58.413Z"
   },
   {
    "duration": 124,
    "start_time": "2022-06-26T07:57:59.933Z"
   },
   {
    "duration": 197,
    "start_time": "2022-06-26T07:58:01.346Z"
   },
   {
    "duration": 121,
    "start_time": "2022-06-26T07:58:02.839Z"
   },
   {
    "duration": 128,
    "start_time": "2022-06-26T07:58:04.891Z"
   },
   {
    "duration": 116,
    "start_time": "2022-06-26T07:58:06.599Z"
   },
   {
    "duration": 131,
    "start_time": "2022-06-26T08:00:07.322Z"
   },
   {
    "duration": 125,
    "start_time": "2022-06-26T08:00:08.714Z"
   },
   {
    "duration": 122,
    "start_time": "2022-06-26T08:00:09.977Z"
   },
   {
    "duration": 119,
    "start_time": "2022-06-26T08:00:11.528Z"
   },
   {
    "duration": 106,
    "start_time": "2022-06-26T08:00:12.734Z"
   },
   {
    "duration": 122,
    "start_time": "2022-06-26T08:00:13.823Z"
   },
   {
    "duration": 117,
    "start_time": "2022-06-26T08:00:15.099Z"
   },
   {
    "duration": 250,
    "start_time": "2022-06-26T08:00:16.239Z"
   },
   {
    "duration": 116,
    "start_time": "2022-06-26T08:00:18.691Z"
   },
   {
    "duration": 120,
    "start_time": "2022-06-26T08:00:19.911Z"
   },
   {
    "duration": 70,
    "start_time": "2022-06-26T08:09:55.970Z"
   },
   {
    "duration": 61,
    "start_time": "2022-06-26T08:10:35.004Z"
   },
   {
    "duration": 188,
    "start_time": "2022-06-26T08:10:43.146Z"
   },
   {
    "duration": 107,
    "start_time": "2022-06-26T08:12:02.167Z"
   },
   {
    "duration": 409,
    "start_time": "2022-06-26T08:12:35.564Z"
   },
   {
    "duration": 81,
    "start_time": "2022-06-26T08:12:35.975Z"
   },
   {
    "duration": 5,
    "start_time": "2022-06-26T08:12:36.058Z"
   },
   {
    "duration": 12,
    "start_time": "2022-06-26T08:12:36.065Z"
   },
   {
    "duration": 25,
    "start_time": "2022-06-26T08:12:36.079Z"
   },
   {
    "duration": 11,
    "start_time": "2022-06-26T08:12:36.105Z"
   },
   {
    "duration": 22,
    "start_time": "2022-06-26T08:12:36.117Z"
   },
   {
    "duration": 5,
    "start_time": "2022-06-26T08:12:36.141Z"
   },
   {
    "duration": 423,
    "start_time": "2022-06-26T08:12:36.152Z"
   },
   {
    "duration": 346,
    "start_time": "2022-06-26T08:12:36.580Z"
   },
   {
    "duration": 10,
    "start_time": "2022-06-26T08:12:36.928Z"
   },
   {
    "duration": 286,
    "start_time": "2022-06-26T08:12:36.940Z"
   },
   {
    "duration": 243,
    "start_time": "2022-06-26T08:12:37.228Z"
   },
   {
    "duration": 226,
    "start_time": "2022-06-26T08:12:37.473Z"
   },
   {
    "duration": 175,
    "start_time": "2022-06-26T08:12:37.701Z"
   },
   {
    "duration": 198,
    "start_time": "2022-06-26T08:12:37.878Z"
   },
   {
    "duration": 243,
    "start_time": "2022-06-26T08:12:38.077Z"
   },
   {
    "duration": 175,
    "start_time": "2022-06-26T08:12:38.322Z"
   },
   {
    "duration": 159,
    "start_time": "2022-06-26T08:12:38.498Z"
   },
   {
    "duration": 135,
    "start_time": "2022-06-26T08:12:38.659Z"
   },
   {
    "duration": 176,
    "start_time": "2022-06-26T08:12:38.795Z"
   },
   {
    "duration": 188,
    "start_time": "2022-06-26T08:12:38.973Z"
   },
   {
    "duration": 165,
    "start_time": "2022-06-26T08:12:39.163Z"
   },
   {
    "duration": 197,
    "start_time": "2022-06-26T08:12:39.329Z"
   },
   {
    "duration": 131,
    "start_time": "2022-06-26T08:12:39.527Z"
   },
   {
    "duration": 151,
    "start_time": "2022-06-26T08:12:39.660Z"
   },
   {
    "duration": 128,
    "start_time": "2022-06-26T08:12:39.813Z"
   },
   {
    "duration": 154,
    "start_time": "2022-06-26T08:12:39.951Z"
   },
   {
    "duration": 129,
    "start_time": "2022-06-26T08:12:40.106Z"
   },
   {
    "duration": 128,
    "start_time": "2022-06-26T08:12:40.236Z"
   },
   {
    "duration": 128,
    "start_time": "2022-06-26T08:12:40.366Z"
   },
   {
    "duration": 127,
    "start_time": "2022-06-26T08:12:40.496Z"
   },
   {
    "duration": 131,
    "start_time": "2022-06-26T08:12:40.625Z"
   },
   {
    "duration": 107,
    "start_time": "2022-06-26T08:12:40.758Z"
   },
   {
    "duration": 168,
    "start_time": "2022-06-26T08:12:40.867Z"
   },
   {
    "duration": 121,
    "start_time": "2022-06-26T08:12:41.037Z"
   },
   {
    "duration": 111,
    "start_time": "2022-06-26T08:12:41.160Z"
   },
   {
    "duration": 109,
    "start_time": "2022-06-26T08:12:41.273Z"
   },
   {
    "duration": 175,
    "start_time": "2022-06-26T08:12:41.383Z"
   },
   {
    "duration": 0,
    "start_time": "2022-06-26T08:12:41.560Z"
   },
   {
    "duration": 0,
    "start_time": "2022-06-26T08:12:41.561Z"
   },
   {
    "duration": 0,
    "start_time": "2022-06-26T08:12:41.562Z"
   },
   {
    "duration": 0,
    "start_time": "2022-06-26T08:12:41.563Z"
   },
   {
    "duration": 0,
    "start_time": "2022-06-26T08:12:41.565Z"
   },
   {
    "duration": 0,
    "start_time": "2022-06-26T08:12:41.565Z"
   },
   {
    "duration": 0,
    "start_time": "2022-06-26T08:12:41.566Z"
   },
   {
    "duration": 0,
    "start_time": "2022-06-26T08:12:41.567Z"
   },
   {
    "duration": 0,
    "start_time": "2022-06-26T08:12:41.568Z"
   },
   {
    "duration": 0,
    "start_time": "2022-06-26T08:12:41.569Z"
   },
   {
    "duration": 0,
    "start_time": "2022-06-26T08:12:41.570Z"
   },
   {
    "duration": 0,
    "start_time": "2022-06-26T08:12:41.571Z"
   },
   {
    "duration": 0,
    "start_time": "2022-06-26T08:12:41.572Z"
   },
   {
    "duration": 0,
    "start_time": "2022-06-26T08:12:41.574Z"
   },
   {
    "duration": 0,
    "start_time": "2022-06-26T08:12:41.574Z"
   },
   {
    "duration": 0,
    "start_time": "2022-06-26T08:12:41.576Z"
   },
   {
    "duration": 0,
    "start_time": "2022-06-26T08:12:41.577Z"
   },
   {
    "duration": 0,
    "start_time": "2022-06-26T08:12:41.578Z"
   },
   {
    "duration": 0,
    "start_time": "2022-06-26T08:12:41.579Z"
   },
   {
    "duration": 102,
    "start_time": "2022-06-26T08:13:11.688Z"
   },
   {
    "duration": 114,
    "start_time": "2022-06-26T08:13:35.363Z"
   },
   {
    "duration": 116,
    "start_time": "2022-06-26T08:14:04.111Z"
   },
   {
    "duration": 106,
    "start_time": "2022-06-26T08:14:13.497Z"
   },
   {
    "duration": 101,
    "start_time": "2022-06-26T08:14:25.706Z"
   },
   {
    "duration": 113,
    "start_time": "2022-06-26T08:14:58.147Z"
   },
   {
    "duration": 157,
    "start_time": "2022-06-26T08:16:49.328Z"
   },
   {
    "duration": 3,
    "start_time": "2022-06-26T08:17:13.500Z"
   },
   {
    "duration": 94,
    "start_time": "2022-06-26T08:17:26.592Z"
   },
   {
    "duration": 104,
    "start_time": "2022-06-26T08:17:37.916Z"
   },
   {
    "duration": 100,
    "start_time": "2022-06-26T08:17:42.352Z"
   },
   {
    "duration": 52,
    "start_time": "2022-06-26T08:18:52.559Z"
   },
   {
    "duration": 97,
    "start_time": "2022-06-26T08:18:57.837Z"
   },
   {
    "duration": 93,
    "start_time": "2022-06-26T08:20:20.621Z"
   },
   {
    "duration": 98,
    "start_time": "2022-06-26T08:20:26.768Z"
   },
   {
    "duration": 910,
    "start_time": "2022-06-26T08:23:45.013Z"
   },
   {
    "duration": 19,
    "start_time": "2022-06-26T08:24:20.868Z"
   },
   {
    "duration": 1090,
    "start_time": "2022-06-26T08:25:00.185Z"
   },
   {
    "duration": 1073,
    "start_time": "2022-06-26T08:25:19.023Z"
   },
   {
    "duration": 1074,
    "start_time": "2022-06-26T08:25:25.914Z"
   },
   {
    "duration": 1091,
    "start_time": "2022-06-26T08:25:41.524Z"
   },
   {
    "duration": 1135,
    "start_time": "2022-06-26T08:25:58.345Z"
   },
   {
    "duration": 1091,
    "start_time": "2022-06-26T08:26:11.777Z"
   },
   {
    "duration": 656,
    "start_time": "2022-06-26T08:26:17.761Z"
   },
   {
    "duration": 85,
    "start_time": "2022-06-26T08:26:18.419Z"
   },
   {
    "duration": 5,
    "start_time": "2022-06-26T08:26:18.506Z"
   },
   {
    "duration": 44,
    "start_time": "2022-06-26T08:26:18.513Z"
   },
   {
    "duration": 5,
    "start_time": "2022-06-26T08:26:18.559Z"
   },
   {
    "duration": 8,
    "start_time": "2022-06-26T08:26:18.565Z"
   },
   {
    "duration": 18,
    "start_time": "2022-06-26T08:26:18.574Z"
   },
   {
    "duration": 5,
    "start_time": "2022-06-26T08:26:18.593Z"
   },
   {
    "duration": 179,
    "start_time": "2022-06-26T08:26:18.599Z"
   },
   {
    "duration": 300,
    "start_time": "2022-06-26T08:26:18.781Z"
   },
   {
    "duration": 9,
    "start_time": "2022-06-26T08:26:19.083Z"
   },
   {
    "duration": 267,
    "start_time": "2022-06-26T08:26:19.093Z"
   },
   {
    "duration": 227,
    "start_time": "2022-06-26T08:26:19.362Z"
   },
   {
    "duration": 171,
    "start_time": "2022-06-26T08:26:19.591Z"
   },
   {
    "duration": 170,
    "start_time": "2022-06-26T08:26:19.764Z"
   },
   {
    "duration": 176,
    "start_time": "2022-06-26T08:26:19.936Z"
   },
   {
    "duration": 174,
    "start_time": "2022-06-26T08:26:20.113Z"
   },
   {
    "duration": 163,
    "start_time": "2022-06-26T08:26:20.289Z"
   },
   {
    "duration": 156,
    "start_time": "2022-06-26T08:26:20.453Z"
   },
   {
    "duration": 149,
    "start_time": "2022-06-26T08:26:20.611Z"
   },
   {
    "duration": 155,
    "start_time": "2022-06-26T08:26:20.762Z"
   },
   {
    "duration": 174,
    "start_time": "2022-06-26T08:26:20.918Z"
   },
   {
    "duration": 152,
    "start_time": "2022-06-26T08:26:21.094Z"
   },
   {
    "duration": 177,
    "start_time": "2022-06-26T08:26:21.251Z"
   },
   {
    "duration": 124,
    "start_time": "2022-06-26T08:26:21.429Z"
   },
   {
    "duration": 125,
    "start_time": "2022-06-26T08:26:21.555Z"
   },
   {
    "duration": 119,
    "start_time": "2022-06-26T08:26:21.682Z"
   },
   {
    "duration": 125,
    "start_time": "2022-06-26T08:26:21.805Z"
   },
   {
    "duration": 112,
    "start_time": "2022-06-26T08:26:21.932Z"
   },
   {
    "duration": 133,
    "start_time": "2022-06-26T08:26:22.052Z"
   },
   {
    "duration": 123,
    "start_time": "2022-06-26T08:26:22.187Z"
   },
   {
    "duration": 129,
    "start_time": "2022-06-26T08:26:22.312Z"
   },
   {
    "duration": 133,
    "start_time": "2022-06-26T08:26:22.443Z"
   },
   {
    "duration": 118,
    "start_time": "2022-06-26T08:26:22.578Z"
   },
   {
    "duration": 171,
    "start_time": "2022-06-26T08:26:22.697Z"
   },
   {
    "duration": 111,
    "start_time": "2022-06-26T08:26:22.869Z"
   },
   {
    "duration": 109,
    "start_time": "2022-06-26T08:26:22.982Z"
   },
   {
    "duration": 108,
    "start_time": "2022-06-26T08:26:23.093Z"
   },
   {
    "duration": 1171,
    "start_time": "2022-06-26T08:26:23.202Z"
   },
   {
    "duration": 0,
    "start_time": "2022-06-26T08:26:24.375Z"
   },
   {
    "duration": 0,
    "start_time": "2022-06-26T08:26:24.376Z"
   },
   {
    "duration": 0,
    "start_time": "2022-06-26T08:26:24.377Z"
   },
   {
    "duration": 0,
    "start_time": "2022-06-26T08:26:24.378Z"
   },
   {
    "duration": 1,
    "start_time": "2022-06-26T08:26:24.379Z"
   },
   {
    "duration": 0,
    "start_time": "2022-06-26T08:26:24.381Z"
   },
   {
    "duration": 0,
    "start_time": "2022-06-26T08:26:24.382Z"
   },
   {
    "duration": 0,
    "start_time": "2022-06-26T08:26:24.383Z"
   },
   {
    "duration": 0,
    "start_time": "2022-06-26T08:26:24.384Z"
   },
   {
    "duration": 0,
    "start_time": "2022-06-26T08:26:24.385Z"
   },
   {
    "duration": 0,
    "start_time": "2022-06-26T08:26:24.386Z"
   },
   {
    "duration": 0,
    "start_time": "2022-06-26T08:26:24.386Z"
   },
   {
    "duration": 0,
    "start_time": "2022-06-26T08:26:24.387Z"
   },
   {
    "duration": 0,
    "start_time": "2022-06-26T08:26:24.388Z"
   },
   {
    "duration": 0,
    "start_time": "2022-06-26T08:26:24.390Z"
   },
   {
    "duration": 0,
    "start_time": "2022-06-26T08:26:24.391Z"
   },
   {
    "duration": 0,
    "start_time": "2022-06-26T08:26:24.392Z"
   },
   {
    "duration": 0,
    "start_time": "2022-06-26T08:26:24.393Z"
   },
   {
    "duration": 0,
    "start_time": "2022-06-26T08:26:24.394Z"
   },
   {
    "duration": 1136,
    "start_time": "2022-06-26T08:26:42.155Z"
   },
   {
    "duration": 1106,
    "start_time": "2022-06-26T08:28:02.852Z"
   },
   {
    "duration": 1053,
    "start_time": "2022-06-26T08:28:26.879Z"
   },
   {
    "duration": 1867,
    "start_time": "2022-06-26T08:29:16.323Z"
   },
   {
    "duration": 1551,
    "start_time": "2022-06-26T08:30:07.158Z"
   },
   {
    "duration": 1896,
    "start_time": "2022-06-26T08:30:55.049Z"
   },
   {
    "duration": 1068,
    "start_time": "2022-06-26T08:31:19.347Z"
   },
   {
    "duration": 1116,
    "start_time": "2022-06-26T08:31:30.386Z"
   },
   {
    "duration": 1212,
    "start_time": "2022-06-26T08:32:55.115Z"
   },
   {
    "duration": 1189,
    "start_time": "2022-06-26T09:09:06.763Z"
   },
   {
    "duration": 630,
    "start_time": "2022-06-26T09:09:14.866Z"
   },
   {
    "duration": 106,
    "start_time": "2022-06-26T09:09:15.499Z"
   },
   {
    "duration": 5,
    "start_time": "2022-06-26T09:09:15.607Z"
   },
   {
    "duration": 15,
    "start_time": "2022-06-26T09:09:15.614Z"
   },
   {
    "duration": 20,
    "start_time": "2022-06-26T09:09:15.632Z"
   },
   {
    "duration": 8,
    "start_time": "2022-06-26T09:09:15.655Z"
   },
   {
    "duration": 33,
    "start_time": "2022-06-26T09:09:15.665Z"
   },
   {
    "duration": 5,
    "start_time": "2022-06-26T09:09:15.700Z"
   },
   {
    "duration": 164,
    "start_time": "2022-06-26T09:09:15.707Z"
   },
   {
    "duration": 308,
    "start_time": "2022-06-26T09:09:15.872Z"
   },
   {
    "duration": 10,
    "start_time": "2022-06-26T09:09:16.182Z"
   },
   {
    "duration": 274,
    "start_time": "2022-06-26T09:09:16.194Z"
   },
   {
    "duration": 220,
    "start_time": "2022-06-26T09:09:16.470Z"
   },
   {
    "duration": 181,
    "start_time": "2022-06-26T09:09:16.693Z"
   },
   {
    "duration": 168,
    "start_time": "2022-06-26T09:09:16.877Z"
   },
   {
    "duration": 169,
    "start_time": "2022-06-26T09:09:17.051Z"
   },
   {
    "duration": 177,
    "start_time": "2022-06-26T09:09:17.221Z"
   },
   {
    "duration": 179,
    "start_time": "2022-06-26T09:09:17.399Z"
   },
   {
    "duration": 193,
    "start_time": "2022-06-26T09:09:17.580Z"
   },
   {
    "duration": 141,
    "start_time": "2022-06-26T09:09:17.775Z"
   },
   {
    "duration": 172,
    "start_time": "2022-06-26T09:09:17.918Z"
   },
   {
    "duration": 212,
    "start_time": "2022-06-26T09:09:18.093Z"
   },
   {
    "duration": 170,
    "start_time": "2022-06-26T09:09:18.307Z"
   },
   {
    "duration": 217,
    "start_time": "2022-06-26T09:09:18.479Z"
   },
   {
    "duration": 133,
    "start_time": "2022-06-26T09:09:18.698Z"
   },
   {
    "duration": 127,
    "start_time": "2022-06-26T09:09:18.833Z"
   },
   {
    "duration": 137,
    "start_time": "2022-06-26T09:09:18.962Z"
   },
   {
    "duration": 147,
    "start_time": "2022-06-26T09:09:19.101Z"
   },
   {
    "duration": 117,
    "start_time": "2022-06-26T09:09:19.251Z"
   },
   {
    "duration": 133,
    "start_time": "2022-06-26T09:09:19.370Z"
   },
   {
    "duration": 128,
    "start_time": "2022-06-26T09:09:19.505Z"
   },
   {
    "duration": 145,
    "start_time": "2022-06-26T09:09:19.635Z"
   },
   {
    "duration": 128,
    "start_time": "2022-06-26T09:09:19.782Z"
   },
   {
    "duration": 100,
    "start_time": "2022-06-26T09:09:19.911Z"
   },
   {
    "duration": 175,
    "start_time": "2022-06-26T09:09:20.012Z"
   },
   {
    "duration": 118,
    "start_time": "2022-06-26T09:09:20.189Z"
   },
   {
    "duration": 107,
    "start_time": "2022-06-26T09:09:20.308Z"
   },
   {
    "duration": 130,
    "start_time": "2022-06-26T09:09:20.417Z"
   },
   {
    "duration": 1187,
    "start_time": "2022-06-26T09:09:20.552Z"
   },
   {
    "duration": 0,
    "start_time": "2022-06-26T09:09:21.741Z"
   },
   {
    "duration": 0,
    "start_time": "2022-06-26T09:09:21.752Z"
   },
   {
    "duration": 0,
    "start_time": "2022-06-26T09:09:21.753Z"
   },
   {
    "duration": 0,
    "start_time": "2022-06-26T09:09:21.755Z"
   },
   {
    "duration": 0,
    "start_time": "2022-06-26T09:09:21.756Z"
   },
   {
    "duration": 0,
    "start_time": "2022-06-26T09:09:21.757Z"
   },
   {
    "duration": 0,
    "start_time": "2022-06-26T09:09:21.758Z"
   },
   {
    "duration": 0,
    "start_time": "2022-06-26T09:09:21.759Z"
   },
   {
    "duration": 0,
    "start_time": "2022-06-26T09:09:21.761Z"
   },
   {
    "duration": 0,
    "start_time": "2022-06-26T09:09:21.762Z"
   },
   {
    "duration": 0,
    "start_time": "2022-06-26T09:09:21.763Z"
   },
   {
    "duration": 0,
    "start_time": "2022-06-26T09:09:21.764Z"
   },
   {
    "duration": 0,
    "start_time": "2022-06-26T09:09:21.765Z"
   },
   {
    "duration": 0,
    "start_time": "2022-06-26T09:09:21.766Z"
   },
   {
    "duration": 0,
    "start_time": "2022-06-26T09:09:21.767Z"
   },
   {
    "duration": 0,
    "start_time": "2022-06-26T09:09:21.768Z"
   },
   {
    "duration": 0,
    "start_time": "2022-06-26T09:09:21.770Z"
   },
   {
    "duration": 0,
    "start_time": "2022-06-26T09:09:21.771Z"
   },
   {
    "duration": 0,
    "start_time": "2022-06-26T09:09:21.773Z"
   },
   {
    "duration": 1349,
    "start_time": "2022-06-26T09:10:21.782Z"
   },
   {
    "duration": 1306,
    "start_time": "2022-06-26T09:10:31.462Z"
   },
   {
    "duration": 1224,
    "start_time": "2022-06-26T09:10:46.271Z"
   },
   {
    "duration": 1388,
    "start_time": "2022-06-26T09:11:01.307Z"
   },
   {
    "duration": 1274,
    "start_time": "2022-06-26T09:13:11.057Z"
   },
   {
    "duration": 1323,
    "start_time": "2022-06-26T09:13:37.122Z"
   },
   {
    "duration": 109,
    "start_time": "2022-06-26T09:14:01.954Z"
   },
   {
    "duration": 1356,
    "start_time": "2022-06-26T09:14:07.173Z"
   },
   {
    "duration": 254,
    "start_time": "2022-06-26T09:15:07.155Z"
   },
   {
    "duration": 299,
    "start_time": "2022-06-26T09:15:40.399Z"
   },
   {
    "duration": 39,
    "start_time": "2022-06-26T09:17:09.793Z"
   },
   {
    "duration": 1402,
    "start_time": "2022-06-26T09:17:54.005Z"
   },
   {
    "duration": 1307,
    "start_time": "2022-06-26T09:18:11.216Z"
   },
   {
    "duration": 1909,
    "start_time": "2022-06-26T09:18:52.893Z"
   },
   {
    "duration": 1589,
    "start_time": "2022-06-26T09:20:24.950Z"
   },
   {
    "duration": 1302,
    "start_time": "2022-06-26T09:20:50.568Z"
   },
   {
    "duration": 51,
    "start_time": "2022-06-26T09:29:24.495Z"
   },
   {
    "duration": 23,
    "start_time": "2022-06-26T09:29:33.693Z"
   },
   {
    "duration": 602,
    "start_time": "2022-06-26T09:29:44.696Z"
   },
   {
    "duration": 82,
    "start_time": "2022-06-26T09:29:45.301Z"
   },
   {
    "duration": 6,
    "start_time": "2022-06-26T09:29:45.385Z"
   },
   {
    "duration": 18,
    "start_time": "2022-06-26T09:29:45.393Z"
   },
   {
    "duration": 10,
    "start_time": "2022-06-26T09:29:45.413Z"
   },
   {
    "duration": 13,
    "start_time": "2022-06-26T09:29:45.425Z"
   },
   {
    "duration": 33,
    "start_time": "2022-06-26T09:29:45.440Z"
   },
   {
    "duration": 13,
    "start_time": "2022-06-26T09:29:45.476Z"
   },
   {
    "duration": 219,
    "start_time": "2022-06-26T09:29:45.491Z"
   },
   {
    "duration": 321,
    "start_time": "2022-06-26T09:29:45.713Z"
   },
   {
    "duration": 26,
    "start_time": "2022-06-26T09:29:46.036Z"
   },
   {
    "duration": 275,
    "start_time": "2022-06-26T09:29:46.063Z"
   },
   {
    "duration": 237,
    "start_time": "2022-06-26T09:29:46.340Z"
   },
   {
    "duration": 186,
    "start_time": "2022-06-26T09:29:46.579Z"
   },
   {
    "duration": 169,
    "start_time": "2022-06-26T09:29:46.769Z"
   },
   {
    "duration": 178,
    "start_time": "2022-06-26T09:29:46.941Z"
   },
   {
    "duration": 178,
    "start_time": "2022-06-26T09:29:47.121Z"
   },
   {
    "duration": 181,
    "start_time": "2022-06-26T09:29:47.301Z"
   },
   {
    "duration": 162,
    "start_time": "2022-06-26T09:29:47.484Z"
   },
   {
    "duration": 134,
    "start_time": "2022-06-26T09:29:47.653Z"
   },
   {
    "duration": 177,
    "start_time": "2022-06-26T09:29:47.789Z"
   },
   {
    "duration": 191,
    "start_time": "2022-06-26T09:29:47.968Z"
   },
   {
    "duration": 161,
    "start_time": "2022-06-26T09:29:48.163Z"
   },
   {
    "duration": 201,
    "start_time": "2022-06-26T09:29:48.326Z"
   },
   {
    "duration": 142,
    "start_time": "2022-06-26T09:29:48.529Z"
   },
   {
    "duration": 125,
    "start_time": "2022-06-26T09:29:48.673Z"
   },
   {
    "duration": 137,
    "start_time": "2022-06-26T09:29:48.800Z"
   },
   {
    "duration": 179,
    "start_time": "2022-06-26T09:29:48.942Z"
   },
   {
    "duration": 120,
    "start_time": "2022-06-26T09:29:49.123Z"
   },
   {
    "duration": 138,
    "start_time": "2022-06-26T09:29:49.245Z"
   },
   {
    "duration": 141,
    "start_time": "2022-06-26T09:29:49.384Z"
   },
   {
    "duration": 146,
    "start_time": "2022-06-26T09:29:49.527Z"
   },
   {
    "duration": 127,
    "start_time": "2022-06-26T09:29:49.676Z"
   },
   {
    "duration": 105,
    "start_time": "2022-06-26T09:29:49.805Z"
   },
   {
    "duration": 173,
    "start_time": "2022-06-26T09:29:49.911Z"
   },
   {
    "duration": 120,
    "start_time": "2022-06-26T09:29:50.086Z"
   },
   {
    "duration": 139,
    "start_time": "2022-06-26T09:29:50.208Z"
   },
   {
    "duration": 125,
    "start_time": "2022-06-26T09:29:50.349Z"
   },
   {
    "duration": 1416,
    "start_time": "2022-06-26T09:29:50.476Z"
   },
   {
    "duration": 238,
    "start_time": "2022-06-26T09:29:51.894Z"
   },
   {
    "duration": 149,
    "start_time": "2022-06-26T09:29:52.134Z"
   },
   {
    "duration": 146,
    "start_time": "2022-06-26T09:29:52.285Z"
   },
   {
    "duration": 972,
    "start_time": "2022-06-26T09:29:52.432Z"
   },
   {
    "duration": 0,
    "start_time": "2022-06-26T09:29:53.406Z"
   },
   {
    "duration": 0,
    "start_time": "2022-06-26T09:29:53.407Z"
   },
   {
    "duration": 0,
    "start_time": "2022-06-26T09:29:53.409Z"
   },
   {
    "duration": 0,
    "start_time": "2022-06-26T09:29:53.410Z"
   },
   {
    "duration": 0,
    "start_time": "2022-06-26T09:29:53.411Z"
   },
   {
    "duration": 0,
    "start_time": "2022-06-26T09:29:53.412Z"
   },
   {
    "duration": 0,
    "start_time": "2022-06-26T09:29:53.413Z"
   },
   {
    "duration": 0,
    "start_time": "2022-06-26T09:29:53.415Z"
   },
   {
    "duration": 0,
    "start_time": "2022-06-26T09:29:53.416Z"
   },
   {
    "duration": 0,
    "start_time": "2022-06-26T09:29:53.417Z"
   },
   {
    "duration": 0,
    "start_time": "2022-06-26T09:29:53.418Z"
   },
   {
    "duration": 0,
    "start_time": "2022-06-26T09:29:53.420Z"
   },
   {
    "duration": 0,
    "start_time": "2022-06-26T09:29:53.421Z"
   },
   {
    "duration": 0,
    "start_time": "2022-06-26T09:29:53.423Z"
   },
   {
    "duration": 0,
    "start_time": "2022-06-26T09:29:53.424Z"
   },
   {
    "duration": 0,
    "start_time": "2022-06-26T09:29:53.426Z"
   },
   {
    "duration": 0,
    "start_time": "2022-06-26T09:29:53.427Z"
   },
   {
    "duration": 0,
    "start_time": "2022-06-26T09:29:53.428Z"
   },
   {
    "duration": 0,
    "start_time": "2022-06-26T09:29:53.430Z"
   },
   {
    "duration": 0,
    "start_time": "2022-06-26T09:29:53.431Z"
   },
   {
    "duration": 0,
    "start_time": "2022-06-26T09:29:53.432Z"
   },
   {
    "duration": 0,
    "start_time": "2022-06-26T09:29:53.433Z"
   },
   {
    "duration": 0,
    "start_time": "2022-06-26T09:29:53.434Z"
   },
   {
    "duration": 29,
    "start_time": "2022-06-26T09:30:05.168Z"
   },
   {
    "duration": 595,
    "start_time": "2022-06-26T09:30:20.711Z"
   },
   {
    "duration": 78,
    "start_time": "2022-06-26T09:30:21.308Z"
   },
   {
    "duration": 5,
    "start_time": "2022-06-26T09:30:21.388Z"
   },
   {
    "duration": 16,
    "start_time": "2022-06-26T09:30:21.395Z"
   },
   {
    "duration": 5,
    "start_time": "2022-06-26T09:30:21.413Z"
   },
   {
    "duration": 12,
    "start_time": "2022-06-26T09:30:21.420Z"
   },
   {
    "duration": 33,
    "start_time": "2022-06-26T09:30:21.434Z"
   },
   {
    "duration": 5,
    "start_time": "2022-06-26T09:30:21.469Z"
   },
   {
    "duration": 185,
    "start_time": "2022-06-26T09:30:21.476Z"
   },
   {
    "duration": 375,
    "start_time": "2022-06-26T09:30:21.663Z"
   },
   {
    "duration": 26,
    "start_time": "2022-06-26T09:30:22.040Z"
   },
   {
    "duration": 297,
    "start_time": "2022-06-26T09:30:22.069Z"
   },
   {
    "duration": 248,
    "start_time": "2022-06-26T09:30:22.368Z"
   },
   {
    "duration": 200,
    "start_time": "2022-06-26T09:30:22.619Z"
   },
   {
    "duration": 182,
    "start_time": "2022-06-26T09:30:22.820Z"
   },
   {
    "duration": 196,
    "start_time": "2022-06-26T09:30:23.004Z"
   },
   {
    "duration": 174,
    "start_time": "2022-06-26T09:30:23.201Z"
   },
   {
    "duration": 168,
    "start_time": "2022-06-26T09:30:23.376Z"
   },
   {
    "duration": 158,
    "start_time": "2022-06-26T09:30:23.551Z"
   },
   {
    "duration": 149,
    "start_time": "2022-06-26T09:30:23.711Z"
   },
   {
    "duration": 172,
    "start_time": "2022-06-26T09:30:23.861Z"
   },
   {
    "duration": 194,
    "start_time": "2022-06-26T09:30:24.035Z"
   },
   {
    "duration": 158,
    "start_time": "2022-06-26T09:30:24.231Z"
   },
   {
    "duration": 195,
    "start_time": "2022-06-26T09:30:24.390Z"
   },
   {
    "duration": 129,
    "start_time": "2022-06-26T09:30:24.587Z"
   },
   {
    "duration": 127,
    "start_time": "2022-06-26T09:30:24.718Z"
   },
   {
    "duration": 128,
    "start_time": "2022-06-26T09:30:24.846Z"
   },
   {
    "duration": 136,
    "start_time": "2022-06-26T09:30:24.976Z"
   },
   {
    "duration": 142,
    "start_time": "2022-06-26T09:30:25.114Z"
   },
   {
    "duration": 192,
    "start_time": "2022-06-26T09:30:25.258Z"
   },
   {
    "duration": 129,
    "start_time": "2022-06-26T09:30:25.453Z"
   },
   {
    "duration": 143,
    "start_time": "2022-06-26T09:30:25.584Z"
   },
   {
    "duration": 132,
    "start_time": "2022-06-26T09:30:25.728Z"
   },
   {
    "duration": 109,
    "start_time": "2022-06-26T09:30:25.862Z"
   },
   {
    "duration": 184,
    "start_time": "2022-06-26T09:30:25.973Z"
   },
   {
    "duration": 119,
    "start_time": "2022-06-26T09:30:26.159Z"
   },
   {
    "duration": 118,
    "start_time": "2022-06-26T09:30:26.280Z"
   },
   {
    "duration": 111,
    "start_time": "2022-06-26T09:30:26.400Z"
   },
   {
    "duration": 1249,
    "start_time": "2022-06-26T09:30:26.513Z"
   },
   {
    "duration": 231,
    "start_time": "2022-06-26T09:30:27.764Z"
   },
   {
    "duration": 133,
    "start_time": "2022-06-26T09:30:27.999Z"
   },
   {
    "duration": 158,
    "start_time": "2022-06-26T09:30:28.134Z"
   },
   {
    "duration": 11,
    "start_time": "2022-06-26T09:30:28.294Z"
   },
   {
    "duration": 508,
    "start_time": "2022-06-26T09:30:28.307Z"
   },
   {
    "duration": 148,
    "start_time": "2022-06-26T09:30:28.817Z"
   },
   {
    "duration": 147,
    "start_time": "2022-06-26T09:30:28.966Z"
   },
   {
    "duration": 14,
    "start_time": "2022-06-26T09:30:29.114Z"
   },
   {
    "duration": 441,
    "start_time": "2022-06-26T09:30:29.129Z"
   },
   {
    "duration": 130,
    "start_time": "2022-06-26T09:30:29.571Z"
   },
   {
    "duration": 140,
    "start_time": "2022-06-26T09:30:29.702Z"
   },
   {
    "duration": 20,
    "start_time": "2022-06-26T09:30:29.844Z"
   },
   {
    "duration": 555,
    "start_time": "2022-06-26T09:30:29.865Z"
   },
   {
    "duration": 188,
    "start_time": "2022-06-26T09:30:30.422Z"
   },
   {
    "duration": 206,
    "start_time": "2022-06-26T09:30:30.611Z"
   },
   {
    "duration": 95,
    "start_time": "2022-06-26T09:30:30.819Z"
   },
   {
    "duration": 0,
    "start_time": "2022-06-26T09:30:30.916Z"
   },
   {
    "duration": 0,
    "start_time": "2022-06-26T09:30:30.917Z"
   },
   {
    "duration": 0,
    "start_time": "2022-06-26T09:30:30.918Z"
   },
   {
    "duration": 0,
    "start_time": "2022-06-26T09:30:30.919Z"
   },
   {
    "duration": 0,
    "start_time": "2022-06-26T09:30:30.920Z"
   },
   {
    "duration": 0,
    "start_time": "2022-06-26T09:30:30.921Z"
   },
   {
    "duration": 0,
    "start_time": "2022-06-26T09:30:30.922Z"
   },
   {
    "duration": 0,
    "start_time": "2022-06-26T09:30:30.923Z"
   },
   {
    "duration": 0,
    "start_time": "2022-06-26T09:30:30.924Z"
   },
   {
    "duration": 0,
    "start_time": "2022-06-26T09:30:30.925Z"
   },
   {
    "duration": 0,
    "start_time": "2022-06-26T09:30:30.927Z"
   },
   {
    "duration": 21,
    "start_time": "2022-06-26T09:31:02.711Z"
   },
   {
    "duration": 205,
    "start_time": "2022-06-26T09:31:44.278Z"
   },
   {
    "duration": 124,
    "start_time": "2022-06-26T09:34:03.083Z"
   },
   {
    "duration": 120,
    "start_time": "2022-06-26T09:34:34.936Z"
   },
   {
    "duration": 114,
    "start_time": "2022-06-26T09:34:39.454Z"
   },
   {
    "duration": 46,
    "start_time": "2022-06-26T09:35:07.954Z"
   },
   {
    "duration": 15,
    "start_time": "2022-06-26T09:37:33.927Z"
   },
   {
    "duration": 487,
    "start_time": "2022-06-26T09:39:04.316Z"
   },
   {
    "duration": 1119,
    "start_time": "2022-06-26T09:39:14.445Z"
   },
   {
    "duration": 78,
    "start_time": "2022-06-26T09:39:15.566Z"
   },
   {
    "duration": 5,
    "start_time": "2022-06-26T09:39:15.646Z"
   },
   {
    "duration": 13,
    "start_time": "2022-06-26T09:39:15.653Z"
   },
   {
    "duration": 8,
    "start_time": "2022-06-26T09:39:15.668Z"
   },
   {
    "duration": 10,
    "start_time": "2022-06-26T09:39:15.677Z"
   },
   {
    "duration": 18,
    "start_time": "2022-06-26T09:39:15.688Z"
   },
   {
    "duration": 4,
    "start_time": "2022-06-26T09:39:15.708Z"
   },
   {
    "duration": 363,
    "start_time": "2022-06-26T09:39:15.713Z"
   },
   {
    "duration": 383,
    "start_time": "2022-06-26T09:39:16.077Z"
   },
   {
    "duration": 10,
    "start_time": "2022-06-26T09:39:16.461Z"
   },
   {
    "duration": 266,
    "start_time": "2022-06-26T09:39:16.473Z"
   },
   {
    "duration": 180,
    "start_time": "2022-06-26T09:39:16.741Z"
   },
   {
    "duration": 184,
    "start_time": "2022-06-26T09:39:16.924Z"
   },
   {
    "duration": 175,
    "start_time": "2022-06-26T09:39:17.109Z"
   },
   {
    "duration": 175,
    "start_time": "2022-06-26T09:39:17.286Z"
   },
   {
    "duration": 165,
    "start_time": "2022-06-26T09:39:17.462Z"
   },
   {
    "duration": 243,
    "start_time": "2022-06-26T09:39:17.629Z"
   },
   {
    "duration": 161,
    "start_time": "2022-06-26T09:39:17.874Z"
   },
   {
    "duration": 142,
    "start_time": "2022-06-26T09:39:18.036Z"
   },
   {
    "duration": 180,
    "start_time": "2022-06-26T09:39:18.179Z"
   },
   {
    "duration": 191,
    "start_time": "2022-06-26T09:39:18.361Z"
   },
   {
    "duration": 168,
    "start_time": "2022-06-26T09:39:18.554Z"
   },
   {
    "duration": 133,
    "start_time": "2022-06-26T09:39:18.724Z"
   },
   {
    "duration": 135,
    "start_time": "2022-06-26T09:39:18.858Z"
   },
   {
    "duration": 130,
    "start_time": "2022-06-26T09:39:18.995Z"
   },
   {
    "duration": 140,
    "start_time": "2022-06-26T09:39:19.126Z"
   },
   {
    "duration": 138,
    "start_time": "2022-06-26T09:39:19.268Z"
   },
   {
    "duration": 206,
    "start_time": "2022-06-26T09:39:19.409Z"
   },
   {
    "duration": 130,
    "start_time": "2022-06-26T09:39:19.617Z"
   },
   {
    "duration": 130,
    "start_time": "2022-06-26T09:39:19.749Z"
   },
   {
    "duration": 131,
    "start_time": "2022-06-26T09:39:19.881Z"
   },
   {
    "duration": 139,
    "start_time": "2022-06-26T09:39:20.014Z"
   },
   {
    "duration": 120,
    "start_time": "2022-06-26T09:39:20.155Z"
   },
   {
    "duration": 117,
    "start_time": "2022-06-26T09:39:20.277Z"
   },
   {
    "duration": 115,
    "start_time": "2022-06-26T09:39:20.396Z"
   },
   {
    "duration": 121,
    "start_time": "2022-06-26T09:39:20.513Z"
   },
   {
    "duration": 105,
    "start_time": "2022-06-26T09:39:20.635Z"
   },
   {
    "duration": 1338,
    "start_time": "2022-06-26T09:39:20.742Z"
   },
   {
    "duration": 240,
    "start_time": "2022-06-26T09:39:22.082Z"
   },
   {
    "duration": 131,
    "start_time": "2022-06-26T09:39:22.326Z"
   },
   {
    "duration": 157,
    "start_time": "2022-06-26T09:39:22.459Z"
   },
   {
    "duration": 14,
    "start_time": "2022-06-26T09:39:22.618Z"
   },
   {
    "duration": 434,
    "start_time": "2022-06-26T09:39:22.634Z"
   },
   {
    "duration": 134,
    "start_time": "2022-06-26T09:39:23.070Z"
   },
   {
    "duration": 136,
    "start_time": "2022-06-26T09:39:23.205Z"
   },
   {
    "duration": 16,
    "start_time": "2022-06-26T09:39:23.342Z"
   },
   {
    "duration": 513,
    "start_time": "2022-06-26T09:39:23.359Z"
   },
   {
    "duration": 123,
    "start_time": "2022-06-26T09:39:23.873Z"
   },
   {
    "duration": 134,
    "start_time": "2022-06-26T09:39:23.998Z"
   },
   {
    "duration": 23,
    "start_time": "2022-06-26T09:39:24.134Z"
   },
   {
    "duration": 427,
    "start_time": "2022-06-26T09:39:24.159Z"
   },
   {
    "duration": 181,
    "start_time": "2022-06-26T09:39:24.588Z"
   },
   {
    "duration": 179,
    "start_time": "2022-06-26T09:39:24.771Z"
   },
   {
    "duration": 218,
    "start_time": "2022-06-26T09:39:24.952Z"
   },
   {
    "duration": 146,
    "start_time": "2022-06-26T09:39:25.172Z"
   },
   {
    "duration": 272,
    "start_time": "2022-06-26T09:39:25.320Z"
   },
   {
    "duration": 133,
    "start_time": "2022-06-26T09:39:25.594Z"
   },
   {
    "duration": 143,
    "start_time": "2022-06-26T09:39:25.728Z"
   },
   {
    "duration": 137,
    "start_time": "2022-06-26T09:39:25.873Z"
   },
   {
    "duration": 149,
    "start_time": "2022-06-26T09:39:26.012Z"
   },
   {
    "duration": 126,
    "start_time": "2022-06-26T09:39:26.163Z"
   },
   {
    "duration": 138,
    "start_time": "2022-06-26T09:39:26.290Z"
   },
   {
    "duration": 133,
    "start_time": "2022-06-26T09:39:26.430Z"
   },
   {
    "duration": 10,
    "start_time": "2022-06-26T09:39:26.565Z"
   },
   {
    "duration": 9,
    "start_time": "2022-06-26T09:39:26.577Z"
   },
   {
    "duration": 8,
    "start_time": "2022-06-26T09:43:12.578Z"
   },
   {
    "duration": 3,
    "start_time": "2022-06-26T09:43:45.079Z"
   },
   {
    "duration": 19,
    "start_time": "2022-06-26T09:43:52.411Z"
   },
   {
    "duration": 8475,
    "start_time": "2022-06-26T09:44:21.256Z"
   },
   {
    "duration": 0,
    "start_time": "2022-06-26T09:46:51.731Z"
   },
   {
    "duration": 0,
    "start_time": "2022-06-26T09:46:51.733Z"
   },
   {
    "duration": 53,
    "start_time": "2022-06-26T09:48:12.401Z"
   },
   {
    "duration": 20,
    "start_time": "2022-06-26T09:48:28.980Z"
   },
   {
    "duration": 13,
    "start_time": "2022-06-26T09:50:36.655Z"
   },
   {
    "duration": 10,
    "start_time": "2022-06-26T09:51:19.792Z"
   },
   {
    "duration": 139,
    "start_time": "2022-06-26T09:51:54.930Z"
   },
   {
    "duration": 985,
    "start_time": "2022-06-26T09:52:18.210Z"
   },
   {
    "duration": 75,
    "start_time": "2022-06-26T09:52:19.197Z"
   },
   {
    "duration": 6,
    "start_time": "2022-06-26T09:52:19.274Z"
   },
   {
    "duration": 15,
    "start_time": "2022-06-26T09:52:19.282Z"
   },
   {
    "duration": 7,
    "start_time": "2022-06-26T09:52:19.298Z"
   },
   {
    "duration": 9,
    "start_time": "2022-06-26T09:52:19.307Z"
   },
   {
    "duration": 26,
    "start_time": "2022-06-26T09:52:19.318Z"
   },
   {
    "duration": 8,
    "start_time": "2022-06-26T09:52:19.346Z"
   },
   {
    "duration": 182,
    "start_time": "2022-06-26T09:52:19.355Z"
   },
   {
    "duration": 295,
    "start_time": "2022-06-26T09:52:19.539Z"
   },
   {
    "duration": 19,
    "start_time": "2022-06-26T09:52:19.835Z"
   },
   {
    "duration": 264,
    "start_time": "2022-06-26T09:52:19.856Z"
   },
   {
    "duration": 188,
    "start_time": "2022-06-26T09:52:20.121Z"
   },
   {
    "duration": 184,
    "start_time": "2022-06-26T09:52:20.311Z"
   },
   {
    "duration": 177,
    "start_time": "2022-06-26T09:52:20.497Z"
   },
   {
    "duration": 186,
    "start_time": "2022-06-26T09:52:20.676Z"
   },
   {
    "duration": 188,
    "start_time": "2022-06-26T09:52:20.864Z"
   },
   {
    "duration": 242,
    "start_time": "2022-06-26T09:52:21.054Z"
   },
   {
    "duration": 156,
    "start_time": "2022-06-26T09:52:21.298Z"
   },
   {
    "duration": 133,
    "start_time": "2022-06-26T09:52:21.455Z"
   },
   {
    "duration": 199,
    "start_time": "2022-06-26T09:52:21.590Z"
   },
   {
    "duration": 182,
    "start_time": "2022-06-26T09:52:21.790Z"
   },
   {
    "duration": 184,
    "start_time": "2022-06-26T09:52:21.973Z"
   },
   {
    "duration": 174,
    "start_time": "2022-06-26T09:52:22.159Z"
   },
   {
    "duration": 139,
    "start_time": "2022-06-26T09:52:22.335Z"
   },
   {
    "duration": 160,
    "start_time": "2022-06-26T09:52:22.476Z"
   },
   {
    "duration": 153,
    "start_time": "2022-06-26T09:52:22.638Z"
   },
   {
    "duration": 141,
    "start_time": "2022-06-26T09:52:22.796Z"
   },
   {
    "duration": 205,
    "start_time": "2022-06-26T09:52:22.939Z"
   },
   {
    "duration": 131,
    "start_time": "2022-06-26T09:52:23.146Z"
   },
   {
    "duration": 129,
    "start_time": "2022-06-26T09:52:23.279Z"
   },
   {
    "duration": 154,
    "start_time": "2022-06-26T09:52:23.410Z"
   },
   {
    "duration": 136,
    "start_time": "2022-06-26T09:52:23.566Z"
   },
   {
    "duration": 109,
    "start_time": "2022-06-26T09:52:23.704Z"
   },
   {
    "duration": 106,
    "start_time": "2022-06-26T09:52:23.815Z"
   },
   {
    "duration": 115,
    "start_time": "2022-06-26T09:52:23.923Z"
   },
   {
    "duration": 128,
    "start_time": "2022-06-26T09:52:24.040Z"
   },
   {
    "duration": 112,
    "start_time": "2022-06-26T09:52:24.170Z"
   },
   {
    "duration": 1389,
    "start_time": "2022-06-26T09:52:24.284Z"
   },
   {
    "duration": 234,
    "start_time": "2022-06-26T09:52:25.675Z"
   },
   {
    "duration": 157,
    "start_time": "2022-06-26T09:52:25.911Z"
   },
   {
    "duration": 155,
    "start_time": "2022-06-26T09:52:26.070Z"
   },
   {
    "duration": 25,
    "start_time": "2022-06-26T09:52:26.228Z"
   },
   {
    "duration": 439,
    "start_time": "2022-06-26T09:52:26.255Z"
   },
   {
    "duration": 141,
    "start_time": "2022-06-26T09:52:26.696Z"
   },
   {
    "duration": 151,
    "start_time": "2022-06-26T09:52:26.838Z"
   },
   {
    "duration": 12,
    "start_time": "2022-06-26T09:52:26.991Z"
   },
   {
    "duration": 511,
    "start_time": "2022-06-26T09:52:27.004Z"
   },
   {
    "duration": 147,
    "start_time": "2022-06-26T09:52:27.517Z"
   },
   {
    "duration": 135,
    "start_time": "2022-06-26T09:52:27.666Z"
   },
   {
    "duration": 13,
    "start_time": "2022-06-26T09:52:27.803Z"
   },
   {
    "duration": 430,
    "start_time": "2022-06-26T09:52:27.817Z"
   },
   {
    "duration": 190,
    "start_time": "2022-06-26T09:52:28.249Z"
   },
   {
    "duration": 196,
    "start_time": "2022-06-26T09:52:28.441Z"
   },
   {
    "duration": 218,
    "start_time": "2022-06-26T09:52:28.638Z"
   },
   {
    "duration": 132,
    "start_time": "2022-06-26T09:52:28.858Z"
   },
   {
    "duration": 203,
    "start_time": "2022-06-26T09:52:28.992Z"
   },
   {
    "duration": 128,
    "start_time": "2022-06-26T09:52:29.197Z"
   },
   {
    "duration": 146,
    "start_time": "2022-06-26T09:52:29.327Z"
   },
   {
    "duration": 122,
    "start_time": "2022-06-26T09:52:29.475Z"
   },
   {
    "duration": 135,
    "start_time": "2022-06-26T09:52:29.599Z"
   },
   {
    "duration": 130,
    "start_time": "2022-06-26T09:52:29.735Z"
   },
   {
    "duration": 128,
    "start_time": "2022-06-26T09:52:29.866Z"
   },
   {
    "duration": 120,
    "start_time": "2022-06-26T09:52:29.996Z"
   },
   {
    "duration": 9,
    "start_time": "2022-06-26T09:52:30.117Z"
   },
   {
    "duration": 25,
    "start_time": "2022-06-26T09:52:30.128Z"
   },
   {
    "duration": 48,
    "start_time": "2022-06-26T09:52:58.576Z"
   },
   {
    "duration": 1155,
    "start_time": "2022-06-26T09:55:05.064Z"
   },
   {
    "duration": 78,
    "start_time": "2022-06-26T09:55:06.220Z"
   },
   {
    "duration": 4,
    "start_time": "2022-06-26T09:55:06.302Z"
   },
   {
    "duration": 13,
    "start_time": "2022-06-26T09:55:06.307Z"
   },
   {
    "duration": 5,
    "start_time": "2022-06-26T09:55:06.321Z"
   },
   {
    "duration": 29,
    "start_time": "2022-06-26T09:55:06.327Z"
   },
   {
    "duration": 22,
    "start_time": "2022-06-26T09:55:06.357Z"
   },
   {
    "duration": 4,
    "start_time": "2022-06-26T09:55:06.380Z"
   },
   {
    "duration": 181,
    "start_time": "2022-06-26T09:55:06.388Z"
   },
   {
    "duration": 323,
    "start_time": "2022-06-26T09:55:06.571Z"
   },
   {
    "duration": 11,
    "start_time": "2022-06-26T09:55:06.896Z"
   },
   {
    "duration": 278,
    "start_time": "2022-06-26T09:55:06.908Z"
   },
   {
    "duration": 199,
    "start_time": "2022-06-26T09:55:07.188Z"
   },
   {
    "duration": 249,
    "start_time": "2022-06-26T09:55:07.389Z"
   },
   {
    "duration": 190,
    "start_time": "2022-06-26T09:55:07.640Z"
   },
   {
    "duration": 201,
    "start_time": "2022-06-26T09:55:07.832Z"
   },
   {
    "duration": 269,
    "start_time": "2022-06-26T09:55:08.036Z"
   },
   {
    "duration": 167,
    "start_time": "2022-06-26T09:55:08.307Z"
   },
   {
    "duration": 163,
    "start_time": "2022-06-26T09:55:08.476Z"
   },
   {
    "duration": 149,
    "start_time": "2022-06-26T09:55:08.642Z"
   },
   {
    "duration": 172,
    "start_time": "2022-06-26T09:55:08.792Z"
   },
   {
    "duration": 186,
    "start_time": "2022-06-26T09:55:08.966Z"
   },
   {
    "duration": 164,
    "start_time": "2022-06-26T09:55:09.154Z"
   },
   {
    "duration": 133,
    "start_time": "2022-06-26T09:55:09.320Z"
   },
   {
    "duration": 140,
    "start_time": "2022-06-26T09:55:09.455Z"
   },
   {
    "duration": 125,
    "start_time": "2022-06-26T09:55:09.597Z"
   },
   {
    "duration": 155,
    "start_time": "2022-06-26T09:55:09.726Z"
   },
   {
    "duration": 235,
    "start_time": "2022-06-26T09:55:09.882Z"
   },
   {
    "duration": 135,
    "start_time": "2022-06-26T09:55:10.119Z"
   },
   {
    "duration": 138,
    "start_time": "2022-06-26T09:55:10.255Z"
   },
   {
    "duration": 146,
    "start_time": "2022-06-26T09:55:10.395Z"
   },
   {
    "duration": 146,
    "start_time": "2022-06-26T09:55:10.543Z"
   },
   {
    "duration": 145,
    "start_time": "2022-06-26T09:55:10.691Z"
   },
   {
    "duration": 115,
    "start_time": "2022-06-26T09:55:10.838Z"
   },
   {
    "duration": 122,
    "start_time": "2022-06-26T09:55:10.954Z"
   },
   {
    "duration": 136,
    "start_time": "2022-06-26T09:55:11.078Z"
   },
   {
    "duration": 118,
    "start_time": "2022-06-26T09:55:11.216Z"
   },
   {
    "duration": 115,
    "start_time": "2022-06-26T09:55:11.336Z"
   },
   {
    "duration": 1412,
    "start_time": "2022-06-26T09:55:11.453Z"
   },
   {
    "duration": 258,
    "start_time": "2022-06-26T09:55:12.867Z"
   },
   {
    "duration": 171,
    "start_time": "2022-06-26T09:55:13.127Z"
   },
   {
    "duration": 144,
    "start_time": "2022-06-26T09:55:13.301Z"
   },
   {
    "duration": 15,
    "start_time": "2022-06-26T09:55:13.447Z"
   },
   {
    "duration": 429,
    "start_time": "2022-06-26T09:55:13.463Z"
   },
   {
    "duration": 148,
    "start_time": "2022-06-26T09:55:13.894Z"
   },
   {
    "duration": 154,
    "start_time": "2022-06-26T09:55:14.044Z"
   },
   {
    "duration": 13,
    "start_time": "2022-06-26T09:55:14.200Z"
   },
   {
    "duration": 527,
    "start_time": "2022-06-26T09:55:14.215Z"
   },
   {
    "duration": 133,
    "start_time": "2022-06-26T09:55:14.744Z"
   },
   {
    "duration": 155,
    "start_time": "2022-06-26T09:55:14.879Z"
   },
   {
    "duration": 24,
    "start_time": "2022-06-26T09:55:15.037Z"
   },
   {
    "duration": 501,
    "start_time": "2022-06-26T09:55:15.063Z"
   },
   {
    "duration": 186,
    "start_time": "2022-06-26T09:55:15.566Z"
   },
   {
    "duration": 179,
    "start_time": "2022-06-26T09:55:15.754Z"
   },
   {
    "duration": 227,
    "start_time": "2022-06-26T09:55:15.934Z"
   },
   {
    "duration": 219,
    "start_time": "2022-06-26T09:55:16.162Z"
   },
   {
    "duration": 153,
    "start_time": "2022-06-26T09:55:16.383Z"
   },
   {
    "duration": 136,
    "start_time": "2022-06-26T09:55:16.538Z"
   },
   {
    "duration": 137,
    "start_time": "2022-06-26T09:55:16.676Z"
   },
   {
    "duration": 138,
    "start_time": "2022-06-26T09:55:16.815Z"
   },
   {
    "duration": 138,
    "start_time": "2022-06-26T09:55:16.955Z"
   },
   {
    "duration": 121,
    "start_time": "2022-06-26T09:55:17.095Z"
   },
   {
    "duration": 131,
    "start_time": "2022-06-26T09:55:17.218Z"
   },
   {
    "duration": 121,
    "start_time": "2022-06-26T09:55:17.351Z"
   },
   {
    "duration": 9,
    "start_time": "2022-06-26T09:55:17.474Z"
   },
   {
    "duration": 11,
    "start_time": "2022-06-26T09:55:17.484Z"
   },
   {
    "duration": 1245,
    "start_time": "2022-06-27T11:22:35.683Z"
   },
   {
    "duration": 75,
    "start_time": "2022-06-27T11:22:36.930Z"
   },
   {
    "duration": 6,
    "start_time": "2022-06-27T11:22:37.006Z"
   },
   {
    "duration": 20,
    "start_time": "2022-06-27T11:22:37.014Z"
   },
   {
    "duration": 16,
    "start_time": "2022-06-27T11:22:37.036Z"
   },
   {
    "duration": 21,
    "start_time": "2022-06-27T11:22:37.054Z"
   },
   {
    "duration": 22,
    "start_time": "2022-06-27T11:22:37.077Z"
   },
   {
    "duration": 5,
    "start_time": "2022-06-27T11:22:37.101Z"
   },
   {
    "duration": 212,
    "start_time": "2022-06-27T11:22:37.108Z"
   },
   {
    "duration": 373,
    "start_time": "2022-06-27T11:22:37.325Z"
   },
   {
    "duration": 13,
    "start_time": "2022-06-27T11:22:37.700Z"
   },
   {
    "duration": 331,
    "start_time": "2022-06-27T11:22:37.716Z"
   },
   {
    "duration": 229,
    "start_time": "2022-06-27T11:22:38.051Z"
   },
   {
    "duration": 219,
    "start_time": "2022-06-27T11:22:38.283Z"
   },
   {
    "duration": 203,
    "start_time": "2022-06-27T11:22:38.504Z"
   },
   {
    "duration": 217,
    "start_time": "2022-06-27T11:22:38.709Z"
   },
   {
    "duration": 203,
    "start_time": "2022-06-27T11:22:38.928Z"
   },
   {
    "duration": 284,
    "start_time": "2022-06-27T11:22:39.133Z"
   },
   {
    "duration": 198,
    "start_time": "2022-06-27T11:22:39.419Z"
   },
   {
    "duration": 160,
    "start_time": "2022-06-27T11:22:39.619Z"
   },
   {
    "duration": 202,
    "start_time": "2022-06-27T11:22:39.781Z"
   },
   {
    "duration": 230,
    "start_time": "2022-06-27T11:22:39.984Z"
   },
   {
    "duration": 214,
    "start_time": "2022-06-27T11:22:40.216Z"
   },
   {
    "duration": 151,
    "start_time": "2022-06-27T11:22:40.432Z"
   },
   {
    "duration": 154,
    "start_time": "2022-06-27T11:22:40.585Z"
   },
   {
    "duration": 147,
    "start_time": "2022-06-27T11:22:40.741Z"
   },
   {
    "duration": 149,
    "start_time": "2022-06-27T11:22:40.890Z"
   },
   {
    "duration": 159,
    "start_time": "2022-06-27T11:22:41.050Z"
   },
   {
    "duration": 278,
    "start_time": "2022-06-27T11:22:41.211Z"
   },
   {
    "duration": 153,
    "start_time": "2022-06-27T11:22:41.492Z"
   },
   {
    "duration": 151,
    "start_time": "2022-06-27T11:22:41.650Z"
   },
   {
    "duration": 162,
    "start_time": "2022-06-27T11:22:41.802Z"
   },
   {
    "duration": 146,
    "start_time": "2022-06-27T11:22:41.966Z"
   },
   {
    "duration": 121,
    "start_time": "2022-06-27T11:22:42.114Z"
   },
   {
    "duration": 147,
    "start_time": "2022-06-27T11:22:42.237Z"
   },
   {
    "duration": 1260,
    "start_time": "2022-06-27T11:23:16.867Z"
   },
   {
    "duration": 80,
    "start_time": "2022-06-27T11:23:18.129Z"
   },
   {
    "duration": 6,
    "start_time": "2022-06-27T11:23:18.211Z"
   },
   {
    "duration": 15,
    "start_time": "2022-06-27T11:23:18.218Z"
   },
   {
    "duration": 21,
    "start_time": "2022-06-27T11:23:18.236Z"
   },
   {
    "duration": 19,
    "start_time": "2022-06-27T11:23:18.260Z"
   },
   {
    "duration": 24,
    "start_time": "2022-06-27T11:23:18.281Z"
   },
   {
    "duration": 5,
    "start_time": "2022-06-27T11:23:18.307Z"
   },
   {
    "duration": 217,
    "start_time": "2022-06-27T11:23:18.314Z"
   },
   {
    "duration": 369,
    "start_time": "2022-06-27T11:23:18.533Z"
   },
   {
    "duration": 12,
    "start_time": "2022-06-27T11:23:18.904Z"
   },
   {
    "duration": 326,
    "start_time": "2022-06-27T11:23:18.918Z"
   },
   {
    "duration": 245,
    "start_time": "2022-06-27T11:23:19.246Z"
   },
   {
    "duration": 222,
    "start_time": "2022-06-27T11:23:19.497Z"
   },
   {
    "duration": 226,
    "start_time": "2022-06-27T11:23:19.721Z"
   },
   {
    "duration": 226,
    "start_time": "2022-06-27T11:23:19.949Z"
   },
   {
    "duration": 235,
    "start_time": "2022-06-27T11:23:20.177Z"
   },
   {
    "duration": 297,
    "start_time": "2022-06-27T11:23:20.414Z"
   },
   {
    "duration": 199,
    "start_time": "2022-06-27T11:23:20.713Z"
   },
   {
    "duration": 173,
    "start_time": "2022-06-27T11:23:20.914Z"
   },
   {
    "duration": 202,
    "start_time": "2022-06-27T11:23:21.089Z"
   },
   {
    "duration": 221,
    "start_time": "2022-06-27T11:23:21.294Z"
   },
   {
    "duration": 201,
    "start_time": "2022-06-27T11:23:21.518Z"
   },
   {
    "duration": 166,
    "start_time": "2022-06-27T11:23:21.720Z"
   },
   {
    "duration": 158,
    "start_time": "2022-06-27T11:23:21.888Z"
   },
   {
    "duration": 151,
    "start_time": "2022-06-27T11:23:22.048Z"
   },
   {
    "duration": 153,
    "start_time": "2022-06-27T11:23:22.201Z"
   },
   {
    "duration": 164,
    "start_time": "2022-06-27T11:23:22.356Z"
   },
   {
    "duration": 243,
    "start_time": "2022-06-27T11:23:22.522Z"
   },
   {
    "duration": 165,
    "start_time": "2022-06-27T11:23:22.768Z"
   },
   {
    "duration": 185,
    "start_time": "2022-06-27T11:23:22.936Z"
   },
   {
    "duration": 173,
    "start_time": "2022-06-27T11:23:23.124Z"
   },
   {
    "duration": 161,
    "start_time": "2022-06-27T11:23:23.299Z"
   },
   {
    "duration": 130,
    "start_time": "2022-06-27T11:23:23.463Z"
   },
   {
    "duration": 132,
    "start_time": "2022-06-27T11:23:23.595Z"
   },
   {
    "duration": 145,
    "start_time": "2022-06-27T11:23:23.730Z"
   },
   {
    "duration": 147,
    "start_time": "2022-06-27T11:23:23.878Z"
   },
   {
    "duration": 145,
    "start_time": "2022-06-27T11:23:24.027Z"
   },
   {
    "duration": 1746,
    "start_time": "2022-06-27T11:23:24.174Z"
   },
   {
    "duration": 282,
    "start_time": "2022-06-27T11:23:25.921Z"
   },
   {
    "duration": 125,
    "start_time": "2022-06-27T11:23:26.208Z"
   },
   {
    "duration": 0,
    "start_time": "2022-06-27T11:23:26.335Z"
   },
   {
    "duration": 0,
    "start_time": "2022-06-27T11:23:26.337Z"
   },
   {
    "duration": 0,
    "start_time": "2022-06-27T11:23:26.338Z"
   },
   {
    "duration": 0,
    "start_time": "2022-06-27T11:23:26.339Z"
   },
   {
    "duration": 0,
    "start_time": "2022-06-27T11:23:26.340Z"
   },
   {
    "duration": 0,
    "start_time": "2022-06-27T11:23:26.351Z"
   },
   {
    "duration": 0,
    "start_time": "2022-06-27T11:23:26.352Z"
   },
   {
    "duration": 0,
    "start_time": "2022-06-27T11:23:26.353Z"
   },
   {
    "duration": 0,
    "start_time": "2022-06-27T11:23:26.353Z"
   },
   {
    "duration": 0,
    "start_time": "2022-06-27T11:23:26.354Z"
   },
   {
    "duration": 1,
    "start_time": "2022-06-27T11:23:26.355Z"
   },
   {
    "duration": 0,
    "start_time": "2022-06-27T11:23:26.357Z"
   },
   {
    "duration": 0,
    "start_time": "2022-06-27T11:23:26.360Z"
   },
   {
    "duration": 1,
    "start_time": "2022-06-27T11:23:26.361Z"
   },
   {
    "duration": 0,
    "start_time": "2022-06-27T11:23:26.363Z"
   },
   {
    "duration": 0,
    "start_time": "2022-06-27T11:23:26.365Z"
   },
   {
    "duration": 0,
    "start_time": "2022-06-27T11:23:26.367Z"
   },
   {
    "duration": 0,
    "start_time": "2022-06-27T11:23:26.369Z"
   },
   {
    "duration": 0,
    "start_time": "2022-06-27T11:23:26.370Z"
   },
   {
    "duration": 0,
    "start_time": "2022-06-27T11:23:26.372Z"
   },
   {
    "duration": 0,
    "start_time": "2022-06-27T11:23:26.374Z"
   },
   {
    "duration": 0,
    "start_time": "2022-06-27T11:23:26.375Z"
   },
   {
    "duration": 0,
    "start_time": "2022-06-27T11:23:26.376Z"
   },
   {
    "duration": 0,
    "start_time": "2022-06-27T11:23:26.377Z"
   },
   {
    "duration": 0,
    "start_time": "2022-06-27T11:23:26.379Z"
   },
   {
    "duration": 0,
    "start_time": "2022-06-27T11:23:26.380Z"
   },
   {
    "duration": 80,
    "start_time": "2022-06-27T11:24:03.768Z"
   },
   {
    "duration": 16,
    "start_time": "2022-06-27T11:24:20.648Z"
   },
   {
    "duration": 21,
    "start_time": "2022-06-27T11:24:39.787Z"
   },
   {
    "duration": 305,
    "start_time": "2022-06-27T11:24:59.134Z"
   },
   {
    "duration": 5,
    "start_time": "2022-06-27T11:25:16.409Z"
   },
   {
    "duration": 384,
    "start_time": "2022-06-27T11:25:20.318Z"
   },
   {
    "duration": 3,
    "start_time": "2022-06-27T11:26:30.127Z"
   },
   {
    "duration": 116,
    "start_time": "2022-06-27T11:26:30.135Z"
   },
   {
    "duration": 6,
    "start_time": "2022-06-27T11:26:30.255Z"
   },
   {
    "duration": 32,
    "start_time": "2022-06-27T11:26:30.264Z"
   },
   {
    "duration": 16,
    "start_time": "2022-06-27T11:26:30.299Z"
   },
   {
    "duration": 34,
    "start_time": "2022-06-27T11:26:30.318Z"
   },
   {
    "duration": 28,
    "start_time": "2022-06-27T11:26:30.354Z"
   },
   {
    "duration": 6,
    "start_time": "2022-06-27T11:26:30.384Z"
   },
   {
    "duration": 288,
    "start_time": "2022-06-27T11:26:30.394Z"
   },
   {
    "duration": 387,
    "start_time": "2022-06-27T11:26:30.683Z"
   },
   {
    "duration": 16,
    "start_time": "2022-06-27T11:26:31.072Z"
   },
   {
    "duration": 366,
    "start_time": "2022-06-27T11:26:31.091Z"
   },
   {
    "duration": 242,
    "start_time": "2022-06-27T11:26:31.460Z"
   },
   {
    "duration": 225,
    "start_time": "2022-06-27T11:26:31.705Z"
   },
   {
    "duration": 250,
    "start_time": "2022-06-27T11:26:31.933Z"
   },
   {
    "duration": 218,
    "start_time": "2022-06-27T11:26:32.185Z"
   },
   {
    "duration": 213,
    "start_time": "2022-06-27T11:26:32.406Z"
   },
   {
    "duration": 304,
    "start_time": "2022-06-27T11:26:32.621Z"
   },
   {
    "duration": 198,
    "start_time": "2022-06-27T11:26:32.927Z"
   },
   {
    "duration": 171,
    "start_time": "2022-06-27T11:26:33.127Z"
   },
   {
    "duration": 216,
    "start_time": "2022-06-27T11:26:33.300Z"
   },
   {
    "duration": 233,
    "start_time": "2022-06-27T11:26:33.518Z"
   },
   {
    "duration": 227,
    "start_time": "2022-06-27T11:26:33.753Z"
   },
   {
    "duration": 169,
    "start_time": "2022-06-27T11:26:33.984Z"
   },
   {
    "duration": 164,
    "start_time": "2022-06-27T11:26:34.155Z"
   },
   {
    "duration": 186,
    "start_time": "2022-06-27T11:26:34.321Z"
   },
   {
    "duration": 220,
    "start_time": "2022-06-27T11:26:34.510Z"
   },
   {
    "duration": 171,
    "start_time": "2022-06-27T11:26:34.733Z"
   },
   {
    "duration": 253,
    "start_time": "2022-06-27T11:26:34.906Z"
   },
   {
    "duration": 162,
    "start_time": "2022-06-27T11:26:35.161Z"
   },
   {
    "duration": 188,
    "start_time": "2022-06-27T11:26:35.325Z"
   },
   {
    "duration": 182,
    "start_time": "2022-06-27T11:26:35.515Z"
   },
   {
    "duration": 158,
    "start_time": "2022-06-27T11:26:35.700Z"
   },
   {
    "duration": 136,
    "start_time": "2022-06-27T11:26:35.861Z"
   },
   {
    "duration": 139,
    "start_time": "2022-06-27T11:26:36.000Z"
   },
   {
    "duration": 183,
    "start_time": "2022-06-27T11:26:36.141Z"
   },
   {
    "duration": 140,
    "start_time": "2022-06-27T11:26:36.326Z"
   },
   {
    "duration": 140,
    "start_time": "2022-06-27T11:26:36.468Z"
   },
   {
    "duration": 1705,
    "start_time": "2022-06-27T11:26:36.610Z"
   },
   {
    "duration": 280,
    "start_time": "2022-06-27T11:26:38.317Z"
   },
   {
    "duration": 172,
    "start_time": "2022-06-27T11:26:38.599Z"
   },
   {
    "duration": 189,
    "start_time": "2022-06-27T11:26:38.773Z"
   },
   {
    "duration": 20,
    "start_time": "2022-06-27T11:26:38.965Z"
   },
   {
    "duration": 564,
    "start_time": "2022-06-27T11:26:38.987Z"
   },
   {
    "duration": 230,
    "start_time": "2022-06-27T11:26:39.553Z"
   },
   {
    "duration": 182,
    "start_time": "2022-06-27T11:26:39.786Z"
   },
   {
    "duration": 16,
    "start_time": "2022-06-27T11:26:39.970Z"
   },
   {
    "duration": 683,
    "start_time": "2022-06-27T11:26:39.988Z"
   },
   {
    "duration": 164,
    "start_time": "2022-06-27T11:26:40.673Z"
   },
   {
    "duration": 164,
    "start_time": "2022-06-27T11:26:40.839Z"
   },
   {
    "duration": 17,
    "start_time": "2022-06-27T11:26:41.006Z"
   },
   {
    "duration": 532,
    "start_time": "2022-06-27T11:26:41.024Z"
   },
   {
    "duration": 227,
    "start_time": "2022-06-27T11:26:41.558Z"
   },
   {
    "duration": 238,
    "start_time": "2022-06-27T11:26:41.787Z"
   },
   {
    "duration": 276,
    "start_time": "2022-06-27T11:26:42.027Z"
   },
   {
    "duration": 183,
    "start_time": "2022-06-27T11:26:42.306Z"
   },
   {
    "duration": 275,
    "start_time": "2022-06-27T11:26:42.492Z"
   },
   {
    "duration": 207,
    "start_time": "2022-06-27T11:26:42.769Z"
   },
   {
    "duration": 182,
    "start_time": "2022-06-27T11:26:42.977Z"
   },
   {
    "duration": 206,
    "start_time": "2022-06-27T11:26:43.161Z"
   },
   {
    "duration": 182,
    "start_time": "2022-06-27T11:26:43.369Z"
   },
   {
    "duration": 159,
    "start_time": "2022-06-27T11:26:43.554Z"
   },
   {
    "duration": 186,
    "start_time": "2022-06-27T11:26:43.716Z"
   },
   {
    "duration": 158,
    "start_time": "2022-06-27T11:26:43.904Z"
   },
   {
    "duration": 15,
    "start_time": "2022-06-27T11:26:44.064Z"
   },
   {
    "duration": 12,
    "start_time": "2022-06-27T11:26:44.082Z"
   },
   {
    "duration": 58,
    "start_time": "2022-06-27T14:34:37.405Z"
   },
   {
    "duration": 1964,
    "start_time": "2022-06-27T14:34:43.956Z"
   },
   {
    "duration": 158,
    "start_time": "2022-06-27T14:34:45.923Z"
   },
   {
    "duration": 6,
    "start_time": "2022-06-27T14:34:46.083Z"
   },
   {
    "duration": 30,
    "start_time": "2022-06-27T14:34:46.092Z"
   },
   {
    "duration": 5,
    "start_time": "2022-06-27T14:34:46.123Z"
   },
   {
    "duration": 10,
    "start_time": "2022-06-27T14:34:46.129Z"
   },
   {
    "duration": 32,
    "start_time": "2022-06-27T14:34:46.140Z"
   },
   {
    "duration": 24,
    "start_time": "2022-06-27T14:34:46.175Z"
   },
   {
    "duration": 199,
    "start_time": "2022-06-27T14:34:46.204Z"
   },
   {
    "duration": 353,
    "start_time": "2022-06-27T14:34:46.405Z"
   },
   {
    "duration": 35,
    "start_time": "2022-06-27T14:34:46.767Z"
   },
   {
    "duration": 333,
    "start_time": "2022-06-27T14:34:46.804Z"
   },
   {
    "duration": 263,
    "start_time": "2022-06-27T14:34:47.139Z"
   },
   {
    "duration": 244,
    "start_time": "2022-06-27T14:34:47.412Z"
   },
   {
    "duration": 217,
    "start_time": "2022-06-27T14:34:47.661Z"
   },
   {
    "duration": 231,
    "start_time": "2022-06-27T14:34:47.880Z"
   },
   {
    "duration": 222,
    "start_time": "2022-06-27T14:34:48.113Z"
   },
   {
    "duration": 309,
    "start_time": "2022-06-27T14:34:48.337Z"
   },
   {
    "duration": 187,
    "start_time": "2022-06-27T14:34:48.647Z"
   },
   {
    "duration": 170,
    "start_time": "2022-06-27T14:34:48.836Z"
   },
   {
    "duration": 184,
    "start_time": "2022-06-27T14:34:49.016Z"
   },
   {
    "duration": 197,
    "start_time": "2022-06-27T14:34:49.201Z"
   },
   {
    "duration": 200,
    "start_time": "2022-06-27T14:34:49.400Z"
   },
   {
    "duration": 138,
    "start_time": "2022-06-27T14:34:49.609Z"
   },
   {
    "duration": 147,
    "start_time": "2022-06-27T14:34:49.749Z"
   },
   {
    "duration": 145,
    "start_time": "2022-06-27T14:34:49.899Z"
   },
   {
    "duration": 152,
    "start_time": "2022-06-27T14:34:50.046Z"
   },
   {
    "duration": 163,
    "start_time": "2022-06-27T14:34:50.203Z"
   },
   {
    "duration": 251,
    "start_time": "2022-06-27T14:34:50.368Z"
   },
   {
    "duration": 204,
    "start_time": "2022-06-27T14:34:50.620Z"
   },
   {
    "duration": 159,
    "start_time": "2022-06-27T14:34:50.827Z"
   },
   {
    "duration": 161,
    "start_time": "2022-06-27T14:34:50.988Z"
   },
   {
    "duration": 143,
    "start_time": "2022-06-27T14:34:51.151Z"
   },
   {
    "duration": 123,
    "start_time": "2022-06-27T14:34:51.296Z"
   },
   {
    "duration": 142,
    "start_time": "2022-06-27T14:34:51.421Z"
   },
   {
    "duration": 143,
    "start_time": "2022-06-27T14:34:51.564Z"
   },
   {
    "duration": 139,
    "start_time": "2022-06-27T14:34:51.711Z"
   },
   {
    "duration": 168,
    "start_time": "2022-06-27T14:34:51.853Z"
   },
   {
    "duration": 1667,
    "start_time": "2022-06-27T14:34:52.023Z"
   },
   {
    "duration": 285,
    "start_time": "2022-06-27T14:34:53.692Z"
   },
   {
    "duration": 169,
    "start_time": "2022-06-27T14:34:53.981Z"
   },
   {
    "duration": 168,
    "start_time": "2022-06-27T14:34:54.152Z"
   },
   {
    "duration": 14,
    "start_time": "2022-06-27T14:34:54.322Z"
   },
   {
    "duration": 513,
    "start_time": "2022-06-27T14:34:54.338Z"
   },
   {
    "duration": 159,
    "start_time": "2022-06-27T14:34:54.852Z"
   },
   {
    "duration": 169,
    "start_time": "2022-06-27T14:34:55.013Z"
   },
   {
    "duration": 19,
    "start_time": "2022-06-27T14:34:55.186Z"
   },
   {
    "duration": 594,
    "start_time": "2022-06-27T14:34:55.208Z"
   },
   {
    "duration": 180,
    "start_time": "2022-06-27T14:34:55.804Z"
   },
   {
    "duration": 155,
    "start_time": "2022-06-27T14:34:55.986Z"
   },
   {
    "duration": 32,
    "start_time": "2022-06-27T14:34:56.143Z"
   },
   {
    "duration": 504,
    "start_time": "2022-06-27T14:34:56.178Z"
   },
   {
    "duration": 237,
    "start_time": "2022-06-27T14:34:56.683Z"
   },
   {
    "duration": 216,
    "start_time": "2022-06-27T14:34:56.921Z"
   },
   {
    "duration": 298,
    "start_time": "2022-06-27T14:34:57.139Z"
   },
   {
    "duration": 167,
    "start_time": "2022-06-27T14:34:57.439Z"
   },
   {
    "duration": 293,
    "start_time": "2022-06-27T14:34:57.608Z"
   },
   {
    "duration": 204,
    "start_time": "2022-06-27T14:34:57.906Z"
   },
   {
    "duration": 196,
    "start_time": "2022-06-27T14:34:58.111Z"
   },
   {
    "duration": 158,
    "start_time": "2022-06-27T14:34:58.310Z"
   },
   {
    "duration": 163,
    "start_time": "2022-06-27T14:34:58.469Z"
   },
   {
    "duration": 153,
    "start_time": "2022-06-27T14:34:58.634Z"
   },
   {
    "duration": 147,
    "start_time": "2022-06-27T14:34:58.791Z"
   },
   {
    "duration": 156,
    "start_time": "2022-06-27T14:34:58.939Z"
   },
   {
    "duration": 18,
    "start_time": "2022-06-27T14:34:59.100Z"
   },
   {
    "duration": 11,
    "start_time": "2022-06-27T14:34:59.119Z"
   },
   {
    "duration": 10,
    "start_time": "2022-06-27T14:36:11.205Z"
   },
   {
    "duration": 458,
    "start_time": "2022-06-27T14:36:57.147Z"
   },
   {
    "duration": 4,
    "start_time": "2022-06-27T14:38:02.433Z"
   },
   {
    "duration": 621,
    "start_time": "2022-06-27T14:44:16.715Z"
   },
   {
    "duration": 22,
    "start_time": "2022-06-27T14:44:24.423Z"
   },
   {
    "duration": 150,
    "start_time": "2022-06-27T14:44:32.494Z"
   },
   {
    "duration": 22,
    "start_time": "2022-06-27T14:46:41.010Z"
   },
   {
    "duration": 127,
    "start_time": "2022-06-27T14:52:45.416Z"
   },
   {
    "duration": 10,
    "start_time": "2022-06-27T14:53:40.845Z"
   },
   {
    "duration": 10,
    "start_time": "2022-06-27T14:54:05.098Z"
   },
   {
    "duration": 12,
    "start_time": "2022-06-27T14:54:45.624Z"
   },
   {
    "duration": 11,
    "start_time": "2022-06-27T14:54:55.318Z"
   },
   {
    "duration": 11,
    "start_time": "2022-06-27T14:55:23.312Z"
   },
   {
    "duration": 13,
    "start_time": "2022-06-27T14:55:48.197Z"
   },
   {
    "duration": 23,
    "start_time": "2022-06-27T14:56:03.478Z"
   },
   {
    "duration": 22,
    "start_time": "2022-06-27T14:56:10.383Z"
   },
   {
    "duration": 15,
    "start_time": "2022-06-27T14:56:20.386Z"
   },
   {
    "duration": 1159,
    "start_time": "2022-06-27T16:20:16.451Z"
   },
   {
    "duration": 98,
    "start_time": "2022-06-27T16:20:17.612Z"
   },
   {
    "duration": 5,
    "start_time": "2022-06-27T16:20:17.711Z"
   },
   {
    "duration": 12,
    "start_time": "2022-06-27T16:20:17.717Z"
   },
   {
    "duration": 5,
    "start_time": "2022-06-27T16:20:17.732Z"
   },
   {
    "duration": 9,
    "start_time": "2022-06-27T16:20:17.738Z"
   },
   {
    "duration": 21,
    "start_time": "2022-06-27T16:20:17.749Z"
   },
   {
    "duration": 4,
    "start_time": "2022-06-27T16:20:17.772Z"
   },
   {
    "duration": 206,
    "start_time": "2022-06-27T16:20:17.777Z"
   },
   {
    "duration": 322,
    "start_time": "2022-06-27T16:20:17.985Z"
   },
   {
    "duration": 19,
    "start_time": "2022-06-27T16:20:18.309Z"
   },
   {
    "duration": 297,
    "start_time": "2022-06-27T16:20:18.330Z"
   },
   {
    "duration": 203,
    "start_time": "2022-06-27T16:20:18.629Z"
   },
   {
    "duration": 186,
    "start_time": "2022-06-27T16:20:18.835Z"
   },
   {
    "duration": 175,
    "start_time": "2022-06-27T16:20:19.025Z"
   },
   {
    "duration": 259,
    "start_time": "2022-06-27T16:20:19.201Z"
   },
   {
    "duration": 182,
    "start_time": "2022-06-27T16:20:19.462Z"
   },
   {
    "duration": 180,
    "start_time": "2022-06-27T16:20:19.646Z"
   },
   {
    "duration": 170,
    "start_time": "2022-06-27T16:20:19.827Z"
   },
   {
    "duration": 137,
    "start_time": "2022-06-27T16:20:19.999Z"
   },
   {
    "duration": 184,
    "start_time": "2022-06-27T16:20:20.138Z"
   },
   {
    "duration": 196,
    "start_time": "2022-06-27T16:20:20.325Z"
   },
   {
    "duration": 170,
    "start_time": "2022-06-27T16:20:20.526Z"
   },
   {
    "duration": 145,
    "start_time": "2022-06-27T16:20:20.698Z"
   },
   {
    "duration": 145,
    "start_time": "2022-06-27T16:20:20.845Z"
   },
   {
    "duration": 152,
    "start_time": "2022-06-27T16:20:20.992Z"
   },
   {
    "duration": 235,
    "start_time": "2022-06-27T16:20:21.146Z"
   },
   {
    "duration": 158,
    "start_time": "2022-06-27T16:20:21.383Z"
   },
   {
    "duration": 140,
    "start_time": "2022-06-27T16:20:21.542Z"
   },
   {
    "duration": 133,
    "start_time": "2022-06-27T16:20:21.684Z"
   },
   {
    "duration": 145,
    "start_time": "2022-06-27T16:20:21.819Z"
   },
   {
    "duration": 139,
    "start_time": "2022-06-27T16:20:21.965Z"
   },
   {
    "duration": 137,
    "start_time": "2022-06-27T16:20:22.106Z"
   },
   {
    "duration": 119,
    "start_time": "2022-06-27T16:20:22.244Z"
   },
   {
    "duration": 115,
    "start_time": "2022-06-27T16:20:22.365Z"
   },
   {
    "duration": 124,
    "start_time": "2022-06-27T16:20:22.482Z"
   },
   {
    "duration": 122,
    "start_time": "2022-06-27T16:20:22.607Z"
   },
   {
    "duration": 121,
    "start_time": "2022-06-27T16:20:22.731Z"
   },
   {
    "duration": 1438,
    "start_time": "2022-06-27T16:20:22.854Z"
   },
   {
    "duration": 294,
    "start_time": "2022-06-27T16:20:24.294Z"
   },
   {
    "duration": 278,
    "start_time": "2022-06-27T16:20:24.594Z"
   },
   {
    "duration": 184,
    "start_time": "2022-06-27T16:20:24.873Z"
   },
   {
    "duration": 145,
    "start_time": "2022-06-27T16:20:25.058Z"
   },
   {
    "duration": 23,
    "start_time": "2022-06-27T16:20:25.205Z"
   },
   {
    "duration": 594,
    "start_time": "2022-06-27T16:20:25.230Z"
   },
   {
    "duration": 228,
    "start_time": "2022-06-27T16:20:25.825Z"
   },
   {
    "duration": 146,
    "start_time": "2022-06-27T16:20:26.055Z"
   },
   {
    "duration": 15,
    "start_time": "2022-06-27T16:20:26.203Z"
   },
   {
    "duration": 502,
    "start_time": "2022-06-27T16:20:26.219Z"
   },
   {
    "duration": 43,
    "start_time": "2022-06-27T16:20:26.725Z"
   },
   {
    "duration": 0,
    "start_time": "2022-06-27T16:20:26.770Z"
   },
   {
    "duration": 0,
    "start_time": "2022-06-27T16:20:26.771Z"
   },
   {
    "duration": 0,
    "start_time": "2022-06-27T16:20:26.772Z"
   },
   {
    "duration": 0,
    "start_time": "2022-06-27T16:20:26.774Z"
   },
   {
    "duration": 0,
    "start_time": "2022-06-27T16:20:26.776Z"
   },
   {
    "duration": 0,
    "start_time": "2022-06-27T16:20:26.777Z"
   },
   {
    "duration": 0,
    "start_time": "2022-06-27T16:20:26.778Z"
   },
   {
    "duration": 0,
    "start_time": "2022-06-27T16:20:26.781Z"
   },
   {
    "duration": 0,
    "start_time": "2022-06-27T16:20:26.782Z"
   },
   {
    "duration": 0,
    "start_time": "2022-06-27T16:20:26.783Z"
   },
   {
    "duration": 0,
    "start_time": "2022-06-27T16:20:26.785Z"
   },
   {
    "duration": 0,
    "start_time": "2022-06-27T16:20:26.786Z"
   },
   {
    "duration": 0,
    "start_time": "2022-06-27T16:20:26.787Z"
   },
   {
    "duration": 0,
    "start_time": "2022-06-27T16:20:26.788Z"
   },
   {
    "duration": 0,
    "start_time": "2022-06-27T16:20:26.789Z"
   },
   {
    "duration": 0,
    "start_time": "2022-06-27T16:20:26.790Z"
   },
   {
    "duration": 0,
    "start_time": "2022-06-27T16:20:26.791Z"
   },
   {
    "duration": 146,
    "start_time": "2022-06-27T16:27:27.539Z"
   },
   {
    "duration": 1205,
    "start_time": "2022-06-27T16:27:39.638Z"
   },
   {
    "duration": 73,
    "start_time": "2022-06-27T16:27:40.845Z"
   },
   {
    "duration": 7,
    "start_time": "2022-06-27T16:27:40.920Z"
   },
   {
    "duration": 15,
    "start_time": "2022-06-27T16:27:40.929Z"
   },
   {
    "duration": 5,
    "start_time": "2022-06-27T16:27:40.946Z"
   },
   {
    "duration": 13,
    "start_time": "2022-06-27T16:27:40.952Z"
   },
   {
    "duration": 21,
    "start_time": "2022-06-27T16:27:40.967Z"
   },
   {
    "duration": 5,
    "start_time": "2022-06-27T16:27:40.989Z"
   },
   {
    "duration": 205,
    "start_time": "2022-06-27T16:27:40.996Z"
   },
   {
    "duration": 358,
    "start_time": "2022-06-27T16:27:41.204Z"
   },
   {
    "duration": 13,
    "start_time": "2022-06-27T16:27:41.564Z"
   },
   {
    "duration": 303,
    "start_time": "2022-06-27T16:27:41.579Z"
   },
   {
    "duration": 191,
    "start_time": "2022-06-27T16:27:41.884Z"
   },
   {
    "duration": 214,
    "start_time": "2022-06-27T16:27:42.077Z"
   },
   {
    "duration": 233,
    "start_time": "2022-06-27T16:27:42.301Z"
   },
   {
    "duration": 272,
    "start_time": "2022-06-27T16:27:42.536Z"
   },
   {
    "duration": 184,
    "start_time": "2022-06-27T16:27:42.810Z"
   },
   {
    "duration": 210,
    "start_time": "2022-06-27T16:27:42.996Z"
   },
   {
    "duration": 186,
    "start_time": "2022-06-27T16:27:43.208Z"
   },
   {
    "duration": 159,
    "start_time": "2022-06-27T16:27:43.396Z"
   },
   {
    "duration": 195,
    "start_time": "2022-06-27T16:27:43.556Z"
   },
   {
    "duration": 188,
    "start_time": "2022-06-27T16:27:43.753Z"
   },
   {
    "duration": 184,
    "start_time": "2022-06-27T16:27:43.942Z"
   },
   {
    "duration": 181,
    "start_time": "2022-06-27T16:27:44.128Z"
   },
   {
    "duration": 179,
    "start_time": "2022-06-27T16:27:44.311Z"
   },
   {
    "duration": 177,
    "start_time": "2022-06-27T16:27:44.492Z"
   },
   {
    "duration": 234,
    "start_time": "2022-06-27T16:27:44.671Z"
   },
   {
    "duration": 141,
    "start_time": "2022-06-27T16:27:44.910Z"
   },
   {
    "duration": 136,
    "start_time": "2022-06-27T16:27:45.053Z"
   },
   {
    "duration": 146,
    "start_time": "2022-06-27T16:27:45.190Z"
   },
   {
    "duration": 151,
    "start_time": "2022-06-27T16:27:45.338Z"
   },
   {
    "duration": 142,
    "start_time": "2022-06-27T16:27:45.491Z"
   },
   {
    "duration": 127,
    "start_time": "2022-06-27T16:27:45.635Z"
   },
   {
    "duration": 114,
    "start_time": "2022-06-27T16:27:45.763Z"
   },
   {
    "duration": 116,
    "start_time": "2022-06-27T16:27:45.879Z"
   },
   {
    "duration": 120,
    "start_time": "2022-06-27T16:27:45.998Z"
   },
   {
    "duration": 117,
    "start_time": "2022-06-27T16:27:46.125Z"
   },
   {
    "duration": 123,
    "start_time": "2022-06-27T16:27:46.244Z"
   },
   {
    "duration": 1397,
    "start_time": "2022-06-27T16:27:46.369Z"
   },
   {
    "duration": 235,
    "start_time": "2022-06-27T16:27:47.768Z"
   },
   {
    "duration": 270,
    "start_time": "2022-06-27T16:27:48.005Z"
   },
   {
    "duration": 174,
    "start_time": "2022-06-27T16:27:48.278Z"
   },
   {
    "duration": 155,
    "start_time": "2022-06-27T16:27:48.454Z"
   },
   {
    "duration": 23,
    "start_time": "2022-06-27T16:27:48.611Z"
   },
   {
    "duration": 484,
    "start_time": "2022-06-27T16:27:48.636Z"
   },
   {
    "duration": 227,
    "start_time": "2022-06-27T16:27:49.122Z"
   },
   {
    "duration": 147,
    "start_time": "2022-06-27T16:27:49.350Z"
   },
   {
    "duration": 14,
    "start_time": "2022-06-27T16:27:49.499Z"
   },
   {
    "duration": 473,
    "start_time": "2022-06-27T16:27:49.514Z"
   },
   {
    "duration": 158,
    "start_time": "2022-06-27T16:27:49.989Z"
   },
   {
    "duration": 165,
    "start_time": "2022-06-27T16:27:50.149Z"
   },
   {
    "duration": 24,
    "start_time": "2022-06-27T16:27:50.316Z"
   },
   {
    "duration": 444,
    "start_time": "2022-06-27T16:27:50.342Z"
   },
   {
    "duration": 188,
    "start_time": "2022-06-27T16:27:50.788Z"
   },
   {
    "duration": 325,
    "start_time": "2022-06-27T16:27:50.977Z"
   },
   {
    "duration": 242,
    "start_time": "2022-06-27T16:27:51.304Z"
   },
   {
    "duration": 133,
    "start_time": "2022-06-27T16:27:51.548Z"
   },
   {
    "duration": 155,
    "start_time": "2022-06-27T16:27:51.683Z"
   },
   {
    "duration": 139,
    "start_time": "2022-06-27T16:27:51.840Z"
   },
   {
    "duration": 151,
    "start_time": "2022-06-27T16:27:51.981Z"
   },
   {
    "duration": 141,
    "start_time": "2022-06-27T16:27:52.134Z"
   },
   {
    "duration": 155,
    "start_time": "2022-06-27T16:27:52.277Z"
   },
   {
    "duration": 135,
    "start_time": "2022-06-27T16:27:52.433Z"
   },
   {
    "duration": 133,
    "start_time": "2022-06-27T16:27:52.570Z"
   },
   {
    "duration": 131,
    "start_time": "2022-06-27T16:27:52.704Z"
   },
   {
    "duration": 11,
    "start_time": "2022-06-27T16:27:52.837Z"
   },
   {
    "duration": 13,
    "start_time": "2022-06-27T16:27:52.849Z"
   },
   {
    "duration": 1304,
    "start_time": "2022-06-27T19:18:44.148Z"
   },
   {
    "duration": 231,
    "start_time": "2022-06-27T19:18:45.454Z"
   },
   {
    "duration": 5,
    "start_time": "2022-06-27T19:18:45.686Z"
   },
   {
    "duration": 11,
    "start_time": "2022-06-27T19:18:45.692Z"
   },
   {
    "duration": 5,
    "start_time": "2022-06-27T19:18:45.706Z"
   },
   {
    "duration": 9,
    "start_time": "2022-06-27T19:18:45.712Z"
   },
   {
    "duration": 25,
    "start_time": "2022-06-27T19:18:45.731Z"
   },
   {
    "duration": 5,
    "start_time": "2022-06-27T19:18:45.757Z"
   },
   {
    "duration": 184,
    "start_time": "2022-06-27T19:18:45.763Z"
   },
   {
    "duration": 371,
    "start_time": "2022-06-27T19:18:45.949Z"
   },
   {
    "duration": 19,
    "start_time": "2022-06-27T19:18:46.322Z"
   },
   {
    "duration": 281,
    "start_time": "2022-06-27T19:18:46.343Z"
   },
   {
    "duration": 188,
    "start_time": "2022-06-27T19:18:46.626Z"
   },
   {
    "duration": 207,
    "start_time": "2022-06-27T19:18:46.818Z"
   },
   {
    "duration": 188,
    "start_time": "2022-06-27T19:18:47.028Z"
   },
   {
    "duration": 263,
    "start_time": "2022-06-27T19:18:47.217Z"
   },
   {
    "duration": 178,
    "start_time": "2022-06-27T19:18:47.482Z"
   },
   {
    "duration": 170,
    "start_time": "2022-06-27T19:18:47.662Z"
   },
   {
    "duration": 157,
    "start_time": "2022-06-27T19:18:47.834Z"
   },
   {
    "duration": 157,
    "start_time": "2022-06-27T19:18:47.993Z"
   },
   {
    "duration": 169,
    "start_time": "2022-06-27T19:18:48.151Z"
   },
   {
    "duration": 196,
    "start_time": "2022-06-27T19:18:48.322Z"
   },
   {
    "duration": 173,
    "start_time": "2022-06-27T19:18:48.520Z"
   },
   {
    "duration": 155,
    "start_time": "2022-06-27T19:18:48.694Z"
   },
   {
    "duration": 146,
    "start_time": "2022-06-27T19:18:48.851Z"
   },
   {
    "duration": 125,
    "start_time": "2022-06-27T19:18:48.998Z"
   },
   {
    "duration": 227,
    "start_time": "2022-06-27T19:18:49.131Z"
   },
   {
    "duration": 135,
    "start_time": "2022-06-27T19:18:49.360Z"
   },
   {
    "duration": 142,
    "start_time": "2022-06-27T19:18:49.497Z"
   },
   {
    "duration": 149,
    "start_time": "2022-06-27T19:18:49.643Z"
   },
   {
    "duration": 150,
    "start_time": "2022-06-27T19:18:49.793Z"
   },
   {
    "duration": 130,
    "start_time": "2022-06-27T19:18:49.945Z"
   },
   {
    "duration": 128,
    "start_time": "2022-06-27T19:18:50.076Z"
   },
   {
    "duration": 118,
    "start_time": "2022-06-27T19:18:50.205Z"
   },
   {
    "duration": 116,
    "start_time": "2022-06-27T19:18:50.329Z"
   },
   {
    "duration": 116,
    "start_time": "2022-06-27T19:18:50.447Z"
   },
   {
    "duration": 114,
    "start_time": "2022-06-27T19:18:50.565Z"
   },
   {
    "duration": 121,
    "start_time": "2022-06-27T19:18:50.681Z"
   },
   {
    "duration": 1393,
    "start_time": "2022-06-27T19:18:50.803Z"
   },
   {
    "duration": 252,
    "start_time": "2022-06-27T19:18:52.197Z"
   },
   {
    "duration": 250,
    "start_time": "2022-06-27T19:18:52.454Z"
   },
   {
    "duration": 154,
    "start_time": "2022-06-27T19:18:52.706Z"
   },
   {
    "duration": 140,
    "start_time": "2022-06-27T19:18:52.861Z"
   },
   {
    "duration": 14,
    "start_time": "2022-06-27T19:18:53.002Z"
   },
   {
    "duration": 483,
    "start_time": "2022-06-27T19:18:53.028Z"
   },
   {
    "duration": 234,
    "start_time": "2022-06-27T19:18:53.513Z"
   },
   {
    "duration": 147,
    "start_time": "2022-06-27T19:18:53.749Z"
   },
   {
    "duration": 13,
    "start_time": "2022-06-27T19:18:53.898Z"
   },
   {
    "duration": 464,
    "start_time": "2022-06-27T19:18:53.913Z"
   },
   {
    "duration": 154,
    "start_time": "2022-06-27T19:18:54.379Z"
   },
   {
    "duration": 151,
    "start_time": "2022-06-27T19:18:54.536Z"
   },
   {
    "duration": 15,
    "start_time": "2022-06-27T19:18:54.688Z"
   },
   {
    "duration": 464,
    "start_time": "2022-06-27T19:18:54.704Z"
   },
   {
    "duration": 194,
    "start_time": "2022-06-27T19:18:55.170Z"
   },
   {
    "duration": 298,
    "start_time": "2022-06-27T19:18:55.365Z"
   },
   {
    "duration": 222,
    "start_time": "2022-06-27T19:18:55.665Z"
   },
   {
    "duration": 145,
    "start_time": "2022-06-27T19:18:55.889Z"
   },
   {
    "duration": 143,
    "start_time": "2022-06-27T19:18:56.038Z"
   },
   {
    "duration": 174,
    "start_time": "2022-06-27T19:18:56.183Z"
   },
   {
    "duration": 153,
    "start_time": "2022-06-27T19:18:56.359Z"
   },
   {
    "duration": 139,
    "start_time": "2022-06-27T19:18:56.514Z"
   },
   {
    "duration": 140,
    "start_time": "2022-06-27T19:18:56.655Z"
   },
   {
    "duration": 157,
    "start_time": "2022-06-27T19:18:56.797Z"
   },
   {
    "duration": 125,
    "start_time": "2022-06-27T19:18:56.955Z"
   },
   {
    "duration": 132,
    "start_time": "2022-06-27T19:18:57.082Z"
   },
   {
    "duration": 22,
    "start_time": "2022-06-27T19:18:57.216Z"
   },
   {
    "duration": 18,
    "start_time": "2022-06-27T19:18:57.239Z"
   },
   {
    "duration": 15,
    "start_time": "2022-06-27T19:20:01.542Z"
   },
   {
    "duration": 14,
    "start_time": "2022-06-27T19:20:19.744Z"
   },
   {
    "duration": 15,
    "start_time": "2022-06-27T19:20:57.144Z"
   },
   {
    "duration": 15,
    "start_time": "2022-06-27T19:20:58.123Z"
   },
   {
    "duration": 16,
    "start_time": "2022-06-27T19:21:53.066Z"
   },
   {
    "duration": 17,
    "start_time": "2022-06-27T19:22:31.160Z"
   },
   {
    "duration": 17,
    "start_time": "2022-06-27T19:27:55.648Z"
   },
   {
    "duration": 14,
    "start_time": "2022-06-27T19:31:44.644Z"
   },
   {
    "duration": 11,
    "start_time": "2022-06-27T19:31:53.906Z"
   },
   {
    "duration": 196,
    "start_time": "2022-06-27T19:33:10.773Z"
   },
   {
    "duration": 280,
    "start_time": "2022-06-27T19:33:21.416Z"
   },
   {
    "duration": 14,
    "start_time": "2022-06-27T19:34:51.824Z"
   },
   {
    "duration": 26,
    "start_time": "2022-06-27T19:40:19.444Z"
   },
   {
    "duration": 31,
    "start_time": "2022-06-27T19:40:30.221Z"
   },
   {
    "duration": 120,
    "start_time": "2022-06-27T19:40:58.105Z"
   },
   {
    "duration": 130,
    "start_time": "2022-06-27T19:41:13.156Z"
   },
   {
    "duration": 171,
    "start_time": "2022-06-27T19:42:02.791Z"
   },
   {
    "duration": 115,
    "start_time": "2022-06-27T19:42:22.356Z"
   },
   {
    "duration": 69,
    "start_time": "2022-06-27T19:43:43.006Z"
   }
  ],
  "kernelspec": {
   "display_name": "Python 3 (ipykernel)",
   "language": "python",
   "name": "python3"
  },
  "language_info": {
   "codemirror_mode": {
    "name": "ipython",
    "version": 3
   },
   "file_extension": ".py",
   "mimetype": "text/x-python",
   "name": "python",
   "nbconvert_exporter": "python",
   "pygments_lexer": "ipython3",
   "version": "3.11.5"
  },
  "toc": {
   "base_numbering": 1,
   "nav_menu": {},
   "number_sections": true,
   "sideBar": true,
   "skip_h1_title": true,
   "title_cell": "Table of Contents",
   "title_sidebar": "Contents",
   "toc_cell": false,
   "toc_position": {},
   "toc_section_display": true,
   "toc_window_display": false
  }
 },
 "nbformat": 4,
 "nbformat_minor": 2
}
